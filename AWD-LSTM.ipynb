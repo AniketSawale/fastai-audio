{
 "cells": [
  {
   "cell_type": "markdown",
   "metadata": {},
   "source": [
    "# Audio Language Model (AWD-LSTM)"
   ]
  },
  {
   "cell_type": "markdown",
   "metadata": {},
   "source": [
    "## System setup"
   ]
  },
  {
   "cell_type": "markdown",
   "metadata": {},
   "source": [
    "There are a few system libraries and Python packages required to work with audio. If needed, uncomment and run this cell.\n",
    "\n",
    "Note that the cell returns an error code whether there's an error or not. This seems to be due to Jupyter's shell command handling. You'll need to read the outputs in the cell to determine whether anything actually went wrong - sorry!"
   ]
  },
  {
   "cell_type": "code",
   "execution_count": 1,
   "metadata": {
    "collapsed": true
   },
   "outputs": [],
   "source": [
    "# Run this cell first!\n",
    "# %%bash\n",
    "# ./install.sh\n",
    "# ./buildFastAiAudio.sh"
   ]
  },
  {
   "cell_type": "markdown",
   "metadata": {},
   "source": [
    "<span style=\"color:red\">**Don't forget to restart your notebook kernel after you've installed these modules!**</span> "
   ]
  },
  {
   "cell_type": "markdown",
   "metadata": {},
   "source": [
    "### fastai default setup"
   ]
  },
  {
   "cell_type": "code",
   "execution_count": 2,
   "metadata": {
    "collapsed": true
   },
   "outputs": [],
   "source": [
    "## Notebook settings\n",
    "%reload_ext autoreload\n",
    "%autoreload 2\n",
    "%matplotlib inline"
   ]
  },
  {
   "cell_type": "code",
   "execution_count": 3,
   "metadata": {
    "collapsed": true
   },
   "outputs": [],
   "source": [
    "## fastai imports\n",
    "from fastai.basics import *\n",
    "from fastai.data_block import ItemList\n",
    "from fastai.vision import *"
   ]
  },
  {
   "cell_type": "markdown",
   "metadata": {},
   "source": [
    "Import FastAI Audio modules here:"
   ]
  },
  {
   "cell_type": "code",
   "execution_count": 4,
   "metadata": {
    "collapsed": true
   },
   "outputs": [],
   "source": [
    "from exp.nb_AudioCommon import *\n",
    "from exp.nb_DataBlock import *\n",
    "from exp.nb_DataBlockSequence import *\n",
    "from exp.nb_DataAugmentation import *"
   ]
  },
  {
   "cell_type": "markdown",
   "metadata": {},
   "source": [
    "### Other library imports"
   ]
  },
  {
   "cell_type": "markdown",
   "metadata": {},
   "source": [
    "If this cell fails, you probably haven't installed the correct system/Python dependencies. You might need to re-run the \"System setup\" cell again."
   ]
  },
  {
   "cell_type": "code",
   "execution_count": 5,
   "metadata": {
    "collapsed": true
   },
   "outputs": [],
   "source": [
    "import torch\n",
    "from pdb import set_trace\n",
    "from IPython.display import Audio\n",
    "from pydub import AudioSegment, silence\n",
    "import torchaudio\n",
    "from torchaudio import transforms"
   ]
  },
  {
   "cell_type": "code",
   "execution_count": 6,
   "metadata": {
    "scrolled": true
   },
   "outputs": [],
   "source": [
    "## The actual url is http://www.openslr.org/resources/45/ST-AEDS-20180100_1-OS.tgz\n",
    "## but we need to strip off the extension otherwise fastai gets confused.\n",
    "data_url = 'http://www.openslr.org/resources/45/ST-AEDS-20180100_1-OS'\n",
    "## Need this because the source tar file doesn't extract to its own folder\n",
    "data_folder = datapath4file(url2name(data_url))"
   ]
  },
  {
   "cell_type": "code",
   "execution_count": 7,
   "metadata": {},
   "outputs": [
    {
     "data": {
      "text/plain": [
       "PosixPath('/home/jupyter/.fastai/data/ST-AEDS-20180100_1-OS/ST-AEDS-20180100_1-OS')"
      ]
     },
     "execution_count": 7,
     "metadata": {},
     "output_type": "execute_result"
    }
   ],
   "source": [
    "untar_data(data_url, dest = data_folder)"
   ]
  },
  {
   "cell_type": "code",
   "execution_count": 8,
   "metadata": {},
   "outputs": [
    {
     "data": {
      "text/plain": [
       "[PosixPath('/home/jupyter/.fastai/data/ST-AEDS-20180100_1-OS/f0004_us_f0004_00446.wav'),\n",
       " PosixPath('/home/jupyter/.fastai/data/ST-AEDS-20180100_1-OS/m0002_us_m0002_00128.wav'),\n",
       " PosixPath('/home/jupyter/.fastai/data/ST-AEDS-20180100_1-OS/f0003_us_f0003_00279.wav'),\n",
       " PosixPath('/home/jupyter/.fastai/data/ST-AEDS-20180100_1-OS/f0001_us_f0001_00168.wav'),\n",
       " PosixPath('/home/jupyter/.fastai/data/ST-AEDS-20180100_1-OS/f0005_us_f0005_00286.wav')]"
      ]
     },
     "execution_count": 8,
     "metadata": {},
     "output_type": "execute_result"
    }
   ],
   "source": [
    "data_folder.ls()[:5]"
   ]
  },
  {
   "cell_type": "code",
   "execution_count": 9,
   "metadata": {},
   "outputs": [
    {
     "data": {
      "text/plain": [
       "PosixPath('/home/jupyter/.fastai/data/ST-AEDS-20180100_1-OS')"
      ]
     },
     "execution_count": 9,
     "metadata": {},
     "output_type": "execute_result"
    }
   ],
   "source": [
    "data_folder"
   ]
  },
  {
   "cell_type": "code",
   "execution_count": 10,
   "metadata": {},
   "outputs": [],
   "source": [
    "import glob"
   ]
  },
  {
   "cell_type": "code",
   "execution_count": 11,
   "metadata": {},
   "outputs": [],
   "source": [
    "wavs = glob.glob(str(data_folder/'**/*.wav'), recursive=True)"
   ]
  },
  {
   "cell_type": "code",
   "execution_count": 12,
   "metadata": {},
   "outputs": [],
   "source": [
    "twenty_percent = int(len(wavs) * 0.2)"
   ]
  },
  {
   "cell_type": "code",
   "execution_count": 13,
   "metadata": {},
   "outputs": [],
   "source": [
    "train_data = []\n",
    "valid_data = []\n",
    "for wav in wavs[:-twenty_percent]:\n",
    "    train_data.append(AudioSequenceItem.from_file(wav, sample_len=100, stride_len=50, max_seqs=300))\n",
    "for wav in wavs[-twenty_percent:]:\n",
    "    valid_data.append(AudioSequenceItem.from_file(wav, sample_len=100, stride_len=50, max_seqs=300))"
   ]
  },
  {
   "cell_type": "code",
   "execution_count": 14,
   "metadata": {},
   "outputs": [
    {
     "data": {
      "text/plain": [
       "([AudioSequenceItem Length: 300 | Shape: torch.Size([100]) | Sample Rate: 16000,\n",
       "  AudioSequenceItem Length: 300 | Shape: torch.Size([100]) | Sample Rate: 16000],\n",
       " [AudioSequenceItem Length: 300 | Shape: torch.Size([100]) | Sample Rate: 16000,\n",
       "  AudioSequenceItem Length: 300 | Shape: torch.Size([100]) | Sample Rate: 16000])"
      ]
     },
     "execution_count": 14,
     "metadata": {},
     "output_type": "execute_result"
    }
   ],
   "source": [
    "train_data[:2], valid_data[:2]"
   ]
  },
  {
   "cell_type": "code",
   "execution_count": 15,
   "metadata": {},
   "outputs": [
    {
     "data": {
      "text/plain": [
       "(3074, 768)"
      ]
     },
     "execution_count": 15,
     "metadata": {},
     "output_type": "execute_result"
    }
   ],
   "source": [
    "train_df = pd.DataFrame(train_data)\n",
    "valid_df = pd.DataFrame(valid_data)\n",
    "\n",
    "db = AudioSequenceDataBunch.from_df(Path('.'), train_df, valid_df, bs=32);\n",
    "len(db.train_ds), len(db.valid_ds)"
   ]
  },
  {
   "cell_type": "code",
   "execution_count": 16,
   "metadata": {},
   "outputs": [],
   "source": [
    "class SimpleLSTM(nn.Module):\n",
    "    def __init__(self, input_size=100, hidden_size=512):\n",
    "        super().__init__()\n",
    "        self.rnns = nn.ModuleList([\n",
    "            nn.LSTM(input_size=input_size, hidden_size=hidden_size, num_layers=1),\n",
    "            nn.LSTM(input_size=input_size, hidden_size=hidden_size, num_layers=1),\n",
    "            nn.LSTM(input_size=input_size, hidden_size=hidden_size, num_layers=1),\n",
    "        ])\n",
    "        \n",
    "    def forward(self, *xb):\n",
    "        outputs = []\n",
    "        hiddens = []\n",
    "        hidden = None\n",
    "        for x in xb:\n",
    "            input = x.unsqueeze(0)\n",
    "            hidden = None\n",
    "            for rnn in self.rnns:\n",
    "                out, hidden = rnn(input, hidden)\n",
    "                outputs.append(out)\n",
    "                hiddens.append(hidden)\n",
    "        return out"
   ]
  },
  {
   "cell_type": "code",
   "execution_count": 17,
   "metadata": {},
   "outputs": [],
   "source": [
    "lstm = SimpleLSTM(); lstm.cuda()\n",
    "learn = Learner(db, lstm, callback_fns=ShowGraph)"
   ]
  },
  {
   "cell_type": "code",
   "execution_count": 18,
   "metadata": {},
   "outputs": [
    {
     "data": {
      "text/html": [],
      "text/plain": [
       "<IPython.core.display.HTML object>"
      ]
     },
     "metadata": {},
     "output_type": "display_data"
    },
    {
     "name": "stdout",
     "output_type": "stream",
     "text": [
      "LR Finder is complete, type {learner_name}.recorder.plot() to see the graph.\n"
     ]
    },
    {
     "data": {
      "image/png": "[encoded data removed]",
      "text/plain": [
       "<Figure size 432x288 with 1 Axes>"
      ]
     },
     "metadata": {
      "needs_background": "light"
     },
     "output_type": "display_data"
    }
   ],
   "source": [
    "lr_find(learn)\n",
    "learn.recorder.plot()"
   ]
  },
  {
   "cell_type": "code",
   "execution_count": 19,
   "metadata": {},
   "outputs": [
    {
     "data": {
      "text/html": [
       "Total time: 02:13 <p><table border=\"1\" class=\"dataframe\">\n",
       "  <thead>\n",
       "    <tr style=\"text-align: left;\">\n",
       "      <th>epoch</th>\n",
       "      <th>train_loss</th>\n",
       "      <th>valid_loss</th>\n",
       "      <th>time</th>\n",
       "    </tr>\n",
       "  </thead>\n",
       "  <tbody>\n",
       "    <tr>\n",
       "      <td>0</td>\n",
       "      <td>5.690682</td>\n",
       "      <td>4.565272</td>\n",
       "      <td>00:26</td>\n",
       "    </tr>\n",
       "    <tr>\n",
       "      <td>1</td>\n",
       "      <td>4.595684</td>\n",
       "      <td>4.420491</td>\n",
       "      <td>00:26</td>\n",
       "    </tr>\n",
       "    <tr>\n",
       "      <td>2</td>\n",
       "      <td>4.436524</td>\n",
       "      <td>4.406884</td>\n",
       "      <td>00:26</td>\n",
       "    </tr>\n",
       "    <tr>\n",
       "      <td>3</td>\n",
       "      <td>4.408462</td>\n",
       "      <td>4.402801</td>\n",
       "      <td>00:25</td>\n",
       "    </tr>\n",
       "    <tr>\n",
       "      <td>4</td>\n",
       "      <td>4.403066</td>\n",
       "      <td>4.402157</td>\n",
       "      <td>00:26</td>\n",
       "    </tr>\n",
       "  </tbody>\n",
       "</table>"
      ],
      "text/plain": [
       "<IPython.core.display.HTML object>"
      ]
     },
     "metadata": {},
     "output_type": "display_data"
    },
    {
     "data": {
      "image/png": "[encoded data removed]",
      "text/plain": [
       "<Figure size 432x288 with 1 Axes>"
      ]
     },
     "metadata": {},
     "output_type": "display_data"
    }
   ],
   "source": [
    "learn.fit_one_cycle(5, max_lr=1e-03)"
   ]
  },
  {
   "cell_type": "code",
   "execution_count": null,
   "metadata": {},
   "outputs": [],
   "source": [
    "learn.predict(db.valid_ds.x[-100]);"
   ]
  },
  {
   "cell_type": "markdown",
   "metadata": {},
   "source": [
    "## AWD_LSTM with Spectrogram"
   ]
  },
  {
   "cell_type": "markdown",
   "metadata": {},
   "source": [
    "Remake databunch with spectrogram:"
   ]
  },
  {
   "cell_type": "code",
   "execution_count": 16,
   "metadata": {},
   "outputs": [],
   "source": [
    "spectro_train_data = []\n",
    "spectro_valid_data = []\n",
    "TEN_MS_AT_16000_SR = 160\n",
    "spec_params = {\n",
    "    \"spectro\": True,\n",
    "    \"to_db_scale\": True,\n",
    "    \"ws\": TEN_MS_AT_16000_SR,\n",
    "    \"n_mels\": 128,\n",
    "}\n",
    "for wav in wavs[:-twenty_percent]:\n",
    "    spectro_train_data.append(AudioSequenceItem.from_file(wav, **spec_params))\n",
    "for wav in wavs[-twenty_percent:]:\n",
    "    spectro_valid_data.append(AudioSequenceItem.from_file(wav, **spec_params))"
   ]
  },
  {
   "cell_type": "code",
   "execution_count": 17,
   "metadata": {},
   "outputs": [
    {
     "data": {
      "text/plain": [
       "(3074, 768)"
      ]
     },
     "execution_count": 17,
     "metadata": {},
     "output_type": "execute_result"
    }
   ],
   "source": [
    "spectro_train_df = pd.DataFrame(spectro_train_data)\n",
    "spectro_valid_df = pd.DataFrame(spectro_valid_data)\n",
    "\n",
    "spectro_db = AudioSequenceDataBunch.from_df(Path('.'), spectro_train_df, spectro_valid_df, bs=32);\n",
    "len(spectro_db.train_ds), len(spectro_db.valid_ds)"
   ]
  },
  {
   "cell_type": "code",
   "execution_count": 19,
   "metadata": {},
   "outputs": [
    {
     "name": "stdout",
     "output_type": "stream",
     "text": [
      "Number of Features: 128\n"
     ]
    }
   ],
   "source": [
    "num_features = spectro_db.train_ds.x[0].shape[0]\n",
    "print('Number of Features:', spectro_db.train_ds.x[0].shape[0])"
   ]
  },
  {
   "cell_type": "code",
   "execution_count": 20,
   "metadata": {},
   "outputs": [],
   "source": [
    "class SimpleLSTM(nn.Module):\n",
    "    def __init__(self, input_size=128, hidden_size=512):\n",
    "        super().__init__()\n",
    "        self.rnns = nn.ModuleList([\n",
    "            nn.LSTM(input_size=input_size, hidden_size=hidden_size, num_layers=1),\n",
    "            nn.LSTM(input_size=input_size, hidden_size=hidden_size, num_layers=1),\n",
    "            nn.LSTM(input_size=input_size, hidden_size=hidden_size, num_layers=1),\n",
    "        ])\n",
    "        \n",
    "    def forward(self, *xb):\n",
    "        outputs = []\n",
    "        hiddens = []\n",
    "        hidden = None\n",
    "        for x in xb:\n",
    "            input = x.unsqueeze(0)\n",
    "            hidden = None\n",
    "            for rnn in self.rnns:\n",
    "                out, hidden = rnn(input, hidden)\n",
    "                outputs.append(out)\n",
    "                hiddens.append(hidden)\n",
    "        return out"
   ]
  },
  {
   "cell_type": "code",
   "execution_count": 21,
   "metadata": {},
   "outputs": [],
   "source": [
    "lstm = SimpleLSTM(input_size=num_features); lstm.cuda()\n",
    "learn = Learner(spectro_db, lstm, callback_fns=ShowGraph)"
   ]
  },
  {
   "cell_type": "code",
   "execution_count": 22,
   "metadata": {},
   "outputs": [
    {
     "data": {
      "text/html": [],
      "text/plain": [
       "<IPython.core.display.HTML object>"
      ]
     },
     "metadata": {},
     "output_type": "display_data"
    },
    {
     "name": "stdout",
     "output_type": "stream",
     "text": [
      "LR Finder is complete, type {learner_name}.recorder.plot() to see the graph.\n"
     ]
    },
    {
     "data": {
      "image/png": "[encoded data removed]",
      "text/plain": [
       "<Figure size 432x288 with 1 Axes>"
      ]
     },
     "metadata": {
      "needs_background": "light"
     },
     "output_type": "display_data"
    }
   ],
   "source": [
    "lr_find(learn)\n",
    "learn.recorder.plot()"
   ]
  },
  {
   "cell_type": "code",
   "execution_count": 23,
   "metadata": {},
   "outputs": [
    {
     "data": {
      "text/html": [
       "Total time: 01:07 <p><table border=\"1\" class=\"dataframe\">\n",
       "  <thead>\n",
       "    <tr style=\"text-align: left;\">\n",
       "      <th>epoch</th>\n",
       "      <th>train_loss</th>\n",
       "      <th>valid_loss</th>\n",
       "      <th>time</th>\n",
       "    </tr>\n",
       "  </thead>\n",
       "  <tbody>\n",
       "    <tr>\n",
       "      <td>0</td>\n",
       "      <td>5.105655</td>\n",
       "      <td>5.052288</td>\n",
       "      <td>00:22</td>\n",
       "    </tr>\n",
       "    <tr>\n",
       "      <td>1</td>\n",
       "      <td>5.052349</td>\n",
       "      <td>5.041251</td>\n",
       "      <td>00:22</td>\n",
       "    </tr>\n",
       "    <tr>\n",
       "      <td>2</td>\n",
       "      <td>5.042510</td>\n",
       "      <td>5.040848</td>\n",
       "      <td>00:21</td>\n",
       "    </tr>\n",
       "  </tbody>\n",
       "</table>"
      ],
      "text/plain": [
       "<IPython.core.display.HTML object>"
      ]
     },
     "metadata": {},
     "output_type": "display_data"
    },
    {
     "data": {
      "image/png": "[encoded data removed]",
      "text/plain": [
       "<Figure size 432x288 with 1 Axes>"
      ]
     },
     "metadata": {},
     "output_type": "display_data"
    }
   ],
   "source": [
    "learn.fit_one_cycle(3, max_lr=1e-03)"
   ]
  },
  {
   "cell_type": "markdown",
   "metadata": {},
   "source": [
    "### AWD_LSTM Schema"
   ]
  },
  {
   "cell_type": "markdown",
   "metadata": {},
   "source": [
    "```\n",
    "SequentialRNN(\n",
    "  (0): AWD_LSTM(\n",
    "    (encoder): Embedding(8758, 400, padding_idx=1)\n",
    "    (encoder_dp): EmbeddingDropout(\n",
    "      (emb): Embedding(8758, 400, padding_idx=1)\n",
    "    )\n",
    "    (rnns): ModuleList(\n",
    "      (0): WeightDropout(\n",
    "        (module): LSTM(400, 1150, batch_first=True)\n",
    "      )\n",
    "      (1): WeightDropout(\n",
    "        (module): LSTM(1150, 1150, batch_first=True)\n",
    "      )\n",
    "      (2): WeightDropout(\n",
    "        (module): LSTM(1150, 400, batch_first=True)\n",
    "      )\n",
    "    )\n",
    "    (input_dp): RNNDropout()\n",
    "    (hidden_dps): ModuleList(\n",
    "      (0): RNNDropout()\n",
    "      (1): RNNDropout()\n",
    "      (2): RNNDropout()\n",
    "    )\n",
    "  )\n",
    "  (1): LinearDecoder(\n",
    "    (decoder): Linear(in_features=400, out_features=8758, bias=True)\n",
    "    (output_dp): RNNDropout()\n",
    "  )\n",
    ")\n",
    "```"
   ]
  },
  {
   "cell_type": "markdown",
   "metadata": {},
   "source": [
    "## Fin."
   ]
  }
 ],
 "metadata": {
  "kernelspec": {
   "display_name": "Python [conda env:fastai-audio]",
   "language": "python",
   "name": "conda-env-fastai-audio-py"
  },
  "language_info": {
   "codemirror_mode": {
    "name": "ipython",
    "version": 3
   },
   "file_extension": ".py",
   "mimetype": "text/x-python",
   "name": "python",
   "nbconvert_exporter": "python",
   "pygments_lexer": "ipython3",
   "version": "3.7.2"
  }
 },
 "nbformat": 4,
 "nbformat_minor": 2
}
