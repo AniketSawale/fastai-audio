{
 "cells": [
  {
   "cell_type": "markdown",
   "metadata": {},
   "source": [
    "# AWD-LSTM"
   ]
  },
  {
   "cell_type": "code",
   "execution_count": null,
   "metadata": {},
   "outputs": [],
   "source": []
  },
  {
   "cell_type": "markdown",
   "metadata": {},
   "source": [
    "### AWD_LSTM Schema"
   ]
  },
  {
   "cell_type": "markdown",
   "metadata": {},
   "source": [
    "```\n",
    "SequentialRNN(\n",
    "  (0): AWD_LSTM(\n",
    "    (encoder): Embedding(8758, 400, padding_idx=1)\n",
    "    (encoder_dp): EmbeddingDropout(\n",
    "      (emb): Embedding(8758, 400, padding_idx=1)\n",
    "    )\n",
    "    (rnns): ModuleList(\n",
    "      (0): WeightDropout(\n",
    "        (module): LSTM(400, 1150, batch_first=True)\n",
    "      )\n",
    "      (1): WeightDropout(\n",
    "        (module): LSTM(1150, 1150, batch_first=True)\n",
    "      )\n",
    "      (2): WeightDropout(\n",
    "        (module): LSTM(1150, 400, batch_first=True)\n",
    "      )\n",
    "    )\n",
    "    (input_dp): RNNDropout()\n",
    "    (hidden_dps): ModuleList(\n",
    "      (0): RNNDropout()\n",
    "      (1): RNNDropout()\n",
    "      (2): RNNDropout()\n",
    "    )\n",
    "  )\n",
    "  (1): LinearDecoder(\n",
    "    (decoder): Linear(in_features=400, out_features=8758, bias=True)\n",
    "    (output_dp): RNNDropout()\n",
    "  )\n",
    ")\n",
    "```"
   ]
  }
 ],
 "metadata": {
  "kernelspec": {
   "display_name": "Python [conda env:fastai-audio]",
   "language": "python",
   "name": "conda-env-fastai-audio-py"
  },
  "language_info": {
   "codemirror_mode": {
    "name": "ipython",
    "version": 3
   },
   "file_extension": ".py",
   "mimetype": "text/x-python",
   "name": "python",
   "nbconvert_exporter": "python",
   "pygments_lexer": "ipython3",
   "version": "3.7.2"
  }
 },
 "nbformat": 4,
 "nbformat_minor": 2
}
