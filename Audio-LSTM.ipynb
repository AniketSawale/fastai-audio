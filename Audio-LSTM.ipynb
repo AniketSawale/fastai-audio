{
 "cells": [
  {
   "cell_type": "markdown",
   "metadata": {},
   "source": [
    "# Audio LSTM"
   ]
  },
  {
   "cell_type": "code",
   "execution_count": 1,
   "metadata": {
    "collapsed": true
   },
   "outputs": [],
   "source": [
    "## Notebook settings\n",
    "%reload_ext autoreload\n",
    "%autoreload 2\n",
    "%matplotlib inline"
   ]
  },
  {
   "cell_type": "code",
   "execution_count": 2,
   "metadata": {
    "collapsed": true
   },
   "outputs": [],
   "source": [
    "## fastai imports\n",
    "from fastai.basics import *\n",
    "from fastai.data_block import ItemList\n",
    "from fastai.vision import *"
   ]
  },
  {
   "cell_type": "code",
   "execution_count": 3,
   "metadata": {},
   "outputs": [],
   "source": [
    "from exp.nb_AudioCommon import *\n",
    "from exp.nb_DataAugmentation import *"
   ]
  },
  {
   "cell_type": "code",
   "execution_count": 4,
   "metadata": {
    "collapsed": true
   },
   "outputs": [],
   "source": [
    "import torch\n",
    "from pdb import set_trace\n",
    "from IPython.display import Audio\n",
    "from pydub import AudioSegment, silence\n",
    "import torchaudio\n",
    "from torchaudio import transforms"
   ]
  },
  {
   "cell_type": "code",
   "execution_count": 5,
   "metadata": {
    "scrolled": true
   },
   "outputs": [],
   "source": [
    "data_folder = datapath4file('sine')"
   ]
  },
  {
   "cell_type": "code",
   "execution_count": 6,
   "metadata": {},
   "outputs": [],
   "source": [
    "data_folder = datapath4file('timit')"
   ]
  },
  {
   "cell_type": "code",
   "execution_count": 7,
   "metadata": {},
   "outputs": [
    {
     "data": {
      "text/plain": [
       "[PosixPath('/home/jupyter/.fastai/data/timit/f0004_us_f0004_00446.wav'),\n",
       " PosixPath('/home/jupyter/.fastai/data/timit/m0002_us_m0002_00128.wav'),\n",
       " PosixPath('/home/jupyter/.fastai/data/timit/f0003_us_f0003_00279.wav'),\n",
       " PosixPath('/home/jupyter/.fastai/data/timit/f0001_us_f0001_00168.wav'),\n",
       " PosixPath('/home/jupyter/.fastai/data/timit/f0005_us_f0005_00286.wav')]"
      ]
     },
     "execution_count": 7,
     "metadata": {},
     "output_type": "execute_result"
    }
   ],
   "source": [
    "data_folder.ls()[:5]"
   ]
  },
  {
   "cell_type": "code",
   "execution_count": 8,
   "metadata": {},
   "outputs": [],
   "source": [
    "import glob"
   ]
  },
  {
   "cell_type": "markdown",
   "metadata": {},
   "source": [
    "## Split Items"
   ]
  },
  {
   "cell_type": "code",
   "execution_count": 9,
   "metadata": {},
   "outputs": [],
   "source": [
    "wavs = glob.glob(str(data_folder/'**/*.wav'), recursive=True)\n",
    "wavs = wavs * 100\n",
    "twenty_percent = int(len(wavs) * 0.2)"
   ]
  },
  {
   "cell_type": "code",
   "execution_count": 10,
   "metadata": {},
   "outputs": [],
   "source": [
    "sig, sr = torchaudio.load(str(wavs[0]))"
   ]
  },
  {
   "cell_type": "code",
   "execution_count": 11,
   "metadata": {},
   "outputs": [],
   "source": [
    "from sklearn import model_selection"
   ]
  },
  {
   "cell_type": "code",
   "execution_count": 12,
   "metadata": {},
   "outputs": [],
   "source": [
    "train, valid = model_selection.train_test_split(wavs, test_size=0.2, random_state=42)"
   ]
  },
  {
   "cell_type": "code",
   "execution_count": 13,
   "metadata": {},
   "outputs": [
    {
     "data": {
      "text/plain": [
       "(307360, 76840)"
      ]
     },
     "execution_count": 13,
     "metadata": {},
     "output_type": "execute_result"
    }
   ],
   "source": [
    "len(train), len(valid)"
   ]
  },
  {
   "cell_type": "markdown",
   "metadata": {},
   "source": [
    "## Label Items"
   ]
  },
  {
   "cell_type": "markdown",
   "metadata": {},
   "source": [
    "Should we use stft?"
   ]
  },
  {
   "cell_type": "code",
   "execution_count": 14,
   "metadata": {},
   "outputs": [],
   "source": [
    "def trim_start(spectro, min_spectro=-80.):\n",
    "    for col in range(0, spectro.shape[2]):\n",
    "        m = spectro[:,:,col].mean()\n",
    "        if m > min_spectro:\n",
    "            return spectro[:,:,col:]"
   ]
  },
  {
   "cell_type": "code",
   "execution_count": 15,
   "metadata": {},
   "outputs": [],
   "source": [
    "def trim_end(spectro, min_spectro=-80.):\n",
    "    for i in range(1, spectro.shape[2]):\n",
    "        col = spectro.shape[2] - i\n",
    "        m = spectro[:,:,col].mean()\n",
    "        if m > min_spectro:\n",
    "            return spectro[:,:,:col]"
   ]
  },
  {
   "cell_type": "code",
   "execution_count": 16,
   "metadata": {},
   "outputs": [],
   "source": [
    "def wav_to_spectro(p):\n",
    "    aud = AudioData.load(p)\n",
    "    img=tfm_spectro(aud, n_mels=64, ws=300, n_fft=1024, to_db_scale=True)\n",
    "    img = trim_start(img)\n",
    "    img = trim_end(img)\n",
    "    return img"
   ]
  },
  {
   "cell_type": "code",
   "execution_count": 17,
   "metadata": {},
   "outputs": [
    {
     "data": {
      "image/jpeg": "[encoded data removed]",
      "image/png": "[encoded data removed]",
      "text/plain": [
       "Image (1, 64, 196)"
      ]
     },
     "metadata": {},
     "output_type": "display_data"
    },
    {
     "data": {
      "text/plain": [
       "torch.Size([1, 64, 196])"
      ]
     },
     "metadata": {},
     "output_type": "display_data"
    },
    {
     "name": "stdout",
     "output_type": "stream",
     "text": [
      "tensor([[[-68.7254, -32.9853, -22.7313,  ..., -79.7596, -80.0000, -79.3097],\n",
      "         [-79.4191, -39.4489, -29.7642,  ..., -76.4710, -80.0000, -80.0000],\n",
      "         [-80.0000, -58.8506, -39.1657,  ..., -80.0000, -80.0000, -80.0000],\n",
      "         ...,\n",
      "         [-80.0000, -80.0000, -80.0000,  ..., -80.0000, -80.0000, -80.0000],\n",
      "         [-80.0000, -80.0000, -80.0000,  ..., -80.0000, -80.0000, -80.0000],\n",
      "         [-80.0000, -80.0000, -80.0000,  ..., -80.0000, -80.0000, -80.0000]]])\n"
     ]
    }
   ],
   "source": [
    "def test_wav_to_spectro():\n",
    "    img = wav_to_spectro(wavs[1])\n",
    "    display(Image(img),img.shape)\n",
    "    print(img[:10])\n",
    "test_wav_to_spectro()"
   ]
  },
  {
   "cell_type": "code",
   "execution_count": 18,
   "metadata": {},
   "outputs": [],
   "source": [
    "data_item = wav_to_spectro(wavs[1])"
   ]
  },
  {
   "cell_type": "code",
   "execution_count": 48,
   "metadata": {},
   "outputs": [],
   "source": [
    "default_pad = torch.zeros(1, data_item.shape[1], 1) # MUST BE COLUMN shape(1, n_mels, 1)"
   ]
  },
  {
   "cell_type": "code",
   "execution_count": 49,
   "metadata": {},
   "outputs": [],
   "source": [
    "def chunkify(spectro, col, seq_len=10):\n",
    "    start = col\n",
    "    end = col + seq_len\n",
    "    chunk = spectro[:,:,start:end]\n",
    "    chunk_len = chunk.shape[2]\n",
    "    if chunk_len < seq_len:\n",
    "        num_cols_to_pad = seq_len - chunk_len\n",
    "        # repeat padded column w: (num_channels, how many times to stack column in y dir, number of columns to add)\n",
    "        padded = default_pad.clone().repeat(spectro.shape[0], 1, num_cols_to_pad)\n",
    "        chunk = torch.cat((chunk, padded), 2)\n",
    "    return chunk    "
   ]
  },
  {
   "cell_type": "code",
   "execution_count": 52,
   "metadata": {},
   "outputs": [
    {
     "name": "stdout",
     "output_type": "stream",
     "text": [
      "PASSED\n"
     ]
    }
   ],
   "source": [
    "def test_chunkify():\n",
    "    max_len = data_item.shape[2]\n",
    "    c = chunkify(data_item, 0, seq_len=10); assert 10 == c.shape[2]\n",
    "    c = chunkify(data_item, 5, seq_len=10); assert 10 == c.shape[2]\n",
    "    c = chunkify(data_item, max_len - 50, seq_len=10)\n",
    "    c = chunkify(data_item, max_len - 5, seq_len=10)\n",
    "    print('PASSED')\n",
    "    \n",
    "test_chunkify()"
   ]
  },
  {
   "cell_type": "code",
   "execution_count": 23,
   "metadata": {},
   "outputs": [],
   "source": [
    "def sequencify_and_label(spectro, seq_len=10, default_pad=default_pad):\n",
    "    max_non_pad_len = seq_len//2\n",
    "    ret = []\n",
    "    for col in range(0, spectro.shape[2] - max_non_pad_len):\n",
    "        x = chunkify(spectro, col, seq_len=seq_len)\n",
    "        y = chunkify(spectro, col + 1, seq_len=seq_len)\n",
    "        ret.append((x, y))\n",
    "    return ret"
   ]
  },
  {
   "cell_type": "code",
   "execution_count": 66,
   "metadata": {},
   "outputs": [
    {
     "name": "stdout",
     "output_type": "stream",
     "text": [
      "191\n"
     ]
    },
    {
     "data": {
      "image/jpeg": "[encoded data removed]",
      "image/png": "[encoded data removed]",
      "text/plain": [
       "Image (1, 64, 10)"
      ]
     },
     "metadata": {},
     "output_type": "display_data"
    },
    {
     "data": {
      "text/plain": [
       "torch.Size([1, 64, 10])"
      ]
     },
     "metadata": {},
     "output_type": "display_data"
    },
    {
     "data": {
      "image/jpeg": "[encoded data removed]",
      "image/png": "[encoded data removed]",
      "text/plain": [
       "Image (1, 64, 10)"
      ]
     },
     "metadata": {},
     "output_type": "display_data"
    },
    {
     "data": {
      "text/plain": [
       "torch.Size([1, 64, 10])"
      ]
     },
     "metadata": {},
     "output_type": "display_data"
    },
    {
     "name": "stdout",
     "output_type": "stream",
     "text": [
      "191\n"
     ]
    },
    {
     "data": {
      "image/jpeg": "[encoded data removed]",
      "image/png": "[encoded data removed]",
      "text/plain": [
       "Image (1, 64, 10)"
      ]
     },
     "metadata": {},
     "output_type": "display_data"
    },
    {
     "data": {
      "text/plain": [
       "torch.Size([1, 64, 10])"
      ]
     },
     "metadata": {},
     "output_type": "display_data"
    },
    {
     "data": {
      "image/jpeg": "[encoded data removed]",
      "image/png": "[encoded data removed]",
      "text/plain": [
       "Image (1, 64, 10)"
      ]
     },
     "metadata": {},
     "output_type": "display_data"
    },
    {
     "data": {
      "text/plain": [
       "torch.Size([1, 64, 10])"
      ]
     },
     "metadata": {},
     "output_type": "display_data"
    }
   ],
   "source": [
    "def test_sequencify_and_label(col):\n",
    "    list_x_and_y = sequencify_and_label(data_item)\n",
    "    print(len(list_x_and_y))\n",
    "    tup_x_and_y = list_x_and_y[col]\n",
    "    display(Image(tup_x_and_y[0]),tup_x_and_y[0].shape)\n",
    "    display(Image(tup_x_and_y[1]),tup_x_and_y[1].shape)\n",
    "test_sequencify_and_label(0)\n",
    "test_sequencify_and_label(190)"
   ]
  },
  {
   "cell_type": "code",
   "execution_count": null,
   "metadata": {},
   "outputs": [],
   "source": []
  },
  {
   "cell_type": "code",
   "execution_count": null,
   "metadata": {},
   "outputs": [],
   "source": []
  },
  {
   "cell_type": "code",
   "execution_count": null,
   "metadata": {},
   "outputs": [],
   "source": []
  }
 ],
 "metadata": {
  "kernelspec": {
   "display_name": "Python [conda env:fastai-audio]",
   "language": "python",
   "name": "conda-env-fastai-audio-py"
  },
  "language_info": {
   "codemirror_mode": {
    "name": "ipython",
    "version": 3
   },
   "file_extension": ".py",
   "mimetype": "text/x-python",
   "name": "python",
   "nbconvert_exporter": "python",
   "pygments_lexer": "ipython3",
   "version": "3.7.2"
  }
 },
 "nbformat": 4,
 "nbformat_minor": 2
}
