{
 "cells": [
  {
   "cell_type": "markdown",
   "metadata": {},
   "source": [
    "# Audio Data Bunch"
   ]
  },
  {
   "cell_type": "markdown",
   "metadata": {},
   "source": [
    "by @ste & @zachcaceres"
   ]
  },
  {
   "cell_type": "code",
   "execution_count": 1,
   "metadata": {},
   "outputs": [],
   "source": [
    "%load_ext autoreload\n",
    "%autoreload 2\n",
    "%matplotlib inline"
   ]
  },
  {
   "cell_type": "code",
   "execution_count": 2,
   "metadata": {},
   "outputs": [],
   "source": [
    "#Export\n",
    "import mimetypes\n",
    "from fastai.vision import *\n",
    "import torchaudio\n",
    "from torchaudio import transforms\n",
    "\n",
    "#for jupyter Display\n",
    "from IPython.display import Audio"
   ]
  },
  {
   "cell_type": "markdown",
   "metadata": {},
   "source": [
    "## Data Block classes"
   ]
  },
  {
   "cell_type": "code",
   "execution_count": 3,
   "metadata": {},
   "outputs": [],
   "source": [
    "#Export\n",
    "\n",
    "#Parameters\n",
    "MIN_SAMPLE_SIZE = 201\n",
    "\n",
    "# These are valid file extensions for audio files\n",
    "AUDIO_EXTENSIONS = set(k for k,v in mimetypes.types_map.items() if v.startswith('audio/'));"
   ]
  },
  {
   "cell_type": "code",
   "execution_count": 4,
   "metadata": {},
   "outputs": [],
   "source": [
    "#Export\n",
    "class AudioDataBunch(DataBunch):\n",
    "    def hear_ex(self, rows:int=3, ds_type:DatasetType=DatasetType.Valid, **kwargs):\n",
    "        batch = self.dl(ds_type).dataset[:rows]\n",
    "        self.train_ds.hear_xys(batch.x, batch.y, **kwargs)\n",
    "\n",
    "class AudioItem(ItemBase):\n",
    "    def __init__(self, signal, data=None, **kwargs):\n",
    "        self.signal = signal\n",
    "        self.sr = 16000\n",
    "        self.kwargs = kwargs\n",
    "        if (self.signal.shape[0] < MIN_SAMPLE_SIZE):\n",
    "            self.signal = F.pad(self.signal, (0, MIN_SAMPLE_SIZE - self.signal.shape[0]), value=0)\n",
    "\n",
    "        self.signal = self.signal[None,:] # add channel to signal\n",
    "        self.data = transforms.MelSpectrogram(sr=self.sr, **kwargs)(self.signal)\n",
    "\n",
    "    def __str__(self): return f'Duration: {self.duration} seconds.'\n",
    "    def __len__(self): return self.signal.shape[1]\n",
    "    def _repr_html_(self): return f'{self.__str__()}<br />{self.ipy_audio._repr_html_()}'\n",
    "    \n",
    "    def show(self, title:Optional[str]=None, **kwargs):\n",
    "        \"Show sound on `ax` with `title`, using `cmap` if single-channel, overlaid with optional `y`\"\n",
    "        self.hear(title=title)\n",
    "\n",
    "    def hear(self, title=None):\n",
    "        if title is not None: print(title)\n",
    "        display(self.ipy_audio)\n",
    "\n",
    "    def apply_tfms(self, tfms):\n",
    "        for tfm in tfms:\n",
    "            self.data = tfm(self.data)\n",
    "        return self\n",
    "        \n",
    "    @property\n",
    "    def shape(self):\n",
    "        return self.data.shape\n",
    "\n",
    "    @property\n",
    "    def size(self)->Tuple[int,int]: return self.data.shape[-2:]\n",
    "\n",
    "    @property\n",
    "    def ipy_audio(self): return Audio(data=self.signal, rate=self.sr)\n",
    "\n",
    "    @property\n",
    "    def duration(self): return len(self)/self.sr\n",
    "\n",
    "    @classmethod\n",
    "    def open(cls, fn, **kwargs):\n",
    "        return AudioItem(fn)"
   ]
  },
  {
   "cell_type": "code",
   "execution_count": 5,
   "metadata": {},
   "outputs": [],
   "source": [
    "#Export\n",
    "class AudioList(ItemList):\n",
    "    _bunch = AudioDataBunch\n",
    "    \n",
    "    # TODO: __REPR__    \n",
    "    def __init__(self, *args, **kwargs):\n",
    "        super().__init__(*args, **kwargs)\n",
    "            \n",
    "    def get(self, i): return AudioItem.open(self.items[i])\n",
    "    \n",
    "    def reconstruct(self, t:Tensor): return Image(t.transpose(1,2))\n",
    "\n",
    "    def hear_xys(self, xs, ys, **kwargs):\n",
    "        for x, y in zip(xs, ys): x.hear(title=y, **kwargs)\n",
    "\n",
    "    @classmethod\n",
    "    def from_folder(cls, path:PathOrStr='.', extensions:Collection[str]=None, **kwargs)->ItemList:\n",
    "        extensions = ifnone(extensions, AUDIO_EXTENSIONS)\n",
    "        return super().from_folder(path=path, extensions=extensions, **kwargs)\n"
   ]
  },
  {
   "cell_type": "markdown",
   "metadata": {},
   "source": [
    "## Sample data for test"
   ]
  },
  {
   "cell_type": "code",
   "execution_count": 6,
   "metadata": {},
   "outputs": [
    {
     "name": "stdout",
     "output_type": "stream",
     "text": [
      "Working directory: /home/ste/.fastai/data/timit\n"
     ]
    }
   ],
   "source": [
    "# Standard path notation for fast.ai\n",
    "# The files willbe saved on $HOME/.fastai/data/timit/\n",
    "path = Path(Path.home()/'.fastai/data/timit')\n",
    "if path.exists: print(f'Working directory: {path}')\n",
    "else: print('Missing data folder')"
   ]
  },
  {
   "cell_type": "markdown",
   "metadata": {},
   "source": [
    "# Sample usage "
   ]
  },
  {
   "cell_type": "markdown",
   "metadata": {},
   "source": [
    "# from_df"
   ]
  },
  {
   "cell_type": "code",
   "execution_count": 7,
   "metadata": {},
   "outputs": [],
   "source": [
    "def pad_to_max(t, mx=1000, value=0):\n",
    "    \"\"\"Pad tensor with `value` until it reaches length `mx`\"\"\"\n",
    "    if t.shape[1] == mx: return t\n",
    "    return F.pad(t, (0,0, 0,mx-t.shape[1]), value=value)"
   ]
  },
  {
   "cell_type": "code",
   "execution_count": 8,
   "metadata": {},
   "outputs": [],
   "source": [
    "def process_phn_file(p_file, sig, sr, delimiter=' '):\n",
    "    df = pd.read_csv(p_file, delimiter=delimiter, header=None)\n",
    "    df.columns = ['Start', 'End', 'Phn']\n",
    "    df['Sample'] = df.apply(lambda x : sig[-1][x['Start']: x['End']], axis=1)\n",
    "    return df"
   ]
  },
  {
   "cell_type": "code",
   "execution_count": 9,
   "metadata": {},
   "outputs": [
    {
     "data": {
      "text/html": [
       "<div>\n",
       "<style scoped>\n",
       "    .dataframe tbody tr th:only-of-type {\n",
       "        vertical-align: middle;\n",
       "    }\n",
       "\n",
       "    .dataframe tbody tr th {\n",
       "        vertical-align: top;\n",
       "    }\n",
       "\n",
       "    .dataframe thead th {\n",
       "        text-align: right;\n",
       "    }\n",
       "</style>\n",
       "<table border=\"1\" class=\"dataframe\">\n",
       "  <thead>\n",
       "    <tr style=\"text-align: right;\">\n",
       "      <th></th>\n",
       "      <th>Start</th>\n",
       "      <th>End</th>\n",
       "      <th>Phn</th>\n",
       "      <th>Sample</th>\n",
       "      <th>Source</th>\n",
       "    </tr>\n",
       "  </thead>\n",
       "  <tbody>\n",
       "    <tr>\n",
       "      <th>0</th>\n",
       "      <td>0</td>\n",
       "      <td>2240</td>\n",
       "      <td>h#</td>\n",
       "      <td>[tensor(-6.1035e-05), tensor(-3.0518e-05), ten...</td>\n",
       "      <td>/home/ste/.fastai/data/timit/TRAIN/DR7/MSAH1/S...</td>\n",
       "    </tr>\n",
       "    <tr>\n",
       "      <th>1</th>\n",
       "      <td>2240</td>\n",
       "      <td>2480</td>\n",
       "      <td>d</td>\n",
       "      <td>[tensor(0.0003), tensor(0.0003), tensor(0.0003...</td>\n",
       "      <td>/home/ste/.fastai/data/timit/TRAIN/DR7/MSAH1/S...</td>\n",
       "    </tr>\n",
       "    <tr>\n",
       "      <th>2</th>\n",
       "      <td>2480</td>\n",
       "      <td>3920</td>\n",
       "      <td>iy</td>\n",
       "      <td>[tensor(-0.0010), tensor(0.0002), tensor(-0.00...</td>\n",
       "      <td>/home/ste/.fastai/data/timit/TRAIN/DR7/MSAH1/S...</td>\n",
       "    </tr>\n",
       "    <tr>\n",
       "      <th>3</th>\n",
       "      <td>3920</td>\n",
       "      <td>5170</td>\n",
       "      <td>pcl</td>\n",
       "      <td>[tensor(-9.1553e-05), tensor(-0.0002), tensor(...</td>\n",
       "      <td>/home/ste/.fastai/data/timit/TRAIN/DR7/MSAH1/S...</td>\n",
       "    </tr>\n",
       "    <tr>\n",
       "      <th>4</th>\n",
       "      <td>5170</td>\n",
       "      <td>5380</td>\n",
       "      <td>p</td>\n",
       "      <td>[tensor(-0.0006), tensor(-0.0008), tensor(-0.0...</td>\n",
       "      <td>/home/ste/.fastai/data/timit/TRAIN/DR7/MSAH1/S...</td>\n",
       "    </tr>\n",
       "  </tbody>\n",
       "</table>\n",
       "</div>"
      ],
      "text/plain": [
       "   Start   End  Phn                                             Sample  \\\n",
       "0      0  2240   h#  [tensor(-6.1035e-05), tensor(-3.0518e-05), ten...   \n",
       "1   2240  2480    d  [tensor(0.0003), tensor(0.0003), tensor(0.0003...   \n",
       "2   2480  3920   iy  [tensor(-0.0010), tensor(0.0002), tensor(-0.00...   \n",
       "3   3920  5170  pcl  [tensor(-9.1553e-05), tensor(-0.0002), tensor(...   \n",
       "4   5170  5380    p  [tensor(-0.0006), tensor(-0.0008), tensor(-0.0...   \n",
       "\n",
       "                                              Source  \n",
       "0  /home/ste/.fastai/data/timit/TRAIN/DR7/MSAH1/S...  \n",
       "1  /home/ste/.fastai/data/timit/TRAIN/DR7/MSAH1/S...  \n",
       "2  /home/ste/.fastai/data/timit/TRAIN/DR7/MSAH1/S...  \n",
       "3  /home/ste/.fastai/data/timit/TRAIN/DR7/MSAH1/S...  \n",
       "4  /home/ste/.fastai/data/timit/TRAIN/DR7/MSAH1/S...  "
      ]
     },
     "execution_count": 9,
     "metadata": {},
     "output_type": "execute_result"
    }
   ],
   "source": [
    "import glob \n",
    "\n",
    "def create_phn_df(path, count=100):\n",
    "    phns = []\n",
    "    final = pd.DataFrame()\n",
    "\n",
    "    for phn_file in glob.glob(str(path/'**/*.PHN'), recursive=True)[:count]:\n",
    "        sig,sr = torchaudio.load(str(phn_file.replace('PHN', 'WAV')))\n",
    "        df = process_phn_file(phn_file, sig, sr, delimiter=' ')\n",
    "        df['Source'] = phn_file\n",
    "        final = final.append(df)\n",
    "    return df\n",
    "\n",
    "df = create_phn_df(path/'TRAIN')\n",
    "df.head()"
   ]
  },
  {
   "cell_type": "code",
   "execution_count": 10,
   "metadata": {},
   "outputs": [
    {
     "name": "stderr",
     "output_type": "stream",
     "text": [
      "/home/ste/work/fastai/fastai/data_block.py:522: UserWarning: You are labelling your items with CategoryList.\n",
      "Your valid set contained the following unknown labels, the corresponding items have been discarded.\n",
      "pcl, dx\n",
      "  if getattr(ds, 'warn', False): warn(ds.warn)\n"
     ]
    }
   ],
   "source": [
    "# Normal datablock setup from our AudioList from above.\n",
    "data_from_df = (AudioList.from_df(df, path, cols=['Sample'])\n",
    "    .split_by_rand_pct(0.1, seed=1)\n",
    "    .label_from_df('Phn')\n",
    "    .transform([[pad_to_max], [pad_to_max]])\n",
    "    .databunch(bs=8))        "
   ]
  },
  {
   "cell_type": "code",
   "execution_count": 11,
   "metadata": {},
   "outputs": [
    {
     "data": {
      "text/html": [
       "Duration: 0.140625 seconds.<br />\n",
       "                <audio controls=\"controls\" >\n",
       "                    <source src=\"data:audio/wav;base64,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\" type=\"audio/wav\" />\n",
       "                    Your browser does not support the audio element.\n",
       "                </audio>\n",
       "              "
      ],
      "text/plain": [
       "AudioItem Duration: 0.140625 seconds."
      ]
     },
     "execution_count": 11,
     "metadata": {},
     "output_type": "execute_result"
    }
   ],
   "source": [
    "data_from_df.get(6)"
   ]
  },
  {
   "cell_type": "markdown",
   "metadata": {},
   "source": [
    "# from_folder"
   ]
  },
  {
   "cell_type": "markdown",
   "metadata": {},
   "source": [
    "# <span style=\"color:red\">TODO: merge with Yes/No sample</span>."
   ]
  },
  {
   "cell_type": "code",
   "execution_count": 12,
   "metadata": {},
   "outputs": [],
   "source": [
    "ils = AudioList.from_folder(path,extensions=AUDIO_EXTENSIONS)"
   ]
  },
  {
   "cell_type": "raw",
   "metadata": {},
   "source": [
    "# FIXME\n",
    "ils.get(0)"
   ]
  },
  {
   "cell_type": "markdown",
   "metadata": {},
   "source": [
    "# Export"
   ]
  },
  {
   "cell_type": "code",
   "execution_count": 13,
   "metadata": {},
   "outputs": [
    {
     "name": "stdout",
     "output_type": "stream",
     "text": [
      "Converted DataBlock.ipynb to nb_DataBlock.py\r\n"
     ]
    }
   ],
   "source": [
    "!python notebook2script.py DataBlock.ipynb"
   ]
  }
 ],
 "metadata": {
  "kernelspec": {
   "display_name": "Python 3",
   "language": "python",
   "name": "python3"
  },
  "language_info": {
   "codemirror_mode": {
    "name": "ipython",
    "version": 3
   },
   "file_extension": ".py",
   "mimetype": "text/x-python",
   "name": "python",
   "nbconvert_exporter": "python",
   "pygments_lexer": "ipython3",
   "version": "3.7.0"
  },
  "varInspector": {
   "cols": {
    "lenName": 16,
    "lenType": 16,
    "lenVar": 40
   },
   "kernels_config": {
    "python": {
     "delete_cmd_postfix": "",
     "delete_cmd_prefix": "del ",
     "library": "var_list.py",
     "varRefreshCmd": "print(var_dic_list())"
    },
    "r": {
     "delete_cmd_postfix": ") ",
     "delete_cmd_prefix": "rm(",
     "library": "var_list.r",
     "varRefreshCmd": "cat(var_dic_list()) "
    }
   },
   "types_to_exclude": [
    "module",
    "function",
    "builtin_function_or_method",
    "instance",
    "_Feature"
   ],
   "window_display": false
  }
 },
 "nbformat": 4,
 "nbformat_minor": 2
}
