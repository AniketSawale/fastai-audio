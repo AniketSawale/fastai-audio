{
 "cells": [
  {
   "cell_type": "markdown",
   "metadata": {},
   "source": [
    "# Audio Sequence Data Block"
   ]
  },
  {
   "cell_type": "markdown",
   "metadata": {},
   "source": [
    "Datablock API use for audio sequences."
   ]
  },
  {
   "cell_type": "code",
   "execution_count": 1,
   "metadata": {},
   "outputs": [],
   "source": [
    "%load_ext autoreload\n",
    "%autoreload 2\n",
    "%matplotlib inline"
   ]
  },
  {
   "cell_type": "code",
   "execution_count": 2,
   "metadata": {
    "collapsed": true
   },
   "outputs": [],
   "source": [
    "#Export\n",
    "\n",
    "#Internal dependencies\n",
    "from exp.nb_AudioCommon import * \n",
    "from exp.nb_DataBlock import *\n",
    "from exp.nb_DataAugmentation import * "
   ]
  },
  {
   "cell_type": "code",
   "execution_count": 3,
   "metadata": {
    "collapsed": true
   },
   "outputs": [],
   "source": [
    "#Export\n",
    "\n",
    "#External dependencies\n",
    "import mimetypes\n",
    "from fastai.vision import *\n",
    "from fastai.text import *\n",
    "import torchaudio\n",
    "from torchaudio import transforms\n",
    "\n",
    "#for jupyter Display\n",
    "from IPython.display import Audio"
   ]
  },
  {
   "cell_type": "markdown",
   "metadata": {},
   "source": [
    "## Sample data for test"
   ]
  },
  {
   "cell_type": "code",
   "execution_count": 74,
   "metadata": {},
   "outputs": [
    {
     "name": "stdout",
     "output_type": "stream",
     "text": [
      "Working directory: /home/jupyter/.fastai/data/timit\n"
     ]
    }
   ],
   "source": [
    "# Standard path notation for fast.ai\n",
    "# The files willbe saved on $HOME/.fastai/data/timit/\n",
    "path = getFastAiWorkingDirectory('timit')"
   ]
  },
  {
   "cell_type": "markdown",
   "metadata": {},
   "source": [
    "## Data Block classes"
   ]
  },
  {
   "cell_type": "code",
   "execution_count": 75,
   "metadata": {},
   "outputs": [
    {
     "data": {
      "text/plain": [
       "fastai.basic_data.DataBunch"
      ]
     },
     "execution_count": 75,
     "metadata": {},
     "output_type": "execute_result"
    }
   ],
   "source": [
    "DataBunch"
   ]
  },
  {
   "cell_type": "markdown",
   "metadata": {},
   "source": [
    "## AudioSequenceItem"
   ]
  },
  {
   "cell_type": "markdown",
   "metadata": {},
   "source": [
    "For sequences of data (for use with models like RNNs), we need a separate AudioItem. This Item organizes data into sequences of `AudioData`."
   ]
  },
  {
   "cell_type": "code",
   "execution_count": 47,
   "metadata": {},
   "outputs": [],
   "source": [
    "#Export        \n",
    "class AudioSequenceItem(ItemBase):\n",
    "    def __init__(self,\n",
    "                 data:AudioData,\n",
    "                 sample_len=401,\n",
    "                 stride_len=200,\n",
    "                 max_seqs=20,\n",
    "                 **kwargs):\n",
    "        # chopping up one signal item to [0,1,2], [1,2,3], [2,3,4]...\n",
    "        chopped = []\n",
    "        numOfChunks = ((data.sig.shape[0]-sample_len)//stride_len)+1\n",
    "        \n",
    "        for i in range(0,numOfChunks*stride_len, stride_len):\n",
    "            if (len(chopped) >= max_seqs): break\n",
    "            chop = data.sig[i:i+sample_len].clone()\n",
    "            chopped.append(chop)\n",
    "\n",
    "        self.data = (chopped, data.sr)\n",
    "        self.kwargs = kwargs\n",
    "    \n",
    "    @property\n",
    "    def sr(self):\n",
    "        return self.data[1]\n",
    "    \n",
    "    @property\n",
    "    def seq(self):\n",
    "        return self.data[0]\n",
    "    \n",
    "    def __str__(self):\n",
    "        return f'Length: {len(self.seq)} | Shape: {self.seq[0].shape} | Sample Rate: {self.sr}'\n",
    "    \n",
    "    @property\n",
    "    def size(self):\n",
    "        return self.seq[0].size()\n",
    "    \n",
    "#     def __len__(self): return self.data.__len__()\n",
    "    \n",
    "#     def _repr_html_(self): return self.data._repr_html_()\n",
    "    \n",
    "#     def show(self, title:Optional[str]=None, **kwargs):\n",
    "#         \"Show sound on `ax` with `title`, using `cmap` if single-channel, overlaid with optional `y`\"\n",
    "#         return self.data.show(title=title)\n",
    "\n",
    "#     def hear(self, title=None):\n",
    "#         return self.data.hear(title=title)\n",
    "\n",
    "    def apply_tfms(self, tfms):\n",
    "        modified = self.data\n",
    "        for tfm in tfms:\n",
    "            modified = tfm(modified)\n",
    "        return modified\n",
    "\n",
    "    @property\n",
    "    def shape(self):\n",
    "        return self.seq[0].shape\n",
    "    \n",
    "#     @property\n",
    "#     def ipy_audio(self):\n",
    "#         return self.data.ipy_audio\n",
    "\n",
    "#     @property\n",
    "#     def duration(self): return self.data.duration    \n"
   ]
  },
  {
   "cell_type": "code",
   "execution_count": 76,
   "metadata": {},
   "outputs": [
    {
     "data": {
      "text/plain": [
       "6300"
      ]
     },
     "execution_count": 76,
     "metadata": {},
     "output_type": "execute_result"
    }
   ],
   "source": [
    "import glob\n",
    "from fastai.basics import url2name, datapath4file, untar_data\n",
    "path = datapath4file('timit')\n",
    "wavs = glob.glob(str(path/'**/*.WAV'), recursive=True)\n",
    "len(wavs)"
   ]
  },
  {
   "cell_type": "code",
   "execution_count": 77,
   "metadata": {},
   "outputs": [
    {
     "data": {
      "text/plain": [
       "AudioSequenceItem Length: 20 | Shape: torch.Size([401]) | Sample Rate: 16000"
      ]
     },
     "metadata": {},
     "output_type": "display_data"
    }
   ],
   "source": [
    "def test_AudioItem_create_from_audio_file(f):\n",
    "    a = AudioSequenceItem(AudioData.load(f))\n",
    "    assert 1 <= len(a.seq), 'Has a sequence'\n",
    "    assert a.seq[0].shape[0] > 100, 'Has data'\n",
    "    assert 16000 == a.sr, 'Has sample rate of default 16000'\n",
    "    assert a.size[0] == 401, 'Sequence contains a tensor of default length'\n",
    "    display(a)\n",
    "    \n",
    "test_AudioItem_create_from_audio_file(wavs[0])"
   ]
  },
  {
   "cell_type": "markdown",
   "metadata": {},
   "source": [
    "## AudioSequenceList"
   ]
  },
  {
   "cell_type": "code",
   "execution_count": 78,
   "metadata": {},
   "outputs": [],
   "source": [
    "#Export\n",
    "\n",
    "def _maybe_squeeze(arr): return (arr if is1d(arr) else np.squeeze(arr))\n",
    "\n",
    "class AudioSequenceList(ItemList):\n",
    "    def __init__(self, *args, **kwargs):\n",
    "        super().__init__(*args, **kwargs)\n",
    "    \n",
    "    @classmethod\n",
    "    def from_df(cls, df:DataFrame, path:PathOrStr='.', **kwargs)->'ItemList':\n",
    "        \"Create an `ItemList` in `path` from the inputs in the `cols` of `df`.\"\n",
    "        inputs = df.iloc[:,] # FIX ME\n",
    "        assert inputs.isna().sum().sum() == 0, f\"You have NaN values in column(s) of your dataframe, please fix it.\" \n",
    "        res = cls(items=_maybe_squeeze(inputs.values), path=path, inner_df=df, **kwargs)\n",
    "        return res"
   ]
  },
  {
   "cell_type": "code",
   "execution_count": 80,
   "metadata": {},
   "outputs": [
    {
     "data": {
      "text/plain": [
       "AudioSequenceItem Length: 20 | Shape: torch.Size([401]) | Sample Rate: 16000"
      ]
     },
     "execution_count": 80,
     "metadata": {},
     "output_type": "execute_result"
    }
   ],
   "source": [
    "p = str(path/'TRAIN/DR1/MDPK0/SA1.WAV')\n",
    "seq_item = AudioSequenceItem(AudioData.load(p)); seq_item"
   ]
  },
  {
   "cell_type": "markdown",
   "metadata": {},
   "source": [
    "## AudioSequenceDataBunch"
   ]
  },
  {
   "cell_type": "code",
   "execution_count": 81,
   "metadata": {},
   "outputs": [],
   "source": [
    "#Export\n",
    "def reorder_for_rnn(t):\n",
    "    t = t[:,None,:]\n",
    "    return t"
   ]
  },
  {
   "cell_type": "code",
   "execution_count": 82,
   "metadata": {},
   "outputs": [],
   "source": [
    "#Export\n",
    "class AudioSequenceDataBunch(DataBunch):\n",
    "    @classmethod\n",
    "    def from_df(cls,\n",
    "                path:PathOrStr,\n",
    "                train_df:DataFrame,\n",
    "                valid_df:DataFrame,\n",
    "                audio_cols=[],\n",
    "                **kwargs) -> DataBunch:\n",
    "        src = ItemLists(path, AudioSequenceList.from_df(train_df, path), AudioSequenceList.from_df(valid_df, path))\n",
    "        # TODO: toggle classifier or LM here (toggle labels)\n",
    "        labeled = src.label_const(0)\n",
    "        extract_seq = lambda x: x[0]\n",
    "        tfms = [[extract_seq], [extract_seq]]\n",
    "        labeled.transform(tfms)\n",
    "        return labeled.databunch(**kwargs)"
   ]
  },
  {
   "cell_type": "markdown",
   "metadata": {},
   "source": [
    "### AudioList\n",
    "This class is responsible to contain a list of AudioItem."
   ]
  },
  {
   "cell_type": "code",
   "execution_count": 84,
   "metadata": {
    "collapsed": true
   },
   "outputs": [],
   "source": [
    "#Export\n",
    "class AudioList(ItemList):\n",
    "    _bunch = AudioDataBunch\n",
    "    \n",
    "    # TODO: __REPR__    \n",
    "    def __init__(self, *args, **kwargs):\n",
    "        super().__init__(*args, **kwargs)\n",
    "            \n",
    "    def get(self, i):\n",
    "        item = self.items[i]\n",
    "        if isinstance(item, (Path, str)):\n",
    "            return AudioItem(AudioData.load(str(item)))\n",
    "        if isinstance(item, (tuple, np.ndarray)): #data,sr \n",
    "            return AudioItem(AudioData(item[0],item[1]))\n",
    "        print('Format not supported!', file=sys.stderr)\n",
    "        raise\n",
    "\n",
    "    def reconstruct(self, t:Tensor): return Image(t.transpose(1,2))\n",
    "\n",
    "    def hear_xys(self, xs, ys, **kwargs):\n",
    "        for x, y in zip(xs, ys): x.hear(title=y, **kwargs)\n",
    "            \n",
    "    # TODO: example with from_folder\n",
    "    @classmethod\n",
    "    def from_folder(cls, path:PathOrStr='.', extensions:Collection[str]=None, **kwargs)->ItemList:\n",
    "        extensions = ifnone(extensions, AUDIO_EXTENSIONS)\n",
    "        return super().from_folder(path=path, extensions=extensions, **kwargs)"
   ]
  },
  {
   "cell_type": "code",
   "execution_count": 85,
   "metadata": {},
   "outputs": [
    {
     "data": {
      "text/html": [
       "<div>\n",
       "<style scoped>\n",
       "    .dataframe tbody tr th:only-of-type {\n",
       "        vertical-align: middle;\n",
       "    }\n",
       "\n",
       "    .dataframe tbody tr th {\n",
       "        vertical-align: top;\n",
       "    }\n",
       "\n",
       "    .dataframe thead th {\n",
       "        text-align: right;\n",
       "    }\n",
       "</style>\n",
       "<table border=\"1\" class=\"dataframe\">\n",
       "  <thead>\n",
       "    <tr style=\"text-align: right;\">\n",
       "      <th></th>\n",
       "      <th>FileName</th>\n",
       "    </tr>\n",
       "  </thead>\n",
       "  <tbody>\n",
       "    <tr>\n",
       "      <th>0</th>\n",
       "      <td>/home/jupyter/.fastai/data/timit/TEST/DR1/FAKS...</td>\n",
       "    </tr>\n",
       "    <tr>\n",
       "      <th>1</th>\n",
       "      <td>/home/jupyter/.fastai/data/timit/TEST/DR1/FAKS...</td>\n",
       "    </tr>\n",
       "    <tr>\n",
       "      <th>2</th>\n",
       "      <td>/home/jupyter/.fastai/data/timit/TEST/DR1/FAKS...</td>\n",
       "    </tr>\n",
       "    <tr>\n",
       "      <th>3</th>\n",
       "      <td>/home/jupyter/.fastai/data/timit/TEST/DR1/FAKS...</td>\n",
       "    </tr>\n",
       "    <tr>\n",
       "      <th>4</th>\n",
       "      <td>/home/jupyter/.fastai/data/timit/TEST/DR1/FAKS...</td>\n",
       "    </tr>\n",
       "  </tbody>\n",
       "</table>\n",
       "</div>"
      ],
      "text/plain": [
       "                                            FileName\n",
       "0  /home/jupyter/.fastai/data/timit/TEST/DR1/FAKS...\n",
       "1  /home/jupyter/.fastai/data/timit/TEST/DR1/FAKS...\n",
       "2  /home/jupyter/.fastai/data/timit/TEST/DR1/FAKS...\n",
       "3  /home/jupyter/.fastai/data/timit/TEST/DR1/FAKS...\n",
       "4  /home/jupyter/.fastai/data/timit/TEST/DR1/FAKS..."
      ]
     },
     "metadata": {},
     "output_type": "display_data"
    },
    {
     "name": "stdout",
     "output_type": "stream",
     "text": [
      "FileName: /home/jupyter/.fastai/data/timit/TEST/DR1/FAKS0/SX43.WAV\n",
      "torch.Size([39220]) 16000\n"
     ]
    },
    {
     "ename": "NameError",
     "evalue": "name 'Audio' is not defined",
     "output_type": "error",
     "traceback": [
      "\u001b[0;31m---------------------------------------------------------------------------\u001b[0m",
      "\u001b[0;31mNameError\u001b[0m                                 Traceback (most recent call last)",
      "\u001b[0;32m/opt/anaconda3/envs/fastai-audio/lib/python3.7/site-packages/IPython/core/formatters.py\u001b[0m in \u001b[0;36m__call__\u001b[0;34m(self, obj)\u001b[0m\n\u001b[1;32m    343\u001b[0m             \u001b[0mmethod\u001b[0m \u001b[0;34m=\u001b[0m \u001b[0mget_real_method\u001b[0m\u001b[0;34m(\u001b[0m\u001b[0mobj\u001b[0m\u001b[0;34m,\u001b[0m \u001b[0mself\u001b[0m\u001b[0;34m.\u001b[0m\u001b[0mprint_method\u001b[0m\u001b[0;34m)\u001b[0m\u001b[0;34m\u001b[0m\u001b[0;34m\u001b[0m\u001b[0m\n\u001b[1;32m    344\u001b[0m             \u001b[0;32mif\u001b[0m \u001b[0mmethod\u001b[0m \u001b[0;32mis\u001b[0m \u001b[0;32mnot\u001b[0m \u001b[0;32mNone\u001b[0m\u001b[0;34m:\u001b[0m\u001b[0;34m\u001b[0m\u001b[0;34m\u001b[0m\u001b[0m\n\u001b[0;32m--> 345\u001b[0;31m                 \u001b[0;32mreturn\u001b[0m \u001b[0mmethod\u001b[0m\u001b[0;34m(\u001b[0m\u001b[0;34m)\u001b[0m\u001b[0;34m\u001b[0m\u001b[0;34m\u001b[0m\u001b[0m\n\u001b[0m\u001b[1;32m    346\u001b[0m             \u001b[0;32mreturn\u001b[0m \u001b[0;32mNone\u001b[0m\u001b[0;34m\u001b[0m\u001b[0;34m\u001b[0m\u001b[0m\n\u001b[1;32m    347\u001b[0m         \u001b[0;32melse\u001b[0m\u001b[0;34m:\u001b[0m\u001b[0;34m\u001b[0m\u001b[0;34m\u001b[0m\u001b[0m\n",
      "\u001b[0;32m~/fastai-audio/exp/nb_DataBlock.py\u001b[0m in \u001b[0;36m_repr_html_\u001b[0;34m(self)\u001b[0m\n\u001b[1;32m     26\u001b[0m         \u001b[0;32melse\u001b[0m\u001b[0;34m:\u001b[0m \u001b[0;32mreturn\u001b[0m \u001b[0;34mf'{type(self.data)}: {self.data.shape}'\u001b[0m\u001b[0;34m\u001b[0m\u001b[0;34m\u001b[0m\u001b[0m\n\u001b[1;32m     27\u001b[0m     \u001b[0;32mdef\u001b[0m \u001b[0m__len__\u001b[0m\u001b[0;34m(\u001b[0m\u001b[0mself\u001b[0m\u001b[0;34m)\u001b[0m\u001b[0;34m:\u001b[0m \u001b[0;32mreturn\u001b[0m \u001b[0mself\u001b[0m\u001b[0;34m.\u001b[0m\u001b[0mdata\u001b[0m\u001b[0;34m.\u001b[0m\u001b[0msig\u001b[0m\u001b[0;34m.\u001b[0m\u001b[0mshape\u001b[0m\u001b[0;34m[\u001b[0m\u001b[0;36m0\u001b[0m\u001b[0;34m]\u001b[0m\u001b[0;34m\u001b[0m\u001b[0;34m\u001b[0m\u001b[0m\n\u001b[0;32m---> 28\u001b[0;31m     \u001b[0;32mdef\u001b[0m \u001b[0m_repr_html_\u001b[0m\u001b[0;34m(\u001b[0m\u001b[0mself\u001b[0m\u001b[0;34m)\u001b[0m\u001b[0;34m:\u001b[0m \u001b[0;32mreturn\u001b[0m \u001b[0;34mf'{self.__str__()}<br />{self.ipy_audio._repr_html_()}'\u001b[0m\u001b[0;34m\u001b[0m\u001b[0;34m\u001b[0m\u001b[0m\n\u001b[0m\u001b[1;32m     29\u001b[0m \u001b[0;34m\u001b[0m\u001b[0m\n\u001b[1;32m     30\u001b[0m     \u001b[0;32mdef\u001b[0m \u001b[0mshow\u001b[0m\u001b[0;34m(\u001b[0m\u001b[0mself\u001b[0m\u001b[0;34m,\u001b[0m \u001b[0mtitle\u001b[0m\u001b[0;34m:\u001b[0m\u001b[0mOptional\u001b[0m\u001b[0;34m[\u001b[0m\u001b[0mstr\u001b[0m\u001b[0;34m]\u001b[0m\u001b[0;34m=\u001b[0m\u001b[0;32mNone\u001b[0m\u001b[0;34m,\u001b[0m \u001b[0;34m**\u001b[0m\u001b[0mkwargs\u001b[0m\u001b[0;34m)\u001b[0m\u001b[0;34m:\u001b[0m\u001b[0;34m\u001b[0m\u001b[0;34m\u001b[0m\u001b[0m\n",
      "\u001b[0;32m~/fastai-audio/exp/nb_DataBlock.py\u001b[0m in \u001b[0;36mipy_audio\u001b[0;34m(self)\u001b[0m\n\u001b[1;32m     47\u001b[0m     \u001b[0;34m@\u001b[0m\u001b[0mproperty\u001b[0m\u001b[0;34m\u001b[0m\u001b[0;34m\u001b[0m\u001b[0m\n\u001b[1;32m     48\u001b[0m     \u001b[0;32mdef\u001b[0m \u001b[0mipy_audio\u001b[0m\u001b[0;34m(\u001b[0m\u001b[0mself\u001b[0m\u001b[0;34m)\u001b[0m\u001b[0;34m:\u001b[0m\u001b[0;34m\u001b[0m\u001b[0;34m\u001b[0m\u001b[0m\n\u001b[0;32m---> 49\u001b[0;31m         \u001b[0;32mreturn\u001b[0m \u001b[0mAudio\u001b[0m\u001b[0;34m(\u001b[0m\u001b[0mdata\u001b[0m\u001b[0;34m=\u001b[0m\u001b[0mself\u001b[0m\u001b[0;34m.\u001b[0m\u001b[0mdata\u001b[0m\u001b[0;34m.\u001b[0m\u001b[0msig\u001b[0m\u001b[0;34m,\u001b[0m \u001b[0mrate\u001b[0m\u001b[0;34m=\u001b[0m\u001b[0mself\u001b[0m\u001b[0;34m.\u001b[0m\u001b[0mdata\u001b[0m\u001b[0;34m.\u001b[0m\u001b[0msr\u001b[0m\u001b[0;34m)\u001b[0m\u001b[0;34m\u001b[0m\u001b[0;34m\u001b[0m\u001b[0m\n\u001b[0m\u001b[1;32m     50\u001b[0m \u001b[0;34m\u001b[0m\u001b[0m\n\u001b[1;32m     51\u001b[0m     \u001b[0;34m@\u001b[0m\u001b[0mproperty\u001b[0m\u001b[0;34m\u001b[0m\u001b[0;34m\u001b[0m\u001b[0m\n",
      "\u001b[0;31mNameError\u001b[0m: name 'Audio' is not defined"
     ]
    },
    {
     "data": {
      "text/plain": [
       "AudioItem AudioItem: 2.45125sec (39220 @ 16000hz)."
      ]
     },
     "metadata": {},
     "output_type": "display_data"
    }
   ],
   "source": [
    "def test_AudioList_from_df_file_names():\n",
    "    import glob\n",
    "    #Create Data Frame\n",
    "    df = pd.DataFrame(glob.glob(str(path/'**/*.WAV'), recursive=True)[:10])\n",
    "    df.columns = ['FileName']\n",
    "    display(df.head())\n",
    "\n",
    "    #Crete AudioList\n",
    "    ils = AudioList.from_df(df, path, cols=['FileName'])\n",
    "    \n",
    "    #Test a item\n",
    "    i=5\n",
    "    print(f'FileName: {df.FileName[i]}')\n",
    "    a = ils.get(i)\n",
    "    print(a.data.sig.shape, a.data.sr)\n",
    "    display(a)\n",
    "\n",
    "test_AudioList_from_df_file_names()"
   ]
  },
  {
   "cell_type": "code",
   "execution_count": 86,
   "metadata": {},
   "outputs": [
    {
     "name": "stdout",
     "output_type": "stream",
     "text": [
      "torch.Size([37991]) 16000\n"
     ]
    },
    {
     "ename": "NameError",
     "evalue": "name 'Audio' is not defined",
     "output_type": "error",
     "traceback": [
      "\u001b[0;31m---------------------------------------------------------------------------\u001b[0m",
      "\u001b[0;31mNameError\u001b[0m                                 Traceback (most recent call last)",
      "\u001b[0;32m/opt/anaconda3/envs/fastai-audio/lib/python3.7/site-packages/IPython/core/formatters.py\u001b[0m in \u001b[0;36m__call__\u001b[0;34m(self, obj)\u001b[0m\n\u001b[1;32m    343\u001b[0m             \u001b[0mmethod\u001b[0m \u001b[0;34m=\u001b[0m \u001b[0mget_real_method\u001b[0m\u001b[0;34m(\u001b[0m\u001b[0mobj\u001b[0m\u001b[0;34m,\u001b[0m \u001b[0mself\u001b[0m\u001b[0;34m.\u001b[0m\u001b[0mprint_method\u001b[0m\u001b[0;34m)\u001b[0m\u001b[0;34m\u001b[0m\u001b[0;34m\u001b[0m\u001b[0m\n\u001b[1;32m    344\u001b[0m             \u001b[0;32mif\u001b[0m \u001b[0mmethod\u001b[0m \u001b[0;32mis\u001b[0m \u001b[0;32mnot\u001b[0m \u001b[0;32mNone\u001b[0m\u001b[0;34m:\u001b[0m\u001b[0;34m\u001b[0m\u001b[0;34m\u001b[0m\u001b[0m\n\u001b[0;32m--> 345\u001b[0;31m                 \u001b[0;32mreturn\u001b[0m \u001b[0mmethod\u001b[0m\u001b[0;34m(\u001b[0m\u001b[0;34m)\u001b[0m\u001b[0;34m\u001b[0m\u001b[0;34m\u001b[0m\u001b[0m\n\u001b[0m\u001b[1;32m    346\u001b[0m             \u001b[0;32mreturn\u001b[0m \u001b[0;32mNone\u001b[0m\u001b[0;34m\u001b[0m\u001b[0;34m\u001b[0m\u001b[0m\n\u001b[1;32m    347\u001b[0m         \u001b[0;32melse\u001b[0m\u001b[0;34m:\u001b[0m\u001b[0;34m\u001b[0m\u001b[0;34m\u001b[0m\u001b[0m\n",
      "\u001b[0;32m~/fastai-audio/exp/nb_DataBlock.py\u001b[0m in \u001b[0;36m_repr_html_\u001b[0;34m(self)\u001b[0m\n\u001b[1;32m     26\u001b[0m         \u001b[0;32melse\u001b[0m\u001b[0;34m:\u001b[0m \u001b[0;32mreturn\u001b[0m \u001b[0;34mf'{type(self.data)}: {self.data.shape}'\u001b[0m\u001b[0;34m\u001b[0m\u001b[0;34m\u001b[0m\u001b[0m\n\u001b[1;32m     27\u001b[0m     \u001b[0;32mdef\u001b[0m \u001b[0m__len__\u001b[0m\u001b[0;34m(\u001b[0m\u001b[0mself\u001b[0m\u001b[0;34m)\u001b[0m\u001b[0;34m:\u001b[0m \u001b[0;32mreturn\u001b[0m \u001b[0mself\u001b[0m\u001b[0;34m.\u001b[0m\u001b[0mdata\u001b[0m\u001b[0;34m.\u001b[0m\u001b[0msig\u001b[0m\u001b[0;34m.\u001b[0m\u001b[0mshape\u001b[0m\u001b[0;34m[\u001b[0m\u001b[0;36m0\u001b[0m\u001b[0;34m]\u001b[0m\u001b[0;34m\u001b[0m\u001b[0;34m\u001b[0m\u001b[0m\n\u001b[0;32m---> 28\u001b[0;31m     \u001b[0;32mdef\u001b[0m \u001b[0m_repr_html_\u001b[0m\u001b[0;34m(\u001b[0m\u001b[0mself\u001b[0m\u001b[0;34m)\u001b[0m\u001b[0;34m:\u001b[0m \u001b[0;32mreturn\u001b[0m \u001b[0;34mf'{self.__str__()}<br />{self.ipy_audio._repr_html_()}'\u001b[0m\u001b[0;34m\u001b[0m\u001b[0;34m\u001b[0m\u001b[0m\n\u001b[0m\u001b[1;32m     29\u001b[0m \u001b[0;34m\u001b[0m\u001b[0m\n\u001b[1;32m     30\u001b[0m     \u001b[0;32mdef\u001b[0m \u001b[0mshow\u001b[0m\u001b[0;34m(\u001b[0m\u001b[0mself\u001b[0m\u001b[0;34m,\u001b[0m \u001b[0mtitle\u001b[0m\u001b[0;34m:\u001b[0m\u001b[0mOptional\u001b[0m\u001b[0;34m[\u001b[0m\u001b[0mstr\u001b[0m\u001b[0;34m]\u001b[0m\u001b[0;34m=\u001b[0m\u001b[0;32mNone\u001b[0m\u001b[0;34m,\u001b[0m \u001b[0;34m**\u001b[0m\u001b[0mkwargs\u001b[0m\u001b[0;34m)\u001b[0m\u001b[0;34m:\u001b[0m\u001b[0;34m\u001b[0m\u001b[0;34m\u001b[0m\u001b[0m\n",
      "\u001b[0;32m~/fastai-audio/exp/nb_DataBlock.py\u001b[0m in \u001b[0;36mipy_audio\u001b[0;34m(self)\u001b[0m\n\u001b[1;32m     47\u001b[0m     \u001b[0;34m@\u001b[0m\u001b[0mproperty\u001b[0m\u001b[0;34m\u001b[0m\u001b[0;34m\u001b[0m\u001b[0m\n\u001b[1;32m     48\u001b[0m     \u001b[0;32mdef\u001b[0m \u001b[0mipy_audio\u001b[0m\u001b[0;34m(\u001b[0m\u001b[0mself\u001b[0m\u001b[0;34m)\u001b[0m\u001b[0;34m:\u001b[0m\u001b[0;34m\u001b[0m\u001b[0;34m\u001b[0m\u001b[0m\n\u001b[0;32m---> 49\u001b[0;31m         \u001b[0;32mreturn\u001b[0m \u001b[0mAudio\u001b[0m\u001b[0;34m(\u001b[0m\u001b[0mdata\u001b[0m\u001b[0;34m=\u001b[0m\u001b[0mself\u001b[0m\u001b[0;34m.\u001b[0m\u001b[0mdata\u001b[0m\u001b[0;34m.\u001b[0m\u001b[0msig\u001b[0m\u001b[0;34m,\u001b[0m \u001b[0mrate\u001b[0m\u001b[0;34m=\u001b[0m\u001b[0mself\u001b[0m\u001b[0;34m.\u001b[0m\u001b[0mdata\u001b[0m\u001b[0;34m.\u001b[0m\u001b[0msr\u001b[0m\u001b[0;34m)\u001b[0m\u001b[0;34m\u001b[0m\u001b[0;34m\u001b[0m\u001b[0m\n\u001b[0m\u001b[1;32m     50\u001b[0m \u001b[0;34m\u001b[0m\u001b[0m\n\u001b[1;32m     51\u001b[0m     \u001b[0;34m@\u001b[0m\u001b[0mproperty\u001b[0m\u001b[0;34m\u001b[0m\u001b[0;34m\u001b[0m\u001b[0m\n",
      "\u001b[0;31mNameError\u001b[0m: name 'Audio' is not defined"
     ]
    },
    {
     "data": {
      "text/plain": [
       "AudioItem AudioItem: 2.3744375sec (37991 @ 16000hz)."
      ]
     },
     "metadata": {},
     "output_type": "display_data"
    }
   ],
   "source": [
    "def test_AudioList_from_folder():\n",
    "    p = path/'TRAIN'\n",
    "\n",
    "    #Create AudioList\n",
    "    ils = AudioList.from_folder(p)\n",
    "    \n",
    "    #Test an item\n",
    "    i=4\n",
    "    a = ils.get(i)\n",
    "    print(a.data.sig.shape, a.data.sr)\n",
    "    display(a)\n",
    "\n",
    "test_AudioList_from_folder()"
   ]
  },
  {
   "cell_type": "code",
   "execution_count": 528,
   "metadata": {},
   "outputs": [
    {
     "data": {
      "text/html": [
       "<div>\n",
       "<style scoped>\n",
       "    .dataframe tbody tr th:only-of-type {\n",
       "        vertical-align: middle;\n",
       "    }\n",
       "\n",
       "    .dataframe tbody tr th {\n",
       "        vertical-align: top;\n",
       "    }\n",
       "\n",
       "    .dataframe thead th {\n",
       "        text-align: right;\n",
       "    }\n",
       "</style>\n",
       "<table border=\"1\" class=\"dataframe\">\n",
       "  <thead>\n",
       "    <tr style=\"text-align: right;\">\n",
       "      <th></th>\n",
       "      <th>FileName</th>\n",
       "      <th>SampleAndSr</th>\n",
       "    </tr>\n",
       "  </thead>\n",
       "  <tbody>\n",
       "    <tr>\n",
       "      <th>0</th>\n",
       "      <td>/home/jupyter/.fastai/data/timit/TEST/DR1/FAKS...</td>\n",
       "      <td>([[tensor(0.0002), tensor(-0.0002), tensor(-3....</td>\n",
       "    </tr>\n",
       "    <tr>\n",
       "      <th>1</th>\n",
       "      <td>/home/jupyter/.fastai/data/timit/TEST/DR1/FAKS...</td>\n",
       "      <td>([[tensor(6.1035e-05), tensor(0.0002), tensor(...</td>\n",
       "    </tr>\n",
       "    <tr>\n",
       "      <th>2</th>\n",
       "      <td>/home/jupyter/.fastai/data/timit/TEST/DR1/FAKS...</td>\n",
       "      <td>([[tensor(9.1553e-05), tensor(0.0002), tensor(...</td>\n",
       "    </tr>\n",
       "    <tr>\n",
       "      <th>3</th>\n",
       "      <td>/home/jupyter/.fastai/data/timit/TEST/DR1/FAKS...</td>\n",
       "      <td>([[tensor(9.1553e-05), tensor(6.1035e-05), ten...</td>\n",
       "    </tr>\n",
       "    <tr>\n",
       "      <th>4</th>\n",
       "      <td>/home/jupyter/.fastai/data/timit/TEST/DR1/FAKS...</td>\n",
       "      <td>([[tensor(3.0518e-05), tensor(0.0002), tensor(...</td>\n",
       "    </tr>\n",
       "  </tbody>\n",
       "</table>\n",
       "</div>"
      ],
      "text/plain": [
       "                                            FileName  \\\n",
       "0  /home/jupyter/.fastai/data/timit/TEST/DR1/FAKS...   \n",
       "1  /home/jupyter/.fastai/data/timit/TEST/DR1/FAKS...   \n",
       "2  /home/jupyter/.fastai/data/timit/TEST/DR1/FAKS...   \n",
       "3  /home/jupyter/.fastai/data/timit/TEST/DR1/FAKS...   \n",
       "4  /home/jupyter/.fastai/data/timit/TEST/DR1/FAKS...   \n",
       "\n",
       "                                         SampleAndSr  \n",
       "0  ([[tensor(0.0002), tensor(-0.0002), tensor(-3....  \n",
       "1  ([[tensor(6.1035e-05), tensor(0.0002), tensor(...  \n",
       "2  ([[tensor(9.1553e-05), tensor(0.0002), tensor(...  \n",
       "3  ([[tensor(9.1553e-05), tensor(6.1035e-05), ten...  \n",
       "4  ([[tensor(3.0518e-05), tensor(0.0002), tensor(...  "
      ]
     },
     "metadata": {},
     "output_type": "display_data"
    },
    {
     "name": "stdout",
     "output_type": "stream",
     "text": [
      "FileName: /home/jupyter/.fastai/data/timit/TEST/DR1/FAKS0/SX223.WAV\n",
      "torch.Size([49562]) 16000\n"
     ]
    },
    {
     "data": {
      "text/html": [
       "REPRESENTATION<br />\n",
       "                <audio controls=\"controls\" >\n",
       "                    <source src=\"data:audio/wav;base64,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\" type=\"audio/wav\" />\n",
       "                    Your browser does not support the audio element.\n",
       "                </audio>\n",
       "              "
      ],
      "text/plain": [
       "AudioItem REPRESENTATION"
      ]
     },
     "metadata": {},
     "output_type": "display_data"
    }
   ],
   "source": [
    "def test_AudioList_from_df_data_and_sr():\n",
    "    import glob\n",
    "    #Create Data Frame\n",
    "    df = pd.DataFrame(glob.glob(str(path/'**/*.WAV'), recursive=True)[:10])\n",
    "    df.columns = ['FileName']\n",
    "    df['SampleAndSr']=df['FileName'].apply(lambda n: torchaudio.load(n))\n",
    "    #df = df['tmp'].drop()\n",
    "    \n",
    "    display(df.head())\n",
    "\n",
    "    #Create AudioList\n",
    "    ils = AudioList.from_df(df, path, cols=['SampleAndSr'])\n",
    "    \n",
    "    #Test a item\n",
    "    i=4\n",
    "    print(f'FileName: {df.FileName[i]}')\n",
    "    a = ils.get(i)\n",
    "    print(a.data.sig.shape, a.data.sr)\n",
    "    display(a)\n",
    "\n",
    "test_AudioList_from_df_data_and_sr()"
   ]
  },
  {
   "cell_type": "markdown",
   "metadata": {},
   "source": [
    "### Sample AudioDataBunch Usage"
   ]
  },
  {
   "cell_type": "code",
   "execution_count": 529,
   "metadata": {},
   "outputs": [
    {
     "data": {
      "text/html": [
       "<div>\n",
       "<style scoped>\n",
       "    .dataframe tbody tr th:only-of-type {\n",
       "        vertical-align: middle;\n",
       "    }\n",
       "\n",
       "    .dataframe tbody tr th {\n",
       "        vertical-align: top;\n",
       "    }\n",
       "\n",
       "    .dataframe thead th {\n",
       "        text-align: right;\n",
       "    }\n",
       "</style>\n",
       "<table border=\"1\" class=\"dataframe\">\n",
       "  <thead>\n",
       "    <tr style=\"text-align: right;\">\n",
       "      <th></th>\n",
       "      <th>Start</th>\n",
       "      <th>End</th>\n",
       "      <th>Phn</th>\n",
       "      <th>SampleAndSr</th>\n",
       "      <th>Source</th>\n",
       "    </tr>\n",
       "  </thead>\n",
       "  <tbody>\n",
       "    <tr>\n",
       "      <th>0</th>\n",
       "      <td>0</td>\n",
       "      <td>2040</td>\n",
       "      <td>h#</td>\n",
       "      <td>([tensor(-0.0004), tensor(-3.0518e-05), tensor...</td>\n",
       "      <td>/home/jupyter/.fastai/data/timit/TRAIN/DR1/MRW...</td>\n",
       "    </tr>\n",
       "    <tr>\n",
       "      <th>1</th>\n",
       "      <td>2040</td>\n",
       "      <td>2631</td>\n",
       "      <td>w</td>\n",
       "      <td>([tensor(3.0518e-05), tensor(0.0001), tensor(0...</td>\n",
       "      <td>/home/jupyter/.fastai/data/timit/TRAIN/DR1/MRW...</td>\n",
       "    </tr>\n",
       "    <tr>\n",
       "      <th>2</th>\n",
       "      <td>2631</td>\n",
       "      <td>3258</td>\n",
       "      <td>ih</td>\n",
       "      <td>([tensor(0.0015), tensor(-0.0002), tensor(-0.0...</td>\n",
       "      <td>/home/jupyter/.fastai/data/timit/TRAIN/DR1/MRW...</td>\n",
       "    </tr>\n",
       "    <tr>\n",
       "      <th>3</th>\n",
       "      <td>3258</td>\n",
       "      <td>3509</td>\n",
       "      <td>nx</td>\n",
       "      <td>([tensor(0.0076), tensor(0.0072), tensor(0.005...</td>\n",
       "      <td>/home/jupyter/.fastai/data/timit/TRAIN/DR1/MRW...</td>\n",
       "    </tr>\n",
       "    <tr>\n",
       "      <th>4</th>\n",
       "      <td>3509</td>\n",
       "      <td>6015</td>\n",
       "      <td>ao</td>\n",
       "      <td>([tensor(0.0397), tensor(0.0306), tensor(0.022...</td>\n",
       "      <td>/home/jupyter/.fastai/data/timit/TRAIN/DR1/MRW...</td>\n",
       "    </tr>\n",
       "  </tbody>\n",
       "</table>\n",
       "</div>"
      ],
      "text/plain": [
       "   Start   End Phn                                        SampleAndSr  \\\n",
       "0      0  2040  h#  ([tensor(-0.0004), tensor(-3.0518e-05), tensor...   \n",
       "1   2040  2631   w  ([tensor(3.0518e-05), tensor(0.0001), tensor(0...   \n",
       "2   2631  3258  ih  ([tensor(0.0015), tensor(-0.0002), tensor(-0.0...   \n",
       "3   3258  3509  nx  ([tensor(0.0076), tensor(0.0072), tensor(0.005...   \n",
       "4   3509  6015  ao  ([tensor(0.0397), tensor(0.0306), tensor(0.022...   \n",
       "\n",
       "                                              Source  \n",
       "0  /home/jupyter/.fastai/data/timit/TRAIN/DR1/MRW...  \n",
       "1  /home/jupyter/.fastai/data/timit/TRAIN/DR1/MRW...  \n",
       "2  /home/jupyter/.fastai/data/timit/TRAIN/DR1/MRW...  \n",
       "3  /home/jupyter/.fastai/data/timit/TRAIN/DR1/MRW...  \n",
       "4  /home/jupyter/.fastai/data/timit/TRAIN/DR1/MRW...  "
      ]
     },
     "execution_count": 529,
     "metadata": {},
     "output_type": "execute_result"
    }
   ],
   "source": [
    "import glob\n",
    "\n",
    "def process_phn_file(p_file, sig, sr, delimiter=' '):\n",
    "    df = pd.read_csv(p_file, delimiter=delimiter, header=None)\n",
    "    df.columns = ['Start', 'End', 'Phn']\n",
    "    df['SampleAndSr'] = df.apply(lambda x : (sig[-1][x['Start']: x['End']], sr), axis=1)\n",
    "    return df\n",
    "\n",
    "def create_phn_df(path, count=100):\n",
    "    phns = []\n",
    "    final = pd.DataFrame()\n",
    "\n",
    "    for phn_file in glob.glob(str(path/'**/*.PHN'), recursive=True)[:count]:\n",
    "        sig,sr = torchaudio.load(str(phn_file.replace('PHN', 'WAV')))\n",
    "        df = process_phn_file(phn_file, sig, sr, delimiter=' ')\n",
    "        df['Source'] = phn_file\n",
    "        final = final.append(df, ignore_index=True)\n",
    "    return df\n",
    "\n",
    "df = create_phn_df(path/'TRAIN')\n",
    "df.head()"
   ]
  },
  {
   "cell_type": "code",
   "execution_count": 530,
   "metadata": {},
   "outputs": [
    {
     "name": "stdout",
     "output_type": "stream",
     "text": [
      "<class '__main__.AudioList'>\n"
     ]
    }
   ],
   "source": [
    "step0 = AudioList.from_df(df, path, cols=['SampleAndSr']); print(type(step0))"
   ]
  },
  {
   "cell_type": "code",
   "execution_count": 531,
   "metadata": {},
   "outputs": [
    {
     "data": {
      "text/plain": [
       "AudioList (21 items)\n",
       "REPRESENTATION,REPRESENTATION,REPRESENTATION,REPRESENTATION,REPRESENTATION\n",
       "Path: /home/jupyter/.fastai/data/timit"
      ]
     },
     "execution_count": 531,
     "metadata": {},
     "output_type": "execute_result"
    }
   ],
   "source": [
    "step0"
   ]
  },
  {
   "cell_type": "code",
   "execution_count": 532,
   "metadata": {},
   "outputs": [
    {
     "name": "stdout",
     "output_type": "stream",
     "text": [
      "Result type: <class 'fastai.data_block.ItemLists'>, Type of Items: <class '__main__.AudioList'>\n"
     ]
    }
   ],
   "source": [
    "step1 = step0.split_by_rand_pct(0.1, seed=1);\n",
    "print(f'Result type: {type(step1)}, Type of Items: {type(step1.lists[0])}')"
   ]
  },
  {
   "cell_type": "code",
   "execution_count": 533,
   "metadata": {},
   "outputs": [
    {
     "name": "stdout",
     "output_type": "stream",
     "text": [
      "Result type: <class 'fastai.data_block.LabelLists'>\n"
     ]
    }
   ],
   "source": [
    "step2 = step1.label_from_df('Phn');\n",
    "print(f'Result type: {type(step2)}')"
   ]
  },
  {
   "cell_type": "code",
   "execution_count": 534,
   "metadata": {
    "collapsed": true
   },
   "outputs": [],
   "source": [
    "#Export\n",
    "def get_audio_transforms(spectro:bool=False,\n",
    "                         white_noise:bool=True,\n",
    "                         modulate_volume:bool=True,\n",
    "                         random_cutout:bool=True,\n",
    "                         pad_with_silence:bool=True,\n",
    "                         pitch_warp:bool=True,\n",
    "                         down_and_up:bool=True,\n",
    "                         mx_to_pad:int=1000,\n",
    "                         xtra_tfms:Optional[Collection[Transform]]=None,\n",
    "                         **kwargs)->Collection[Transform]:\n",
    "    \"Utility func to easily create a list of audio transforms.\"\n",
    "    res = []\n",
    "    if white_noise: res.append(partial(tfm_add_white_noise, noise_scl=0.005, **kwargs))\n",
    "    if modulate_volume: res.append(partial(tfm_modulate_volume, lower_gain=.1, upper_gain=1.2, **kwargs))\n",
    "    if random_cutout: res.append(partial(tfm_random_cutout, pct_to_cut=.15, **kwargs))\n",
    "    if pad_with_silence: res.append(partial(tfm_pad_with_silence, pct_to_pad=.15, min_to_pad=None, max_to_pad=None, **kwargs))\n",
    "    if pitch_warp: res.append(partial(tfm_pitch_warp, shift_by_pitch=None, bins_per_octave=12, **kwargs))\n",
    "    if down_and_up: res.append(partial(tfm_down_and_up, sr_divisor=2, **kwargs))\n",
    "    res.append(partial(tfm_pad_to_max, mx=mx_to_pad))\n",
    "    final_transform = tfm_extract_signal\n",
    "    if spectro: final_transform = tfm_spectro\n",
    "    res.append(final_transform)\n",
    "    #       train                   , valid\n",
    "    return (res + listify(xtra_tfms), [partial(tfm_pad_to_max, mx=mx_to_pad), final_transform])\n"
   ]
  },
  {
   "cell_type": "code",
   "execution_count": 535,
   "metadata": {
    "collapsed": true
   },
   "outputs": [],
   "source": [
    "batch_size = 8"
   ]
  },
  {
   "cell_type": "code",
   "execution_count": 536,
   "metadata": {},
   "outputs": [
    {
     "name": "stdout",
     "output_type": "stream",
     "text": [
      "<class 'fastai.data_block.LabelLists'>\n"
     ]
    }
   ],
   "source": [
    "tfms = get_audio_transforms()\n",
    "step3 = step2.transform(tfms);\n",
    "print(type(step3))"
   ]
  },
  {
   "cell_type": "code",
   "execution_count": 537,
   "metadata": {},
   "outputs": [
    {
     "name": "stdout",
     "output_type": "stream",
     "text": [
      "<class '__main__.AudioDataBunch'>\n"
     ]
    }
   ],
   "source": [
    "step4 = step3.databunch(bs=batch_size);\n",
    "print(type(step4))"
   ]
  },
  {
   "cell_type": "code",
   "execution_count": 538,
   "metadata": {},
   "outputs": [],
   "source": [
    "step4 = step3.databunch(bs=batch_size);\n",
    "step4;"
   ]
  },
  {
   "cell_type": "code",
   "execution_count": 539,
   "metadata": {},
   "outputs": [
    {
     "name": "stdout",
     "output_type": "stream",
     "text": [
      "8 torch.Size([8, 1000])\n"
     ]
    }
   ],
   "source": [
    "max_len = 1000\n",
    "datablock = step4\n",
    "batch = datablock.one_batch()\n",
    "print(len(batch[0]), batch[0].shape)\n",
    "assert batch_size == len(batch[0])\n",
    "assert max_len == batch[0].shape[1]"
   ]
  },
  {
   "cell_type": "markdown",
   "metadata": {},
   "source": [
    "# Export"
   ]
  },
  {
   "cell_type": "code",
   "execution_count": 540,
   "metadata": {},
   "outputs": [
    {
     "name": "stdout",
     "output_type": "stream",
     "text": [
      "Converted DataBlock.ipynb to nb_DataBlock.py\n"
     ]
    }
   ],
   "source": [
    "!python notebook2script.py DataBlock.ipynb"
   ]
  },
  {
   "cell_type": "code",
   "execution_count": null,
   "metadata": {
    "collapsed": true
   },
   "outputs": [],
   "source": []
  }
 ],
 "metadata": {
  "kernelspec": {
   "display_name": "Python [conda env:fastai-audio]",
   "language": "python",
   "name": "conda-env-fastai-audio-py"
  },
  "language_info": {
   "codemirror_mode": {
    "name": "ipython",
    "version": 3
   },
   "file_extension": ".py",
   "mimetype": "text/x-python",
   "name": "python",
   "nbconvert_exporter": "python",
   "pygments_lexer": "ipython3",
   "version": "3.7.2"
  },
  "varInspector": {
   "cols": {
    "lenName": 16,
    "lenType": 16,
    "lenVar": 40
   },
   "kernels_config": {
    "python": {
     "delete_cmd_postfix": "",
     "delete_cmd_prefix": "del ",
     "library": "var_list.py",
     "varRefreshCmd": "print(var_dic_list())"
    },
    "r": {
     "delete_cmd_postfix": ") ",
     "delete_cmd_prefix": "rm(",
     "library": "var_list.r",
     "varRefreshCmd": "cat(var_dic_list()) "
    }
   },
   "types_to_exclude": [
    "module",
    "function",
    "builtin_function_or_method",
    "instance",
    "_Feature"
   ],
   "window_display": false
  }
 },
 "nbformat": 4,
 "nbformat_minor": 2
}
