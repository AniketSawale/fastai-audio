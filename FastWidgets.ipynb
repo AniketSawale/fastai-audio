{
 "cells": [
  {
   "cell_type": "markdown",
   "metadata": {},
   "source": [
    "# Fast Widgets\n",
    "Collection of easy to use widgets"
   ]
  },
  {
   "cell_type": "code",
   "execution_count": 1,
   "metadata": {},
   "outputs": [],
   "source": [
    "%load_ext autoreload\n",
    "%autoreload 2\n",
    "%matplotlib inline"
   ]
  },
  {
   "cell_type": "code",
   "execution_count": 2,
   "metadata": {},
   "outputs": [],
   "source": [
    "#Export\n",
    "\n",
    "#Internal dependencies\n",
    "from exp.nb_AudioCommon import * "
   ]
  },
  {
   "cell_type": "code",
   "execution_count": 3,
   "metadata": {},
   "outputs": [],
   "source": [
    "#Export\n",
    "import ipywidgets as widgets\n",
    "from fastai.vision import Image\n",
    "from fastai.datasets import datapath4file\n",
    "from fastai.datasets import untar_data\n",
    "from IPython.display import Audio\n",
    "import torch"
   ]
  },
  {
   "cell_type": "markdown",
   "metadata": {},
   "source": [
    "## Common Widgets"
   ]
  },
  {
   "cell_type": "markdown",
   "metadata": {},
   "source": [
    "### Label"
   ]
  },
  {
   "cell_type": "code",
   "execution_count": 4,
   "metadata": {},
   "outputs": [],
   "source": [
    "#Export\n",
    "def fastLabel(text:str, text_align='center', background_color='lightgray', color='black'):\n",
    "    text_align = text_align.lower()\n",
    "    #HACK! ipywidget override padding...\n",
    "    if 'left'==text_align: text = '&nbsp ' + text\n",
    "    if 'right'==text_align: text = text + ' &nbsp'\n",
    "        \n",
    "    style = f'\"background-color:{background_color};color:{color};text-align:{text_align};\"'\n",
    "    html = f'<div style={style}>{text}</div>'\n",
    "    return widgets.HTML(value=html, layout=widgets.Layout(width='auto', height='auto', margin='0 0 0 0'))"
   ]
  },
  {
   "cell_type": "code",
   "execution_count": 5,
   "metadata": {},
   "outputs": [
    {
     "data": {
      "application/vnd.jupyter.widget-view+json": {
       "model_id": "0659c14f33fb4ab4bdbedf5f0b482782",
       "version_major": 2,
       "version_minor": 0
      },
      "text/plain": [
       "HTML(value='<div style=\"background-color:lightgray;color:black;text-align:center;\">DEFAULT</div>', layout=Layo…"
      ]
     },
     "metadata": {},
     "output_type": "display_data"
    },
    {
     "data": {
      "application/vnd.jupyter.widget-view+json": {
       "model_id": "d2099d4713984908ad49a3e28f037b28",
       "version_major": 2,
       "version_minor": 0
      },
      "text/plain": [
       "HTML(value='<div style=\"background-color:none;color:black;text-align:center;\">NO BACKGROUND</div>', layout=Lay…"
      ]
     },
     "metadata": {},
     "output_type": "display_data"
    },
    {
     "data": {
      "application/vnd.jupyter.widget-view+json": {
       "model_id": "ce46c01d29cb4733a2207e96de2d4902",
       "version_major": 2,
       "version_minor": 0
      },
      "text/plain": [
       "HTML(value='<div style=\"background-color:None;color:black;text-align:center;\">NO BACKGROUND</div>', layout=Lay…"
      ]
     },
     "metadata": {},
     "output_type": "display_data"
    },
    {
     "data": {
      "application/vnd.jupyter.widget-view+json": {
       "model_id": "5c0010a484fb44e494994dc716295c0d",
       "version_major": 2,
       "version_minor": 0
      },
      "text/plain": [
       "HTML(value='<div style=\"background-color:RED;color:white;text-align:center;\">WHITE ON RED</div>', layout=Layou…"
      ]
     },
     "metadata": {},
     "output_type": "display_data"
    },
    {
     "data": {
      "application/vnd.jupyter.widget-view+json": {
       "model_id": "7ef82fa6e7574006988f06ecd55caa64",
       "version_major": 2,
       "version_minor": 0
      },
      "text/plain": [
       "HTML(value='<div style=\"background-color:lightgray;color:black;text-align:left;\">&nbsp LEFT</div>', layout=Lay…"
      ]
     },
     "metadata": {},
     "output_type": "display_data"
    },
    {
     "data": {
      "application/vnd.jupyter.widget-view+json": {
       "model_id": "912f36b5d6b24a59bf644807d8982496",
       "version_major": 2,
       "version_minor": 0
      },
      "text/plain": [
       "HTML(value='<div style=\"background-color:lightgray;color:black;text-align:right;\">RIGHT &nbsp</div>', layout=L…"
      ]
     },
     "metadata": {},
     "output_type": "display_data"
    }
   ],
   "source": [
    "def test_fastLabel():\n",
    "    display(fastLabel('DEFAULT'))\n",
    "    display(fastLabel('NO BACKGROUND', background_color='none'))\n",
    "    display(fastLabel('NO BACKGROUND', background_color=None))\n",
    "    display(fastLabel('WHITE ON RED', color='white', background_color='RED')) # case does not matters...\n",
    "    display(fastLabel('LEFT', text_align='left'))\n",
    "    display(fastLabel('RIGHT', text_align='right'))\n",
    "    \n",
    "test_fastLabel()"
   ]
  },
  {
   "cell_type": "markdown",
   "metadata": {},
   "source": [
    "### Card"
   ]
  },
  {
   "cell_type": "code",
   "execution_count": 6,
   "metadata": {},
   "outputs": [],
   "source": [
    "#Export\n",
    "def fastCard(title:str, w=None, hasBorder=True, title_background_color='lightgray', color='black', text_align='center'):\n",
    "    '''Returns a widget that \"wraps\" the widget <w> with a box'''\n",
    "    props = dict(display='flex',\n",
    "                flex_flow='column',\n",
    "                align_items='stretch',\n",
    "                width='100%',\n",
    "                grid_gap='0px 0px')\n",
    "    if hasBorder: \n",
    "        props['border']='solid'\n",
    "    box_layout = widgets.Layout(**props)\n",
    "    \n",
    "    lblw = fastLabel(title, background_color=title_background_color, text_align=text_align, color=color)\n",
    "    \n",
    "    if w: \n",
    "        return widgets.VBox(children=[lblw,w], layout=box_layout)\n",
    "    else:\n",
    "        return widgets.VBox(children=[lblw], layout=box_layout)        "
   ]
  },
  {
   "cell_type": "code",
   "execution_count": 7,
   "metadata": {},
   "outputs": [
    {
     "data": {
      "application/vnd.jupyter.widget-view+json": {
       "model_id": "3390c494d4414548a281beb9951adeb4",
       "version_major": 2,
       "version_minor": 0
      },
      "text/plain": [
       "VBox(children=(HTML(value='<div style=\"background-color:lightgray;color:black;text-align:center;\">hello</div>'…"
      ]
     },
     "metadata": {},
     "output_type": "display_data"
    },
    {
     "data": {
      "application/vnd.jupyter.widget-view+json": {
       "model_id": "c84e4c4c21a94c949619f61c201544c1",
       "version_major": 2,
       "version_minor": 0
      },
      "text/plain": [
       "VBox(children=(HTML(value='<div style=\"background-color:lightgray;color:black;text-align:center;\">hello - no b…"
      ]
     },
     "metadata": {},
     "output_type": "display_data"
    },
    {
     "data": {
      "application/vnd.jupyter.widget-view+json": {
       "model_id": "8c102a9bfbc14953a269baac0dfe928e",
       "version_major": 2,
       "version_minor": 0
      },
      "text/plain": [
       "VBox(children=(HTML(value='<div style=\"background-color:lightgray;color:black;text-align:center;\">hello - no e…"
      ]
     },
     "metadata": {},
     "output_type": "display_data"
    },
    {
     "data": {
      "application/vnd.jupyter.widget-view+json": {
       "model_id": "f4339a1dd2a54aba926cc643f2d2c91d",
       "version_major": 2,
       "version_minor": 0
      },
      "text/plain": [
       "VBox(children=(HTML(value='<div style=\"background-color:red;color:white;text-align:left;\">&nbsp white on red</…"
      ]
     },
     "metadata": {},
     "output_type": "display_data"
    },
    {
     "data": {
      "application/vnd.jupyter.widget-view+json": {
       "model_id": "f6a02b59a42847ab864878ff9ab91712",
       "version_major": 2,
       "version_minor": 0
      },
      "text/plain": [
       "VBox(children=(HTML(value='<div style=\"background-color:blue;color:orange;text-align:right;\">orange on blue &n…"
      ]
     },
     "metadata": {},
     "output_type": "display_data"
    },
    {
     "data": {
      "application/vnd.jupyter.widget-view+json": {
       "model_id": "858e366cc44f4f6298aa029e4b43d7c8",
       "version_major": 2,
       "version_minor": 0
      },
      "text/plain": [
       "VBox(children=(HTML(value='<div style=\"background-color:none;color:blue;text-align:center;\">blue on transparen…"
      ]
     },
     "metadata": {},
     "output_type": "display_data"
    }
   ],
   "source": [
    "def test_fastCard():\n",
    "    out = fastCard('hello',widgets.Label('world'))\n",
    "    display(out)\n",
    "    # No border\n",
    "    display(fastCard('hello - no border',widgets.Label('world'), hasBorder=False))\n",
    "    # No content\n",
    "    display(fastCard('hello - no elements inside',None))\n",
    "    # Style\n",
    "    display(fastCard('white on red',widgets.Label('world'), text_align='left', title_background_color='red', color='white'))\n",
    "    display(fastCard('orange on blue',widgets.Label('world'), text_align='right', title_background_color='blue', color='orange'))\n",
    "    display(fastCard('blue on transparent',widgets.Label('world'), text_align='center', title_background_color='none', color='blue'))\n",
    "    \n",
    "test_fastCard()"
   ]
  },
  {
   "cell_type": "markdown",
   "metadata": {},
   "source": [
    "### Image"
   ]
  },
  {
   "cell_type": "code",
   "execution_count": 8,
   "metadata": {},
   "outputs": [],
   "source": [
    "#Export\n",
    "def getImageWidget(img):\n",
    "    out = widgets.Output()\n",
    "    with out:\n",
    "        display(Image(img))\n",
    "    return out"
   ]
  },
  {
   "cell_type": "code",
   "execution_count": 9,
   "metadata": {},
   "outputs": [
    {
     "data": {
      "application/vnd.jupyter.widget-view+json": {
       "model_id": "7bc3f08230d24c2c8ddb86968dd1e388",
       "version_major": 2,
       "version_minor": 0
      },
      "text/plain": [
       "Output()"
      ]
     },
     "metadata": {},
     "output_type": "display_data"
    }
   ],
   "source": [
    "def test_getImageWidget():\n",
    "    img = torch.zeros((1,100,200))\n",
    "    out = getImageWidget(img)\n",
    "    display(out)\n",
    "    \n",
    "test_getImageWidget()"
   ]
  },
  {
   "cell_type": "markdown",
   "metadata": {},
   "source": [
    "### Transforms list"
   ]
  },
  {
   "cell_type": "code",
   "execution_count": 10,
   "metadata": {},
   "outputs": [],
   "source": [
    "#Export \n",
    "def getTransformsWidget(tfms):\n",
    "    items = []\n",
    "    for i,t in enumerate(tfms):\n",
    "        items.append(widgets.Label(f'{i}:\\t' + str(t)))\n",
    "    return widgets.VBox(children=items)    "
   ]
  },
  {
   "cell_type": "code",
   "execution_count": 11,
   "metadata": {},
   "outputs": [
    {
     "data": {
      "application/vnd.jupyter.widget-view+json": {
       "model_id": "660b58dfb9f743fd9e2e4b1ad4b8e919",
       "version_major": 2,
       "version_minor": 0
      },
      "text/plain": [
       "VBox(children=(Label(value='0:\\tabcd'), Label(value='1:\\tcdef'), Label(value='2:\\tzzz')))"
      ]
     },
     "metadata": {},
     "output_type": "display_data"
    },
    {
     "data": {
      "application/vnd.jupyter.widget-view+json": {
       "model_id": "376e0ae29038406ebc1b577e89d6b407",
       "version_major": 2,
       "version_minor": 0
      },
      "text/plain": [
       "VBox(children=(HTML(value='<div style=\"background-color:lightgray;color:black;text-align:center;\">TFMS</div>',…"
      ]
     },
     "metadata": {},
     "output_type": "display_data"
    }
   ],
   "source": [
    "def test_getTransformsWidget():\n",
    "    tfms = ['abcd','cdef','zzz']\n",
    "    display(getTransformsWidget(tfms))\n",
    "    display(fastCard('TFMS',getTransformsWidget(tfms)))\n",
    "    \n",
    "test_getTransformsWidget()"
   ]
  },
  {
   "cell_type": "markdown",
   "metadata": {},
   "source": [
    "### Audio Widgets"
   ]
  },
  {
   "cell_type": "code",
   "execution_count": 12,
   "metadata": {},
   "outputs": [],
   "source": [
    "# Download data in fast.ai format (thnx @Thom)\n",
    "data_url = 'http://www.openslr.org/resources/45/ST-AEDS-20180100_1-OS'\n",
    "path = datapath4file('ST-AEDS-20180100_1-OS')\n",
    "untar_data(data_url, dest = path)\n",
    "sampleFile = path.ls()[4]\n",
    "sampleSound = AudioData.load(sampleFile)"
   ]
  },
  {
   "cell_type": "code",
   "execution_count": 13,
   "metadata": {},
   "outputs": [],
   "source": [
    "#Export\n",
    "def getAudioWidget(ad:AudioData, lbl=None, text_align='left'):\n",
    "    out = widgets.Output()\n",
    "    if ad:\n",
    "        with out: \n",
    "            display(Audio(ad.sig,rate=ad.sr))\n",
    "    # if None = ad => nothing to display\n",
    "    if lbl: out = widgets.VBox(children=[fastLabel(lbl,background_color='none',text_align=text_align),out])\n",
    "    return out"
   ]
  },
  {
   "cell_type": "code",
   "execution_count": 14,
   "metadata": {},
   "outputs": [
    {
     "data": {
      "application/vnd.jupyter.widget-view+json": {
       "model_id": "8d8cf60ffc82470c9ba6f9c1771bd81e",
       "version_major": 2,
       "version_minor": 0
      },
      "text/plain": [
       "Output()"
      ]
     },
     "metadata": {},
     "output_type": "display_data"
    },
    {
     "data": {
      "application/vnd.jupyter.widget-view+json": {
       "model_id": "ba673c603936497aa51ac92b12deba28",
       "version_major": 2,
       "version_minor": 0
      },
      "text/plain": [
       "VBox(children=(HTML(value='<div style=\"background-color:none;color:black;text-align:left;\">&nbsp Test</div>', …"
      ]
     },
     "metadata": {},
     "output_type": "display_data"
    },
    {
     "data": {
      "application/vnd.jupyter.widget-view+json": {
       "model_id": "7ea81d36c4314825a6f27f2f13559eb3",
       "version_major": 2,
       "version_minor": 0
      },
      "text/plain": [
       "Output()"
      ]
     },
     "metadata": {},
     "output_type": "display_data"
    }
   ],
   "source": [
    "def test_getAudioWidget():\n",
    "    out = getAudioWidget(sampleSound)\n",
    "    display(out)\n",
    "    # With Label\n",
    "    display(getAudioWidget(sampleSound,'Test'))\n",
    "    # Nothing to display\n",
    "    display(getAudioWidget(None))\n",
    "\n",
    "test_getAudioWidget()"
   ]
  },
  {
   "cell_type": "markdown",
   "metadata": {},
   "source": [
    "# Export"
   ]
  },
  {
   "cell_type": "code",
   "execution_count": 15,
   "metadata": {},
   "outputs": [
    {
     "name": "stdout",
     "output_type": "stream",
     "text": [
      "Converted FastWidgets.ipynb to nb_FastWidgets.py\r\n"
     ]
    }
   ],
   "source": [
    "!python notebook2script.py FastWidgets.ipynb"
   ]
  },
  {
   "cell_type": "code",
   "execution_count": null,
   "metadata": {},
   "outputs": [],
   "source": []
  }
 ],
 "metadata": {
  "kernelspec": {
   "display_name": "Python 3",
   "language": "python",
   "name": "python3"
  },
  "language_info": {
   "codemirror_mode": {
    "name": "ipython",
    "version": 3
   },
   "file_extension": ".py",
   "mimetype": "text/x-python",
   "name": "python",
   "nbconvert_exporter": "python",
   "pygments_lexer": "ipython3",
   "version": "3.7.0"
  },
  "varInspector": {
   "cols": {
    "lenName": 16,
    "lenType": 16,
    "lenVar": 40
   },
   "kernels_config": {
    "python": {
     "delete_cmd_postfix": "",
     "delete_cmd_prefix": "del ",
     "library": "var_list.py",
     "varRefreshCmd": "print(var_dic_list())"
    },
    "r": {
     "delete_cmd_postfix": ") ",
     "delete_cmd_prefix": "rm(",
     "library": "var_list.r",
     "varRefreshCmd": "cat(var_dic_list()) "
    }
   },
   "types_to_exclude": [
    "module",
    "function",
    "builtin_function_or_method",
    "instance",
    "_Feature"
   ],
   "window_display": false
  }
 },
 "nbformat": 4,
 "nbformat_minor": 2
}
