{
 "cells": [
  {
   "cell_type": "markdown",
   "metadata": {},
   "source": [
    "# Transforms Group"
   ]
  },
  {
   "cell_type": "code",
   "execution_count": 1,
   "metadata": {},
   "outputs": [],
   "source": [
    "%load_ext autoreload\n",
    "%autoreload 2\n",
    "%matplotlib inline"
   ]
  },
  {
   "cell_type": "code",
   "execution_count": null,
   "metadata": {},
   "outputs": [],
   "source": [
    "#Export\n",
    "\n",
    "#Internal dependencies\n",
    "from exp.nb_AudioCommon import * \n",
    "from exp.nb_DataAugmentation import * "
   ]
  },
  {
   "cell_type": "markdown",
   "metadata": {},
   "source": [
    "## Common Functions "
   ]
  },
  {
   "cell_type": "code",
   "execution_count": null,
   "metadata": {},
   "outputs": [],
   "source": [
    "#Export\n",
    "import ipywidgets as widgets\n",
    "\n",
    "TfmsGroups = [TfmList]"
   ]
  },
  {
   "cell_type": "code",
   "execution_count": null,
   "metadata": {},
   "outputs": [],
   "source": [
    "#Export\n",
    "def flatten(x, flattenStrings=False):\n",
    "    '''Transforms [[x]] in [x]'''\n",
    "    if not flattenStrings:\n",
    "        if isinstance(x,str):\n",
    "            return [x]\n",
    "    if isinstance(x, collections.Iterable):\n",
    "        return [a for i in x for a in flatten(i)]\n",
    "    else:\n",
    "        return [x]"
   ]
  },
  {
   "cell_type": "code",
   "execution_count": null,
   "metadata": {},
   "outputs": [],
   "source": [
    "def test_flatten():\n",
    "    A=[[1,2],[3,4,5]]\n",
    "    assert [1,2,3,4,5] == flatten(A)\n",
    "    \n",
    "    B = [A]\n",
    "    assert [1,2,3,4,5] == flatten(B)\n",
    "\n",
    "    C = [[1,2],3,[4,5]]\n",
    "    assert [1,2,3,4,5] == flatten(C)\n",
    "    \n",
    "    print('DONE')\n",
    "\n",
    "test_flatten()"
   ]
  },
  {
   "cell_type": "code",
   "execution_count": null,
   "metadata": {},
   "outputs": [],
   "source": [
    "def test_flatten_with_string():\n",
    "    A='abcd'\n",
    "    assert ['abcd'] == flatten(A)\n",
    "\n",
    "    B=['ab','cd']\n",
    "    assert ['ab','cd'] == flatten(B)\n",
    "\n",
    "    C=[['hello'],' ',['world']]\n",
    "    assert ['hello',' ','world'] == flatten(C)\n",
    "\n",
    "    print('DONE')\n",
    "    \n",
    "test_flatten_with_string()"
   ]
  },
  {
   "cell_type": "code",
   "execution_count": null,
   "metadata": {
    "code_folding": []
   },
   "outputs": [],
   "source": [
    "#Export\n",
    "def getTfmList(g:TfmsGroups, up_to_grpup=None)->TfmList:\n",
    "    '''Returns transformations up to specified group included'''\n",
    "    grps = g if up_to_grpup is None else [x for i,x in enumerate(g) if i<=up_to_grpup] \n",
    "    ret = flatten(grps)\n",
    "    ret = [t for t in ret if []!=t] # filter none\n",
    "    return ret"
   ]
  },
  {
   "cell_type": "code",
   "execution_count": null,
   "metadata": {},
   "outputs": [],
   "source": [
    "def test_getTfmList():\n",
    "    g = [[torchaudio.transforms.Scale, torchaudio.transforms.PadTrim],[torchaudio.transforms.MEL]]\n",
    "    assert 3==len(getTfmList(g))\n",
    "    assert 2==len(getTfmList(g,0))\n",
    "    assert 3==len(getTfmList(g,1))\n",
    "    print('DONE')\n",
    "    \n",
    "test_getTfmList()"
   ]
  },
  {
   "cell_type": "code",
   "execution_count": null,
   "metadata": {},
   "outputs": [],
   "source": [
    "#Export\n",
    "def applyTfms(tfms:TfmList, x):\n",
    "    '''Apply a list of transformations'''\n",
    "    ret = x\n",
    "    for tfm in tfms:\n",
    "        ret = tfm(ret)\n",
    "    return ret"
   ]
  },
  {
   "cell_type": "markdown",
   "metadata": {},
   "source": [
    "## Custom Widgets"
   ]
  },
  {
   "cell_type": "code",
   "execution_count": null,
   "metadata": {},
   "outputs": [],
   "source": [
    "#Export\n",
    "def titleBox(title:str, w=None, hasBorder=True):\n",
    "    '''Returns a widget that \"wraps\" the widget <w> with a box'''\n",
    "    props = dict(display='flex',\n",
    "                flex_flow='column',\n",
    "                align_items='stretch',\n",
    "                width='100%')\n",
    "    if hasBorder: \n",
    "        props['border']='solid'\n",
    "    box_layout = widgets.Layout(**props)\n",
    "    centered_text = widgets.Layout(color='red')\n",
    "    lblw = widgets.Label(value=title, Layout=centered_text) # Should center align.. \n",
    "    if w: \n",
    "        return widgets.VBox(children=[lblw,w], layout=box_layout)\n",
    "    else:\n",
    "        return widgets.VBox(children=[lblw], layout=box_layout)        "
   ]
  },
  {
   "cell_type": "code",
   "execution_count": null,
   "metadata": {},
   "outputs": [],
   "source": [
    "def test_titleBox():\n",
    "    out = titleBox('hello',widgets.Label('world'))\n",
    "    display(out)\n",
    "    # No border\n",
    "    display(titleBox('hello - no border',widgets.Label('world'), hasBorder=False))\n",
    "    # No content\n",
    "    display(titleBox('hello - no elements inside',None))\n",
    "    \n",
    "test_titleBox()"
   ]
  },
  {
   "cell_type": "code",
   "execution_count": null,
   "metadata": {},
   "outputs": [],
   "source": [
    "#Export\n",
    "def getImageWidget(img):\n",
    "    out = widgets.Output()\n",
    "    with out:\n",
    "        display(Image(img))\n",
    "    return out"
   ]
  },
  {
   "cell_type": "code",
   "execution_count": null,
   "metadata": {},
   "outputs": [],
   "source": [
    "def test_getImageWidget():\n",
    "    img = torch.zeros(1,100,200)\n",
    "    out = getImageWidget(img)\n",
    "    display(out)\n",
    "    \n",
    "test_getImageWidget()"
   ]
  },
  {
   "cell_type": "code",
   "execution_count": null,
   "metadata": {},
   "outputs": [],
   "source": [
    "#Export \n",
    "def getTransformsWidget(tfms):\n",
    "    items = []\n",
    "    for i,t in enumerate(tfms):\n",
    "        items.append(widgets.Label(f'{i}:\\t' + str(t)))\n",
    "    return widgets.VBox(children=items)"
   ]
  },
  {
   "cell_type": "code",
   "execution_count": null,
   "metadata": {},
   "outputs": [],
   "source": [
    "def test_getTransformsWidget():\n",
    "    tfms = ['abcd','cdef','zzz']\n",
    "    display(getTransformsWidget(tfms))\n",
    "    \n",
    "test_getTransformsWidget()"
   ]
  },
  {
   "cell_type": "markdown",
   "metadata": {},
   "source": [
    "## Transformations Manager\n",
    "\n",
    "In all the situation where there are complex transformtations (ie: an augmented sound that becomes an image), TfmsManager can help you to **group transformations into meaningful groups that can be easily tested separately**.\n",
    "Once you've completed the fine tuning step of each group of transformations, **get_tfms()** consolidate your work and generates the final transform list compatible with fast.ai."
   ]
  },
  {
   "attachments": {
    "image.png": {
     "image/png": "[encoded data removed]"
    }
   },
   "cell_type": "markdown",
   "metadata": {},
   "source": [
    "![image.png](attachment:image.png)"
   ]
  },
  {
   "cell_type": "code",
   "execution_count": null,
   "metadata": {},
   "outputs": [],
   "source": [
    "#Export\n",
    "class TfmsManager:\n",
    "    def __init__(self, train_tfms_groups:TfmsGroups, valid_tfms_groups:TfmsGroups):\n",
    "        self.train_tfmsg, self.valid_tfmsg = listify(train_tfms_groups), listify(valid_tfms_groups)\n",
    "    \n",
    "    def get_tfms(self)->[TfmList,TfmList]:\n",
    "        return [self.get_train_tfms(up_to_grpup=None), self.get_valid_tfms(up_to_grpup=None)]\n",
    "\n",
    "#Training set functions\n",
    "    def get_train_tfms(self, up_to_grpup=None)->TfmList:\n",
    "        return getTfmList(self.train_tfmsg,up_to_grpup)    \n",
    "        \n",
    "    def apply_train_tfms(self, x, up_to_grpup=None):\n",
    "        return applyTfms(self.get_train_tfms(up_to_grpup),x)\n",
    "    \n",
    "#Validation set functions \n",
    "    def get_valid_tfms(self, up_to_grpup=None)->TfmList:\n",
    "        return getTfmList(self.valid_tfmsg,up_to_grpup)\n",
    "\n",
    "    def apply_valid_tfms(self, x, up_to_grpup=None):\n",
    "        return applyTfms(self.get_train_tfms(up_to_grpup),x)\n",
    "\n",
    "    @classmethod\n",
    "    def create_from_main_groups(cls, pre:TfmList, aug:TfmList, size:TfmList, post:TfmList):\n",
    "        '''Create TfmsManager from three main components:\n",
    "        + pre: pre data augmentation transforms\n",
    "        + aug: data augmentation transforms\n",
    "        + post: post data augmentation transforms\n",
    "        \n",
    "        NB: train_tfms = [pre,aug,size,post]\n",
    "            valid_tfms = [pe,size,post]\n",
    "        '''\n",
    "        return cls([pre,aug,size,post],[pre,size,post])"
   ]
  },
  {
   "cell_type": "markdown",
   "metadata": {},
   "source": [
    "**IMPORTANT**: to use TfmsManager with fast.ai use:\n",
    "\n",
    "```python\n",
    "tm = TfmsManager.create_from_main_groups(...)\n",
    "\n",
    "tfms = tm.get_tfms() # THIS ROW ADAPT THE TRANSFORMATIONS TO fast.ai\n",
    "\n",
    "data = (ImageList.from_folder(path) #Where to find the data? -> in path and its subfolders\n",
    "        .split_by_folder()              #How to split in train/valid? -> use the folders\n",
    "        .label_from_folder()            #How to label? -> depending on the folder of the filenames\n",
    "        .add_test_folder()              #Optionally add a test set (here default name is test)\n",
    "        .transform(tfms, size=64)       #Data augmentation? -> use tfms with a size of 64\n",
    "        .databunch())                   #Finally? -> use the defaults for conversion to ImageDataBunch\n",
    "```"
   ]
  },
  {
   "cell_type": "markdown",
   "metadata": {},
   "source": [
    "## Transformations Manager: customize for Audio"
   ]
  },
  {
   "cell_type": "markdown",
   "metadata": {},
   "source": [
    "### Audio sample data"
   ]
  },
  {
   "cell_type": "code",
   "execution_count": null,
   "metadata": {},
   "outputs": [],
   "source": [
    "# Download data in fast.ai format (thnx @Thom)\n",
    "data_url = 'http://www.openslr.org/resources/45/ST-AEDS-20180100_1-OS'\n",
    "path = datapath4file('ST-AEDS-20180100_1-OS')\n",
    "untar_data(data_url, dest = path)"
   ]
  },
  {
   "cell_type": "code",
   "execution_count": null,
   "metadata": {},
   "outputs": [],
   "source": [
    "sampleFile = path.ls()[4]\n",
    "sampleFile"
   ]
  },
  {
   "cell_type": "code",
   "execution_count": null,
   "metadata": {},
   "outputs": [],
   "source": [
    "sampleSound = AudioData.load(sampleFile)\n",
    "display(Audio(sampleSound.sig,rate=sampleSound.sr))"
   ]
  },
  {
   "cell_type": "markdown",
   "metadata": {},
   "source": [
    "### Audio Widgets"
   ]
  },
  {
   "cell_type": "code",
   "execution_count": null,
   "metadata": {},
   "outputs": [],
   "source": [
    "#Export\n",
    "def getAudioWidget(ad:AudioData):\n",
    "    out = widgets.Output()\n",
    "    if ad:\n",
    "        with out: \n",
    "            display(Audio(ad.sig,rate=ad.sr))\n",
    "    # if None = ad => nothing to display\n",
    "    return out"
   ]
  },
  {
   "cell_type": "code",
   "execution_count": null,
   "metadata": {},
   "outputs": [],
   "source": [
    "def test_getAudioWidget():\n",
    "    out = getAudioWidget(sampleSound)\n",
    "    display(out)\n",
    "    # Nothing to display\n",
    "    display(getAudioWidget(None))\n",
    "\n",
    "test_getAudioWidget()"
   ]
  },
  {
   "cell_type": "markdown",
   "metadata": {},
   "source": [
    "### AudioTfmsManager"
   ]
  },
  {
   "cell_type": "code",
   "execution_count": null,
   "metadata": {},
   "outputs": [],
   "source": [
    "t=widgets.Tab()\n",
    "t.set_title"
   ]
  },
  {
   "cell_type": "code",
   "execution_count": null,
   "metadata": {},
   "outputs": [],
   "source": [
    "#Export\n",
    "class AudioTfmsManager(TfmsManager):\n",
    "    \n",
    "    def try_data_augmentation(self,ad:AudioData, lbl:str=None, showResults=True, **kwargs)->AudioData:\n",
    "        '''Try to apply data augmentation only and show labels'''\n",
    "        tfms = self.get_train_tfms(2)\n",
    "        y=applyTfms(tfms,ad) # All tfms\n",
    "        if showResults: \n",
    "            out=widgets.Output()\n",
    "            with out:\n",
    "                self.showAudio(y,lbl,ad,**kwargs)\n",
    "            wTfms = getTransformsWidget(tfms)\n",
    "            tabs = widgets.Tab(children=[out,wTfms])\n",
    "            tabs.set_title(0,'RESULT')\n",
    "            tabs.set_title(1,'TFMS')\n",
    "            display(tabs)\n",
    "        return y\n",
    "\n",
    "    def try_spectrogram(self,ad:AudioData, lbl:str=None, showResults=True, **kwargs):\n",
    "        '''Apply all other tfms after data augmentation'''\n",
    "        tfms = getTfmList(self.train_tfmsg[2:])\n",
    "        y=applyTfms(tfms,ad) # All valid tfms - no data augmentation\n",
    "        if showResults: \n",
    "            out=widgets.Output()\n",
    "            with out:\n",
    "                self.showSpec(y,lbl,**kwargs)\n",
    "            wTfms = getTransformsWidget(tfms)\n",
    "            tabs = widgets.Tab(children=[out,wTfms])\n",
    "            tabs.set_title(0,'RESULT')\n",
    "            tabs.set_title(1,'TFMS')\n",
    "            display(tabs)\n",
    "        return y\n",
    "    \n",
    "    def try_train_tfms(self,ad:AudioData, lbl:str=None, showResults=True, **kwargs):\n",
    "        '''Try to apply all train transforms to an audio signal'''\n",
    "        y, yaug=None, None\n",
    "        #Aug\n",
    "        aug = widgets.Output()\n",
    "        with aug:\n",
    "            yaug=self.try_data_augmentation(ad,lbl=None,showResults=True,**kwargs)\n",
    "\n",
    "        spec = widgets.Output()\n",
    "        with spec:\n",
    "            y = self.try_spectrogram(yaug, lbl=None, **kwargs)\n",
    "        \n",
    "        wAug = titleBox('DATA AUGMENTATION:', aug)\n",
    "        wSpec = titleBox('SPECTROGRAM:', spec)\n",
    "\n",
    "        #wFooter = titleBox(f'TIME: {}')\n",
    "        \n",
    "        out = display(titleBox(lbl,widgets.VBox(children=[wAug,wSpec])))\n",
    "        display(out)\n",
    "        return y        \n",
    "    \n",
    "    def showAudio(self, dst:AudioData, lbl, src:AudioData=None, showSound=True, showPlot=True, showSource=True, **kwargs):\n",
    "        if showSound: \n",
    "            if(lbl): display(f'Label: {lbl}')\n",
    "            wSrc = getAudioWidget(src) # empty widget if none...\n",
    "            wDst = getAudioWidget(dst)\n",
    "            wrow = widgets.HBox(children = [wSrc, wDst])\n",
    "            display(wrow)\n",
    "        if showPlot:\n",
    "            if (src is not None) and showSource: plt.plot(src.sig, 'r')\n",
    "            if dst is not None: plt.plot(dst.sig, 'b')\n",
    "            plt.show() # Force chart to display\n",
    "\n",
    "    def showSpec(self, spec:torch.Tensor, lbl:str=None, **kwargs):\n",
    "        '''Shape Should be (n_channels,hh,ww)'''\n",
    "        if lbl: display(f'Label: {lbl}')\n",
    "        toShow = []\n",
    "        for i in range(spec.shape[0]):\n",
    "            img = spec[i,:,:].unsqueeze(0) # need to unsqueeze because Image whats 1xHxW\n",
    "            toShow.append(titleBox(f'C:{i}', getImageWidget(img)))\n",
    "        if toShow: display(widgets.HBox(children=toShow))\n",
    "            \n",
    "    @classmethod\n",
    "    def get_audio_tfms_manager(cls,\n",
    "                             spectro:bool=False,\n",
    "                             white_noise:bool=True,\n",
    "                             modulate_volume:bool=True,\n",
    "                             random_cutout:bool=True,\n",
    "                             pad_with_silence:bool=True,\n",
    "                             pitch_warp:bool=True,\n",
    "                             down_and_up:bool=True,\n",
    "                             mx_to_pad:int=1000,\n",
    "                             xtra_pre_tfms:TfmList=None,\n",
    "                             xtra_aug_tfms:TfmList=None,\n",
    "                             xtra_post_tfms:TfmList=None,\n",
    "                             **kwargs)->TfmsManager:\n",
    "        '''factory to create audio transforms manager.'''\n",
    "        pre = [] + listify(xtra_pre_tfms)\n",
    "        \n",
    "        aug = []\n",
    "        if white_noise: aug.append(partial(tfm_add_white_noise, **kwargs))\n",
    "        if modulate_volume: aug.append(partial(tfm_modulate_volume, **kwargs))\n",
    "        if random_cutout: aug.append(partial(tfm_random_cutout, **kwargs))\n",
    "        if pad_with_silence: aug.append(partial(tfm_pad_with_silence, **kwargs))\n",
    "        if pitch_warp: aug.append(partial(tfm_pitch_warp, **kwargs))\n",
    "        if down_and_up: aug.append(partial(tfm_down_and_up, **kwargs))\n",
    "        aug += listify(xtra_aug_tfms)\n",
    "\n",
    "        size = []\n",
    "        if mx_to_pad: size.append(partial(tfm_pad_to_max, mx=mx_to_pad))\n",
    "        \n",
    "        post = []\n",
    "        post += [partial(tfm_spectro, **kwargs) if spectro else partial(tfm_extract_signal, **kwargs)]\n",
    "        post += listify(xtra_post_tfms)\n",
    "        \n",
    "        return cls.create_from_main_groups(pre,aug,size,post)"
   ]
  },
  {
   "cell_type": "code",
   "execution_count": null,
   "metadata": {},
   "outputs": [],
   "source": [
    "#Show all results\n",
    "tm=AudioTfmsManager.get_audio_tfms_manager(\n",
    "                         spectro=True, n_mels=256, ws=300, n_fft=3200, to_db_scale=True,\n",
    "                         white_noise=True, noise_scl=.00052,\n",
    "                         modulate_volume=False,\n",
    "                         random_cutout=False,\n",
    "                         pad_with_silence=False,\n",
    "                         pitch_warp=False,\n",
    "                         down_and_up=False,\n",
    "                         mx_to_pad=32000)\n",
    "tm.try_train_tfms(sampleSound,'Show all');"
   ]
  },
  {
   "cell_type": "code",
   "execution_count": null,
   "metadata": {},
   "outputs": [],
   "source": []
  },
  {
   "cell_type": "code",
   "execution_count": null,
   "metadata": {},
   "outputs": [],
   "source": []
  },
  {
   "cell_type": "code",
   "execution_count": null,
   "metadata": {},
   "outputs": [],
   "source": [
    "def test_get_audio_tfms_manager():\n",
    "    tm=AudioTfmsManager.get_audio_tfms_manager()\n",
    "\n",
    "    # fast.ai integration\n",
    "    tfms = tm.get_tfms()\n",
    "    print('fast.ai tfms = ',tfms)\n",
    "    assert 2==len(tfms), 'tfms tuple for fast.ai'\n",
    "    assert 8==len(tfms[0]), 'train transformations'\n",
    "    assert 2==len(tfms[1]), 'valid transformations'\n",
    "    \n",
    "    assert 8==len(tm.get_train_tfms())\n",
    "    assert 2==len(tm.get_valid_tfms())\n",
    "    assert 7==len(tm.get_train_tfms(2)) # data augmentation -> pre+aug\n",
    "    \n",
    "    tm=AudioTfmsManager.get_audio_tfms_manager(\n",
    "                         spectro=True,\n",
    "                         white_noise=False,\n",
    "                         modulate_volume=False,\n",
    "                         random_cutout=False,\n",
    "                         pad_with_silence=False,\n",
    "                         pitch_warp=False,\n",
    "                         down_and_up=False,\n",
    "                         mx_to_pad=1000)\n",
    "    assert 2==len(tm.get_train_tfms())\n",
    "    assert 2==len(tm.get_valid_tfms())\n",
    "\n",
    "    print('DONE')\n",
    "    \n",
    "test_get_audio_tfms_manager()"
   ]
  },
  {
   "cell_type": "markdown",
   "metadata": {},
   "source": [
    "### SAMPLE USAGE FOR AUDIO\n",
    "Pretend that you want identify who is talking in a registratio. This is a tipical classificaiton problem. A way to address this problem is taking the first 2 seconds of the original sound, converting it into a MEL spectrogram and feed a CNN to classify it as it was an image.\n",
    "\n",
    "If you want to improve the performance and the generalization of your model, one simple way is to use data augmentation, like on images.\n",
    "The problem with sound is that you need to make the data augmentation (**AUG**) on the original sound, and to understand if you're doing this correctly you need to \"HEAR\" (listen) and \"VIEW\" (plot soundwave) your augmented sound.\n",
    "Moreover, once you're sure about your data augmentation, you need to tune your spectrogram (**POST**) in such way that you're preserve as much information as possible for the next steps.\n",
    "\n",
    "TfmsManager can help you in all this steps, so you can create and test independently all the transformation groups that you need. "
   ]
  },
  {
   "attachments": {
    "image.png": {
     "image/png": "[encoded data removed]"
    }
   },
   "cell_type": "markdown",
   "metadata": {},
   "source": [
    "![image.png](attachment:image.png)"
   ]
  },
  {
   "cell_type": "markdown",
   "metadata": {},
   "source": [
    "Download some test data..."
   ]
  },
  {
   "cell_type": "markdown",
   "metadata": {},
   "source": [
    "### TfmsManager sample usage:\n",
    "With AudioTfmsManager you can easily test separately all your transformation groups:\n",
    "* DATA AUGMENTATION (AUG)\n",
    "* SPECTROGRAM (POST)\n",
    "<br>\n",
    "<br>\n",
    "Having a quick audio/visual feedback on them."
   ]
  },
  {
   "cell_type": "code",
   "execution_count": null,
   "metadata": {},
   "outputs": [],
   "source": [
    "#Show all results\n",
    "tm=AudioTfmsManager.get_audio_tfms_manager(\n",
    "                         spectro=True, n_mels=256, ws=300, n_fft=3200, to_db_scale=True,\n",
    "                         white_noise=True, noise_scl=.00052,\n",
    "                         modulate_volume=False,\n",
    "                         random_cutout=False,\n",
    "                         pad_with_silence=False,\n",
    "                         pitch_warp=False,\n",
    "                         down_and_up=False,\n",
    "                         mx_to_pad=32000)\n",
    "tm.try_train_tfms(sampleSound,'Show all');"
   ]
  },
  {
   "cell_type": "code",
   "execution_count": null,
   "metadata": {},
   "outputs": [],
   "source": [
    "#Show efect of data augmentation only\n",
    "tm.try_data_augmentation(sampleSound,'Show data augmentatio on signal only');"
   ]
  },
  {
   "cell_type": "code",
   "execution_count": null,
   "metadata": {},
   "outputs": [],
   "source": [
    "#Show effects of spectrogram only\n",
    "tm.try_spectrogram(sampleSound,'Spectrogram without data augmentation');"
   ]
  },
  {
   "cell_type": "markdown",
   "metadata": {},
   "source": [
    "### Use case: find correct parameters for data augmentation  "
   ]
  },
  {
   "cell_type": "code",
   "execution_count": null,
   "metadata": {},
   "outputs": [],
   "source": [
    "tm=AudioTfmsManager.get_audio_tfms_manager(spectro=True)\n",
    "tm.try_data_augmentation(sampleSound,'test')"
   ]
  },
  {
   "cell_type": "markdown",
   "metadata": {},
   "source": [
    "**WARNING**: these transformations completely destroy the original information..."
   ]
  },
  {
   "cell_type": "code",
   "execution_count": null,
   "metadata": {},
   "outputs": [],
   "source": [
    "tm=AudioTfmsManager.get_audio_tfms_manager(\n",
    "                         spectro=True,\n",
    "                         white_noise=True, noise_scl=.00052,\n",
    "                         modulate_volume=False,\n",
    "                         random_cutout=False,\n",
    "                         pad_with_silence=False,\n",
    "                         pitch_warp=False,\n",
    "                         down_and_up=False,\n",
    "                         mx_to_pad=32000)    \n",
    "tm.try_data_augmentation(sampleSound,'test')"
   ]
  },
  {
   "cell_type": "markdown",
   "metadata": {},
   "source": [
    "### Use case: find correct parameters for spectrogram generation and multi spectrogram"
   ]
  },
  {
   "cell_type": "code",
   "execution_count": null,
   "metadata": {},
   "outputs": [],
   "source": [
    "def tfm_cropSpec(spec:torch.Tensor, yStart, yEnd)->torch.Tensor:\n",
    "    #yStart = int(math.floor(yStart))\n",
    "    #yEnd = int(math.floor(yEnd))\n",
    "    #print(spec.shape, yStart, yEnd, yEnd-yStart)\n",
    "    ret = spec[:,:,yStart:yEnd]\n",
    "    #print(ret.shape)\n",
    "    return ret\n",
    "\n",
    "def tfm_multiSpectrumSlide(ad:AudioData, max_duration=1600)->torch.Tensor:\n",
    "    '''This transformation is going to produce a 3-channels spectrum image from sliding windows'''\n",
    "    minLenForSpec = 6401\n",
    "    maxWW = max(minLenForSpec,max_duration) # max width\n",
    "    \n",
    "    padded = tfm_pad_to_max(ad, maxWW) # Ensure constant lenght\n",
    "    spec = tfm_spectro(padded, n_mels=224, ws=50, n_fft=3200*2, to_db_scale=True) # Spectrogram of all\n",
    "\n",
    "    wndWidth = 140 # in spec cols\n",
    "    maxSpecCols = spec.shape[2]\n",
    "    n_windows = 3\n",
    "    wndStep = (maxSpecCols - wndWidth)/(n_windows-1)\n",
    "    wndStep = int(math.floor(wndStep)) # make it integer\n",
    "    \n",
    "    #print(wndWidth, wndStep)\n",
    "    \n",
    "    n=0\n",
    "    ret = None\n",
    "    ret = tfm_cropSpec(spec,(n*wndStep),((n)*wndStep)+wndWidth) # Sliding window\n",
    "    wMax = ret.shape[2]\n",
    "    \n",
    "    n=1\n",
    "    img = tfm_cropSpec(spec,(n*wndStep),((n)*wndStep)+wndWidth)\n",
    "    ret = torch.cat([ret,img],dim=0) # Stack...\n",
    "\n",
    "    n=2\n",
    "    img = tfm_cropSpec(spec,(n*wndStep),((n)*wndStep)+wndWidth)\n",
    "    ret = torch.cat([ret,img],dim=0) # Stack...\n",
    "\n",
    "    return ret"
   ]
  },
  {
   "cell_type": "code",
   "execution_count": null,
   "metadata": {},
   "outputs": [],
   "source": [
    "tm=AudioTfmsManager.get_audio_tfms_manager(\n",
    "                         spectro=True, n_mels=256, ws=300, n_fft=3200, to_db_scale=True,\n",
    "                         white_noise=True, noise_scl=.00052,\n",
    "                         modulate_volume=False,\n",
    "                         random_cutout=False,\n",
    "                         pad_with_silence=False,\n",
    "                         pitch_warp=False,\n",
    "                         down_and_up=False,\n",
    "                         mx_to_pad=32000)    \n",
    "\n",
    "#Replace the spectrogram transform with tfm_spectro_stft\n",
    "filan_spec_tfm = partial(tfm_multiSpectrumSlide, max_duration=1000)\n",
    "tm.train_tfmsg[-1]=[filan_spec_tfm]\n",
    "tm.valid_tfmsg[-1]=[filan_spec_tfm]\n",
    "\n",
    "#Try!\n",
    "tm.try_train_tfms(sampleSound,'test')"
   ]
  },
  {
   "cell_type": "markdown",
   "metadata": {},
   "source": [
    "# Export"
   ]
  },
  {
   "cell_type": "code",
   "execution_count": null,
   "metadata": {},
   "outputs": [],
   "source": [
    "!python notebook2script.py TransformsManager.ipynb"
   ]
  },
  {
   "cell_type": "code",
   "execution_count": null,
   "metadata": {},
   "outputs": [],
   "source": []
  }
 ],
 "metadata": {
  "kernelspec": {
   "display_name": "Python 3",
   "language": "python",
   "name": "python3"
  },
  "language_info": {
   "codemirror_mode": {
    "name": "ipython",
    "version": 3
   },
   "file_extension": ".py",
   "mimetype": "text/x-python",
   "name": "python",
   "nbconvert_exporter": "python",
   "pygments_lexer": "ipython3",
   "version": "3.7.0"
  },
  "varInspector": {
   "cols": {
    "lenName": 16,
    "lenType": 16,
    "lenVar": 40
   },
   "kernels_config": {
    "python": {
     "delete_cmd_postfix": "",
     "delete_cmd_prefix": "del ",
     "library": "var_list.py",
     "varRefreshCmd": "print(var_dic_list())"
    },
    "r": {
     "delete_cmd_postfix": ") ",
     "delete_cmd_prefix": "rm(",
     "library": "var_list.r",
     "varRefreshCmd": "cat(var_dic_list()) "
    }
   },
   "types_to_exclude": [
    "module",
    "function",
    "builtin_function_or_method",
    "instance",
    "_Feature"
   ],
   "window_display": false
  }
 },
 "nbformat": 4,
 "nbformat_minor": 2
}
