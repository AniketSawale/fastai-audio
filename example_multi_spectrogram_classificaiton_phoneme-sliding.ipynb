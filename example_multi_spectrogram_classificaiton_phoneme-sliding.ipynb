{
 "cells": [
  {
   "cell_type": "markdown",
   "metadata": {},
   "source": [
    "# Example: phoneme classification with multiple samples spectrogram \n",
    "Experimental notebook by @ste\n",
    "\n",
    "TL;DR\n",
    "\n",
    "The current dataset has a lot of short words and some long words.\n",
    "If you look at the samples of \"single spectrogram\" notebook you'll see that for short sounds almost all the resulting spectrogram is \"silence\".\n",
    "\n",
    "So I've tried to create a sample notebook that, instead of a single channel, transform the \"augmented\" sound (volume, noise, ...) into a three channel image where:\n",
    " - channel 0: is the complete spectrogram (like single spectrogram notebook)\n",
    " - channel 1: contains a spectrogram created with the first 50% of the sound (for medium lenght sounds)\n",
    " - channel 2: is the spectrogram for short sound \n",
    " \n",
    "**With the single spectrogram approach (using 10% of train/valid) I've got 29% accouracy, with multi spectrogram approach I've got 37%.**"
   ]
  },
  {
   "cell_type": "markdown",
   "metadata": {},
   "source": [
    "The key point is understanding the \"chain of transformations\" that takes the original data (a \"sound\") and converts them it into an suitable input for the model.\n",
    "This chain comprises two main parts:\n",
    "* DATA AUGMENTATION: f(sound) -> sound \n",
    "* STRUCTURE TRANSFORM: f(sound) -> tensor"
   ]
  },
  {
   "attachments": {
    "image.png": {
     "image/png": "[encoded data removed]"
    }
   },
   "cell_type": "markdown",
   "metadata": {},
   "source": [
    "![image.png](attachment:image.png)"
   ]
  },
  {
   "cell_type": "markdown",
   "metadata": {},
   "source": [
    "NB: theese images are part of a coming post on that matter... "
   ]
  },
  {
   "cell_type": "code",
   "execution_count": 1,
   "metadata": {},
   "outputs": [],
   "source": [
    "## Notebook settings\n",
    "%reload_ext autoreload\n",
    "%autoreload 2\n",
    "%matplotlib inline"
   ]
  },
  {
   "cell_type": "code",
   "execution_count": 2,
   "metadata": {},
   "outputs": [],
   "source": [
    "## fastai imports\n",
    "from fastai.basics import *\n",
    "from fastai.data_block import ItemList\n",
    "from fastai.vision import *"
   ]
  },
  {
   "cell_type": "markdown",
   "metadata": {},
   "source": [
    "Import FastAI Audio modules here:"
   ]
  },
  {
   "cell_type": "code",
   "execution_count": 3,
   "metadata": {},
   "outputs": [],
   "source": [
    "from exp.nb_AudioCommon import *\n",
    "from exp.nb_DataBlock import *\n",
    "from exp.nb_DataAugmentation import *\n",
    "from exp.nb_AudioTransformsManager import *"
   ]
  },
  {
   "cell_type": "markdown",
   "metadata": {},
   "source": [
    "### Other library imports"
   ]
  },
  {
   "cell_type": "markdown",
   "metadata": {},
   "source": [
    "If this cell fails, you probably haven't installed the correct system/Python dependencies. You might need to re-run the \"System setup\" cell again."
   ]
  },
  {
   "cell_type": "code",
   "execution_count": 4,
   "metadata": {},
   "outputs": [],
   "source": [
    "import torch\n",
    "from pdb import set_trace\n",
    "from IPython.display import Audio\n",
    "from pydub import AudioSegment, silence\n",
    "import torchaudio\n",
    "from torchaudio import transforms\n",
    "import pandas as pd"
   ]
  },
  {
   "cell_type": "code",
   "execution_count": 5,
   "metadata": {},
   "outputs": [],
   "source": [
    "#Options\n",
    "pd.set_option('display.max_colwidth', -1)"
   ]
  },
  {
   "cell_type": "markdown",
   "metadata": {},
   "source": [
    "## Preparing the data"
   ]
  },
  {
   "cell_type": "markdown",
   "metadata": {},
   "source": [
    "We're going to do **phoneme classification** using the TIMIT dataset.\n",
    "\n",
    "The copyright on TIMIT isn't clear, and the data is hard to download, so we assume that the user has access to this dataset.\n",
    "\n",
    "**IMPORTANT:** the dataset should be located in the standard fast.ai location:\n",
    "> $HOME/.fastai/data/timit"
   ]
  },
  {
   "cell_type": "code",
   "execution_count": 6,
   "metadata": {},
   "outputs": [],
   "source": [
    "#Fast.ai way to get folder for your dataset\n",
    "path = datapath4file('timit')"
   ]
  },
  {
   "cell_type": "markdown",
   "metadata": {},
   "source": [
    "### Parsing the data"
   ]
  },
  {
   "cell_type": "code",
   "execution_count": 7,
   "metadata": {},
   "outputs": [
    {
     "name": "stdout",
     "output_type": "stream",
     "text": [
      "TEST PASED\n"
     ]
    }
   ],
   "source": [
    "def extractInformationsFromAbsolutePath(s: str):\n",
    "    items = list(filter(lambda x: len(x)>0,s.split('/')))\n",
    "    USAGE = items[0]\n",
    "    DIALECT = items[1]\n",
    "    SEX = items[2][0]\n",
    "    SPEAKER_ID = items[2][1:]\n",
    "    SENTENCE_ID = items[3]\n",
    "    return USAGE, DIALECT, SEX, SPEAKER_ID, SENTENCE_ID\n",
    "    \n",
    "def test_extractInformationsFromAbsolutePath():\n",
    "    USAGE, DIALECT, SEX, SPEAKER_ID, SENTENCE_ID = extractInformationsFromAbsolutePath('/TRAIN/DR7/MPAR0/SI2206')\n",
    "    assert 'TRAIN'==USAGE\n",
    "    assert 'DR7'==DIALECT\n",
    "    assert 'M'==SEX\n",
    "    assert 'PAR0'==SPEAKER_ID\n",
    "    assert 'SI2206'==SENTENCE_ID\n",
    "    print('TEST PASED')\n",
    "\n",
    "test_extractInformationsFromAbsolutePath()"
   ]
  },
  {
   "cell_type": "code",
   "execution_count": 8,
   "metadata": {},
   "outputs": [
    {
     "data": {
      "text/html": [
       "<div>\n",
       "<style scoped>\n",
       "    .dataframe tbody tr th:only-of-type {\n",
       "        vertical-align: middle;\n",
       "    }\n",
       "\n",
       "    .dataframe tbody tr th {\n",
       "        vertical-align: top;\n",
       "    }\n",
       "\n",
       "    .dataframe thead th {\n",
       "        text-align: right;\n",
       "    }\n",
       "</style>\n",
       "<table border=\"1\" class=\"dataframe\">\n",
       "  <thead>\n",
       "    <tr style=\"text-align: right;\">\n",
       "      <th></th>\n",
       "      <th>relPath</th>\n",
       "      <th>USAGE</th>\n",
       "      <th>DIALECT</th>\n",
       "      <th>SEX</th>\n",
       "      <th>SPEAKER_ID</th>\n",
       "      <th>SENTENCE_ID</th>\n",
       "    </tr>\n",
       "    <tr>\n",
       "      <th>IDX</th>\n",
       "      <th></th>\n",
       "      <th></th>\n",
       "      <th></th>\n",
       "      <th></th>\n",
       "      <th></th>\n",
       "      <th></th>\n",
       "    </tr>\n",
       "  </thead>\n",
       "  <tbody>\n",
       "    <tr>\n",
       "      <th>MPAR0:SI2206</th>\n",
       "      <td>/TRAIN/DR7/MPAR0/SI2206</td>\n",
       "      <td>TRAIN</td>\n",
       "      <td>DR7</td>\n",
       "      <td>M</td>\n",
       "      <td>PAR0</td>\n",
       "      <td>SI2206</td>\n",
       "    </tr>\n",
       "    <tr>\n",
       "      <th>MPAR0:SX316</th>\n",
       "      <td>/TRAIN/DR7/MPAR0/SX316</td>\n",
       "      <td>TRAIN</td>\n",
       "      <td>DR7</td>\n",
       "      <td>M</td>\n",
       "      <td>PAR0</td>\n",
       "      <td>SX316</td>\n",
       "    </tr>\n",
       "    <tr>\n",
       "      <th>MPAR0:SI1576</th>\n",
       "      <td>/TRAIN/DR7/MPAR0/SI1576</td>\n",
       "      <td>TRAIN</td>\n",
       "      <td>DR7</td>\n",
       "      <td>M</td>\n",
       "      <td>PAR0</td>\n",
       "      <td>SI1576</td>\n",
       "    </tr>\n",
       "    <tr>\n",
       "      <th>MPAR0:SA1</th>\n",
       "      <td>/TRAIN/DR7/MPAR0/SA1</td>\n",
       "      <td>TRAIN</td>\n",
       "      <td>DR7</td>\n",
       "      <td>M</td>\n",
       "      <td>PAR0</td>\n",
       "      <td>SA1</td>\n",
       "    </tr>\n",
       "    <tr>\n",
       "      <th>MPAR0:SX46</th>\n",
       "      <td>/TRAIN/DR7/MPAR0/SX46</td>\n",
       "      <td>TRAIN</td>\n",
       "      <td>DR7</td>\n",
       "      <td>M</td>\n",
       "      <td>PAR0</td>\n",
       "      <td>SX46</td>\n",
       "    </tr>\n",
       "  </tbody>\n",
       "</table>\n",
       "</div>"
      ],
      "text/plain": [
       "                              relPath  USAGE DIALECT SEX SPEAKER_ID  \\\n",
       "IDX                                                                   \n",
       "MPAR0:SI2206  /TRAIN/DR7/MPAR0/SI2206  TRAIN  DR7     M   PAR0        \n",
       "MPAR0:SX316   /TRAIN/DR7/MPAR0/SX316   TRAIN  DR7     M   PAR0        \n",
       "MPAR0:SI1576  /TRAIN/DR7/MPAR0/SI1576  TRAIN  DR7     M   PAR0        \n",
       "MPAR0:SA1     /TRAIN/DR7/MPAR0/SA1     TRAIN  DR7     M   PAR0        \n",
       "MPAR0:SX46    /TRAIN/DR7/MPAR0/SX46    TRAIN  DR7     M   PAR0        \n",
       "\n",
       "             SENTENCE_ID  \n",
       "IDX                       \n",
       "MPAR0:SI2206  SI2206      \n",
       "MPAR0:SX316   SX316       \n",
       "MPAR0:SI1576  SI1576      \n",
       "MPAR0:SA1     SA1         \n",
       "MPAR0:SX46    SX46        "
      ]
     },
     "execution_count": 8,
     "metadata": {},
     "output_type": "execute_result"
    }
   ],
   "source": [
    "def extractTimitDatasetInformation(path):\n",
    "    '''Put in a dataframe all the information about samples'''\n",
    "    import glob\n",
    "    files = glob.glob(str(path)+ '/**/*.WAV', recursive=True)\n",
    "    ret = pd.DataFrame(files, columns=['relPath'])\n",
    "    #Remove path and extension\n",
    "    ret['relPath'] = ret['relPath'].apply(lambda x: x.replace(str(path),'').replace('.WAV',''))\n",
    "\n",
    "    def extractIntoSeries(s):\n",
    "        USAGE, DIALECT, SEX, SPEAKER_ID, SENTENCE_ID = extractInformationsFromAbsolutePath(s)\n",
    "        return pd.Series({\n",
    "            'USAGE': USAGE,\n",
    "            'DIALECT': DIALECT,\n",
    "            'SEX': SEX,\n",
    "            'SPEAKER_ID': SPEAKER_ID,\n",
    "            'SENTENCE_ID': SENTENCE_ID,\n",
    "            'IDX': SEX + SPEAKER_ID + ':' + SENTENCE_ID})\n",
    "\n",
    "    #IMPORTANT: Apply multiple transformations at one\n",
    "    ret = ret.merge(ret['relPath'].apply(lambda s: extractIntoSeries(s)), left_index=True, right_index=True)    \n",
    "    ret = ret.set_index(['IDX']) # Add index\n",
    "    return ret\n",
    "                \n",
    "all_files_df = extractTimitDatasetInformation(path)\n",
    "all_files_df.head()"
   ]
  },
  {
   "cell_type": "code",
   "execution_count": 9,
   "metadata": {},
   "outputs": [
    {
     "name": "stdout",
     "output_type": "stream",
     "text": [
      "Number of files: 6300\n"
     ]
    }
   ],
   "source": [
    "print(f'Number of files: {len(all_files_df)}')"
   ]
  },
  {
   "cell_type": "markdown",
   "metadata": {},
   "source": [
    "### OPTIONAL Decimate dataset\n",
    "To speedup computation we reduce train/valid set."
   ]
  },
  {
   "cell_type": "code",
   "execution_count": 10,
   "metadata": {},
   "outputs": [
    {
     "data": {
      "text/plain": [
       "USAGE\n",
       "TEST     168\n",
       "TRAIN    462\n",
       "Name: relPath, dtype: int64"
      ]
     },
     "execution_count": 10,
     "metadata": {},
     "output_type": "execute_result"
    }
   ],
   "source": [
    "#DON'T RUN THIS CELL IN YOU WANT TOI USE ALL DATA\n",
    "def decimate(train_df:pd.DataFrame, valid_df:pd.DataFrame, pct=.1)->pd.DataFrame:\n",
    "    t1=train_df.sample(frac=pct, random_state=1)\n",
    "    t2=valid_df.sample(frac=pct, random_state=1)\n",
    "    return pd.concat([t1,t2],axis=0)\n",
    "\n",
    "all_files_df=decimate(all_files_df[all_files_df.USAGE=='TRAIN'],all_files_df[all_files_df.USAGE=='TEST'],.1)\n",
    "all_files_df.groupby(['USAGE'])['relPath'].count()"
   ]
  },
  {
   "cell_type": "markdown",
   "metadata": {},
   "source": [
    "# Phoneme classification"
   ]
  },
  {
   "cell_type": "markdown",
   "metadata": {},
   "source": [
    "## Create data bunch"
   ]
  },
  {
   "cell_type": "code",
   "execution_count": 11,
   "metadata": {},
   "outputs": [],
   "source": [
    "def process_phn_file(idx:str, phn_file, sig, sr, ext, delimiter=' ')->pd.DataFrame:\n",
    "    df = pd.read_csv(phn_file, delimiter=delimiter, header=None)\n",
    "    df.columns = ['START', 'END', ext]\n",
    "    df['SIG'] = df.apply(lambda x : torch.Tensor(sig[x['START']: x['END']]), axis=1)\n",
    "    df['SR'] = sr\n",
    "    df['IDX'] = idx\n",
    "    df['IDXN'] = pd.Series(map(lambda x: idx+':'+str(x), range(len(df))))   \n",
    "    df = df.set_index(['IDXN'])\n",
    "    return df"
   ]
  },
  {
   "cell_type": "code",
   "execution_count": 12,
   "metadata": {},
   "outputs": [
    {
     "name": "stdout",
     "output_type": "stream",
     "text": [
      "/home/ste/.fastai/data/timit/TRAIN/DR2/MJMD0/SX308.WAV \tExists: True\n"
     ]
    },
    {
     "data": {
      "text/html": [
       "<div>\n",
       "<style scoped>\n",
       "    .dataframe tbody tr th:only-of-type {\n",
       "        vertical-align: middle;\n",
       "    }\n",
       "\n",
       "    .dataframe tbody tr th {\n",
       "        vertical-align: top;\n",
       "    }\n",
       "\n",
       "    .dataframe thead th {\n",
       "        text-align: right;\n",
       "    }\n",
       "</style>\n",
       "<table border=\"1\" class=\"dataframe\">\n",
       "  <thead>\n",
       "    <tr style=\"text-align: right;\">\n",
       "      <th></th>\n",
       "      <th>START</th>\n",
       "      <th>END</th>\n",
       "      <th>PHN</th>\n",
       "      <th>SIG</th>\n",
       "      <th>SR</th>\n",
       "      <th>IDX</th>\n",
       "    </tr>\n",
       "    <tr>\n",
       "      <th>IDXN</th>\n",
       "      <th></th>\n",
       "      <th></th>\n",
       "      <th></th>\n",
       "      <th></th>\n",
       "      <th></th>\n",
       "      <th></th>\n",
       "    </tr>\n",
       "  </thead>\n",
       "  <tbody>\n",
       "    <tr>\n",
       "      <th>MJMD0:SX308:0</th>\n",
       "      <td>0</td>\n",
       "      <td>2320</td>\n",
       "      <td>h#</td>\n",
       "      <td>[tensor(0.0001), tensor(0.0002), tensor(-3.0518e-05), tensor(6.1035e-05), tensor(-3.0518e-05), tensor(6.1035e-05), tensor(9.1553e-05), tensor(0.0001), tensor(0.0001), tensor(3.0518e-05), tensor(9.1553e-05), tensor(0.), tensor(-3.0518e-05), tensor(-9.1553e-05), tensor(0.0002), tensor(0.0001), tensor(0.0002), tensor(9.1553e-05), tensor(6.1035e-05), tensor(9.1553e-05), tensor(0.), tensor(0.0002), tensor(9.1553e-05), tensor(0.0001), tensor(0.0002), tensor(0.0002), tensor(0.0002), tensor(0.0002), tensor(0.0001), tensor(6.1035e-05), tensor(9.1553e-05), tensor(-9.1553e-05), tensor(3.0518e-05), tensor(0.0002), tensor(0.0002), tensor(0.0002), tensor(6.1035e-05), tensor(0.0002), tensor(0.), tensor(0.0001), tensor(9.1553e-05), tensor(0.0002), tensor(0.0002), tensor(0.0002), tensor(0.0001), tensor(0.0002), tensor(6.1035e-05), tensor(9.1553e-05), tensor(6.1035e-05), tensor(6.1035e-05), tensor(0.0002), tensor(0.), tensor(0.0002), tensor(0.0002), tensor(0.0002), tensor(9.1553e-05), tensor(9.1553e-05), tensor(9.1553e-05), tensor(0.0001), tensor(0.0001), tensor(0.0002), tensor(0.0002), tensor(0.0001), tensor(9.1553e-05), tensor(3.0518e-05), tensor(9.1553e-05), tensor(-6.1035e-05), tensor(-6.1035e-05), tensor(6.1035e-05), tensor(0.0001), tensor(3.0518e-05), tensor(3.0518e-05), tensor(6.1035e-05), tensor(3.0518e-05), tensor(-6.1035e-05), tensor(-3.0518e-05), tensor(3.0518e-05), tensor(0.0001), tensor(-3.0518e-05), tensor(0.0001), tensor(3.0518e-05), tensor(0.0001), tensor(0.), tensor(3.0518e-05), tensor(0.), tensor(0.), tensor(9.1553e-05), tensor(9.1553e-05), tensor(0.0001), tensor(0.0002), tensor(9.1553e-05), tensor(3.0518e-05), tensor(0.0002), tensor(0.), tensor(9.1553e-05), tensor(9.1553e-05), tensor(0.0001), tensor(0.0002), tensor(0.0001), tensor(9.1553e-05), ...]</td>\n",
       "      <td>16000</td>\n",
       "      <td>MJMD0:SX308</td>\n",
       "    </tr>\n",
       "    <tr>\n",
       "      <th>MJMD0:SX308:1</th>\n",
       "      <td>2320</td>\n",
       "      <td>4803</td>\n",
       "      <td>sh</td>\n",
       "      <td>[tensor(3.0518e-05), tensor(-0.0002), tensor(-3.0518e-05), tensor(0.0004), tensor(0.0003), tensor(0.0002), tensor(-0.0002), tensor(6.1035e-05), tensor(0.0002), tensor(0.0002), tensor(9.1553e-05), tensor(-0.0004), tensor(0.0002), tensor(0.0006), tensor(0.), tensor(-0.0002), tensor(-6.1035e-05), tensor(9.1553e-05), tensor(0.0003), tensor(0.0003), tensor(0.0002), tensor(-0.0005), tensor(-0.0005), tensor(0.0001), tensor(0.0003), tensor(0.0005), tensor(0.0005), tensor(-0.0007), tensor(-0.0005), tensor(0.0007), tensor(0.0005), tensor(-0.0002), tensor(-0.0002), tensor(0.0003), tensor(-0.0001), tensor(-0.0005), tensor(0.0005), tensor(0.0006), tensor(-0.0004), tensor(-0.0003), tensor(-3.0518e-05), tensor(-0.0002), tensor(0.0007), tensor(0.0005), tensor(-0.0007), tensor(-0.0006), tensor(-0.0002), tensor(0.0005), tensor(0.0008), tensor(-0.0002), tensor(-0.0008), tensor(-9.1553e-05), tensor(0.0006), tensor(0.0006), tensor(0.0002), tensor(-0.0003), tensor(-3.0518e-05), tensor(6.1035e-05), tensor(-0.0005), tensor(-0.0003), tensor(3.0518e-05), tensor(-0.0004), tensor(-0.0005), tensor(-6.1035e-05), tensor(9.1553e-05), tensor(0.0003), tensor(0.0006), tensor(-0.0005), tensor(-0.0005), tensor(0.), tensor(-0.0002), tensor(0.0004), tensor(0.0005), tensor(-0.0003), tensor(-0.0003), tensor(0.0003), tensor(0.0006), tensor(0.0005), tensor(-0.0002), tensor(-0.0005), tensor(-3.0518e-05), tensor(-3.0518e-05), tensor(0.0005), tensor(-0.0004), tensor(-0.0005), tensor(0.0002), tensor(0.0002), tensor(0.0006), tensor(0.0003), tensor(-0.0004), tensor(-0.0003), tensor(0.0003), tensor(0.0004), tensor(0.0001), tensor(-0.0011), tensor(-0.0003), tensor(0.0006), tensor(0.0005), tensor(0.0009), tensor(0.0004), ...]</td>\n",
       "      <td>16000</td>\n",
       "      <td>MJMD0:SX308</td>\n",
       "    </tr>\n",
       "  </tbody>\n",
       "</table>\n",
       "</div>"
      ],
      "text/plain": [
       "               START   END PHN  \\\n",
       "IDXN                             \n",
       "MJMD0:SX308:0  0      2320  h#   \n",
       "MJMD0:SX308:1  2320   4803  sh   \n",
       "\n",
       "                                                                                                                                                                                                                                                                                                                                                                                                                                                                                                                                                                                                                                                                                                                                                                                                                                                                                                                                                                                                                                                                                                                                                                                                                                                                                                                                                                                                                                                                                                                                                                                                                                                                                                                                                                                                                                                               SIG  \\\n",
       "IDXN                                                                                                                                                                                                                                                                                                                                                                                                                                                                                                                                                                                                                                                                                                                                                                                                                                                                                                                                                                                                                                                                                                                                                                                                                                                                                                                                                                                                                                                                                                                                                                                                                                                                                                                                                                                                                                                                 \n",
       "MJMD0:SX308:0  [tensor(0.0001), tensor(0.0002), tensor(-3.0518e-05), tensor(6.1035e-05), tensor(-3.0518e-05), tensor(6.1035e-05), tensor(9.1553e-05), tensor(0.0001), tensor(0.0001), tensor(3.0518e-05), tensor(9.1553e-05), tensor(0.), tensor(-3.0518e-05), tensor(-9.1553e-05), tensor(0.0002), tensor(0.0001), tensor(0.0002), tensor(9.1553e-05), tensor(6.1035e-05), tensor(9.1553e-05), tensor(0.), tensor(0.0002), tensor(9.1553e-05), tensor(0.0001), tensor(0.0002), tensor(0.0002), tensor(0.0002), tensor(0.0002), tensor(0.0001), tensor(6.1035e-05), tensor(9.1553e-05), tensor(-9.1553e-05), tensor(3.0518e-05), tensor(0.0002), tensor(0.0002), tensor(0.0002), tensor(6.1035e-05), tensor(0.0002), tensor(0.), tensor(0.0001), tensor(9.1553e-05), tensor(0.0002), tensor(0.0002), tensor(0.0002), tensor(0.0001), tensor(0.0002), tensor(6.1035e-05), tensor(9.1553e-05), tensor(6.1035e-05), tensor(6.1035e-05), tensor(0.0002), tensor(0.), tensor(0.0002), tensor(0.0002), tensor(0.0002), tensor(9.1553e-05), tensor(9.1553e-05), tensor(9.1553e-05), tensor(0.0001), tensor(0.0001), tensor(0.0002), tensor(0.0002), tensor(0.0001), tensor(9.1553e-05), tensor(3.0518e-05), tensor(9.1553e-05), tensor(-6.1035e-05), tensor(-6.1035e-05), tensor(6.1035e-05), tensor(0.0001), tensor(3.0518e-05), tensor(3.0518e-05), tensor(6.1035e-05), tensor(3.0518e-05), tensor(-6.1035e-05), tensor(-3.0518e-05), tensor(3.0518e-05), tensor(0.0001), tensor(-3.0518e-05), tensor(0.0001), tensor(3.0518e-05), tensor(0.0001), tensor(0.), tensor(3.0518e-05), tensor(0.), tensor(0.), tensor(9.1553e-05), tensor(9.1553e-05), tensor(0.0001), tensor(0.0002), tensor(9.1553e-05), tensor(3.0518e-05), tensor(0.0002), tensor(0.), tensor(9.1553e-05), tensor(9.1553e-05), tensor(0.0001), tensor(0.0002), tensor(0.0001), tensor(9.1553e-05), ...]   \n",
       "MJMD0:SX308:1  [tensor(3.0518e-05), tensor(-0.0002), tensor(-3.0518e-05), tensor(0.0004), tensor(0.0003), tensor(0.0002), tensor(-0.0002), tensor(6.1035e-05), tensor(0.0002), tensor(0.0002), tensor(9.1553e-05), tensor(-0.0004), tensor(0.0002), tensor(0.0006), tensor(0.), tensor(-0.0002), tensor(-6.1035e-05), tensor(9.1553e-05), tensor(0.0003), tensor(0.0003), tensor(0.0002), tensor(-0.0005), tensor(-0.0005), tensor(0.0001), tensor(0.0003), tensor(0.0005), tensor(0.0005), tensor(-0.0007), tensor(-0.0005), tensor(0.0007), tensor(0.0005), tensor(-0.0002), tensor(-0.0002), tensor(0.0003), tensor(-0.0001), tensor(-0.0005), tensor(0.0005), tensor(0.0006), tensor(-0.0004), tensor(-0.0003), tensor(-3.0518e-05), tensor(-0.0002), tensor(0.0007), tensor(0.0005), tensor(-0.0007), tensor(-0.0006), tensor(-0.0002), tensor(0.0005), tensor(0.0008), tensor(-0.0002), tensor(-0.0008), tensor(-9.1553e-05), tensor(0.0006), tensor(0.0006), tensor(0.0002), tensor(-0.0003), tensor(-3.0518e-05), tensor(6.1035e-05), tensor(-0.0005), tensor(-0.0003), tensor(3.0518e-05), tensor(-0.0004), tensor(-0.0005), tensor(-6.1035e-05), tensor(9.1553e-05), tensor(0.0003), tensor(0.0006), tensor(-0.0005), tensor(-0.0005), tensor(0.), tensor(-0.0002), tensor(0.0004), tensor(0.0005), tensor(-0.0003), tensor(-0.0003), tensor(0.0003), tensor(0.0006), tensor(0.0005), tensor(-0.0002), tensor(-0.0005), tensor(-3.0518e-05), tensor(-3.0518e-05), tensor(0.0005), tensor(-0.0004), tensor(-0.0005), tensor(0.0002), tensor(0.0002), tensor(0.0006), tensor(0.0003), tensor(-0.0004), tensor(-0.0003), tensor(0.0003), tensor(0.0004), tensor(0.0001), tensor(-0.0011), tensor(-0.0003), tensor(0.0006), tensor(0.0005), tensor(0.0009), tensor(0.0004), ...]                                                                               \n",
       "\n",
       "                  SR          IDX  \n",
       "IDXN                               \n",
       "MJMD0:SX308:0  16000  MJMD0:SX308  \n",
       "MJMD0:SX308:1  16000  MJMD0:SX308  "
      ]
     },
     "metadata": {},
     "output_type": "display_data"
    },
    {
     "name": "stdout",
     "output_type": "stream",
     "text": [
      "Number of rows: 34\n",
      "TEST DONE\n"
     ]
    }
   ],
   "source": [
    "def extractItems(path, idx, relativePath, ext, verbose=False)->pd.DataFrame:\n",
    "    base_path = str(path) + relativePath\n",
    "    wav_file = base_path + \".WAV\"\n",
    "    wav_exists = os.path.isfile(wav_file)\n",
    "    if verbose: print(wav_file, f'\\tExists: {wav_exists}')\n",
    "    #Sanity check\n",
    "    if not wav_exists: return none\n",
    "    #Proceed\n",
    "    sigTwoChannels,sr = torchaudio.load(wav_file)\n",
    "    sig = sigTwoChannels[0] # MONO NO STEREO - convert to \"one dimension\"\n",
    "    phn_file = base_path + '.' + ext\n",
    "            \n",
    "    ret = process_phn_file(idx, phn_file, sig, sr, ext, delimiter=' ')\n",
    "    \n",
    "    return ret\n",
    "            \n",
    "def test_extractItems_PHN():\n",
    "    row = all_files_df.iloc[0]\n",
    "    ret_df = extractItems(path, row.name, row['relPath'], 'PHN', verbose=True)\n",
    "    display(ret_df.head(2))\n",
    "    print(f'Number of rows: {len(ret_df)}')\n",
    "#    assert 54==len(ret_df)\n",
    "    print('TEST DONE')\n",
    "\n",
    "test_extractItems_PHN()"
   ]
  },
  {
   "cell_type": "code",
   "execution_count": 13,
   "metadata": {},
   "outputs": [
    {
     "name": "stdout",
     "output_type": "stream",
     "text": [
      "/home/ste/.fastai/data/timit/TRAIN/DR2/MJMD0/SX308.WAV \tExists: True\n"
     ]
    },
    {
     "data": {
      "text/html": [
       "<div>\n",
       "<style scoped>\n",
       "    .dataframe tbody tr th:only-of-type {\n",
       "        vertical-align: middle;\n",
       "    }\n",
       "\n",
       "    .dataframe tbody tr th {\n",
       "        vertical-align: top;\n",
       "    }\n",
       "\n",
       "    .dataframe thead th {\n",
       "        text-align: right;\n",
       "    }\n",
       "</style>\n",
       "<table border=\"1\" class=\"dataframe\">\n",
       "  <thead>\n",
       "    <tr style=\"text-align: right;\">\n",
       "      <th></th>\n",
       "      <th>START</th>\n",
       "      <th>END</th>\n",
       "      <th>WRD</th>\n",
       "      <th>SIG</th>\n",
       "      <th>SR</th>\n",
       "      <th>IDX</th>\n",
       "    </tr>\n",
       "    <tr>\n",
       "      <th>IDXN</th>\n",
       "      <th></th>\n",
       "      <th></th>\n",
       "      <th></th>\n",
       "      <th></th>\n",
       "      <th></th>\n",
       "      <th></th>\n",
       "    </tr>\n",
       "  </thead>\n",
       "  <tbody>\n",
       "    <tr>\n",
       "      <th>MJMD0:SX308:0</th>\n",
       "      <td>2320</td>\n",
       "      <td>11400</td>\n",
       "      <td>shipbuilding</td>\n",
       "      <td>[tensor(3.0518e-05), tensor(-0.0002), tensor(-3.0518e-05), tensor(0.0004), tensor(0.0003), tensor(0.0002), tensor(-0.0002), tensor(6.1035e-05), tensor(0.0002), tensor(0.0002), tensor(9.1553e-05), tensor(-0.0004), tensor(0.0002), tensor(0.0006), tensor(0.), tensor(-0.0002), tensor(-6.1035e-05), tensor(9.1553e-05), tensor(0.0003), tensor(0.0003), tensor(0.0002), tensor(-0.0005), tensor(-0.0005), tensor(0.0001), tensor(0.0003), tensor(0.0005), tensor(0.0005), tensor(-0.0007), tensor(-0.0005), tensor(0.0007), tensor(0.0005), tensor(-0.0002), tensor(-0.0002), tensor(0.0003), tensor(-0.0001), tensor(-0.0005), tensor(0.0005), tensor(0.0006), tensor(-0.0004), tensor(-0.0003), tensor(-3.0518e-05), tensor(-0.0002), tensor(0.0007), tensor(0.0005), tensor(-0.0007), tensor(-0.0006), tensor(-0.0002), tensor(0.0005), tensor(0.0008), tensor(-0.0002), tensor(-0.0008), tensor(-9.1553e-05), tensor(0.0006), tensor(0.0006), tensor(0.0002), tensor(-0.0003), tensor(-3.0518e-05), tensor(6.1035e-05), tensor(-0.0005), tensor(-0.0003), tensor(3.0518e-05), tensor(-0.0004), tensor(-0.0005), tensor(-6.1035e-05), tensor(9.1553e-05), tensor(0.0003), tensor(0.0006), tensor(-0.0005), tensor(-0.0005), tensor(0.), tensor(-0.0002), tensor(0.0004), tensor(0.0005), tensor(-0.0003), tensor(-0.0003), tensor(0.0003), tensor(0.0006), tensor(0.0005), tensor(-0.0002), tensor(-0.0005), tensor(-3.0518e-05), tensor(-3.0518e-05), tensor(0.0005), tensor(-0.0004), tensor(-0.0005), tensor(0.0002), tensor(0.0002), tensor(0.0006), tensor(0.0003), tensor(-0.0004), tensor(-0.0003), tensor(0.0003), tensor(0.0004), tensor(0.0001), tensor(-0.0011), tensor(-0.0003), tensor(0.0006), tensor(0.0005), tensor(0.0009), tensor(0.0004), ...]</td>\n",
       "      <td>16000</td>\n",
       "      <td>MJMD0:SX308</td>\n",
       "    </tr>\n",
       "  </tbody>\n",
       "</table>\n",
       "</div>"
      ],
      "text/plain": [
       "               START    END           WRD  \\\n",
       "IDXN                                        \n",
       "MJMD0:SX308:0  2320   11400  shipbuilding   \n",
       "\n",
       "                                                                                                                                                                                                                                                                                                                                                                                                                                                                                                                                                                                                                                                                                                                                                                                                                                                                                                                                                                                                                                                                                                                                                                                                                                                                                                                                                                                                                                                                                                                                                                                                                                                                                                                                                                                   SIG  \\\n",
       "IDXN                                                                                                                                                                                                                                                                                                                                                                                                                                                                                                                                                                                                                                                                                                                                                                                                                                                                                                                                                                                                                                                                                                                                                                                                                                                                                                                                                                                                                                                                                                                                                                                                                                                                                                                                                                                     \n",
       "MJMD0:SX308:0  [tensor(3.0518e-05), tensor(-0.0002), tensor(-3.0518e-05), tensor(0.0004), tensor(0.0003), tensor(0.0002), tensor(-0.0002), tensor(6.1035e-05), tensor(0.0002), tensor(0.0002), tensor(9.1553e-05), tensor(-0.0004), tensor(0.0002), tensor(0.0006), tensor(0.), tensor(-0.0002), tensor(-6.1035e-05), tensor(9.1553e-05), tensor(0.0003), tensor(0.0003), tensor(0.0002), tensor(-0.0005), tensor(-0.0005), tensor(0.0001), tensor(0.0003), tensor(0.0005), tensor(0.0005), tensor(-0.0007), tensor(-0.0005), tensor(0.0007), tensor(0.0005), tensor(-0.0002), tensor(-0.0002), tensor(0.0003), tensor(-0.0001), tensor(-0.0005), tensor(0.0005), tensor(0.0006), tensor(-0.0004), tensor(-0.0003), tensor(-3.0518e-05), tensor(-0.0002), tensor(0.0007), tensor(0.0005), tensor(-0.0007), tensor(-0.0006), tensor(-0.0002), tensor(0.0005), tensor(0.0008), tensor(-0.0002), tensor(-0.0008), tensor(-9.1553e-05), tensor(0.0006), tensor(0.0006), tensor(0.0002), tensor(-0.0003), tensor(-3.0518e-05), tensor(6.1035e-05), tensor(-0.0005), tensor(-0.0003), tensor(3.0518e-05), tensor(-0.0004), tensor(-0.0005), tensor(-6.1035e-05), tensor(9.1553e-05), tensor(0.0003), tensor(0.0006), tensor(-0.0005), tensor(-0.0005), tensor(0.), tensor(-0.0002), tensor(0.0004), tensor(0.0005), tensor(-0.0003), tensor(-0.0003), tensor(0.0003), tensor(0.0006), tensor(0.0005), tensor(-0.0002), tensor(-0.0005), tensor(-3.0518e-05), tensor(-3.0518e-05), tensor(0.0005), tensor(-0.0004), tensor(-0.0005), tensor(0.0002), tensor(0.0002), tensor(0.0006), tensor(0.0003), tensor(-0.0004), tensor(-0.0003), tensor(0.0003), tensor(0.0004), tensor(0.0001), tensor(-0.0011), tensor(-0.0003), tensor(0.0006), tensor(0.0005), tensor(0.0009), tensor(0.0004), ...]   \n",
       "\n",
       "                  SR          IDX  \n",
       "IDXN                               \n",
       "MJMD0:SX308:0  16000  MJMD0:SX308  "
      ]
     },
     "metadata": {},
     "output_type": "display_data"
    },
    {
     "name": "stdout",
     "output_type": "stream",
     "text": [
      "Number of rows: 6\n",
      "TEST DONE\n"
     ]
    }
   ],
   "source": [
    "def test_extractItems_WRD():\n",
    "    row = all_files_df.iloc[0]\n",
    "    ret_df = extractItems(path, row.name, row['relPath'], 'WRD', verbose=True)\n",
    "    display(ret_df.head(1))\n",
    "    print(f'Number of rows: {len(ret_df)}')\n",
    "#    assert 14==len(ret_df)\n",
    "    print('TEST DONE')\n",
    "\n",
    "test_extractItems_WRD()"
   ]
  },
  {
   "cell_type": "code",
   "execution_count": 14,
   "metadata": {},
   "outputs": [
    {
     "data": {
      "text/html": [
       "<div>\n",
       "<style scoped>\n",
       "    .dataframe tbody tr th:only-of-type {\n",
       "        vertical-align: middle;\n",
       "    }\n",
       "\n",
       "    .dataframe tbody tr th {\n",
       "        vertical-align: top;\n",
       "    }\n",
       "\n",
       "    .dataframe thead th {\n",
       "        text-align: right;\n",
       "    }\n",
       "</style>\n",
       "<table border=\"1\" class=\"dataframe\">\n",
       "  <thead>\n",
       "    <tr style=\"text-align: right;\">\n",
       "      <th></th>\n",
       "      <th>relPath</th>\n",
       "      <th>USAGE</th>\n",
       "      <th>DIALECT</th>\n",
       "      <th>SEX</th>\n",
       "      <th>SPEAKER_ID</th>\n",
       "      <th>SENTENCE_ID</th>\n",
       "    </tr>\n",
       "    <tr>\n",
       "      <th>IDX</th>\n",
       "      <th></th>\n",
       "      <th></th>\n",
       "      <th></th>\n",
       "      <th></th>\n",
       "      <th></th>\n",
       "      <th></th>\n",
       "    </tr>\n",
       "  </thead>\n",
       "  <tbody>\n",
       "    <tr>\n",
       "      <th>MJMD0:SX308</th>\n",
       "      <td>/TRAIN/DR2/MJMD0/SX308</td>\n",
       "      <td>TRAIN</td>\n",
       "      <td>DR2</td>\n",
       "      <td>M</td>\n",
       "      <td>JMD0</td>\n",
       "      <td>SX308</td>\n",
       "    </tr>\n",
       "    <tr>\n",
       "      <th>FLEH0:SI2311</th>\n",
       "      <td>/TRAIN/DR7/FLEH0/SI2311</td>\n",
       "      <td>TRAIN</td>\n",
       "      <td>DR7</td>\n",
       "      <td>F</td>\n",
       "      <td>LEH0</td>\n",
       "      <td>SI2311</td>\n",
       "    </tr>\n",
       "  </tbody>\n",
       "</table>\n",
       "</div>"
      ],
      "text/plain": [
       "                              relPath  USAGE DIALECT SEX SPEAKER_ID  \\\n",
       "IDX                                                                   \n",
       "MJMD0:SX308   /TRAIN/DR2/MJMD0/SX308   TRAIN  DR2     M   JMD0        \n",
       "FLEH0:SI2311  /TRAIN/DR7/FLEH0/SI2311  TRAIN  DR7     F   LEH0        \n",
       "\n",
       "             SENTENCE_ID  \n",
       "IDX                       \n",
       "MJMD0:SX308   SX308       \n",
       "FLEH0:SI2311  SI2311      "
      ]
     },
     "execution_count": 14,
     "metadata": {},
     "output_type": "execute_result"
    }
   ],
   "source": [
    "all_files_df.head(2)"
   ]
  },
  {
   "cell_type": "code",
   "execution_count": 15,
   "metadata": {},
   "outputs": [
    {
     "name": "stdout",
     "output_type": "stream",
     "text": [
      "<class 'pandas.core.frame.DataFrame'>\n",
      "Index: 630 entries, MJMD0:SX308 to FCAU0:SX317\n",
      "Data columns (total 6 columns):\n",
      "relPath        630 non-null object\n",
      "USAGE          630 non-null object\n",
      "DIALECT        630 non-null object\n",
      "SEX            630 non-null object\n",
      "SPEAKER_ID     630 non-null object\n",
      "SENTENCE_ID    630 non-null object\n",
      "dtypes: object(6)\n",
      "memory usage: 34.5+ KB\n"
     ]
    }
   ],
   "source": [
    "all_files_df.info()"
   ]
  },
  {
   "cell_type": "code",
   "execution_count": 16,
   "metadata": {},
   "outputs": [
    {
     "name": "stdout",
     "output_type": "stream",
     "text": [
      "Rows: 376\n",
      "<class 'pandas.core.frame.DataFrame'>\n",
      "Index: 376 entries, MJMD0:SX308:0 to MADD0:SI538:36\n",
      "Data columns (total 6 columns):\n",
      "START    376 non-null int64\n",
      "END      376 non-null int64\n",
      "PHN      376 non-null object\n",
      "SIG      376 non-null object\n",
      "SR       376 non-null int64\n",
      "IDX      376 non-null object\n",
      "dtypes: int64(3), object(3)\n",
      "memory usage: 20.6+ KB\n"
     ]
    }
   ],
   "source": [
    "def createItemsDataFrame(path, files_df, ext):\n",
    "    ret = pd.DataFrame()\n",
    "    for i,row in files_df.iterrows():\n",
    "        tmp_df = extractItems(path, row.name, row['relPath'], ext)\n",
    "        ret = ret.append(tmp_df)\n",
    "        #print(len(ret))\n",
    "#    ret = files_df.apply(lambda row: ret.append(extractWords(path, row.name, row['relPath']), ignore_index=True), axis=1)\n",
    "#    files_df.apply(lambda row: print(row), axis=1)\n",
    "    return ret\n",
    "\n",
    "def test_createItemsDataFrame():\n",
    "    tdf = createItemsDataFrame(path, all_files_df.head(10), 'PHN')\n",
    "    print(f'Rows: {len(tdf)}')\n",
    "    tdf.info()\n",
    "#    assert 86==len(tdf)\n",
    "\n",
    "test_createItemsDataFrame()"
   ]
  },
  {
   "cell_type": "code",
   "execution_count": 17,
   "metadata": {},
   "outputs": [
    {
     "name": "stdout",
     "output_type": "stream",
     "text": [
      "CPU times: user 28.3 s, sys: 523 ms, total: 28.8 s\n",
      "Wall time: 4.81 s\n",
      "<class 'pandas.core.frame.DataFrame'>\n",
      "Index: 24034 entries, MJMD0:SX308:0 to FCAU0:SX317:38\n",
      "Data columns (total 6 columns):\n",
      "START    24034 non-null int64\n",
      "END      24034 non-null int64\n",
      "PHN      24034 non-null object\n",
      "SIG      24034 non-null object\n",
      "SR       24034 non-null int64\n",
      "IDX      24034 non-null object\n",
      "dtypes: int64(3), object(3)\n",
      "memory usage: 1.3+ MB\n"
     ]
    }
   ],
   "source": [
    "%time all_phonemes_df = createItemsDataFrame(path, all_files_df, 'PHN')\n",
    "all_phonemes_df.info()"
   ]
  },
  {
   "cell_type": "code",
   "execution_count": 18,
   "metadata": {},
   "outputs": [
    {
     "name": "stdout",
     "output_type": "stream",
     "text": [
      "Phonemes count: 24034\n"
     ]
    }
   ],
   "source": [
    "print(f'Phonemes count: {len(all_phonemes_df)}')"
   ]
  },
  {
   "cell_type": "markdown",
   "metadata": {},
   "source": [
    "## Join data and create \"src\" "
   ]
  },
  {
   "cell_type": "code",
   "execution_count": 19,
   "metadata": {},
   "outputs": [],
   "source": [
    "#Join files with words\n",
    "src = all_phonemes_df.merge(all_files_df,left_on='IDX',right_on='IDX')\n",
    "assert len(src)==len(all_phonemes_df)"
   ]
  },
  {
   "cell_type": "code",
   "execution_count": 20,
   "metadata": {},
   "outputs": [
    {
     "data": {
      "text/plain": [
       "USAGE\n",
       "TEST     6367 \n",
       "TRAIN    17667\n",
       "Name: SIG, dtype: int64"
      ]
     },
     "execution_count": 20,
     "metadata": {},
     "output_type": "execute_result"
    }
   ],
   "source": [
    "#Optionally subsample and ensure good distribution among train and \"valid\"\n",
    "#src = src.sample(5000, random_state=1) # Uncomment this to reduce dataset\n",
    "src.groupby(['USAGE'])['SIG'].count()"
   ]
  },
  {
   "cell_type": "code",
   "execution_count": 21,
   "metadata": {},
   "outputs": [
    {
     "data": {
      "text/html": [
       "<div>\n",
       "<style scoped>\n",
       "    .dataframe tbody tr th:only-of-type {\n",
       "        vertical-align: middle;\n",
       "    }\n",
       "\n",
       "    .dataframe tbody tr th {\n",
       "        vertical-align: top;\n",
       "    }\n",
       "\n",
       "    .dataframe thead th {\n",
       "        text-align: right;\n",
       "    }\n",
       "</style>\n",
       "<table border=\"1\" class=\"dataframe\">\n",
       "  <thead>\n",
       "    <tr style=\"text-align: right;\">\n",
       "      <th></th>\n",
       "      <th>PHN</th>\n",
       "      <th>FREQ</th>\n",
       "    </tr>\n",
       "  </thead>\n",
       "  <tbody>\n",
       "    <tr>\n",
       "      <th>0</th>\n",
       "      <td>aa</td>\n",
       "      <td>402</td>\n",
       "    </tr>\n",
       "    <tr>\n",
       "      <th>1</th>\n",
       "      <td>ae</td>\n",
       "      <td>548</td>\n",
       "    </tr>\n",
       "    <tr>\n",
       "      <th>2</th>\n",
       "      <td>ah</td>\n",
       "      <td>316</td>\n",
       "    </tr>\n",
       "    <tr>\n",
       "      <th>3</th>\n",
       "      <td>ao</td>\n",
       "      <td>419</td>\n",
       "    </tr>\n",
       "    <tr>\n",
       "      <th>4</th>\n",
       "      <td>aw</td>\n",
       "      <td>75</td>\n",
       "    </tr>\n",
       "  </tbody>\n",
       "</table>\n",
       "</div>"
      ],
      "text/plain": [
       "  PHN  FREQ\n",
       "0  aa  402 \n",
       "1  ae  548 \n",
       "2  ah  316 \n",
       "3  ao  419 \n",
       "4  aw  75  "
      ]
     },
     "execution_count": 21,
     "metadata": {},
     "output_type": "execute_result"
    }
   ],
   "source": [
    "wrd_freq = src.groupby(['PHN'])['SIG'].count().reset_index(name='FREQ')\n",
    "wrd_freq.head()"
   ]
  },
  {
   "cell_type": "code",
   "execution_count": 22,
   "metadata": {},
   "outputs": [],
   "source": [
    "#Add word frequency measure to src\n",
    "src = src.merge(wrd_freq,left_on='PHN',right_on='PHN')\n",
    "assert len(src)==len(all_phonemes_df) # does not pass if src is reduced"
   ]
  },
  {
   "cell_type": "code",
   "execution_count": 23,
   "metadata": {},
   "outputs": [
    {
     "name": "stdout",
     "output_type": "stream",
     "text": [
      "24034\n"
     ]
    }
   ],
   "source": [
    "# Keep high frequency words\n",
    "#src = src[src.FREQ>=8]\n",
    "print(len(src))"
   ]
  },
  {
   "cell_type": "code",
   "execution_count": 24,
   "metadata": {},
   "outputs": [
    {
     "data": {
      "text/plain": [
       "(tensor([ 1.2207e-04,  1.5259e-04, -3.0518e-05,  ..., -3.6621e-04,\n",
       "          4.8828e-04,  6.1035e-04]), 16000)"
      ]
     },
     "execution_count": 24,
     "metadata": {},
     "output_type": "execute_result"
    }
   ],
   "source": [
    "#Create merged column...\n",
    "src['SampleAndSr'] = src.apply(lambda row: (row.SIG,row.SR),axis=1)\n",
    "src.iloc[0]['SampleAndSr']"
   ]
  },
  {
   "cell_type": "code",
   "execution_count": 25,
   "metadata": {},
   "outputs": [
    {
     "data": {
      "text/plain": [
       "is_valid\n",
       "False    17667\n",
       "True     6367 \n",
       "Name: SIG, dtype: int64"
      ]
     },
     "execution_count": 25,
     "metadata": {},
     "output_type": "execute_result"
    }
   ],
   "source": [
    "#Create validation set column from \"test\" hold out\n",
    "src['is_valid'] = src['USAGE'].apply(lambda x: not (x=='TRAIN'))\n",
    "src.groupby(['is_valid'])['SIG'].count()"
   ]
  },
  {
   "cell_type": "code",
   "execution_count": 26,
   "metadata": {},
   "outputs": [
    {
     "data": {
      "text/plain": [
       "61"
      ]
     },
     "execution_count": 26,
     "metadata": {},
     "output_type": "execute_result"
    }
   ],
   "source": [
    "#Count unique words\n",
    "len(src.PHN.unique())"
   ]
  },
  {
   "cell_type": "markdown",
   "metadata": {},
   "source": [
    "#### Useful statistics"
   ]
  },
  {
   "cell_type": "code",
   "execution_count": 27,
   "metadata": {},
   "outputs": [
    {
     "name": "stdout",
     "output_type": "stream",
     "text": [
      "Shortest item: 95\n",
      "Longest item: 74285\n"
     ]
    }
   ],
   "source": [
    "src['LENGHT'] = src.SIG.apply(lambda x: x.shape[0])\n",
    "print(f'Shortest item: {src.LENGHT.min()}')\n",
    "print(f'Longest item: {src.LENGHT.max()}')"
   ]
  },
  {
   "cell_type": "code",
   "execution_count": 28,
   "metadata": {},
   "outputs": [
    {
     "data": {
      "text/plain": [
       "<matplotlib.axes._subplots.AxesSubplot at 0x7f9587a1c7f0>"
      ]
     },
     "execution_count": 28,
     "metadata": {},
     "output_type": "execute_result"
    },
    {
     "data": {
      "image/png": "[encoded data removed]",
      "text/plain": [
       "<Figure size 432x288 with 1 Axes>"
      ]
     },
     "metadata": {
      "needs_background": "light"
     },
     "output_type": "display_data"
    }
   ],
   "source": [
    "src['LENGHT'].hist(bins=61)"
   ]
  },
  {
   "cell_type": "markdown",
   "metadata": {},
   "source": [
    "**WARNING** there are zero lenght items that should be filtered..."
   ]
  },
  {
   "cell_type": "code",
   "execution_count": 29,
   "metadata": {},
   "outputs": [
    {
     "name": "stdout",
     "output_type": "stream",
     "text": [
      "Shortest item: 95\n",
      "Longest item: 9971\n",
      "Number of items: 24000\n"
     ]
    }
   ],
   "source": [
    "#Discarding too short and too long sounds\n",
    "min_duration = 50 # in samples\n",
    "max_duration = 10000\n",
    "src = src[src.LENGHT>min_duration]\n",
    "src = src[src.LENGHT<=max_duration]\n",
    "print(f'Shortest item: {src.LENGHT.min()}')\n",
    "print(f'Longest item: {src.LENGHT.max()}')\n",
    "print(f'Number of items: {len(src)}')"
   ]
  },
  {
   "cell_type": "markdown",
   "metadata": {},
   "source": [
    "## Classify phonemes"
   ]
  },
  {
   "cell_type": "code",
   "execution_count": 30,
   "metadata": {},
   "outputs": [],
   "source": [
    "samples = src.sample(10,random_state=1)\n",
    "adsAndLbl = [(AudioData(samples.iloc[i].SIG,samples.iloc[i].SR),samples.iloc[i].PHN) for i in range(len(samples))]"
   ]
  },
  {
   "cell_type": "code",
   "execution_count": 31,
   "metadata": {},
   "outputs": [
    {
     "data": {
      "text/plain": [
       "10"
      ]
     },
     "execution_count": 31,
     "metadata": {},
     "output_type": "execute_result"
    }
   ],
   "source": [
    "len(adsAndLbl)"
   ]
  },
  {
   "cell_type": "code",
   "execution_count": 32,
   "metadata": {},
   "outputs": [
    {
     "data": {
      "text/html": [
       "\n",
       "                <audio controls=\"controls\" >\n",
       "                    <source src=\"data:audio/wav;base64,UklGRlwBAABXQVZFZm10IBAAAAABAAEAgD4AAAB9AAACABAAZGF0YTgBAACSAXICZgElA3ICsQe7Fv9/jXZZx8DhF0luFyUjaFMY6Znl+1STepEIDKi7/V3yT/jf5z2zQd6ER6E0D9q30sypDsEC+ZnFV5Urrt6u7vrjK5nlWAeK8mYBgw42LxQXIviEBz8+JUOqKnoY9/AAAFlAJjzwLLv9wrqP9rMAqdhdshW+Eqz6wuLZOagApy7gAtnK8Bb3atN55tEGYw9dK+UkFwmRCD4lVDV9KiwgZxrRJgMrrRxRCiUD9fd4BvYQQf4s507fmeUk8VDxuOtk7yXqse7J997uF/CO/TkBgw6DDnX7G/sSBd4HgRVIFJ4JkgG1+d8ARQKI+Qj9L/ns6PPlp98i2Pvbddui267citLyzFjOeM3D0+nWJNGzx5W69rfJt5C2Gcl90W3F19EP2si+ytCu/M778QU=\" type=\"audio/wav\" />\n",
       "                    Your browser does not support the audio element.\n",
       "                </audio>\n",
       "              "
      ],
      "text/plain": [
       "<IPython.lib.display.Audio object>"
      ]
     },
     "metadata": {},
     "output_type": "display_data"
    }
   ],
   "source": [
    "s = adsAndLbl[4][0]\n",
    "display(Audio(s.sig, rate=s.sr))"
   ]
  },
  {
   "cell_type": "code",
   "execution_count": 33,
   "metadata": {},
   "outputs": [
    {
     "name": "stdout",
     "output_type": "stream",
     "text": [
      "z tensor([-0.0024,  0.0034,  0.0006, -0.0034, -0.0013])\n",
      "eh tensor([0.0106, 0.0108, 0.0137, 0.0164, 0.0186])\n",
      "s tensor([-0.0008, -0.0005, -0.0003, -0.0002,  0.0000])\n",
      "ix tensor([-0.0019, -0.0039,  0.0016,  0.0028, -0.0034])\n",
      "d tensor([0.0003, 0.0004, 0.0002, 0.0005, 0.0004])\n",
      "h# tensor([ 0.0000e+00,  9.1553e-05,  1.2207e-04,  3.0518e-05, -6.1035e-05])\n",
      "em tensor([-0.0006,  0.0014,  0.0038,  0.0054,  0.0060])\n",
      "v tensor([-0.0017, -0.0013, -0.0023, -0.0019, -0.0019])\n",
      "h# tensor([3.0518e-05, 6.1035e-05, 3.0518e-05, 0.0000e+00, 9.1553e-05])\n",
      "el tensor([0.0081, 0.0100, 0.0122, 0.0150, 0.0180])\n"
     ]
    }
   ],
   "source": [
    "for ad in adsAndLbl[:10]:\n",
    "    print(ad[1],ad[0].sig[:5])"
   ]
  },
  {
   "cell_type": "markdown",
   "metadata": {},
   "source": [
    "### Create transformations"
   ]
  },
  {
   "cell_type": "code",
   "execution_count": 34,
   "metadata": {},
   "outputs": [],
   "source": [
    "#Data Augmentetion\n",
    "tm = AudioTfmsManager.get_audio_tfms_manager(\n",
    "                            spectro=True, #We're going to replace it...\n",
    "                            mx_to_pad=max_duration, #1 sec window\n",
    "                            white_noise=True, noise_scl=1e-4, # Small noise\n",
    "                            modulate_volume=True, lower_gain=.90, upper_gain=1.05, # Not big volume variation\n",
    "                            random_cutout=False,\n",
    "                            pad_with_silence=False,\n",
    "                            pitch_warp=False,\n",
    "                            down_and_up=False)"
   ]
  },
  {
   "cell_type": "code",
   "execution_count": 35,
   "metadata": {},
   "outputs": [
    {
     "data": {
      "application/vnd.jupyter.widget-view+json": {
       "model_id": "8ff30aef0c204c41b1562d4dacff2309",
       "version_major": 2,
       "version_minor": 0
      },
      "text/plain": [
       "Tab(children=(Output(), VBox(children=(Label(value='(0)\\tfunctools.partial(<function tfm_add_white_noise at 0x…"
      ]
     },
     "metadata": {},
     "output_type": "display_data"
    },
    {
     "data": {
      "text/plain": [
       "<exp.nb_AudioCommon.AudioData at 0x7f9587a046a0>"
      ]
     },
     "execution_count": 35,
     "metadata": {},
     "output_type": "execute_result"
    }
   ],
   "source": [
    "sl=adsAndLbl[1]\n",
    "tm.try_data_augmentation(ad=sl[0],lbl=sl[1])"
   ]
  },
  {
   "cell_type": "code",
   "execution_count": 36,
   "metadata": {},
   "outputs": [
    {
     "data": {
      "text/plain": [
       "[[functools.partial(<function tfm_add_white_noise at 0x7f95880679d8>, noise_scl=0.0001, lower_gain=0.9, upper_gain=1.05),\n",
       "  functools.partial(<function tfm_modulate_volume at 0x7f9588067a60>, noise_scl=0.0001, lower_gain=0.9, upper_gain=1.05),\n",
       "  functools.partial(<function tfm_pad_to_max at 0x7f9588067d90>, mx=10000),\n",
       "  functools.partial(<function tfm_spectro at 0x7f95883c3158>, noise_scl=0.0001, lower_gain=0.9, upper_gain=1.05)],\n",
       " [functools.partial(<function tfm_pad_to_max at 0x7f9588067d90>, mx=10000),\n",
       "  functools.partial(<function tfm_spectro at 0x7f95883c3158>, noise_scl=0.0001, lower_gain=0.9, upper_gain=1.05)]]"
      ]
     },
     "execution_count": 36,
     "metadata": {},
     "output_type": "execute_result"
    }
   ],
   "source": [
    "tm.get_tfms()"
   ]
  },
  {
   "cell_type": "code",
   "execution_count": 37,
   "metadata": {},
   "outputs": [
    {
     "data": {
      "text/plain": [
       "([[functools.partial(<function tfm_spectro at 0x7f95883c3158>, noise_scl=0.0001, lower_gain=0.9, upper_gain=1.05)]],\n",
       " [[functools.partial(<function tfm_spectro at 0x7f95883c3158>, noise_scl=0.0001, lower_gain=0.9, upper_gain=1.05)]])"
      ]
     },
     "execution_count": 37,
     "metadata": {},
     "output_type": "execute_result"
    }
   ],
   "source": [
    "#This is the \"POST\" transformation group that we're going to replace, both on train and validation... \n",
    "(tm.train_tfmsg[-1:], tm.valid_tfmsg[-1:])"
   ]
  },
  {
   "cell_type": "markdown",
   "metadata": {},
   "source": [
    "## Create multi spectrogram transformation:\n"
   ]
  },
  {
   "cell_type": "code",
   "execution_count": 38,
   "metadata": {},
   "outputs": [
    {
     "data": {
      "application/vnd.jupyter.widget-view+json": {
       "model_id": "89fca47b3bc84ab5a122831275dca36b",
       "version_major": 2,
       "version_minor": 0
      },
      "text/plain": [
       "Tab(children=(Output(), VBox(children=(Label(value='(0)\\tfunctools.partial(<function tfm_add_white_noise at 0x…"
      ]
     },
     "metadata": {},
     "output_type": "display_data"
    }
   ],
   "source": [
    "s = sl[0] #sample without label\n",
    "sAug = tm.try_data_augmentation(s) #apply data augmentation and show results..."
   ]
  },
  {
   "cell_type": "markdown",
   "metadata": {},
   "source": [
    "#### Create multi channel transform"
   ]
  },
  {
   "cell_type": "code",
   "execution_count": 39,
   "metadata": {},
   "outputs": [],
   "source": [
    "def tfm_trim(ad:AudioData, xBegin, xEnd):\n",
    "    '''Extract part of original signal'''\n",
    "    #print(ad.sig.shape, xBegin, xEnd)\n",
    "    x = ad.sig[int(xBegin):int(xEnd)]\n",
    "    return AudioData(x,ad.sr)"
   ]
  },
  {
   "cell_type": "code",
   "execution_count": 40,
   "metadata": {},
   "outputs": [
    {
     "name": "stdout",
     "output_type": "stream",
     "text": [
      "DONE\n"
     ]
    }
   ],
   "source": [
    "def test_tfm_trim():\n",
    "    assert 100==tfm_trim(s,0,100).sig.shape[0]\n",
    "    assert 100==tfm_trim(s,20,20+100).sig.shape[0]\n",
    "    print('DONE')\n",
    "test_tfm_trim()"
   ]
  },
  {
   "cell_type": "code",
   "execution_count": 41,
   "metadata": {},
   "outputs": [
    {
     "name": "stdout",
     "output_type": "stream",
     "text": [
      "10000 0 1600.0 3200.0\n"
     ]
    }
   ],
   "source": [
    "#Parameters\n",
    "wndWidth =  6800\n",
    "n_windows = 3\n",
    "wndStep = (max_duration - wndWidth)/(n_windows-1)\n",
    "start1 = 0\n",
    "start2 = wndStep*1\n",
    "start3 = wndStep*2\n",
    "\n",
    "print(max_duration, start1,start2,start3)"
   ]
  },
  {
   "cell_type": "code",
   "execution_count": 42,
   "metadata": {},
   "outputs": [],
   "source": [
    "def slidingSpectrogram(ad:AudioData, wndStart=0, wndWidth=6800):\n",
    "    trimmed = tfm_trim(ad, wndStart, wndStart+wndWidth) # Trim to the appropriate size\n",
    "    minLenForSpec = 6401\n",
    "    maxWW = max(minLenForSpec,wndWidth) # Cant be shorter...\n",
    "    padded = tfm_pad_to_max(trimmed, maxWW) # Ensure constant lenght\n",
    "    spec = tfm_spectro(padded, n_mels=224, ws=50, n_fft=3200*2, to_db_scale=True) # Spectrogram\n",
    "    #print(spec.shape)\n",
    "    ret =  spec[:,:,:120] # Crop\n",
    "    #print(ret.shape)\n",
    "    return ret"
   ]
  },
  {
   "cell_type": "code",
   "execution_count": 43,
   "metadata": {},
   "outputs": [],
   "source": [
    "def tfm_cropSpec(spec:torch.Tensor, yStart, yEnd)->torch.Tensor:\n",
    "    #yStart = int(math.floor(yStart))\n",
    "    #yEnd = int(math.floor(yEnd))\n",
    "    #print(spec.shape, yStart, yEnd, yEnd-yStart)\n",
    "    ret = spec[:,:,yStart:yEnd]\n",
    "    #print(ret.shape)\n",
    "    return ret"
   ]
  },
  {
   "cell_type": "code",
   "execution_count": 44,
   "metadata": {},
   "outputs": [],
   "source": [
    "def tfm_multiSpectrumSlide(ad:AudioData)->torch.Tensor:\n",
    "    '''This transformation is going to produce a 3-channels spectrum image from sliding windows'''\n",
    "    minLenForSpec = 6401\n",
    "    maxWW = max(minLenForSpec,max_duration) # max width\n",
    "    \n",
    "    padded = tfm_pad_to_max(ad, maxWW) # Ensure constant lenght\n",
    "    spec = tfm_spectro(padded, n_mels=224, ws=50, n_fft=3200*2, to_db_scale=True) # Spectrogram of all\n",
    "\n",
    "    wndWidth = 140 # in spec cols\n",
    "    maxSpecCols = spec.shape[2]\n",
    "    n_windows = 3\n",
    "    wndStep = (maxSpecCols - wndWidth)/(n_windows-1)\n",
    "    wndStep = int(math.floor(wndStep)) # make it integer\n",
    "    \n",
    "    #print(wndWidth, wndStep)\n",
    "    \n",
    "    n=0\n",
    "    ret = None\n",
    "    ret = tfm_cropSpec(spec,(n*wndStep),((n)*wndStep)+wndWidth) # Sliding window\n",
    "    wMax = ret.shape[2]\n",
    "    \n",
    "    n=1\n",
    "    img = tfm_cropSpec(spec,(n*wndStep),((n)*wndStep)+wndWidth)\n",
    "    ret = torch.cat([ret,img],dim=0) # Stack...\n",
    "\n",
    "    n=2\n",
    "    img = tfm_cropSpec(spec,(n*wndStep),((n)*wndStep)+wndWidth)\n",
    "    ret = torch.cat([ret,img],dim=0) # Stack...\n",
    "\n",
    "    return ret"
   ]
  },
  {
   "cell_type": "code",
   "execution_count": 45,
   "metadata": {},
   "outputs": [
    {
     "data": {
      "image/jpeg": "[encoded data removed]",
      "image/png": "[encoded data removed]",
      "text/plain": [
       "Image (1, 224, 140)"
      ]
     },
     "metadata": {},
     "output_type": "display_data"
    },
    {
     "data": {
      "image/jpeg": "[encoded data removed]",
      "image/png": "[encoded data removed]",
      "text/plain": [
       "Image (1, 224, 140)"
      ]
     },
     "metadata": {},
     "output_type": "display_data"
    },
    {
     "data": {
      "image/jpeg": "[encoded data removed]",
      "image/png": "[encoded data removed]",
      "text/plain": [
       "Image (1, 224, 140)"
      ]
     },
     "metadata": {},
     "output_type": "display_data"
    }
   ],
   "source": [
    "#Display channels inepenently\n",
    "imgMc = tfm_multiSpectrumSlide(sAug)\n",
    "for i in range(imgMc.shape[0]):\n",
    "    display(Image(imgMc[i:i+1,:,:]))"
   ]
  },
  {
   "cell_type": "code",
   "execution_count": 46,
   "metadata": {},
   "outputs": [
    {
     "data": {
      "application/vnd.jupyter.widget-view+json": {
       "model_id": "3e38387a0e054db0a5ff9f4f9dc84cba",
       "version_major": 2,
       "version_minor": 0
      },
      "text/plain": [
       "VBox(children=(HTML(value='<div style=\"background-color:black;color:white;text-align:center;\">None</div>', lay…"
      ]
     },
     "metadata": {},
     "output_type": "display_data"
    },
    {
     "data": {
      "text/plain": [
       "None"
      ]
     },
     "metadata": {},
     "output_type": "display_data"
    }
   ],
   "source": [
    "tm.try_train_tfms(s);"
   ]
  },
  {
   "cell_type": "code",
   "execution_count": 47,
   "metadata": {},
   "outputs": [
    {
     "data": {
      "text/plain": [
       "tensor([[[2.6595e-02, 2.8827e-02, 2.8901e-02,  ..., 0.0000e+00,\n",
       "          0.0000e+00, 0.0000e+00],\n",
       "         [1.9920e-01, 2.5152e-01, 2.9225e-01,  ..., 0.0000e+00,\n",
       "          0.0000e+00, 0.0000e+00],\n",
       "         [1.0051e-01, 1.3693e-01, 1.5372e-01,  ..., 0.0000e+00,\n",
       "          0.0000e+00, 0.0000e+00],\n",
       "         ...,\n",
       "         [1.1172e-05, 5.1642e-05, 4.9683e-04,  ..., 0.0000e+00,\n",
       "          0.0000e+00, 0.0000e+00],\n",
       "         [6.6122e-05, 1.5709e-05, 5.3219e-04,  ..., 0.0000e+00,\n",
       "          0.0000e+00, 0.0000e+00],\n",
       "         [1.1435e-04, 2.1504e-05, 2.4337e-04,  ..., 0.0000e+00,\n",
       "          0.0000e+00, 0.0000e+00]]])"
      ]
     },
     "execution_count": 47,
     "metadata": {},
     "output_type": "execute_result"
    }
   ],
   "source": [
    "tm.apply_valid_tfms(s)"
   ]
  },
  {
   "cell_type": "markdown",
   "metadata": {},
   "source": [
    "### Create final transformations\n",
    "\n",
    "We now create the final transofrmation that outputs a \"multi-channel\" image where channels:\n",
    " - 0: 100% signal\n",
    " - 1: 50% gignal made doubling the X resolution of spectrogram \n",
    " - 2: 25% gignal made *4 the X resolution of spectrogram\n",
    " \n",
    "The expected result on the final training is to improve classification performance on \"short\" sounds that are actually the most common.\n",
    "\n",
    "**IMPORTANT**: now our output tensor is a 3-channel tensor so we can use the standard architecture\n",
    " \n",
    "**TODO** : possible improvements\n",
    " - Increaze the number of zooms\n",
    " - Sliding window to cope with long signals\n",
    " - Stack multiple different transformations at one"
   ]
  },
  {
   "cell_type": "code",
   "execution_count": 48,
   "metadata": {},
   "outputs": [
    {
     "data": {
      "text/plain": [
       "([<function __main__.tfm_multiSpectrumSlide(ad: exp.nb_AudioCommon.AudioData) -> torch.Tensor>],\n",
       " [<function __main__.tfm_multiSpectrumSlide(ad: exp.nb_AudioCommon.AudioData) -> torch.Tensor>])"
      ]
     },
     "execution_count": 48,
     "metadata": {},
     "output_type": "execute_result"
    }
   ],
   "source": [
    "#Replace the spectrogram transform with tfm_spectro_stft\n",
    "tm.train_tfmsg[-1]=[tfm_multiSpectrumSlide]\n",
    "tm.valid_tfmsg[-1]=[tfm_multiSpectrumSlide]\n",
    "(tm.train_tfmsg[-1], tm.valid_tfmsg[-1])"
   ]
  },
  {
   "cell_type": "code",
   "execution_count": 49,
   "metadata": {},
   "outputs": [
    {
     "data": {
      "application/vnd.jupyter.widget-view+json": {
       "model_id": "bc916a8aec734bd8850515b4ea64cb85",
       "version_major": 2,
       "version_minor": 0
      },
      "text/plain": [
       "VBox(children=(HTML(value='<div style=\"background-color:black;color:white;text-align:center;\">None</div>', lay…"
      ]
     },
     "metadata": {},
     "output_type": "display_data"
    },
    {
     "data": {
      "text/plain": [
       "None"
      ]
     },
     "metadata": {},
     "output_type": "display_data"
    }
   ],
   "source": [
    "#Try single one\n",
    "tm.try_train_tfms(s);"
   ]
  },
  {
   "cell_type": "markdown",
   "metadata": {},
   "source": [
    "### DataBlock"
   ]
  },
  {
   "cell_type": "code",
   "execution_count": 49,
   "metadata": {},
   "outputs": [
    {
     "data": {
      "text/plain": [
       "(61, ['aa', 'ae', 'ah'])"
      ]
     },
     "execution_count": 49,
     "metadata": {},
     "output_type": "execute_result"
    }
   ],
   "source": [
    "#Create classes for all data!\n",
    "classes = list(sorted(all_phonemes_df.PHN.unique()))\n",
    "len(classes), classes[:3]"
   ]
  },
  {
   "cell_type": "code",
   "execution_count": 50,
   "metadata": {},
   "outputs": [
    {
     "data": {
      "text/plain": [
       "[[functools.partial(<function tfm_add_white_noise at 0x7f4cb8cbf9d8>, noise_scl=0.0001, lower_gain=0.9, upper_gain=1.05),\n",
       "  functools.partial(<function tfm_modulate_volume at 0x7f4cb8cbfa60>, noise_scl=0.0001, lower_gain=0.9, upper_gain=1.05),\n",
       "  functools.partial(<function tfm_pad_to_max at 0x7f4cb8cbfd90>, mx=10000),\n",
       "  <function __main__.tfm_multiSpectrumSlide(ad: exp.nb_AudioCommon.AudioData) -> torch.Tensor>],\n",
       " [functools.partial(<function tfm_pad_to_max at 0x7f4cb8cbfd90>, mx=10000),\n",
       "  <function __main__.tfm_multiSpectrumSlide(ad: exp.nb_AudioCommon.AudioData) -> torch.Tensor>]]"
      ]
     },
     "execution_count": 50,
     "metadata": {},
     "output_type": "execute_result"
    }
   ],
   "source": [
    "tfms = tm.get_tfms()\n",
    "tfms"
   ]
  },
  {
   "cell_type": "code",
   "execution_count": 51,
   "metadata": {},
   "outputs": [],
   "source": [
    "data = (AudioList.from_df(src, path, cols=['SampleAndSr'])\n",
    "        .split_from_df('is_valid')\n",
    "        .label_from_df('PHN', classes=classes)\n",
    "        .transform(tfms)\n",
    "        .databunch(bs=64)) # NOTE: "
   ]
  },
  {
   "cell_type": "markdown",
   "metadata": {},
   "source": [
    "## Learner"
   ]
  },
  {
   "cell_type": "code",
   "execution_count": 52,
   "metadata": {},
   "outputs": [],
   "source": [
    "learn = cnn_learner(data, models.resnet50, metrics=accuracy)"
   ]
  },
  {
   "cell_type": "markdown",
   "metadata": {},
   "source": [
    "**No need to adapt the first layer: is actually a 3-channels image**"
   ]
  },
  {
   "cell_type": "code",
   "execution_count": 53,
   "metadata": {},
   "outputs": [
    {
     "name": "stdout",
     "output_type": "stream",
     "text": [
      "First layer shape: torch.Size([64, 3, 7, 7])\n"
     ]
    }
   ],
   "source": [
    "#adapt_first_layer(learn.model,nChannels)\n",
    "print(f'First layer shape: {learn.model[0][0].weight.shape}')"
   ]
  },
  {
   "cell_type": "markdown",
   "metadata": {},
   "source": [
    "## Train"
   ]
  },
  {
   "cell_type": "code",
   "execution_count": 54,
   "metadata": {},
   "outputs": [
    {
     "data": {
      "text/html": [],
      "text/plain": [
       "<IPython.core.display.HTML object>"
      ]
     },
     "metadata": {},
     "output_type": "display_data"
    },
    {
     "name": "stdout",
     "output_type": "stream",
     "text": [
      "LR Finder is complete, type {learner_name}.recorder.plot() to see the graph.\n",
      "Min numerical gradient: 5.25E-03\n"
     ]
    },
    {
     "data": {
      "image/png": "[encoded data removed]",
      "text/plain": [
       "<Figure size 432x288 with 1 Axes>"
      ]
     },
     "metadata": {
      "needs_background": "light"
     },
     "output_type": "display_data"
    }
   ],
   "source": [
    "lr_find(learn)\n",
    "learn.recorder.plot(suggestion=True)"
   ]
  },
  {
   "cell_type": "code",
   "execution_count": 55,
   "metadata": {},
   "outputs": [
    {
     "data": {
      "text/html": [
       "\n",
       "    <div>\n",
       "        <style>\n",
       "            /* Turns off some styling */\n",
       "            progress {\n",
       "                /* gets rid of default border in Firefox and Opera. */\n",
       "                border: none;\n",
       "                /* Needs to be in here for Safari polyfill so background images work as expected. */\n",
       "                background-size: auto;\n",
       "            }\n",
       "            .progress-bar-interrupted, .progress-bar-interrupted::-webkit-progress-bar {\n",
       "                background: #F44336;\n",
       "            }\n",
       "        </style>\n",
       "      <progress value='5' class='' max='8', style='width:300px; height:20px; vertical-align: middle;'></progress>\n",
       "      62.50% [5/8 2:19:14<1:23:32]\n",
       "    </div>\n",
       "    \n",
       "<table border=\"1\" class=\"dataframe\">\n",
       "  <thead>\n",
       "    <tr style=\"text-align: left;\">\n",
       "      <th>epoch</th>\n",
       "      <th>train_loss</th>\n",
       "      <th>valid_loss</th>\n",
       "      <th>accuracy</th>\n",
       "      <th>time</th>\n",
       "    </tr>\n",
       "  </thead>\n",
       "  <tbody>\n",
       "    <tr>\n",
       "      <td>0</td>\n",
       "      <td>1.528819</td>\n",
       "      <td>1.456701</td>\n",
       "      <td>0.534554</td>\n",
       "      <td>27:45</td>\n",
       "    </tr>\n",
       "    <tr>\n",
       "      <td>1</td>\n",
       "      <td>1.355649</td>\n",
       "      <td>1.231745</td>\n",
       "      <td>0.608129</td>\n",
       "      <td>27:47</td>\n",
       "    </tr>\n",
       "    <tr>\n",
       "      <td>2</td>\n",
       "      <td>1.262017</td>\n",
       "      <td>1.180571</td>\n",
       "      <td>0.626319</td>\n",
       "      <td>27:52</td>\n",
       "    </tr>\n",
       "    <tr>\n",
       "      <td>3</td>\n",
       "      <td>1.177578</td>\n",
       "      <td>1.092531</td>\n",
       "      <td>0.649991</td>\n",
       "      <td>27:52</td>\n",
       "    </tr>\n",
       "    <tr>\n",
       "      <td>4</td>\n",
       "      <td>1.056059</td>\n",
       "      <td>1.004916</td>\n",
       "      <td>0.672631</td>\n",
       "      <td>27:55</td>\n",
       "    </tr>\n",
       "  </tbody>\n",
       "</table><p>\n",
       "\n",
       "    <div>\n",
       "        <style>\n",
       "            /* Turns off some styling */\n",
       "            progress {\n",
       "                /* gets rid of default border in Firefox and Opera. */\n",
       "                border: none;\n",
       "                /* Needs to be in here for Safari polyfill so background images work as expected. */\n",
       "                background-size: auto;\n",
       "            }\n",
       "            .progress-bar-interrupted, .progress-bar-interrupted::-webkit-progress-bar {\n",
       "                background: #F44336;\n",
       "            }\n",
       "        </style>\n",
       "      <progress value='67' class='' max='1001', style='width:300px; height:20px; vertical-align: middle;'></progress>\n",
       "      6.69% [67/1001 00:31<07:17]\n",
       "    </div>\n",
       "    "
      ],
      "text/plain": [
       "<IPython.core.display.HTML object>"
      ]
     },
     "metadata": {},
     "output_type": "display_data"
    },
    {
     "name": "stderr",
     "output_type": "stream",
     "text": [
      "IOPub message rate exceeded.\n",
      "The notebook server will temporarily stop sending output\n",
      "to the client in order to avoid crashing it.\n",
      "To change this limit, set the config variable\n",
      "`--NotebookApp.iopub_msg_rate_limit`.\n",
      "\n",
      "Current values:\n",
      "NotebookApp.iopub_msg_rate_limit=1000.0 (msgs/sec)\n",
      "NotebookApp.rate_limit_window=3.0 (secs)\n",
      "\n"
     ]
    }
   ],
   "source": [
    "learn.fit_one_cycle(8, slice(1e-2))\n",
    "learn.recorder.plot_losses()"
   ]
  },
  {
   "cell_type": "code",
   "execution_count": 58,
   "metadata": {},
   "outputs": [
    {
     "data": {
      "image/png": "[encoded data removed]",
      "text/plain": [
       "<Figure size 432x288 with 1 Axes>"
      ]
     },
     "metadata": {
      "needs_background": "light"
     },
     "output_type": "display_data"
    }
   ],
   "source": [
    "learn.recorder.plot_losses()"
   ]
  },
  {
   "cell_type": "markdown",
   "metadata": {},
   "source": [
    "Impressive results with all data: algorithm generalizes very very well!"
   ]
  },
  {
   "cell_type": "code",
   "execution_count": 56,
   "metadata": {},
   "outputs": [
    {
     "data": {
      "text/html": [
       "Total time: 22:29 <p><table border=\"1\" class=\"dataframe\">\n",
       "  <thead>\n",
       "    <tr style=\"text-align: left;\">\n",
       "      <th>epoch</th>\n",
       "      <th>train_loss</th>\n",
       "      <th>valid_loss</th>\n",
       "      <th>accuracy</th>\n",
       "      <th>time</th>\n",
       "    </tr>\n",
       "  </thead>\n",
       "  <tbody>\n",
       "    <tr>\n",
       "      <td>0</td>\n",
       "      <td>2.486425</td>\n",
       "      <td>2.214132</td>\n",
       "      <td>0.337423</td>\n",
       "      <td>02:48</td>\n",
       "    </tr>\n",
       "    <tr>\n",
       "      <td>1</td>\n",
       "      <td>2.066756</td>\n",
       "      <td>1.899197</td>\n",
       "      <td>0.409313</td>\n",
       "      <td>02:47</td>\n",
       "    </tr>\n",
       "    <tr>\n",
       "      <td>2</td>\n",
       "      <td>1.758308</td>\n",
       "      <td>1.635987</td>\n",
       "      <td>0.487651</td>\n",
       "      <td>02:49</td>\n",
       "    </tr>\n",
       "    <tr>\n",
       "      <td>3</td>\n",
       "      <td>1.547204</td>\n",
       "      <td>1.521214</td>\n",
       "      <td>0.524304</td>\n",
       "      <td>02:47</td>\n",
       "    </tr>\n",
       "    <tr>\n",
       "      <td>4</td>\n",
       "      <td>1.375261</td>\n",
       "      <td>1.379541</td>\n",
       "      <td>0.560327</td>\n",
       "      <td>02:49</td>\n",
       "    </tr>\n",
       "    <tr>\n",
       "      <td>5</td>\n",
       "      <td>1.235152</td>\n",
       "      <td>1.331511</td>\n",
       "      <td>0.575114</td>\n",
       "      <td>02:48</td>\n",
       "    </tr>\n",
       "    <tr>\n",
       "      <td>6</td>\n",
       "      <td>1.020621</td>\n",
       "      <td>1.305962</td>\n",
       "      <td>0.590530</td>\n",
       "      <td>02:48</td>\n",
       "    </tr>\n",
       "    <tr>\n",
       "      <td>7</td>\n",
       "      <td>0.947746</td>\n",
       "      <td>1.308162</td>\n",
       "      <td>0.594306</td>\n",
       "      <td>02:48</td>\n",
       "    </tr>\n",
       "  </tbody>\n",
       "</table>"
      ],
      "text/plain": [
       "<IPython.core.display.HTML object>"
      ]
     },
     "metadata": {},
     "output_type": "display_data"
    },
    {
     "data": {
      "image/png": "[encoded data removed]",
      "text/plain": [
       "<Figure size 432x288 with 1 Axes>"
      ]
     },
     "metadata": {
      "needs_background": "light"
     },
     "output_type": "display_data"
    }
   ],
   "source": [
    "learn.fit_one_cycle(8, slice(1e-2))\n",
    "learn.recorder.plot_losses()"
   ]
  },
  {
   "cell_type": "markdown",
   "metadata": {},
   "source": [
    "**NB:** sliding window is about 40% faster than multi-resolution"
   ]
  },
  {
   "cell_type": "code",
   "execution_count": 56,
   "metadata": {},
   "outputs": [],
   "source": [
    "learn.save('pass1_all_mc')"
   ]
  },
  {
   "cell_type": "code",
   "execution_count": 57,
   "metadata": {},
   "outputs": [],
   "source": [
    "learn.freeze_to(1)"
   ]
  },
  {
   "cell_type": "code",
   "execution_count": 59,
   "metadata": {},
   "outputs": [
    {
     "data": {
      "text/html": [],
      "text/plain": [
       "<IPython.core.display.HTML object>"
      ]
     },
     "metadata": {},
     "output_type": "display_data"
    },
    {
     "name": "stdout",
     "output_type": "stream",
     "text": [
      "LR Finder is complete, type {learner_name}.recorder.plot() to see the graph.\n",
      "Min numerical gradient: 7.59E-07\n"
     ]
    },
    {
     "data": {
      "image/png": "[encoded data removed]",
      "text/plain": [
       "<Figure size 432x288 with 1 Axes>"
      ]
     },
     "metadata": {
      "needs_background": "light"
     },
     "output_type": "display_data"
    }
   ],
   "source": [
    "lr_find(learn)\n",
    "learn.recorder.plot(suggestion=True)"
   ]
  },
  {
   "cell_type": "code",
   "execution_count": null,
   "metadata": {},
   "outputs": [
    {
     "data": {
      "text/html": [
       "\n",
       "    <div>\n",
       "        <style>\n",
       "            /* Turns off some styling */\n",
       "            progress {\n",
       "                /* gets rid of default border in Firefox and Opera. */\n",
       "                border: none;\n",
       "                /* Needs to be in here for Safari polyfill so background images work as expected. */\n",
       "                background-size: auto;\n",
       "            }\n",
       "            .progress-bar-interrupted, .progress-bar-interrupted::-webkit-progress-bar {\n",
       "                background: #F44336;\n",
       "            }\n",
       "        </style>\n",
       "      <progress value='6' class='' max='8', style='width:300px; height:20px; vertical-align: middle;'></progress>\n",
       "      75.00% [6/8 2:47:04<55:41]\n",
       "    </div>\n",
       "    \n",
       "<table border=\"1\" class=\"dataframe\">\n",
       "  <thead>\n",
       "    <tr style=\"text-align: left;\">\n",
       "      <th>epoch</th>\n",
       "      <th>train_loss</th>\n",
       "      <th>valid_loss</th>\n",
       "      <th>accuracy</th>\n",
       "      <th>time</th>\n",
       "    </tr>\n",
       "  </thead>\n",
       "  <tbody>\n",
       "    <tr>\n",
       "      <td>0</td>\n",
       "      <td>0.865493</td>\n",
       "      <td>0.909029</td>\n",
       "      <td>0.700753</td>\n",
       "      <td>27:49</td>\n",
       "    </tr>\n",
       "    <tr>\n",
       "      <td>1</td>\n",
       "      <td>0.865160</td>\n",
       "      <td>0.911118</td>\n",
       "      <td>0.700206</td>\n",
       "      <td>27:51</td>\n",
       "    </tr>\n",
       "    <tr>\n",
       "      <td>2</td>\n",
       "      <td>0.834766</td>\n",
       "      <td>0.908871</td>\n",
       "      <td>0.702455</td>\n",
       "      <td>27:50</td>\n",
       "    </tr>\n",
       "    <tr>\n",
       "      <td>3</td>\n",
       "      <td>0.773275</td>\n",
       "      <td>0.884291</td>\n",
       "      <td>0.709309</td>\n",
       "      <td>27:47</td>\n",
       "    </tr>\n",
       "    <tr>\n",
       "      <td>4</td>\n",
       "      <td>0.725714</td>\n",
       "      <td>0.883486</td>\n",
       "      <td>0.713135</td>\n",
       "      <td>27:52</td>\n",
       "    </tr>\n",
       "    <tr>\n",
       "      <td>5</td>\n",
       "      <td>0.679396</td>\n",
       "      <td>0.882158</td>\n",
       "      <td>0.715211</td>\n",
       "      <td>27:53</td>\n",
       "    </tr>\n",
       "  </tbody>\n",
       "</table><p>\n",
       "\n",
       "    <div>\n",
       "        <style>\n",
       "            /* Turns off some styling */\n",
       "            progress {\n",
       "                /* gets rid of default border in Firefox and Opera. */\n",
       "                border: none;\n",
       "                /* Needs to be in here for Safari polyfill so background images work as expected. */\n",
       "                background-size: auto;\n",
       "            }\n",
       "            .progress-bar-interrupted, .progress-bar-interrupted::-webkit-progress-bar {\n",
       "                background: #F44336;\n",
       "            }\n",
       "        </style>\n",
       "      <progress value='500' class='' max='2762', style='width:300px; height:20px; vertical-align: middle;'></progress>\n",
       "      18.10% [500/2762 03:43<16:51 0.6029]\n",
       "    </div>\n",
       "    "
      ],
      "text/plain": [
       "<IPython.core.display.HTML object>"
      ]
     },
     "metadata": {},
     "output_type": "display_data"
    },
    {
     "name": "stderr",
     "output_type": "stream",
     "text": [
      "IOPub message rate exceeded.\n",
      "The notebook server will temporarily stop sending output\n",
      "to the client in order to avoid crashing it.\n",
      "To change this limit, set the config variable\n",
      "`--NotebookApp.iopub_msg_rate_limit`.\n",
      "\n",
      "Current values:\n",
      "NotebookApp.iopub_msg_rate_limit=1000.0 (msgs/sec)\n",
      "NotebookApp.rate_limit_window=3.0 (secs)\n",
      "\n",
      "IOPub message rate exceeded.\n",
      "The notebook server will temporarily stop sending output\n",
      "to the client in order to avoid crashing it.\n",
      "To change this limit, set the config variable\n",
      "`--NotebookApp.iopub_msg_rate_limit`.\n",
      "\n",
      "Current values:\n",
      "NotebookApp.iopub_msg_rate_limit=1000.0 (msgs/sec)\n",
      "NotebookApp.rate_limit_window=3.0 (secs)\n",
      "\n"
     ]
    }
   ],
   "source": [
    "learn.fit_one_cycle(8, slice(1e-4))\n",
    "learn.recorder.plot_losses()"
   ]
  },
  {
   "cell_type": "code",
   "execution_count": 61,
   "metadata": {},
   "outputs": [
    {
     "data": {
      "image/png": "[encoded data removed]",
      "text/plain": [
       "<Figure size 432x288 with 1 Axes>"
      ]
     },
     "metadata": {
      "needs_background": "light"
     },
     "output_type": "display_data"
    }
   ],
   "source": [
    "learn.recorder.plot_losses()"
   ]
  },
  {
   "cell_type": "code",
   "execution_count": 62,
   "metadata": {},
   "outputs": [],
   "source": [
    "learn.save('pass2_all')"
   ]
  },
  {
   "cell_type": "code",
   "execution_count": 63,
   "metadata": {},
   "outputs": [],
   "source": [
    "learn.unfreeze()"
   ]
  },
  {
   "cell_type": "code",
   "execution_count": 64,
   "metadata": {},
   "outputs": [
    {
     "data": {
      "text/html": [],
      "text/plain": [
       "<IPython.core.display.HTML object>"
      ]
     },
     "metadata": {},
     "output_type": "display_data"
    },
    {
     "name": "stdout",
     "output_type": "stream",
     "text": [
      "LR Finder is complete, type {learner_name}.recorder.plot() to see the graph.\n",
      "Min numerical gradient: 1.91E-06\n"
     ]
    },
    {
     "data": {
      "image/png": "[encoded data removed]",
      "text/plain": [
       "<Figure size 432x288 with 1 Axes>"
      ]
     },
     "metadata": {
      "needs_background": "light"
     },
     "output_type": "display_data"
    }
   ],
   "source": [
    "lr_find(learn)\n",
    "learn.recorder.plot(suggestion=True)"
   ]
  },
  {
   "cell_type": "code",
   "execution_count": 65,
   "metadata": {},
   "outputs": [
    {
     "data": {
      "text/html": [
       "Total time: 3:46:50 <p><table border=\"1\" class=\"dataframe\">\n",
       "  <thead>\n",
       "    <tr style=\"text-align: left;\">\n",
       "      <th>epoch</th>\n",
       "      <th>train_loss</th>\n",
       "      <th>valid_loss</th>\n",
       "      <th>accuracy</th>\n",
       "      <th>time</th>\n",
       "    </tr>\n",
       "  </thead>\n",
       "  <tbody>\n",
       "    <tr>\n",
       "      <td>0</td>\n",
       "      <td>0.585950</td>\n",
       "      <td>0.893180</td>\n",
       "      <td>0.715789</td>\n",
       "      <td>27:51</td>\n",
       "    </tr>\n",
       "    <tr>\n",
       "      <td>1</td>\n",
       "      <td>0.571960</td>\n",
       "      <td>0.907125</td>\n",
       "      <td>0.712729</td>\n",
       "      <td>27:57</td>\n",
       "    </tr>\n",
       "    <tr>\n",
       "      <td>2</td>\n",
       "      <td>0.573770</td>\n",
       "      <td>0.918177</td>\n",
       "      <td>0.711761</td>\n",
       "      <td>27:55</td>\n",
       "    </tr>\n",
       "    <tr>\n",
       "      <td>3</td>\n",
       "      <td>0.550138</td>\n",
       "      <td>0.923194</td>\n",
       "      <td>0.713353</td>\n",
       "      <td>27:59</td>\n",
       "    </tr>\n",
       "    <tr>\n",
       "      <td>4</td>\n",
       "      <td>0.517276</td>\n",
       "      <td>0.935085</td>\n",
       "      <td>0.711605</td>\n",
       "      <td>29:10</td>\n",
       "    </tr>\n",
       "    <tr>\n",
       "      <td>5</td>\n",
       "      <td>0.474459</td>\n",
       "      <td>0.941725</td>\n",
       "      <td>0.710917</td>\n",
       "      <td>29:33</td>\n",
       "    </tr>\n",
       "    <tr>\n",
       "      <td>6</td>\n",
       "      <td>0.464469</td>\n",
       "      <td>0.944859</td>\n",
       "      <td>0.710777</td>\n",
       "      <td>28:12</td>\n",
       "    </tr>\n",
       "    <tr>\n",
       "      <td>7</td>\n",
       "      <td>0.453244</td>\n",
       "      <td>0.945796</td>\n",
       "      <td>0.711464</td>\n",
       "      <td>28:09</td>\n",
       "    </tr>\n",
       "  </tbody>\n",
       "</table>"
      ],
      "text/plain": [
       "<IPython.core.display.HTML object>"
      ]
     },
     "metadata": {},
     "output_type": "display_data"
    },
    {
     "data": {
      "image/png": "[encoded data removed]",
      "text/plain": [
       "<Figure size 432x288 with 1 Axes>"
      ]
     },
     "metadata": {
      "needs_background": "light"
     },
     "output_type": "display_data"
    }
   ],
   "source": [
    "learn.fit_one_cycle(8, slice(1e-6, 1.1e-5))\n",
    "learn.recorder.plot_losses()"
   ]
  },
  {
   "cell_type": "markdown",
   "metadata": {},
   "source": [
    "Not improving..."
   ]
  },
  {
   "cell_type": "code",
   "execution_count": 67,
   "metadata": {},
   "outputs": [],
   "source": [
    "#learn.save('pass3_all')"
   ]
  },
  {
   "cell_type": "markdown",
   "metadata": {},
   "source": [
    "Impressive about 40% better with all data compared to 10%."
   ]
  },
  {
   "cell_type": "markdown",
   "metadata": {},
   "source": [
    "## Fin."
   ]
  },
  {
   "cell_type": "code",
   "execution_count": null,
   "metadata": {},
   "outputs": [],
   "source": []
  }
 ],
 "metadata": {
  "kernelspec": {
   "display_name": "Python 3",
   "language": "python",
   "name": "python3"
  },
  "language_info": {
   "codemirror_mode": {
    "name": "ipython",
    "version": 3
   },
   "file_extension": ".py",
   "mimetype": "text/x-python",
   "name": "python",
   "nbconvert_exporter": "python",
   "pygments_lexer": "ipython3",
   "version": "3.7.0"
  },
  "varInspector": {
   "cols": {
    "lenName": 16,
    "lenType": 16,
    "lenVar": 40
   },
   "kernels_config": {
    "python": {
     "delete_cmd_postfix": "",
     "delete_cmd_prefix": "del ",
     "library": "var_list.py",
     "varRefreshCmd": "print(var_dic_list())"
    },
    "r": {
     "delete_cmd_postfix": ") ",
     "delete_cmd_prefix": "rm(",
     "library": "var_list.r",
     "varRefreshCmd": "cat(var_dic_list()) "
    }
   },
   "types_to_exclude": [
    "module",
    "function",
    "builtin_function_or_method",
    "instance",
    "_Feature"
   ],
   "window_display": false
  }
 },
 "nbformat": 4,
 "nbformat_minor": 2
}
