{
 "cells": [
  {
   "cell_type": "markdown",
   "metadata": {},
   "source": [
    "# Example: phoneme classification with multiple samples spectrogram \n",
    "Experimental notebook by @ste\n",
    "\n",
    "TL;DR\n",
    "\n",
    "The current dataset has a lot of short words and some long words.\n",
    "If you look at the samples of \"single spectrogram\" notebook you'll see that for short sounds almost all the resulting spectrogram is \"silence\".\n",
    "\n",
    "So I've tried to create a sample notebook that, instead of a single channel, transform the \"augmented\" sound (volume, noise, ...) into a three channel image where:\n",
    " - channel 0: is the complete spectrogram (like single spectrogram notebook)\n",
    " - channel 1: contains a spectrogram created with the first 50% of the sound (for medium lenght sounds)\n",
    " - channel 2: is the spectrogram for short sound \n",
    " \n",
    "**With the single spectrogram approach (using 10% of train/valid) I've got 29% accouracy, with multi spectrogram approach I've got 37%.**"
   ]
  },
  {
   "cell_type": "markdown",
   "metadata": {},
   "source": [
    "The key point is understanding the \"chain of transformations\" that takes the original data (a \"sound\") and converts them it into an suitable input for the model.\n",
    "This chain comprises two main parts:\n",
    "* DATA AUGMENTATION: f(sound) -> sound \n",
    "* STRUCTURE TRANSFORM: f(sound) -> tensor"
   ]
  },
  {
   "attachments": {
    "image.png": {
     "image/png": "[encoded data removed]"
    }
   },
   "cell_type": "markdown",
   "metadata": {},
   "source": [
    "![image.png](attachment:image.png)"
   ]
  },
  {
   "cell_type": "markdown",
   "metadata": {},
   "source": [
    "NB: theese images are part of a coming post on that matter... "
   ]
  },
  {
   "cell_type": "code",
   "execution_count": 1,
   "metadata": {},
   "outputs": [],
   "source": [
    "## Notebook settings\n",
    "%reload_ext autoreload\n",
    "%autoreload 2\n",
    "%matplotlib inline"
   ]
  },
  {
   "cell_type": "code",
   "execution_count": 2,
   "metadata": {},
   "outputs": [],
   "source": [
    "## fastai imports\n",
    "from fastai.basics import *\n",
    "from fastai.data_block import ItemList\n",
    "from fastai.vision import *"
   ]
  },
  {
   "cell_type": "markdown",
   "metadata": {},
   "source": [
    "Import FastAI Audio modules here:"
   ]
  },
  {
   "cell_type": "code",
   "execution_count": 3,
   "metadata": {},
   "outputs": [],
   "source": [
    "from exp.nb_AudioCommon import *\n",
    "from exp.nb_DataBlock import *\n",
    "from exp.nb_DataAugmentation import *\n",
    "from exp.nb_TransformsManager import *"
   ]
  },
  {
   "cell_type": "markdown",
   "metadata": {},
   "source": [
    "### Other library imports"
   ]
  },
  {
   "cell_type": "markdown",
   "metadata": {},
   "source": [
    "If this cell fails, you probably haven't installed the correct system/Python dependencies. You might need to re-run the \"System setup\" cell again."
   ]
  },
  {
   "cell_type": "code",
   "execution_count": 4,
   "metadata": {},
   "outputs": [],
   "source": [
    "import torch\n",
    "from pdb import set_trace\n",
    "from IPython.display import Audio\n",
    "from pydub import AudioSegment, silence\n",
    "import torchaudio\n",
    "from torchaudio import transforms\n",
    "import pandas as pd"
   ]
  },
  {
   "cell_type": "code",
   "execution_count": 5,
   "metadata": {},
   "outputs": [],
   "source": [
    "#Options\n",
    "pd.set_option('display.max_colwidth', -1)"
   ]
  },
  {
   "cell_type": "markdown",
   "metadata": {},
   "source": [
    "## Preparing the data"
   ]
  },
  {
   "cell_type": "markdown",
   "metadata": {},
   "source": [
    "We're going to do **phoneme classification** using the TIMIT dataset.\n",
    "\n",
    "The copyright on TIMIT isn't clear, and the data is hard to download, so we assume that the user has access to this dataset.\n",
    "\n",
    "**IMPORTANT:** the dataset should be located in the standard fast.ai location:\n",
    "> $HOME/.fastai/data/timit"
   ]
  },
  {
   "cell_type": "code",
   "execution_count": 6,
   "metadata": {},
   "outputs": [],
   "source": [
    "#Fast.ai way to get folder for your dataset\n",
    "path = datapath4file('timit')"
   ]
  },
  {
   "cell_type": "markdown",
   "metadata": {},
   "source": [
    "### Parsing the data"
   ]
  },
  {
   "cell_type": "code",
   "execution_count": 7,
   "metadata": {},
   "outputs": [
    {
     "name": "stdout",
     "output_type": "stream",
     "text": [
      "TEST PASED\n"
     ]
    }
   ],
   "source": [
    "def extractInformationsFromAbsolutePath(s: str):\n",
    "    items = list(filter(lambda x: len(x)>0,s.split('/')))\n",
    "    USAGE = items[0]\n",
    "    DIALECT = items[1]\n",
    "    SEX = items[2][0]\n",
    "    SPEAKER_ID = items[2][1:]\n",
    "    SENTENCE_ID = items[3]\n",
    "    return USAGE, DIALECT, SEX, SPEAKER_ID, SENTENCE_ID\n",
    "    \n",
    "def test_extractInformationsFromAbsolutePath():\n",
    "    USAGE, DIALECT, SEX, SPEAKER_ID, SENTENCE_ID = extractInformationsFromAbsolutePath('/TRAIN/DR7/MPAR0/SI2206')\n",
    "    assert 'TRAIN'==USAGE\n",
    "    assert 'DR7'==DIALECT\n",
    "    assert 'M'==SEX\n",
    "    assert 'PAR0'==SPEAKER_ID\n",
    "    assert 'SI2206'==SENTENCE_ID\n",
    "    print('TEST PASED')\n",
    "\n",
    "test_extractInformationsFromAbsolutePath()"
   ]
  },
  {
   "cell_type": "code",
   "execution_count": 8,
   "metadata": {},
   "outputs": [
    {
     "data": {
      "text/html": [
       "<div>\n",
       "<style scoped>\n",
       "    .dataframe tbody tr th:only-of-type {\n",
       "        vertical-align: middle;\n",
       "    }\n",
       "\n",
       "    .dataframe tbody tr th {\n",
       "        vertical-align: top;\n",
       "    }\n",
       "\n",
       "    .dataframe thead th {\n",
       "        text-align: right;\n",
       "    }\n",
       "</style>\n",
       "<table border=\"1\" class=\"dataframe\">\n",
       "  <thead>\n",
       "    <tr style=\"text-align: right;\">\n",
       "      <th></th>\n",
       "      <th>relPath</th>\n",
       "      <th>USAGE</th>\n",
       "      <th>DIALECT</th>\n",
       "      <th>SEX</th>\n",
       "      <th>SPEAKER_ID</th>\n",
       "      <th>SENTENCE_ID</th>\n",
       "    </tr>\n",
       "    <tr>\n",
       "      <th>IDX</th>\n",
       "      <th></th>\n",
       "      <th></th>\n",
       "      <th></th>\n",
       "      <th></th>\n",
       "      <th></th>\n",
       "      <th></th>\n",
       "    </tr>\n",
       "  </thead>\n",
       "  <tbody>\n",
       "    <tr>\n",
       "      <th>MPAR0:SI2206</th>\n",
       "      <td>/TRAIN/DR7/MPAR0/SI2206</td>\n",
       "      <td>TRAIN</td>\n",
       "      <td>DR7</td>\n",
       "      <td>M</td>\n",
       "      <td>PAR0</td>\n",
       "      <td>SI2206</td>\n",
       "    </tr>\n",
       "    <tr>\n",
       "      <th>MPAR0:SX316</th>\n",
       "      <td>/TRAIN/DR7/MPAR0/SX316</td>\n",
       "      <td>TRAIN</td>\n",
       "      <td>DR7</td>\n",
       "      <td>M</td>\n",
       "      <td>PAR0</td>\n",
       "      <td>SX316</td>\n",
       "    </tr>\n",
       "    <tr>\n",
       "      <th>MPAR0:SI1576</th>\n",
       "      <td>/TRAIN/DR7/MPAR0/SI1576</td>\n",
       "      <td>TRAIN</td>\n",
       "      <td>DR7</td>\n",
       "      <td>M</td>\n",
       "      <td>PAR0</td>\n",
       "      <td>SI1576</td>\n",
       "    </tr>\n",
       "    <tr>\n",
       "      <th>MPAR0:SA1</th>\n",
       "      <td>/TRAIN/DR7/MPAR0/SA1</td>\n",
       "      <td>TRAIN</td>\n",
       "      <td>DR7</td>\n",
       "      <td>M</td>\n",
       "      <td>PAR0</td>\n",
       "      <td>SA1</td>\n",
       "    </tr>\n",
       "    <tr>\n",
       "      <th>MPAR0:SX46</th>\n",
       "      <td>/TRAIN/DR7/MPAR0/SX46</td>\n",
       "      <td>TRAIN</td>\n",
       "      <td>DR7</td>\n",
       "      <td>M</td>\n",
       "      <td>PAR0</td>\n",
       "      <td>SX46</td>\n",
       "    </tr>\n",
       "  </tbody>\n",
       "</table>\n",
       "</div>"
      ],
      "text/plain": [
       "                              relPath  USAGE DIALECT SEX SPEAKER_ID  \\\n",
       "IDX                                                                   \n",
       "MPAR0:SI2206  /TRAIN/DR7/MPAR0/SI2206  TRAIN  DR7     M   PAR0        \n",
       "MPAR0:SX316   /TRAIN/DR7/MPAR0/SX316   TRAIN  DR7     M   PAR0        \n",
       "MPAR0:SI1576  /TRAIN/DR7/MPAR0/SI1576  TRAIN  DR7     M   PAR0        \n",
       "MPAR0:SA1     /TRAIN/DR7/MPAR0/SA1     TRAIN  DR7     M   PAR0        \n",
       "MPAR0:SX46    /TRAIN/DR7/MPAR0/SX46    TRAIN  DR7     M   PAR0        \n",
       "\n",
       "             SENTENCE_ID  \n",
       "IDX                       \n",
       "MPAR0:SI2206  SI2206      \n",
       "MPAR0:SX316   SX316       \n",
       "MPAR0:SI1576  SI1576      \n",
       "MPAR0:SA1     SA1         \n",
       "MPAR0:SX46    SX46        "
      ]
     },
     "execution_count": 8,
     "metadata": {},
     "output_type": "execute_result"
    }
   ],
   "source": [
    "def extractTimitDatasetInformation(path):\n",
    "    '''Put in a dataframe all the information about samples'''\n",
    "    import glob\n",
    "    files = glob.glob(str(path)+ '/**/*.WAV', recursive=True)\n",
    "    ret = pd.DataFrame(files, columns=['relPath'])\n",
    "    #Remove path and extension\n",
    "    ret['relPath'] = ret['relPath'].apply(lambda x: x.replace(str(path),'').replace('.WAV',''))\n",
    "\n",
    "    def extractIntoSeries(s):\n",
    "        USAGE, DIALECT, SEX, SPEAKER_ID, SENTENCE_ID = extractInformationsFromAbsolutePath(s)\n",
    "        return pd.Series({\n",
    "            'USAGE': USAGE,\n",
    "            'DIALECT': DIALECT,\n",
    "            'SEX': SEX,\n",
    "            'SPEAKER_ID': SPEAKER_ID,\n",
    "            'SENTENCE_ID': SENTENCE_ID,\n",
    "            'IDX': SEX + SPEAKER_ID + ':' + SENTENCE_ID})\n",
    "\n",
    "    #IMPORTANT: Apply multiple transformations at one\n",
    "    ret = ret.merge(ret['relPath'].apply(lambda s: extractIntoSeries(s)), left_index=True, right_index=True)    \n",
    "    ret = ret.set_index(['IDX']) # Add index\n",
    "    return ret\n",
    "                \n",
    "all_files_df = extractTimitDatasetInformation(path)\n",
    "all_files_df.head()"
   ]
  },
  {
   "cell_type": "code",
   "execution_count": 9,
   "metadata": {},
   "outputs": [
    {
     "name": "stdout",
     "output_type": "stream",
     "text": [
      "Number of files: 6300\n"
     ]
    }
   ],
   "source": [
    "print(f'Number of files: {len(all_files_df)}')"
   ]
  },
  {
   "cell_type": "markdown",
   "metadata": {},
   "source": [
    "### OPTIONAL Decimate dataset\n",
    "To speedup computation we reduce train/valid set."
   ]
  },
  {
   "cell_type": "code",
   "execution_count": 10,
   "metadata": {},
   "outputs": [
    {
     "data": {
      "text/plain": [
       "USAGE\n",
       "TEST     168\n",
       "TRAIN    462\n",
       "Name: relPath, dtype: int64"
      ]
     },
     "execution_count": 10,
     "metadata": {},
     "output_type": "execute_result"
    }
   ],
   "source": [
    "#DON'T RUN THIS CELL IN YOU WANT TOI USE ALL DATA\n",
    "def decimate(train_df:pd.DataFrame, valid_df:pd.DataFrame, pct=.1)->pd.DataFrame:\n",
    "    t1=train_df.sample(frac=pct, random_state=1)\n",
    "    t2=valid_df.sample(frac=pct, random_state=1)\n",
    "    return pd.concat([t1,t2],axis=0)\n",
    "\n",
    "all_files_df=decimate(all_files_df[all_files_df.USAGE=='TRAIN'],all_files_df[all_files_df.USAGE=='TEST'],.1)\n",
    "all_files_df.groupby(['USAGE'])['relPath'].count()"
   ]
  },
  {
   "cell_type": "markdown",
   "metadata": {},
   "source": [
    "# Phoneme classification"
   ]
  },
  {
   "cell_type": "markdown",
   "metadata": {},
   "source": [
    "## Create data bunch"
   ]
  },
  {
   "cell_type": "code",
   "execution_count": 11,
   "metadata": {},
   "outputs": [],
   "source": [
    "def process_phn_file(idx:str, phn_file, sig, sr, ext, delimiter=' ')->pd.DataFrame:\n",
    "    df = pd.read_csv(phn_file, delimiter=delimiter, header=None)\n",
    "    df.columns = ['START', 'END', ext]\n",
    "    df['SIG'] = df.apply(lambda x : torch.Tensor(sig[x['START']: x['END']]), axis=1)\n",
    "    df['SR'] = sr\n",
    "    df['IDX'] = idx\n",
    "    df['IDXN'] = pd.Series(map(lambda x: idx+':'+str(x), range(len(df))))   \n",
    "    df = df.set_index(['IDXN'])\n",
    "    return df"
   ]
  },
  {
   "cell_type": "code",
   "execution_count": 12,
   "metadata": {},
   "outputs": [
    {
     "name": "stdout",
     "output_type": "stream",
     "text": [
      "/home/ste/.fastai/data/timit/TRAIN/DR2/MJMD0/SX308.WAV \tExists: True\n"
     ]
    },
    {
     "data": {
      "text/html": [
       "<div>\n",
       "<style scoped>\n",
       "    .dataframe tbody tr th:only-of-type {\n",
       "        vertical-align: middle;\n",
       "    }\n",
       "\n",
       "    .dataframe tbody tr th {\n",
       "        vertical-align: top;\n",
       "    }\n",
       "\n",
       "    .dataframe thead th {\n",
       "        text-align: right;\n",
       "    }\n",
       "</style>\n",
       "<table border=\"1\" class=\"dataframe\">\n",
       "  <thead>\n",
       "    <tr style=\"text-align: right;\">\n",
       "      <th></th>\n",
       "      <th>START</th>\n",
       "      <th>END</th>\n",
       "      <th>PHN</th>\n",
       "      <th>SIG</th>\n",
       "      <th>SR</th>\n",
       "      <th>IDX</th>\n",
       "    </tr>\n",
       "    <tr>\n",
       "      <th>IDXN</th>\n",
       "      <th></th>\n",
       "      <th></th>\n",
       "      <th></th>\n",
       "      <th></th>\n",
       "      <th></th>\n",
       "      <th></th>\n",
       "    </tr>\n",
       "  </thead>\n",
       "  <tbody>\n",
       "    <tr>\n",
       "      <th>MJMD0:SX308:0</th>\n",
       "      <td>0</td>\n",
       "      <td>2320</td>\n",
       "      <td>h#</td>\n",
       "      <td>[tensor(0.0001), tensor(0.0002), tensor(-3.0518e-05), tensor(6.1035e-05), tensor(-3.0518e-05), tensor(6.1035e-05), tensor(9.1553e-05), tensor(0.0001), tensor(0.0001), tensor(3.0518e-05), tensor(9.1553e-05), tensor(0.), tensor(-3.0518e-05), tensor(-9.1553e-05), tensor(0.0002), tensor(0.0001), tensor(0.0002), tensor(9.1553e-05), tensor(6.1035e-05), tensor(9.1553e-05), tensor(0.), tensor(0.0002), tensor(9.1553e-05), tensor(0.0001), tensor(0.0002), tensor(0.0002), tensor(0.0002), tensor(0.0002), tensor(0.0001), tensor(6.1035e-05), tensor(9.1553e-05), tensor(-9.1553e-05), tensor(3.0518e-05), tensor(0.0002), tensor(0.0002), tensor(0.0002), tensor(6.1035e-05), tensor(0.0002), tensor(0.), tensor(0.0001), tensor(9.1553e-05), tensor(0.0002), tensor(0.0002), tensor(0.0002), tensor(0.0001), tensor(0.0002), tensor(6.1035e-05), tensor(9.1553e-05), tensor(6.1035e-05), tensor(6.1035e-05), tensor(0.0002), tensor(0.), tensor(0.0002), tensor(0.0002), tensor(0.0002), tensor(9.1553e-05), tensor(9.1553e-05), tensor(9.1553e-05), tensor(0.0001), tensor(0.0001), tensor(0.0002), tensor(0.0002), tensor(0.0001), tensor(9.1553e-05), tensor(3.0518e-05), tensor(9.1553e-05), tensor(-6.1035e-05), tensor(-6.1035e-05), tensor(6.1035e-05), tensor(0.0001), tensor(3.0518e-05), tensor(3.0518e-05), tensor(6.1035e-05), tensor(3.0518e-05), tensor(-6.1035e-05), tensor(-3.0518e-05), tensor(3.0518e-05), tensor(0.0001), tensor(-3.0518e-05), tensor(0.0001), tensor(3.0518e-05), tensor(0.0001), tensor(0.), tensor(3.0518e-05), tensor(0.), tensor(0.), tensor(9.1553e-05), tensor(9.1553e-05), tensor(0.0001), tensor(0.0002), tensor(9.1553e-05), tensor(3.0518e-05), tensor(0.0002), tensor(0.), tensor(9.1553e-05), tensor(9.1553e-05), tensor(0.0001), tensor(0.0002), tensor(0.0001), tensor(9.1553e-05), ...]</td>\n",
       "      <td>16000</td>\n",
       "      <td>MJMD0:SX308</td>\n",
       "    </tr>\n",
       "    <tr>\n",
       "      <th>MJMD0:SX308:1</th>\n",
       "      <td>2320</td>\n",
       "      <td>4803</td>\n",
       "      <td>sh</td>\n",
       "      <td>[tensor(3.0518e-05), tensor(-0.0002), tensor(-3.0518e-05), tensor(0.0004), tensor(0.0003), tensor(0.0002), tensor(-0.0002), tensor(6.1035e-05), tensor(0.0002), tensor(0.0002), tensor(9.1553e-05), tensor(-0.0004), tensor(0.0002), tensor(0.0006), tensor(0.), tensor(-0.0002), tensor(-6.1035e-05), tensor(9.1553e-05), tensor(0.0003), tensor(0.0003), tensor(0.0002), tensor(-0.0005), tensor(-0.0005), tensor(0.0001), tensor(0.0003), tensor(0.0005), tensor(0.0005), tensor(-0.0007), tensor(-0.0005), tensor(0.0007), tensor(0.0005), tensor(-0.0002), tensor(-0.0002), tensor(0.0003), tensor(-0.0001), tensor(-0.0005), tensor(0.0005), tensor(0.0006), tensor(-0.0004), tensor(-0.0003), tensor(-3.0518e-05), tensor(-0.0002), tensor(0.0007), tensor(0.0005), tensor(-0.0007), tensor(-0.0006), tensor(-0.0002), tensor(0.0005), tensor(0.0008), tensor(-0.0002), tensor(-0.0008), tensor(-9.1553e-05), tensor(0.0006), tensor(0.0006), tensor(0.0002), tensor(-0.0003), tensor(-3.0518e-05), tensor(6.1035e-05), tensor(-0.0005), tensor(-0.0003), tensor(3.0518e-05), tensor(-0.0004), tensor(-0.0005), tensor(-6.1035e-05), tensor(9.1553e-05), tensor(0.0003), tensor(0.0006), tensor(-0.0005), tensor(-0.0005), tensor(0.), tensor(-0.0002), tensor(0.0004), tensor(0.0005), tensor(-0.0003), tensor(-0.0003), tensor(0.0003), tensor(0.0006), tensor(0.0005), tensor(-0.0002), tensor(-0.0005), tensor(-3.0518e-05), tensor(-3.0518e-05), tensor(0.0005), tensor(-0.0004), tensor(-0.0005), tensor(0.0002), tensor(0.0002), tensor(0.0006), tensor(0.0003), tensor(-0.0004), tensor(-0.0003), tensor(0.0003), tensor(0.0004), tensor(0.0001), tensor(-0.0011), tensor(-0.0003), tensor(0.0006), tensor(0.0005), tensor(0.0009), tensor(0.0004), ...]</td>\n",
       "      <td>16000</td>\n",
       "      <td>MJMD0:SX308</td>\n",
       "    </tr>\n",
       "  </tbody>\n",
       "</table>\n",
       "</div>"
      ],
      "text/plain": [
       "               START   END PHN  \\\n",
       "IDXN                             \n",
       "MJMD0:SX308:0  0      2320  h#   \n",
       "MJMD0:SX308:1  2320   4803  sh   \n",
       "\n",
       "                                                                                                                                                                                                                                                                                                                                                                                                                                                                                                                                                                                                                                                                                                                                                                                                                                                                                                                                                                                                                                                                                                                                                                                                                                                                                                                                                                                                                                                                                                                                                                                                                                                                                                                                                                                                                                                               SIG  \\\n",
       "IDXN                                                                                                                                                                                                                                                                                                                                                                                                                                                                                                                                                                                                                                                                                                                                                                                                                                                                                                                                                                                                                                                                                                                                                                                                                                                                                                                                                                                                                                                                                                                                                                                                                                                                                                                                                                                                                                                                 \n",
       "MJMD0:SX308:0  [tensor(0.0001), tensor(0.0002), tensor(-3.0518e-05), tensor(6.1035e-05), tensor(-3.0518e-05), tensor(6.1035e-05), tensor(9.1553e-05), tensor(0.0001), tensor(0.0001), tensor(3.0518e-05), tensor(9.1553e-05), tensor(0.), tensor(-3.0518e-05), tensor(-9.1553e-05), tensor(0.0002), tensor(0.0001), tensor(0.0002), tensor(9.1553e-05), tensor(6.1035e-05), tensor(9.1553e-05), tensor(0.), tensor(0.0002), tensor(9.1553e-05), tensor(0.0001), tensor(0.0002), tensor(0.0002), tensor(0.0002), tensor(0.0002), tensor(0.0001), tensor(6.1035e-05), tensor(9.1553e-05), tensor(-9.1553e-05), tensor(3.0518e-05), tensor(0.0002), tensor(0.0002), tensor(0.0002), tensor(6.1035e-05), tensor(0.0002), tensor(0.), tensor(0.0001), tensor(9.1553e-05), tensor(0.0002), tensor(0.0002), tensor(0.0002), tensor(0.0001), tensor(0.0002), tensor(6.1035e-05), tensor(9.1553e-05), tensor(6.1035e-05), tensor(6.1035e-05), tensor(0.0002), tensor(0.), tensor(0.0002), tensor(0.0002), tensor(0.0002), tensor(9.1553e-05), tensor(9.1553e-05), tensor(9.1553e-05), tensor(0.0001), tensor(0.0001), tensor(0.0002), tensor(0.0002), tensor(0.0001), tensor(9.1553e-05), tensor(3.0518e-05), tensor(9.1553e-05), tensor(-6.1035e-05), tensor(-6.1035e-05), tensor(6.1035e-05), tensor(0.0001), tensor(3.0518e-05), tensor(3.0518e-05), tensor(6.1035e-05), tensor(3.0518e-05), tensor(-6.1035e-05), tensor(-3.0518e-05), tensor(3.0518e-05), tensor(0.0001), tensor(-3.0518e-05), tensor(0.0001), tensor(3.0518e-05), tensor(0.0001), tensor(0.), tensor(3.0518e-05), tensor(0.), tensor(0.), tensor(9.1553e-05), tensor(9.1553e-05), tensor(0.0001), tensor(0.0002), tensor(9.1553e-05), tensor(3.0518e-05), tensor(0.0002), tensor(0.), tensor(9.1553e-05), tensor(9.1553e-05), tensor(0.0001), tensor(0.0002), tensor(0.0001), tensor(9.1553e-05), ...]   \n",
       "MJMD0:SX308:1  [tensor(3.0518e-05), tensor(-0.0002), tensor(-3.0518e-05), tensor(0.0004), tensor(0.0003), tensor(0.0002), tensor(-0.0002), tensor(6.1035e-05), tensor(0.0002), tensor(0.0002), tensor(9.1553e-05), tensor(-0.0004), tensor(0.0002), tensor(0.0006), tensor(0.), tensor(-0.0002), tensor(-6.1035e-05), tensor(9.1553e-05), tensor(0.0003), tensor(0.0003), tensor(0.0002), tensor(-0.0005), tensor(-0.0005), tensor(0.0001), tensor(0.0003), tensor(0.0005), tensor(0.0005), tensor(-0.0007), tensor(-0.0005), tensor(0.0007), tensor(0.0005), tensor(-0.0002), tensor(-0.0002), tensor(0.0003), tensor(-0.0001), tensor(-0.0005), tensor(0.0005), tensor(0.0006), tensor(-0.0004), tensor(-0.0003), tensor(-3.0518e-05), tensor(-0.0002), tensor(0.0007), tensor(0.0005), tensor(-0.0007), tensor(-0.0006), tensor(-0.0002), tensor(0.0005), tensor(0.0008), tensor(-0.0002), tensor(-0.0008), tensor(-9.1553e-05), tensor(0.0006), tensor(0.0006), tensor(0.0002), tensor(-0.0003), tensor(-3.0518e-05), tensor(6.1035e-05), tensor(-0.0005), tensor(-0.0003), tensor(3.0518e-05), tensor(-0.0004), tensor(-0.0005), tensor(-6.1035e-05), tensor(9.1553e-05), tensor(0.0003), tensor(0.0006), tensor(-0.0005), tensor(-0.0005), tensor(0.), tensor(-0.0002), tensor(0.0004), tensor(0.0005), tensor(-0.0003), tensor(-0.0003), tensor(0.0003), tensor(0.0006), tensor(0.0005), tensor(-0.0002), tensor(-0.0005), tensor(-3.0518e-05), tensor(-3.0518e-05), tensor(0.0005), tensor(-0.0004), tensor(-0.0005), tensor(0.0002), tensor(0.0002), tensor(0.0006), tensor(0.0003), tensor(-0.0004), tensor(-0.0003), tensor(0.0003), tensor(0.0004), tensor(0.0001), tensor(-0.0011), tensor(-0.0003), tensor(0.0006), tensor(0.0005), tensor(0.0009), tensor(0.0004), ...]                                                                               \n",
       "\n",
       "                  SR          IDX  \n",
       "IDXN                               \n",
       "MJMD0:SX308:0  16000  MJMD0:SX308  \n",
       "MJMD0:SX308:1  16000  MJMD0:SX308  "
      ]
     },
     "metadata": {},
     "output_type": "display_data"
    },
    {
     "name": "stdout",
     "output_type": "stream",
     "text": [
      "Number of rows: 34\n",
      "TEST DONE\n"
     ]
    }
   ],
   "source": [
    "def extractItems(path, idx, relativePath, ext, verbose=False)->pd.DataFrame:\n",
    "    base_path = str(path) + relativePath\n",
    "    wav_file = base_path + \".WAV\"\n",
    "    wav_exists = os.path.isfile(wav_file)\n",
    "    if verbose: print(wav_file, f'\\tExists: {wav_exists}')\n",
    "    #Sanity check\n",
    "    if not wav_exists: return none\n",
    "    #Proceed\n",
    "    sigTwoChannels,sr = torchaudio.load(wav_file)\n",
    "    sig = sigTwoChannels[0] # MONO NO STEREO - convert to \"one dimension\"\n",
    "    phn_file = base_path + '.' + ext\n",
    "            \n",
    "    ret = process_phn_file(idx, phn_file, sig, sr, ext, delimiter=' ')\n",
    "    \n",
    "    return ret\n",
    "            \n",
    "def test_extractItems_PHN():\n",
    "    row = all_files_df.iloc[0]\n",
    "    ret_df = extractItems(path, row.name, row['relPath'], 'PHN', verbose=True)\n",
    "    display(ret_df.head(2))\n",
    "    print(f'Number of rows: {len(ret_df)}')\n",
    "#    assert 54==len(ret_df)\n",
    "    print('TEST DONE')\n",
    "\n",
    "test_extractItems_PHN()"
   ]
  },
  {
   "cell_type": "code",
   "execution_count": 13,
   "metadata": {},
   "outputs": [
    {
     "name": "stdout",
     "output_type": "stream",
     "text": [
      "/home/ste/.fastai/data/timit/TRAIN/DR2/MJMD0/SX308.WAV \tExists: True\n"
     ]
    },
    {
     "data": {
      "text/html": [
       "<div>\n",
       "<style scoped>\n",
       "    .dataframe tbody tr th:only-of-type {\n",
       "        vertical-align: middle;\n",
       "    }\n",
       "\n",
       "    .dataframe tbody tr th {\n",
       "        vertical-align: top;\n",
       "    }\n",
       "\n",
       "    .dataframe thead th {\n",
       "        text-align: right;\n",
       "    }\n",
       "</style>\n",
       "<table border=\"1\" class=\"dataframe\">\n",
       "  <thead>\n",
       "    <tr style=\"text-align: right;\">\n",
       "      <th></th>\n",
       "      <th>START</th>\n",
       "      <th>END</th>\n",
       "      <th>WRD</th>\n",
       "      <th>SIG</th>\n",
       "      <th>SR</th>\n",
       "      <th>IDX</th>\n",
       "    </tr>\n",
       "    <tr>\n",
       "      <th>IDXN</th>\n",
       "      <th></th>\n",
       "      <th></th>\n",
       "      <th></th>\n",
       "      <th></th>\n",
       "      <th></th>\n",
       "      <th></th>\n",
       "    </tr>\n",
       "  </thead>\n",
       "  <tbody>\n",
       "    <tr>\n",
       "      <th>MJMD0:SX308:0</th>\n",
       "      <td>2320</td>\n",
       "      <td>11400</td>\n",
       "      <td>shipbuilding</td>\n",
       "      <td>[tensor(3.0518e-05), tensor(-0.0002), tensor(-3.0518e-05), tensor(0.0004), tensor(0.0003), tensor(0.0002), tensor(-0.0002), tensor(6.1035e-05), tensor(0.0002), tensor(0.0002), tensor(9.1553e-05), tensor(-0.0004), tensor(0.0002), tensor(0.0006), tensor(0.), tensor(-0.0002), tensor(-6.1035e-05), tensor(9.1553e-05), tensor(0.0003), tensor(0.0003), tensor(0.0002), tensor(-0.0005), tensor(-0.0005), tensor(0.0001), tensor(0.0003), tensor(0.0005), tensor(0.0005), tensor(-0.0007), tensor(-0.0005), tensor(0.0007), tensor(0.0005), tensor(-0.0002), tensor(-0.0002), tensor(0.0003), tensor(-0.0001), tensor(-0.0005), tensor(0.0005), tensor(0.0006), tensor(-0.0004), tensor(-0.0003), tensor(-3.0518e-05), tensor(-0.0002), tensor(0.0007), tensor(0.0005), tensor(-0.0007), tensor(-0.0006), tensor(-0.0002), tensor(0.0005), tensor(0.0008), tensor(-0.0002), tensor(-0.0008), tensor(-9.1553e-05), tensor(0.0006), tensor(0.0006), tensor(0.0002), tensor(-0.0003), tensor(-3.0518e-05), tensor(6.1035e-05), tensor(-0.0005), tensor(-0.0003), tensor(3.0518e-05), tensor(-0.0004), tensor(-0.0005), tensor(-6.1035e-05), tensor(9.1553e-05), tensor(0.0003), tensor(0.0006), tensor(-0.0005), tensor(-0.0005), tensor(0.), tensor(-0.0002), tensor(0.0004), tensor(0.0005), tensor(-0.0003), tensor(-0.0003), tensor(0.0003), tensor(0.0006), tensor(0.0005), tensor(-0.0002), tensor(-0.0005), tensor(-3.0518e-05), tensor(-3.0518e-05), tensor(0.0005), tensor(-0.0004), tensor(-0.0005), tensor(0.0002), tensor(0.0002), tensor(0.0006), tensor(0.0003), tensor(-0.0004), tensor(-0.0003), tensor(0.0003), tensor(0.0004), tensor(0.0001), tensor(-0.0011), tensor(-0.0003), tensor(0.0006), tensor(0.0005), tensor(0.0009), tensor(0.0004), ...]</td>\n",
       "      <td>16000</td>\n",
       "      <td>MJMD0:SX308</td>\n",
       "    </tr>\n",
       "  </tbody>\n",
       "</table>\n",
       "</div>"
      ],
      "text/plain": [
       "               START    END           WRD  \\\n",
       "IDXN                                        \n",
       "MJMD0:SX308:0  2320   11400  shipbuilding   \n",
       "\n",
       "                                                                                                                                                                                                                                                                                                                                                                                                                                                                                                                                                                                                                                                                                                                                                                                                                                                                                                                                                                                                                                                                                                                                                                                                                                                                                                                                                                                                                                                                                                                                                                                                                                                                                                                                                                                   SIG  \\\n",
       "IDXN                                                                                                                                                                                                                                                                                                                                                                                                                                                                                                                                                                                                                                                                                                                                                                                                                                                                                                                                                                                                                                                                                                                                                                                                                                                                                                                                                                                                                                                                                                                                                                                                                                                                                                                                                                                     \n",
       "MJMD0:SX308:0  [tensor(3.0518e-05), tensor(-0.0002), tensor(-3.0518e-05), tensor(0.0004), tensor(0.0003), tensor(0.0002), tensor(-0.0002), tensor(6.1035e-05), tensor(0.0002), tensor(0.0002), tensor(9.1553e-05), tensor(-0.0004), tensor(0.0002), tensor(0.0006), tensor(0.), tensor(-0.0002), tensor(-6.1035e-05), tensor(9.1553e-05), tensor(0.0003), tensor(0.0003), tensor(0.0002), tensor(-0.0005), tensor(-0.0005), tensor(0.0001), tensor(0.0003), tensor(0.0005), tensor(0.0005), tensor(-0.0007), tensor(-0.0005), tensor(0.0007), tensor(0.0005), tensor(-0.0002), tensor(-0.0002), tensor(0.0003), tensor(-0.0001), tensor(-0.0005), tensor(0.0005), tensor(0.0006), tensor(-0.0004), tensor(-0.0003), tensor(-3.0518e-05), tensor(-0.0002), tensor(0.0007), tensor(0.0005), tensor(-0.0007), tensor(-0.0006), tensor(-0.0002), tensor(0.0005), tensor(0.0008), tensor(-0.0002), tensor(-0.0008), tensor(-9.1553e-05), tensor(0.0006), tensor(0.0006), tensor(0.0002), tensor(-0.0003), tensor(-3.0518e-05), tensor(6.1035e-05), tensor(-0.0005), tensor(-0.0003), tensor(3.0518e-05), tensor(-0.0004), tensor(-0.0005), tensor(-6.1035e-05), tensor(9.1553e-05), tensor(0.0003), tensor(0.0006), tensor(-0.0005), tensor(-0.0005), tensor(0.), tensor(-0.0002), tensor(0.0004), tensor(0.0005), tensor(-0.0003), tensor(-0.0003), tensor(0.0003), tensor(0.0006), tensor(0.0005), tensor(-0.0002), tensor(-0.0005), tensor(-3.0518e-05), tensor(-3.0518e-05), tensor(0.0005), tensor(-0.0004), tensor(-0.0005), tensor(0.0002), tensor(0.0002), tensor(0.0006), tensor(0.0003), tensor(-0.0004), tensor(-0.0003), tensor(0.0003), tensor(0.0004), tensor(0.0001), tensor(-0.0011), tensor(-0.0003), tensor(0.0006), tensor(0.0005), tensor(0.0009), tensor(0.0004), ...]   \n",
       "\n",
       "                  SR          IDX  \n",
       "IDXN                               \n",
       "MJMD0:SX308:0  16000  MJMD0:SX308  "
      ]
     },
     "metadata": {},
     "output_type": "display_data"
    },
    {
     "name": "stdout",
     "output_type": "stream",
     "text": [
      "Number of rows: 6\n",
      "TEST DONE\n"
     ]
    }
   ],
   "source": [
    "def test_extractItems_WRD():\n",
    "    row = all_files_df.iloc[0]\n",
    "    ret_df = extractItems(path, row.name, row['relPath'], 'WRD', verbose=True)\n",
    "    display(ret_df.head(1))\n",
    "    print(f'Number of rows: {len(ret_df)}')\n",
    "#    assert 14==len(ret_df)\n",
    "    print('TEST DONE')\n",
    "\n",
    "test_extractItems_WRD()"
   ]
  },
  {
   "cell_type": "code",
   "execution_count": 14,
   "metadata": {},
   "outputs": [
    {
     "data": {
      "text/html": [
       "<div>\n",
       "<style scoped>\n",
       "    .dataframe tbody tr th:only-of-type {\n",
       "        vertical-align: middle;\n",
       "    }\n",
       "\n",
       "    .dataframe tbody tr th {\n",
       "        vertical-align: top;\n",
       "    }\n",
       "\n",
       "    .dataframe thead th {\n",
       "        text-align: right;\n",
       "    }\n",
       "</style>\n",
       "<table border=\"1\" class=\"dataframe\">\n",
       "  <thead>\n",
       "    <tr style=\"text-align: right;\">\n",
       "      <th></th>\n",
       "      <th>relPath</th>\n",
       "      <th>USAGE</th>\n",
       "      <th>DIALECT</th>\n",
       "      <th>SEX</th>\n",
       "      <th>SPEAKER_ID</th>\n",
       "      <th>SENTENCE_ID</th>\n",
       "    </tr>\n",
       "    <tr>\n",
       "      <th>IDX</th>\n",
       "      <th></th>\n",
       "      <th></th>\n",
       "      <th></th>\n",
       "      <th></th>\n",
       "      <th></th>\n",
       "      <th></th>\n",
       "    </tr>\n",
       "  </thead>\n",
       "  <tbody>\n",
       "    <tr>\n",
       "      <th>MJMD0:SX308</th>\n",
       "      <td>/TRAIN/DR2/MJMD0/SX308</td>\n",
       "      <td>TRAIN</td>\n",
       "      <td>DR2</td>\n",
       "      <td>M</td>\n",
       "      <td>JMD0</td>\n",
       "      <td>SX308</td>\n",
       "    </tr>\n",
       "    <tr>\n",
       "      <th>FLEH0:SI2311</th>\n",
       "      <td>/TRAIN/DR7/FLEH0/SI2311</td>\n",
       "      <td>TRAIN</td>\n",
       "      <td>DR7</td>\n",
       "      <td>F</td>\n",
       "      <td>LEH0</td>\n",
       "      <td>SI2311</td>\n",
       "    </tr>\n",
       "  </tbody>\n",
       "</table>\n",
       "</div>"
      ],
      "text/plain": [
       "                              relPath  USAGE DIALECT SEX SPEAKER_ID  \\\n",
       "IDX                                                                   \n",
       "MJMD0:SX308   /TRAIN/DR2/MJMD0/SX308   TRAIN  DR2     M   JMD0        \n",
       "FLEH0:SI2311  /TRAIN/DR7/FLEH0/SI2311  TRAIN  DR7     F   LEH0        \n",
       "\n",
       "             SENTENCE_ID  \n",
       "IDX                       \n",
       "MJMD0:SX308   SX308       \n",
       "FLEH0:SI2311  SI2311      "
      ]
     },
     "execution_count": 14,
     "metadata": {},
     "output_type": "execute_result"
    }
   ],
   "source": [
    "all_files_df.head(2)"
   ]
  },
  {
   "cell_type": "code",
   "execution_count": 15,
   "metadata": {},
   "outputs": [
    {
     "name": "stdout",
     "output_type": "stream",
     "text": [
      "<class 'pandas.core.frame.DataFrame'>\n",
      "Index: 630 entries, MJMD0:SX308 to FCAU0:SX317\n",
      "Data columns (total 6 columns):\n",
      "relPath        630 non-null object\n",
      "USAGE          630 non-null object\n",
      "DIALECT        630 non-null object\n",
      "SEX            630 non-null object\n",
      "SPEAKER_ID     630 non-null object\n",
      "SENTENCE_ID    630 non-null object\n",
      "dtypes: object(6)\n",
      "memory usage: 34.5+ KB\n"
     ]
    }
   ],
   "source": [
    "all_files_df.info()"
   ]
  },
  {
   "cell_type": "code",
   "execution_count": 16,
   "metadata": {},
   "outputs": [
    {
     "name": "stdout",
     "output_type": "stream",
     "text": [
      "Rows: 376\n",
      "<class 'pandas.core.frame.DataFrame'>\n",
      "Index: 376 entries, MJMD0:SX308:0 to MADD0:SI538:36\n",
      "Data columns (total 6 columns):\n",
      "START    376 non-null int64\n",
      "END      376 non-null int64\n",
      "PHN      376 non-null object\n",
      "SIG      376 non-null object\n",
      "SR       376 non-null int64\n",
      "IDX      376 non-null object\n",
      "dtypes: int64(3), object(3)\n",
      "memory usage: 20.6+ KB\n"
     ]
    }
   ],
   "source": [
    "def createItemsDataFrame(path, files_df, ext):\n",
    "    ret = pd.DataFrame()\n",
    "    for i,row in files_df.iterrows():\n",
    "        tmp_df = extractItems(path, row.name, row['relPath'], ext)\n",
    "        ret = ret.append(tmp_df)\n",
    "        #print(len(ret))\n",
    "#    ret = files_df.apply(lambda row: ret.append(extractWords(path, row.name, row['relPath']), ignore_index=True), axis=1)\n",
    "#    files_df.apply(lambda row: print(row), axis=1)\n",
    "    return ret\n",
    "\n",
    "def test_createItemsDataFrame():\n",
    "    tdf = createItemsDataFrame(path, all_files_df.head(10), 'PHN')\n",
    "    print(f'Rows: {len(tdf)}')\n",
    "    tdf.info()\n",
    "#    assert 86==len(tdf)\n",
    "\n",
    "test_createItemsDataFrame()"
   ]
  },
  {
   "cell_type": "code",
   "execution_count": 17,
   "metadata": {},
   "outputs": [
    {
     "name": "stdout",
     "output_type": "stream",
     "text": [
      "CPU times: user 27.8 s, sys: 582 ms, total: 28.4 s\n",
      "Wall time: 4.74 s\n",
      "<class 'pandas.core.frame.DataFrame'>\n",
      "Index: 24034 entries, MJMD0:SX308:0 to FCAU0:SX317:38\n",
      "Data columns (total 6 columns):\n",
      "START    24034 non-null int64\n",
      "END      24034 non-null int64\n",
      "PHN      24034 non-null object\n",
      "SIG      24034 non-null object\n",
      "SR       24034 non-null int64\n",
      "IDX      24034 non-null object\n",
      "dtypes: int64(3), object(3)\n",
      "memory usage: 1.3+ MB\n"
     ]
    }
   ],
   "source": [
    "%time all_phonemes_df = createItemsDataFrame(path, all_files_df, 'PHN')\n",
    "all_phonemes_df.info()"
   ]
  },
  {
   "cell_type": "code",
   "execution_count": 18,
   "metadata": {},
   "outputs": [
    {
     "name": "stdout",
     "output_type": "stream",
     "text": [
      "Phonemes count: 24034\n"
     ]
    }
   ],
   "source": [
    "print(f'Phonemes count: {len(all_phonemes_df)}')"
   ]
  },
  {
   "cell_type": "markdown",
   "metadata": {},
   "source": [
    "## Join data and create \"src\" "
   ]
  },
  {
   "cell_type": "code",
   "execution_count": 19,
   "metadata": {},
   "outputs": [],
   "source": [
    "#Join files with words\n",
    "src = all_phonemes_df.merge(all_files_df,left_on='IDX',right_on='IDX')\n",
    "assert len(src)==len(all_phonemes_df)"
   ]
  },
  {
   "cell_type": "code",
   "execution_count": 20,
   "metadata": {},
   "outputs": [
    {
     "data": {
      "text/plain": [
       "USAGE\n",
       "TEST     6367 \n",
       "TRAIN    17667\n",
       "Name: SIG, dtype: int64"
      ]
     },
     "execution_count": 20,
     "metadata": {},
     "output_type": "execute_result"
    }
   ],
   "source": [
    "#Optionally subsample and ensure good distribution among train and \"valid\"\n",
    "#src = src.sample(5000, random_state=1) # Uncomment this to reduce dataset\n",
    "src.groupby(['USAGE'])['SIG'].count()"
   ]
  },
  {
   "cell_type": "code",
   "execution_count": 21,
   "metadata": {},
   "outputs": [
    {
     "data": {
      "text/html": [
       "<div>\n",
       "<style scoped>\n",
       "    .dataframe tbody tr th:only-of-type {\n",
       "        vertical-align: middle;\n",
       "    }\n",
       "\n",
       "    .dataframe tbody tr th {\n",
       "        vertical-align: top;\n",
       "    }\n",
       "\n",
       "    .dataframe thead th {\n",
       "        text-align: right;\n",
       "    }\n",
       "</style>\n",
       "<table border=\"1\" class=\"dataframe\">\n",
       "  <thead>\n",
       "    <tr style=\"text-align: right;\">\n",
       "      <th></th>\n",
       "      <th>PHN</th>\n",
       "      <th>FREQ</th>\n",
       "    </tr>\n",
       "  </thead>\n",
       "  <tbody>\n",
       "    <tr>\n",
       "      <th>0</th>\n",
       "      <td>aa</td>\n",
       "      <td>402</td>\n",
       "    </tr>\n",
       "    <tr>\n",
       "      <th>1</th>\n",
       "      <td>ae</td>\n",
       "      <td>548</td>\n",
       "    </tr>\n",
       "    <tr>\n",
       "      <th>2</th>\n",
       "      <td>ah</td>\n",
       "      <td>316</td>\n",
       "    </tr>\n",
       "    <tr>\n",
       "      <th>3</th>\n",
       "      <td>ao</td>\n",
       "      <td>419</td>\n",
       "    </tr>\n",
       "    <tr>\n",
       "      <th>4</th>\n",
       "      <td>aw</td>\n",
       "      <td>75</td>\n",
       "    </tr>\n",
       "  </tbody>\n",
       "</table>\n",
       "</div>"
      ],
      "text/plain": [
       "  PHN  FREQ\n",
       "0  aa  402 \n",
       "1  ae  548 \n",
       "2  ah  316 \n",
       "3  ao  419 \n",
       "4  aw  75  "
      ]
     },
     "execution_count": 21,
     "metadata": {},
     "output_type": "execute_result"
    }
   ],
   "source": [
    "wrd_freq = src.groupby(['PHN'])['SIG'].count().reset_index(name='FREQ')\n",
    "wrd_freq.head()"
   ]
  },
  {
   "cell_type": "code",
   "execution_count": 22,
   "metadata": {},
   "outputs": [],
   "source": [
    "#Add word frequency measure to src\n",
    "src = src.merge(wrd_freq,left_on='PHN',right_on='PHN')\n",
    "assert len(src)==len(all_phonemes_df) # does not pass if src is reduced"
   ]
  },
  {
   "cell_type": "code",
   "execution_count": 23,
   "metadata": {},
   "outputs": [
    {
     "name": "stdout",
     "output_type": "stream",
     "text": [
      "24034\n"
     ]
    }
   ],
   "source": [
    "# Keep high frequency words\n",
    "#src = src[src.FREQ>=8]\n",
    "print(len(src))"
   ]
  },
  {
   "cell_type": "code",
   "execution_count": 24,
   "metadata": {},
   "outputs": [
    {
     "data": {
      "text/plain": [
       "(tensor([ 1.2207e-04,  1.5259e-04, -3.0518e-05,  ..., -3.6621e-04,\n",
       "          4.8828e-04,  6.1035e-04]), 16000)"
      ]
     },
     "execution_count": 24,
     "metadata": {},
     "output_type": "execute_result"
    }
   ],
   "source": [
    "#Create merged column...\n",
    "src['SampleAndSr'] = src.apply(lambda row: (row.SIG,row.SR),axis=1)\n",
    "src.iloc[0]['SampleAndSr']"
   ]
  },
  {
   "cell_type": "code",
   "execution_count": 25,
   "metadata": {},
   "outputs": [
    {
     "data": {
      "text/plain": [
       "is_valid\n",
       "False    17667\n",
       "True     6367 \n",
       "Name: SIG, dtype: int64"
      ]
     },
     "execution_count": 25,
     "metadata": {},
     "output_type": "execute_result"
    }
   ],
   "source": [
    "#Create validation set column from \"test\" hold out\n",
    "src['is_valid'] = src['USAGE'].apply(lambda x: not (x=='TRAIN'))\n",
    "src.groupby(['is_valid'])['SIG'].count()"
   ]
  },
  {
   "cell_type": "code",
   "execution_count": 26,
   "metadata": {},
   "outputs": [
    {
     "data": {
      "text/plain": [
       "61"
      ]
     },
     "execution_count": 26,
     "metadata": {},
     "output_type": "execute_result"
    }
   ],
   "source": [
    "#Count unique words\n",
    "len(src.PHN.unique())"
   ]
  },
  {
   "cell_type": "markdown",
   "metadata": {},
   "source": [
    "#### Useful statistics"
   ]
  },
  {
   "cell_type": "code",
   "execution_count": 27,
   "metadata": {},
   "outputs": [
    {
     "name": "stdout",
     "output_type": "stream",
     "text": [
      "Shortest item: 95\n",
      "Longest item: 74285\n"
     ]
    }
   ],
   "source": [
    "src['LENGHT'] = src.SIG.apply(lambda x: x.shape[0])\n",
    "print(f'Shortest item: {src.LENGHT.min()}')\n",
    "print(f'Longest item: {src.LENGHT.max()}')"
   ]
  },
  {
   "cell_type": "code",
   "execution_count": 28,
   "metadata": {},
   "outputs": [
    {
     "data": {
      "text/plain": [
       "<matplotlib.axes._subplots.AxesSubplot at 0x7f38d899de48>"
      ]
     },
     "execution_count": 28,
     "metadata": {},
     "output_type": "execute_result"
    },
    {
     "data": {
      "image/png": "[encoded data removed]",
      "text/plain": [
       "<Figure size 432x288 with 1 Axes>"
      ]
     },
     "metadata": {
      "needs_background": "light"
     },
     "output_type": "display_data"
    }
   ],
   "source": [
    "src['LENGHT'].hist(bins=61)"
   ]
  },
  {
   "cell_type": "markdown",
   "metadata": {},
   "source": [
    "**WARNING** there are zero lenght items that should be filtered..."
   ]
  },
  {
   "cell_type": "code",
   "execution_count": 29,
   "metadata": {},
   "outputs": [
    {
     "name": "stdout",
     "output_type": "stream",
     "text": [
      "Shortest item: 95\n",
      "Longest item: 9971\n",
      "Number of items: 24000\n"
     ]
    }
   ],
   "source": [
    "#Discarding too short and too long sounds\n",
    "min_duration = 50 # in samples\n",
    "max_duration = 10000\n",
    "src = src[src.LENGHT>min_duration]\n",
    "src = src[src.LENGHT<=max_duration]\n",
    "print(f'Shortest item: {src.LENGHT.min()}')\n",
    "print(f'Longest item: {src.LENGHT.max()}')\n",
    "print(f'Number of items: {len(src)}')"
   ]
  },
  {
   "cell_type": "markdown",
   "metadata": {},
   "source": [
    "## Classify phonemes"
   ]
  },
  {
   "cell_type": "code",
   "execution_count": 30,
   "metadata": {},
   "outputs": [],
   "source": [
    "samples = src.sample(10,random_state=1)\n",
    "adsAndLbl = [(AudioData(samples.iloc[i].SIG,samples.iloc[i].SR),samples.iloc[i].PHN) for i in range(len(samples))]"
   ]
  },
  {
   "cell_type": "code",
   "execution_count": 31,
   "metadata": {},
   "outputs": [
    {
     "data": {
      "text/plain": [
       "10"
      ]
     },
     "execution_count": 31,
     "metadata": {},
     "output_type": "execute_result"
    }
   ],
   "source": [
    "len(adsAndLbl)"
   ]
  },
  {
   "cell_type": "code",
   "execution_count": 32,
   "metadata": {},
   "outputs": [
    {
     "data": {
      "text/html": [
       "\n",
       "                <audio controls=\"controls\" >\n",
       "                    <source src=\"data:audio/wav;base64,UklGRlwBAABXQVZFZm10IBAAAAABAAEAgD4AAAB9AAACABAAZGF0YTgBAACSAXICZgElA3ICsQe7Fv9/jXZZx8DhF0luFyUjaFMY6Znl+1STepEIDKi7/V3yT/jf5z2zQd6ER6E0D9q30sypDsEC+ZnFV5Urrt6u7vrjK5nlWAeK8mYBgw42LxQXIviEBz8+JUOqKnoY9/AAAFlAJjzwLLv9wrqP9rMAqdhdshW+Eqz6wuLZOagApy7gAtnK8Bb3atN55tEGYw9dK+UkFwmRCD4lVDV9KiwgZxrRJgMrrRxRCiUD9fd4BvYQQf4s507fmeUk8VDxuOtk7yXqse7J997uF/CO/TkBgw6DDnX7G/sSBd4HgRVIFJ4JkgG1+d8ARQKI+Qj9L/ns6PPlp98i2Pvbddui267citLyzFjOeM3D0+nWJNGzx5W69rfJt5C2Gcl90W3F19EP2si+ytCu/M778QU=\" type=\"audio/wav\" />\n",
       "                    Your browser does not support the audio element.\n",
       "                </audio>\n",
       "              "
      ],
      "text/plain": [
       "<IPython.lib.display.Audio object>"
      ]
     },
     "metadata": {},
     "output_type": "display_data"
    }
   ],
   "source": [
    "s = adsAndLbl[4][0]\n",
    "display(Audio(s.sig, rate=s.sr))"
   ]
  },
  {
   "cell_type": "code",
   "execution_count": 33,
   "metadata": {},
   "outputs": [
    {
     "name": "stdout",
     "output_type": "stream",
     "text": [
      "z tensor([-0.0024,  0.0034,  0.0006, -0.0034, -0.0013])\n",
      "eh tensor([0.0106, 0.0108, 0.0137, 0.0164, 0.0186])\n",
      "s tensor([-0.0008, -0.0005, -0.0003, -0.0002,  0.0000])\n",
      "ix tensor([-0.0019, -0.0039,  0.0016,  0.0028, -0.0034])\n",
      "d tensor([0.0003, 0.0004, 0.0002, 0.0005, 0.0004])\n",
      "h# tensor([ 0.0000e+00,  9.1553e-05,  1.2207e-04,  3.0518e-05, -6.1035e-05])\n",
      "em tensor([-0.0006,  0.0014,  0.0038,  0.0054,  0.0060])\n",
      "v tensor([-0.0017, -0.0013, -0.0023, -0.0019, -0.0019])\n",
      "h# tensor([3.0518e-05, 6.1035e-05, 3.0518e-05, 0.0000e+00, 9.1553e-05])\n",
      "el tensor([0.0081, 0.0100, 0.0122, 0.0150, 0.0180])\n"
     ]
    }
   ],
   "source": [
    "for ad in adsAndLbl[:10]:\n",
    "    print(ad[1],ad[0].sig[:5])"
   ]
  },
  {
   "cell_type": "markdown",
   "metadata": {},
   "source": [
    "### Create transformations"
   ]
  },
  {
   "cell_type": "code",
   "execution_count": 34,
   "metadata": {},
   "outputs": [],
   "source": [
    "#Data Augmentetion\n",
    "tm = AudioTfmsManager.get_audio_tfms_manager(\n",
    "                            spectro=True, #We're going to replace it...\n",
    "                            mx_to_pad=max_duration, #1 sec window\n",
    "                            white_noise=True, noise_scl=1e-4, # Small noise\n",
    "                            modulate_volume=True, lower_gain=.90, upper_gain=1.05, # Not big volume variation\n",
    "                            random_cutout=False,\n",
    "                            pad_with_silence=False,\n",
    "                            pitch_warp=False,\n",
    "                            down_and_up=False)"
   ]
  },
  {
   "cell_type": "code",
   "execution_count": 35,
   "metadata": {},
   "outputs": [
    {
     "data": {
      "text/plain": [
       "'Label: eh'"
      ]
     },
     "metadata": {},
     "output_type": "display_data"
    },
    {
     "data": {
      "text/html": [
       "\n",
       "                <audio controls=\"controls\" >\n",
       "                    <source src=\"data:audio/wav;base64,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\" type=\"audio/wav\" />\n",
       "                    Your browser does not support the audio element.\n",
       "                </audio>\n",
       "              "
      ],
      "text/plain": [
       "<IPython.lib.display.Audio object>"
      ]
     },
     "metadata": {},
     "output_type": "display_data"
    },
    {
     "data": {
      "text/html": [
       "\n",
       "                <audio controls=\"controls\" >\n",
       "                    <source src=\"data:audio/wav;base64,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\" type=\"audio/wav\" />\n",
       "                    Your browser does not support the audio element.\n",
       "                </audio>\n",
       "              "
      ],
      "text/plain": [
       "<IPython.lib.display.Audio object>"
      ]
     },
     "metadata": {},
     "output_type": "display_data"
    },
    {
     "data": {
      "text/plain": [
       "<exp.nb_AudioCommon.AudioData at 0x7f38d8b49ba8>"
      ]
     },
     "execution_count": 35,
     "metadata": {},
     "output_type": "execute_result"
    },
    {
     "data": {
      "image/png": "[encoded data removed]",
      "text/plain": [
       "<Figure size 432x288 with 1 Axes>"
      ]
     },
     "metadata": {
      "needs_background": "light"
     },
     "output_type": "display_data"
    }
   ],
   "source": [
    "sl=adsAndLbl[1]\n",
    "tm.try_data_augmentation(ad=sl[0],lbl=sl[1])"
   ]
  },
  {
   "cell_type": "code",
   "execution_count": 36,
   "metadata": {},
   "outputs": [
    {
     "data": {
      "text/plain": [
       "[[functools.partial(<function tfm_add_white_noise at 0x7f38d8ff49d8>, noise_scl=0.0001, lower_gain=0.9, upper_gain=1.05),\n",
       "  functools.partial(<function tfm_modulate_volume at 0x7f38d8ff4a60>, noise_scl=0.0001, lower_gain=0.9, upper_gain=1.05),\n",
       "  functools.partial(<function tfm_pad_to_max at 0x7f38d8ff4d90>, mx=10000),\n",
       "  functools.partial(<function tfm_spectro at 0x7f38d8f5a158>, noise_scl=0.0001, lower_gain=0.9, upper_gain=1.05)],\n",
       " [functools.partial(<function tfm_pad_to_max at 0x7f38d8ff4d90>, mx=10000),\n",
       "  functools.partial(<function tfm_spectro at 0x7f38d8f5a158>, noise_scl=0.0001, lower_gain=0.9, upper_gain=1.05)]]"
      ]
     },
     "execution_count": 36,
     "metadata": {},
     "output_type": "execute_result"
    }
   ],
   "source": [
    "tm.get_tfms()"
   ]
  },
  {
   "cell_type": "code",
   "execution_count": 37,
   "metadata": {},
   "outputs": [
    {
     "data": {
      "text/plain": [
       "([[functools.partial(<function tfm_spectro at 0x7f38d8f5a158>, noise_scl=0.0001, lower_gain=0.9, upper_gain=1.05)]],\n",
       " [[functools.partial(<function tfm_spectro at 0x7f38d8f5a158>, noise_scl=0.0001, lower_gain=0.9, upper_gain=1.05)]])"
      ]
     },
     "execution_count": 37,
     "metadata": {},
     "output_type": "execute_result"
    }
   ],
   "source": [
    "#This is the \"POST\" transformation group that we're going to replace, both on train and validation... \n",
    "(tm.train_tfmsg[-1:], tm.valid_tfmsg[-1:])"
   ]
  },
  {
   "cell_type": "markdown",
   "metadata": {},
   "source": [
    "## Create multi spectrogram transformation:\n"
   ]
  },
  {
   "cell_type": "code",
   "execution_count": 38,
   "metadata": {},
   "outputs": [
    {
     "data": {
      "text/plain": [
       "'Label: ?'"
      ]
     },
     "metadata": {},
     "output_type": "display_data"
    },
    {
     "data": {
      "text/html": [
       "\n",
       "                <audio controls=\"controls\" >\n",
       "                    <source src=\"data:audio/wav;base64,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\" type=\"audio/wav\" />\n",
       "                    Your browser does not support the audio element.\n",
       "                </audio>\n",
       "              "
      ],
      "text/plain": [
       "<IPython.lib.display.Audio object>"
      ]
     },
     "metadata": {},
     "output_type": "display_data"
    },
    {
     "data": {
      "text/html": [
       "\n",
       "                <audio controls=\"controls\" >\n",
       "                    <source src=\"data:audio/wav;base64,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\" type=\"audio/wav\" />\n",
       "                    Your browser does not support the audio element.\n",
       "                </audio>\n",
       "              "
      ],
      "text/plain": [
       "<IPython.lib.display.Audio object>"
      ]
     },
     "metadata": {},
     "output_type": "display_data"
    },
    {
     "data": {
      "image/png": "[encoded data removed]",
      "text/plain": [
       "<Figure size 432x288 with 1 Axes>"
      ]
     },
     "metadata": {
      "needs_background": "light"
     },
     "output_type": "display_data"
    }
   ],
   "source": [
    "s = sl[0] #sample without label\n",
    "sAug = tm.try_data_augmentation(s) #apply data augmentation and show results..."
   ]
  },
  {
   "cell_type": "markdown",
   "metadata": {},
   "source": [
    "#### Create multi channel transform"
   ]
  },
  {
   "cell_type": "code",
   "execution_count": 39,
   "metadata": {},
   "outputs": [],
   "source": [
    "def tfm_trim(ad:AudioData, xBegin, xEnd):\n",
    "    '''Extract part of original signal'''\n",
    "    #print(ad.sig.shape, xBegin, xEnd)\n",
    "    x = ad.sig[int(xBegin):int(xEnd)]\n",
    "    return AudioData(x,ad.sr)"
   ]
  },
  {
   "cell_type": "code",
   "execution_count": 40,
   "metadata": {},
   "outputs": [
    {
     "name": "stdout",
     "output_type": "stream",
     "text": [
      "DONE\n"
     ]
    }
   ],
   "source": [
    "def test_tfm_trim():\n",
    "    assert 100==tfm_trim(s,0,100).sig.shape[0]\n",
    "    assert 100==tfm_trim(s,20,20+100).sig.shape[0]\n",
    "    print('DONE')\n",
    "test_tfm_trim()"
   ]
  },
  {
   "cell_type": "code",
   "execution_count": 41,
   "metadata": {},
   "outputs": [
    {
     "name": "stdout",
     "output_type": "stream",
     "text": [
      "10000 0 1600.0 3200.0\n"
     ]
    }
   ],
   "source": [
    "#Parameters\n",
    "wndWidth =  6800\n",
    "n_windows = 3\n",
    "wndStep = (max_duration - wndWidth)/(n_windows-1)\n",
    "start1 = 0\n",
    "start2 = wndStep*1\n",
    "start3 = wndStep*2\n",
    "\n",
    "print(max_duration, start1,start2,start3)"
   ]
  },
  {
   "cell_type": "code",
   "execution_count": 42,
   "metadata": {},
   "outputs": [],
   "source": [
    "def slidingSpectrogram(ad:AudioData, wndStart=0, wndWidth=6800):\n",
    "    trimmed = tfm_trim(ad, wndStart, wndStart+wndWidth) # Trim to the appropriate size\n",
    "    minLenForSpec = 6401\n",
    "    maxWW = max(minLenForSpec,wndWidth) # Cant be shorter...\n",
    "    padded = tfm_pad_to_max(trimmed, maxWW) # Ensure constant lenght\n",
    "    spec = tfm_spectro(padded, n_mels=224, ws=50, n_fft=3200*2, to_db_scale=True) # Spectrogram\n",
    "    #print(spec.shape)\n",
    "    ret =  spec[:,:,:120] # Crop\n",
    "    #print(ret.shape)\n",
    "    return ret"
   ]
  },
  {
   "cell_type": "code",
   "execution_count": 43,
   "metadata": {},
   "outputs": [],
   "source": [
    "def tfm_cropSpec(spec:torch.Tensor, yStart, yEnd)->torch.Tensor:\n",
    "    #yStart = int(math.floor(yStart))\n",
    "    #yEnd = int(math.floor(yEnd))\n",
    "    #print(spec.shape, yStart, yEnd, yEnd-yStart)\n",
    "    ret = spec[:,:,yStart:yEnd]\n",
    "    #print(ret.shape)\n",
    "    return ret"
   ]
  },
  {
   "cell_type": "code",
   "execution_count": 44,
   "metadata": {},
   "outputs": [],
   "source": [
    "def tfm_multiSpectrumSlide(ad:AudioData)->torch.Tensor:\n",
    "    '''This transformation is going to produce a 3-channels spectrum image from sliding windows'''\n",
    "    minLenForSpec = 6401\n",
    "    maxWW = max(minLenForSpec,max_duration) # max width\n",
    "    \n",
    "    padded = tfm_pad_to_max(ad, maxWW) # Ensure constant lenght\n",
    "    spec = tfm_spectro(padded, n_mels=224, ws=50, n_fft=3200*2, to_db_scale=True) # Spectrogram of all\n",
    "\n",
    "    wndWidth = 140 # in spec cols\n",
    "    maxSpecCols = spec.shape[2]\n",
    "    n_windows = 3\n",
    "    wndStep = (maxSpecCols - wndWidth)/(n_windows-1)\n",
    "    wndStep = int(math.floor(wndStep)) # make it integer\n",
    "    \n",
    "    #print(wndWidth, wndStep)\n",
    "    \n",
    "    n=0\n",
    "    ret = None\n",
    "    ret = tfm_cropSpec(spec,(n*wndStep),((n)*wndStep)+wndWidth) # Sliding window\n",
    "    wMax = ret.shape[2]\n",
    "    \n",
    "    n=1\n",
    "    img = tfm_cropSpec(spec,(n*wndStep),((n)*wndStep)+wndWidth)\n",
    "    ret = torch.cat([ret,img],dim=0) # Stack...\n",
    "\n",
    "    n=2\n",
    "    img = tfm_cropSpec(spec,(n*wndStep),((n)*wndStep)+wndWidth)\n",
    "    ret = torch.cat([ret,img],dim=0) # Stack...\n",
    "\n",
    "    return ret"
   ]
  },
  {
   "cell_type": "code",
   "execution_count": 45,
   "metadata": {},
   "outputs": [
    {
     "data": {
      "image/jpeg": "[encoded data removed]",
      "image/png": "[encoded data removed]",
      "text/plain": [
       "Image (1, 224, 140)"
      ]
     },
     "metadata": {},
     "output_type": "display_data"
    },
    {
     "data": {
      "image/jpeg": "[encoded data removed]",
      "image/png": "[encoded data removed]",
      "text/plain": [
       "Image (1, 224, 140)"
      ]
     },
     "metadata": {},
     "output_type": "display_data"
    },
    {
     "data": {
      "image/jpeg": "[encoded data removed]",
      "image/png": "[encoded data removed]",
      "text/plain": [
       "Image (1, 224, 140)"
      ]
     },
     "metadata": {},
     "output_type": "display_data"
    }
   ],
   "source": [
    "#Display channels inepenently\n",
    "imgMc = tfm_multiSpectrumSlide(sAug)\n",
    "for i in range(imgMc.shape[0]):\n",
    "    display(Image(imgMc[i:i+1,:,:]))"
   ]
  },
  {
   "cell_type": "code",
   "execution_count": 46,
   "metadata": {},
   "outputs": [
    {
     "data": {
      "text/plain": [
       "'Label: ?'"
      ]
     },
     "metadata": {},
     "output_type": "display_data"
    },
    {
     "data": {
      "text/html": [
       "\n",
       "                <audio controls=\"controls\" >\n",
       "                    <source src=\"data:audio/wav;base64,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\" type=\"audio/wav\" />\n",
       "                    Your browser does not support the audio element.\n",
       "                </audio>\n",
       "              "
      ],
      "text/plain": [
       "<IPython.lib.display.Audio object>"
      ]
     },
     "metadata": {},
     "output_type": "display_data"
    },
    {
     "data": {
      "text/html": [
       "\n",
       "                <audio controls=\"controls\" >\n",
       "                    <source src=\"data:audio/wav;base64,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\" type=\"audio/wav\" />\n",
       "                    Your browser does not support the audio element.\n",
       "                </audio>\n",
       "              "
      ],
      "text/plain": [
       "<IPython.lib.display.Audio object>"
      ]
     },
     "metadata": {},
     "output_type": "display_data"
    },
    {
     "data": {
      "text/plain": [
       "'Label: ?'"
      ]
     },
     "metadata": {},
     "output_type": "display_data"
    },
    {
     "data": {
      "image/jpeg": "[encoded data removed]",
      "image/png": "[encoded data removed]",
      "text/plain": [
       "Image (1, 128, 51)"
      ]
     },
     "metadata": {},
     "output_type": "display_data"
    },
    {
     "data": {
      "text/plain": [
       "tensor([[[2.4130e-02, 2.6426e-02, 2.6386e-02,  ..., 0.0000e+00,\n",
       "          0.0000e+00, 0.0000e+00],\n",
       "         [1.8179e-01, 2.2992e-01, 2.6701e-01,  ..., 0.0000e+00,\n",
       "          0.0000e+00, 0.0000e+00],\n",
       "         [9.2036e-02, 1.2449e-01, 1.4033e-01,  ..., 0.0000e+00,\n",
       "          0.0000e+00, 0.0000e+00],\n",
       "         ...,\n",
       "         [2.2767e-05, 7.1472e-05, 4.8532e-04,  ..., 0.0000e+00,\n",
       "          0.0000e+00, 0.0000e+00],\n",
       "         [1.1031e-04, 2.1592e-05, 4.8815e-04,  ..., 0.0000e+00,\n",
       "          0.0000e+00, 0.0000e+00],\n",
       "         [1.6081e-04, 1.4618e-05, 2.3328e-04,  ..., 0.0000e+00,\n",
       "          0.0000e+00, 0.0000e+00]]])"
      ]
     },
     "execution_count": 46,
     "metadata": {},
     "output_type": "execute_result"
    },
    {
     "data": {
      "image/png": "[encoded data removed]",
      "text/plain": [
       "<Figure size 432x288 with 1 Axes>"
      ]
     },
     "metadata": {
      "needs_background": "light"
     },
     "output_type": "display_data"
    }
   ],
   "source": [
    "tm.try_train_tfms(s)"
   ]
  },
  {
   "cell_type": "code",
   "execution_count": 47,
   "metadata": {},
   "outputs": [
    {
     "data": {
      "text/plain": [
       "tensor([[[2.5653e-02, 2.7851e-02, 2.7786e-02,  ..., 0.0000e+00,\n",
       "          0.0000e+00, 0.0000e+00],\n",
       "         [1.9262e-01, 2.4293e-01, 2.8223e-01,  ..., 0.0000e+00,\n",
       "          0.0000e+00, 0.0000e+00],\n",
       "         [9.7694e-02, 1.3185e-01, 1.4887e-01,  ..., 0.0000e+00,\n",
       "          0.0000e+00, 0.0000e+00],\n",
       "         ...,\n",
       "         [2.2281e-05, 4.0438e-05, 5.6117e-04,  ..., 0.0000e+00,\n",
       "          0.0000e+00, 0.0000e+00],\n",
       "         [1.0404e-04, 1.2838e-05, 5.6860e-04,  ..., 0.0000e+00,\n",
       "          0.0000e+00, 0.0000e+00],\n",
       "         [8.1952e-05, 1.7218e-05, 2.3018e-04,  ..., 0.0000e+00,\n",
       "          0.0000e+00, 0.0000e+00]]])"
      ]
     },
     "execution_count": 47,
     "metadata": {},
     "output_type": "execute_result"
    }
   ],
   "source": [
    "tm.apply_valid_tfms(s)"
   ]
  },
  {
   "cell_type": "markdown",
   "metadata": {},
   "source": [
    "### Create final transformations\n",
    "\n",
    "We now create the final transofrmation that outputs a \"multi-channel\" image where channels:\n",
    " - 0: 100% signal\n",
    " - 1: 50% gignal made doubling the X resolution of spectrogram \n",
    " - 2: 25% gignal made *4 the X resolution of spectrogram\n",
    " \n",
    "The expected result on the final training is to improve classification performance on \"short\" sounds that are actually the most common.\n",
    "\n",
    "**IMPORTANT**: now our output tensor is a 3-channel tensor so we can use the standard architecture\n",
    " \n",
    "**TODO** : possible improvements\n",
    " - Increaze the number of zooms\n",
    " - Sliding window to cope with long signals\n",
    " - Stack multiple different transformations at one"
   ]
  },
  {
   "cell_type": "code",
   "execution_count": 48,
   "metadata": {},
   "outputs": [
    {
     "data": {
      "text/plain": [
       "([<function __main__.tfm_multiSpectrumSlide(ad: exp.nb_AudioCommon.AudioData) -> torch.Tensor>],\n",
       " [<function __main__.tfm_multiSpectrumSlide(ad: exp.nb_AudioCommon.AudioData) -> torch.Tensor>])"
      ]
     },
     "execution_count": 48,
     "metadata": {},
     "output_type": "execute_result"
    }
   ],
   "source": [
    "#Replace the spectrogram transform with tfm_spectro_stft\n",
    "tm.train_tfmsg[-1]=[tfm_multiSpectrumSlide]\n",
    "tm.valid_tfmsg[-1]=[tfm_multiSpectrumSlide]\n",
    "(tm.train_tfmsg[-1], tm.valid_tfmsg[-1])"
   ]
  },
  {
   "cell_type": "code",
   "execution_count": 49,
   "metadata": {},
   "outputs": [
    {
     "data": {
      "text/plain": [
       "'Label: ?'"
      ]
     },
     "metadata": {},
     "output_type": "display_data"
    },
    {
     "data": {
      "text/html": [
       "\n",
       "                <audio controls=\"controls\" >\n",
       "                    <source src=\"data:audio/wav;base64,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\" type=\"audio/wav\" />\n",
       "                    Your browser does not support the audio element.\n",
       "                </audio>\n",
       "              "
      ],
      "text/plain": [
       "<IPython.lib.display.Audio object>"
      ]
     },
     "metadata": {},
     "output_type": "display_data"
    },
    {
     "data": {
      "text/html": [
       "\n",
       "                <audio controls=\"controls\" >\n",
       "                    <source src=\"data:audio/wav;base64,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\" type=\"audio/wav\" />\n",
       "                    Your browser does not support the audio element.\n",
       "                </audio>\n",
       "              "
      ],
      "text/plain": [
       "<IPython.lib.display.Audio object>"
      ]
     },
     "metadata": {},
     "output_type": "display_data"
    },
    {
     "data": {
      "text/plain": [
       "'Label: ?'"
      ]
     },
     "metadata": {},
     "output_type": "display_data"
    },
    {
     "data": {
      "image/jpeg": "[encoded data removed]",
      "image/png": "[encoded data removed]",
      "text/plain": [
       "Image (1, 224, 140)"
      ]
     },
     "metadata": {},
     "output_type": "display_data"
    },
    {
     "data": {
      "image/jpeg": "[encoded data removed]",
      "image/png": "[encoded data removed]",
      "text/plain": [
       "Image (1, 224, 140)"
      ]
     },
     "metadata": {},
     "output_type": "display_data"
    },
    {
     "data": {
      "image/jpeg": "[encoded data removed]",
      "image/png": "[encoded data removed]",
      "text/plain": [
       "Image (1, 224, 140)"
      ]
     },
     "metadata": {},
     "output_type": "display_data"
    },
    {
     "data": {
      "text/plain": [
       "tensor([[[-27.2094, -56.3303, -42.8475,  ..., -80.0000, -80.0000, -80.0000],\n",
       "         [-27.0077, -51.9537, -42.2018,  ..., -80.0000, -80.0000, -80.0000],\n",
       "         [-26.6956, -47.5824, -41.3601,  ..., -80.0000, -80.0000, -80.0000],\n",
       "         ...,\n",
       "         [-80.0000, -80.0000, -80.0000,  ..., -80.0000, -80.0000, -80.0000],\n",
       "         [-80.0000, -80.0000, -80.0000,  ..., -80.0000, -80.0000, -80.0000],\n",
       "         [-80.0000, -80.0000, -80.0000,  ..., -80.0000, -80.0000, -80.0000]],\n",
       "\n",
       "        [[-80.0000, -80.0000, -80.0000,  ..., -80.0000, -80.0000, -80.0000],\n",
       "         [-80.0000, -80.0000, -80.0000,  ..., -80.0000, -80.0000, -80.0000],\n",
       "         [-80.0000, -80.0000, -80.0000,  ..., -80.0000, -80.0000, -80.0000],\n",
       "         ...,\n",
       "         [-80.0000, -80.0000, -80.0000,  ..., -80.0000, -80.0000, -80.0000],\n",
       "         [-80.0000, -80.0000, -80.0000,  ..., -80.0000, -80.0000, -80.0000],\n",
       "         [-80.0000, -80.0000, -80.0000,  ..., -80.0000, -80.0000, -80.0000]],\n",
       "\n",
       "        [[-80.0000, -80.0000, -80.0000,  ..., -80.0000, -80.0000, -80.0000],\n",
       "         [-80.0000, -80.0000, -80.0000,  ..., -80.0000, -80.0000, -80.0000],\n",
       "         [-80.0000, -80.0000, -80.0000,  ..., -80.0000, -80.0000, -80.0000],\n",
       "         ...,\n",
       "         [-80.0000, -80.0000, -80.0000,  ..., -80.0000, -80.0000, -80.0000],\n",
       "         [-80.0000, -80.0000, -80.0000,  ..., -80.0000, -80.0000, -80.0000],\n",
       "         [-80.0000, -80.0000, -80.0000,  ..., -80.0000, -80.0000, -80.0000]]])"
      ]
     },
     "execution_count": 49,
     "metadata": {},
     "output_type": "execute_result"
    },
    {
     "data": {
      "image/png": "[encoded data removed]",
      "text/plain": [
       "<Figure size 432x288 with 1 Axes>"
      ]
     },
     "metadata": {
      "needs_background": "light"
     },
     "output_type": "display_data"
    }
   ],
   "source": [
    "#Try single one\n",
    "tm.try_train_tfms(s)"
   ]
  },
  {
   "cell_type": "markdown",
   "metadata": {},
   "source": [
    "### DataBlock"
   ]
  },
  {
   "cell_type": "code",
   "execution_count": 50,
   "metadata": {},
   "outputs": [
    {
     "data": {
      "text/plain": [
       "(61, ['aa', 'ae', 'ah'])"
      ]
     },
     "execution_count": 50,
     "metadata": {},
     "output_type": "execute_result"
    }
   ],
   "source": [
    "#Create classes for all data!\n",
    "classes = list(sorted(all_phonemes_df.PHN.unique()))\n",
    "len(classes), classes[:3]"
   ]
  },
  {
   "cell_type": "code",
   "execution_count": 51,
   "metadata": {},
   "outputs": [
    {
     "data": {
      "text/plain": [
       "[[functools.partial(<function tfm_add_white_noise at 0x7f38d8ff49d8>, noise_scl=0.0001, lower_gain=0.9, upper_gain=1.05),\n",
       "  functools.partial(<function tfm_modulate_volume at 0x7f38d8ff4a60>, noise_scl=0.0001, lower_gain=0.9, upper_gain=1.05),\n",
       "  functools.partial(<function tfm_pad_to_max at 0x7f38d8ff4d90>, mx=10000),\n",
       "  <function __main__.tfm_multiSpectrumSlide(ad: exp.nb_AudioCommon.AudioData) -> torch.Tensor>],\n",
       " [functools.partial(<function tfm_pad_to_max at 0x7f38d8ff4d90>, mx=10000),\n",
       "  <function __main__.tfm_multiSpectrumSlide(ad: exp.nb_AudioCommon.AudioData) -> torch.Tensor>]]"
      ]
     },
     "execution_count": 51,
     "metadata": {},
     "output_type": "execute_result"
    }
   ],
   "source": [
    "tfms = tm.get_tfms()\n",
    "tfms"
   ]
  },
  {
   "cell_type": "code",
   "execution_count": 52,
   "metadata": {},
   "outputs": [],
   "source": [
    "data = (AudioList.from_df(src, path, cols=['SampleAndSr'])\n",
    "        .split_from_df('is_valid')\n",
    "        .label_from_df('PHN', classes=classes)\n",
    "        .transform(tfms)\n",
    "        .databunch(bs=64)) # NOTE: "
   ]
  },
  {
   "cell_type": "markdown",
   "metadata": {},
   "source": [
    "## Learner"
   ]
  },
  {
   "cell_type": "code",
   "execution_count": 53,
   "metadata": {},
   "outputs": [],
   "source": [
    "learn = cnn_learner(data, models.resnet50, metrics=accuracy)"
   ]
  },
  {
   "cell_type": "markdown",
   "metadata": {},
   "source": [
    "**No need to adapt the first layer: is actually a 3-channels image**"
   ]
  },
  {
   "cell_type": "code",
   "execution_count": 54,
   "metadata": {},
   "outputs": [
    {
     "name": "stdout",
     "output_type": "stream",
     "text": [
      "First layer shape: torch.Size([64, 3, 7, 7])\n"
     ]
    }
   ],
   "source": [
    "#adapt_first_layer(learn.model,nChannels)\n",
    "print(f'First layer shape: {learn.model[0][0].weight.shape}')"
   ]
  },
  {
   "cell_type": "markdown",
   "metadata": {},
   "source": [
    "## Train"
   ]
  },
  {
   "cell_type": "code",
   "execution_count": 55,
   "metadata": {},
   "outputs": [
    {
     "data": {
      "text/html": [],
      "text/plain": [
       "<IPython.core.display.HTML object>"
      ]
     },
     "metadata": {},
     "output_type": "display_data"
    },
    {
     "name": "stdout",
     "output_type": "stream",
     "text": [
      "LR Finder is complete, type {learner_name}.recorder.plot() to see the graph.\n",
      "Min numerical gradient: 5.25E-03\n"
     ]
    },
    {
     "data": {
      "image/png": "[encoded data removed]",
      "text/plain": [
       "<Figure size 432x288 with 1 Axes>"
      ]
     },
     "metadata": {
      "needs_background": "light"
     },
     "output_type": "display_data"
    }
   ],
   "source": [
    "lr_find(learn)\n",
    "learn.recorder.plot(suggestion=True)"
   ]
  },
  {
   "cell_type": "code",
   "execution_count": 56,
   "metadata": {},
   "outputs": [
    {
     "data": {
      "text/html": [
       "Total time: 22:29 <p><table border=\"1\" class=\"dataframe\">\n",
       "  <thead>\n",
       "    <tr style=\"text-align: left;\">\n",
       "      <th>epoch</th>\n",
       "      <th>train_loss</th>\n",
       "      <th>valid_loss</th>\n",
       "      <th>accuracy</th>\n",
       "      <th>time</th>\n",
       "    </tr>\n",
       "  </thead>\n",
       "  <tbody>\n",
       "    <tr>\n",
       "      <td>0</td>\n",
       "      <td>2.486425</td>\n",
       "      <td>2.214132</td>\n",
       "      <td>0.337423</td>\n",
       "      <td>02:48</td>\n",
       "    </tr>\n",
       "    <tr>\n",
       "      <td>1</td>\n",
       "      <td>2.066756</td>\n",
       "      <td>1.899197</td>\n",
       "      <td>0.409313</td>\n",
       "      <td>02:47</td>\n",
       "    </tr>\n",
       "    <tr>\n",
       "      <td>2</td>\n",
       "      <td>1.758308</td>\n",
       "      <td>1.635987</td>\n",
       "      <td>0.487651</td>\n",
       "      <td>02:49</td>\n",
       "    </tr>\n",
       "    <tr>\n",
       "      <td>3</td>\n",
       "      <td>1.547204</td>\n",
       "      <td>1.521214</td>\n",
       "      <td>0.524304</td>\n",
       "      <td>02:47</td>\n",
       "    </tr>\n",
       "    <tr>\n",
       "      <td>4</td>\n",
       "      <td>1.375261</td>\n",
       "      <td>1.379541</td>\n",
       "      <td>0.560327</td>\n",
       "      <td>02:49</td>\n",
       "    </tr>\n",
       "    <tr>\n",
       "      <td>5</td>\n",
       "      <td>1.235152</td>\n",
       "      <td>1.331511</td>\n",
       "      <td>0.575114</td>\n",
       "      <td>02:48</td>\n",
       "    </tr>\n",
       "    <tr>\n",
       "      <td>6</td>\n",
       "      <td>1.020621</td>\n",
       "      <td>1.305962</td>\n",
       "      <td>0.590530</td>\n",
       "      <td>02:48</td>\n",
       "    </tr>\n",
       "    <tr>\n",
       "      <td>7</td>\n",
       "      <td>0.947746</td>\n",
       "      <td>1.308162</td>\n",
       "      <td>0.594306</td>\n",
       "      <td>02:48</td>\n",
       "    </tr>\n",
       "  </tbody>\n",
       "</table>"
      ],
      "text/plain": [
       "<IPython.core.display.HTML object>"
      ]
     },
     "metadata": {},
     "output_type": "display_data"
    },
    {
     "data": {
      "image/png": "[encoded data removed]",
      "text/plain": [
       "<Figure size 432x288 with 1 Axes>"
      ]
     },
     "metadata": {
      "needs_background": "light"
     },
     "output_type": "display_data"
    }
   ],
   "source": [
    "learn.fit_one_cycle(8, slice(1e-2))\n",
    "learn.recorder.plot_losses()"
   ]
  },
  {
   "cell_type": "code",
   "execution_count": 59,
   "metadata": {},
   "outputs": [],
   "source": [
    "learn.save('pass1_all_mc')"
   ]
  },
  {
   "cell_type": "code",
   "execution_count": 59,
   "metadata": {},
   "outputs": [],
   "source": [
    "learn.freeze_to(1)"
   ]
  },
  {
   "cell_type": "code",
   "execution_count": 60,
   "metadata": {},
   "outputs": [
    {
     "data": {
      "text/html": [],
      "text/plain": [
       "<IPython.core.display.HTML object>"
      ]
     },
     "metadata": {},
     "output_type": "display_data"
    },
    {
     "name": "stdout",
     "output_type": "stream",
     "text": [
      "LR Finder is complete, type {learner_name}.recorder.plot() to see the graph.\n",
      "Min numerical gradient: 8.32E-06\n"
     ]
    },
    {
     "data": {
      "image/png": "[encoded data removed]",
      "text/plain": [
       "<Figure size 432x288 with 1 Axes>"
      ]
     },
     "metadata": {
      "needs_background": "light"
     },
     "output_type": "display_data"
    }
   ],
   "source": [
    "lr_find(learn)\n",
    "learn.recorder.plot(suggestion=True)"
   ]
  },
  {
   "cell_type": "code",
   "execution_count": 61,
   "metadata": {},
   "outputs": [
    {
     "data": {
      "text/html": [
       "Total time: 10:41 <p><table border=\"1\" class=\"dataframe\">\n",
       "  <thead>\n",
       "    <tr style=\"text-align: left;\">\n",
       "      <th>epoch</th>\n",
       "      <th>train_loss</th>\n",
       "      <th>valid_loss</th>\n",
       "      <th>accuracy</th>\n",
       "      <th>time</th>\n",
       "    </tr>\n",
       "  </thead>\n",
       "  <tbody>\n",
       "    <tr>\n",
       "      <td>0</td>\n",
       "      <td>0.524080</td>\n",
       "      <td>6.047255</td>\n",
       "      <td>0.304110</td>\n",
       "      <td>01:20</td>\n",
       "    </tr>\n",
       "    <tr>\n",
       "      <td>1</td>\n",
       "      <td>0.533861</td>\n",
       "      <td>6.033799</td>\n",
       "      <td>0.299315</td>\n",
       "      <td>01:19</td>\n",
       "    </tr>\n",
       "    <tr>\n",
       "      <td>2</td>\n",
       "      <td>0.492218</td>\n",
       "      <td>5.951017</td>\n",
       "      <td>0.304795</td>\n",
       "      <td>01:20</td>\n",
       "    </tr>\n",
       "    <tr>\n",
       "      <td>3</td>\n",
       "      <td>0.445815</td>\n",
       "      <td>5.983784</td>\n",
       "      <td>0.307534</td>\n",
       "      <td>01:20</td>\n",
       "    </tr>\n",
       "    <tr>\n",
       "      <td>4</td>\n",
       "      <td>0.406293</td>\n",
       "      <td>5.969075</td>\n",
       "      <td>0.307534</td>\n",
       "      <td>01:19</td>\n",
       "    </tr>\n",
       "    <tr>\n",
       "      <td>5</td>\n",
       "      <td>0.377268</td>\n",
       "      <td>5.934899</td>\n",
       "      <td>0.313014</td>\n",
       "      <td>01:20</td>\n",
       "    </tr>\n",
       "    <tr>\n",
       "      <td>6</td>\n",
       "      <td>0.343357</td>\n",
       "      <td>5.951553</td>\n",
       "      <td>0.311644</td>\n",
       "      <td>01:20</td>\n",
       "    </tr>\n",
       "    <tr>\n",
       "      <td>7</td>\n",
       "      <td>0.325536</td>\n",
       "      <td>5.941833</td>\n",
       "      <td>0.308904</td>\n",
       "      <td>01:20</td>\n",
       "    </tr>\n",
       "  </tbody>\n",
       "</table>"
      ],
      "text/plain": [
       "<IPython.core.display.HTML object>"
      ]
     },
     "metadata": {},
     "output_type": "display_data"
    },
    {
     "data": {
      "image/png": "[encoded data removed]",
      "text/plain": [
       "<Figure size 432x288 with 1 Axes>"
      ]
     },
     "metadata": {
      "needs_background": "light"
     },
     "output_type": "display_data"
    }
   ],
   "source": [
    "learn.fit_one_cycle(8, slice(1e-4))\n",
    "learn.recorder.plot_losses()"
   ]
  },
  {
   "cell_type": "code",
   "execution_count": 63,
   "metadata": {},
   "outputs": [],
   "source": [
    "learn.save('pass2_all')"
   ]
  },
  {
   "cell_type": "code",
   "execution_count": 62,
   "metadata": {},
   "outputs": [],
   "source": [
    "learn.unfreeze()"
   ]
  },
  {
   "cell_type": "code",
   "execution_count": 63,
   "metadata": {},
   "outputs": [
    {
     "data": {
      "text/html": [],
      "text/plain": [
       "<IPython.core.display.HTML object>"
      ]
     },
     "metadata": {},
     "output_type": "display_data"
    },
    {
     "name": "stdout",
     "output_type": "stream",
     "text": [
      "LR Finder is complete, type {learner_name}.recorder.plot() to see the graph.\n",
      "Min numerical gradient: 1.58E-06\n"
     ]
    },
    {
     "data": {
      "image/png": "[encoded data removed]",
      "text/plain": [
       "<Figure size 432x288 with 1 Axes>"
      ]
     },
     "metadata": {
      "needs_background": "light"
     },
     "output_type": "display_data"
    }
   ],
   "source": [
    "lr_find(learn)\n",
    "learn.recorder.plot(suggestion=True)"
   ]
  },
  {
   "cell_type": "code",
   "execution_count": 64,
   "metadata": {},
   "outputs": [
    {
     "data": {
      "text/html": [
       "Total time: 10:43 <p><table border=\"1\" class=\"dataframe\">\n",
       "  <thead>\n",
       "    <tr style=\"text-align: left;\">\n",
       "      <th>epoch</th>\n",
       "      <th>train_loss</th>\n",
       "      <th>valid_loss</th>\n",
       "      <th>accuracy</th>\n",
       "      <th>time</th>\n",
       "    </tr>\n",
       "  </thead>\n",
       "  <tbody>\n",
       "    <tr>\n",
       "      <td>0</td>\n",
       "      <td>0.315588</td>\n",
       "      <td>5.934622</td>\n",
       "      <td>0.310959</td>\n",
       "      <td>01:20</td>\n",
       "    </tr>\n",
       "    <tr>\n",
       "      <td>1</td>\n",
       "      <td>0.314943</td>\n",
       "      <td>5.922575</td>\n",
       "      <td>0.310959</td>\n",
       "      <td>01:20</td>\n",
       "    </tr>\n",
       "    <tr>\n",
       "      <td>2</td>\n",
       "      <td>0.325263</td>\n",
       "      <td>5.942605</td>\n",
       "      <td>0.308904</td>\n",
       "      <td>01:20</td>\n",
       "    </tr>\n",
       "    <tr>\n",
       "      <td>3</td>\n",
       "      <td>0.311082</td>\n",
       "      <td>5.910153</td>\n",
       "      <td>0.313014</td>\n",
       "      <td>01:20</td>\n",
       "    </tr>\n",
       "    <tr>\n",
       "      <td>4</td>\n",
       "      <td>0.301132</td>\n",
       "      <td>5.894815</td>\n",
       "      <td>0.313014</td>\n",
       "      <td>01:20</td>\n",
       "    </tr>\n",
       "    <tr>\n",
       "      <td>5</td>\n",
       "      <td>0.286729</td>\n",
       "      <td>5.904769</td>\n",
       "      <td>0.313699</td>\n",
       "      <td>01:20</td>\n",
       "    </tr>\n",
       "    <tr>\n",
       "      <td>6</td>\n",
       "      <td>0.286385</td>\n",
       "      <td>5.898260</td>\n",
       "      <td>0.310274</td>\n",
       "      <td>01:20</td>\n",
       "    </tr>\n",
       "    <tr>\n",
       "      <td>7</td>\n",
       "      <td>0.286107</td>\n",
       "      <td>5.893535</td>\n",
       "      <td>0.309589</td>\n",
       "      <td>01:20</td>\n",
       "    </tr>\n",
       "  </tbody>\n",
       "</table>"
      ],
      "text/plain": [
       "<IPython.core.display.HTML object>"
      ]
     },
     "metadata": {},
     "output_type": "display_data"
    },
    {
     "data": {
      "image/png": "[encoded data removed]",
      "text/plain": [
       "<Figure size 432x288 with 1 Axes>"
      ]
     },
     "metadata": {
      "needs_background": "light"
     },
     "output_type": "display_data"
    }
   ],
   "source": [
    "learn.fit_one_cycle(8, slice(1e-6, 1.1e-5))\n",
    "learn.recorder.plot_losses()"
   ]
  },
  {
   "cell_type": "code",
   "execution_count": 67,
   "metadata": {},
   "outputs": [],
   "source": [
    "learn.save('pass3_all')"
   ]
  },
  {
   "cell_type": "markdown",
   "metadata": {},
   "source": [
    "Not so good result: should work on it ;-)"
   ]
  },
  {
   "cell_type": "code",
   "execution_count": 73,
   "metadata": {},
   "outputs": [
    {
     "data": {
      "text/plain": [
       "(torch.Size([1, 1, 9080]), torch.Size([9080, 1, 1]))"
      ]
     },
     "execution_count": 73,
     "metadata": {},
     "output_type": "execute_result"
    }
   ],
   "source": [
    "a = s.sig.unsqueeze(0).unsqueeze(0)\n",
    "a.shape, a.permute(2,0,1).shape"
   ]
  },
  {
   "cell_type": "markdown",
   "metadata": {},
   "source": [
    "# Phoneme classification\n"
   ]
  },
  {
   "cell_type": "markdown",
   "metadata": {},
   "source": [
    "## Fin."
   ]
  },
  {
   "cell_type": "code",
   "execution_count": null,
   "metadata": {},
   "outputs": [],
   "source": []
  }
 ],
 "metadata": {
  "kernelspec": {
   "display_name": "Python 3",
   "language": "python",
   "name": "python3"
  },
  "language_info": {
   "codemirror_mode": {
    "name": "ipython",
    "version": 3
   },
   "file_extension": ".py",
   "mimetype": "text/x-python",
   "name": "python",
   "nbconvert_exporter": "python",
   "pygments_lexer": "ipython3",
   "version": "3.7.0"
  },
  "varInspector": {
   "cols": {
    "lenName": 16,
    "lenType": 16,
    "lenVar": 40
   },
   "kernels_config": {
    "python": {
     "delete_cmd_postfix": "",
     "delete_cmd_prefix": "del ",
     "library": "var_list.py",
     "varRefreshCmd": "print(var_dic_list())"
    },
    "r": {
     "delete_cmd_postfix": ") ",
     "delete_cmd_prefix": "rm(",
     "library": "var_list.r",
     "varRefreshCmd": "cat(var_dic_list()) "
    }
   },
   "types_to_exclude": [
    "module",
    "function",
    "builtin_function_or_method",
    "instance",
    "_Feature"
   ],
   "window_display": false
  }
 },
 "nbformat": 4,
 "nbformat_minor": 2
}
