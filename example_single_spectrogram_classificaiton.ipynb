{
 "cells": [
  {
   "cell_type": "markdown",
   "metadata": {},
   "source": [
    "# Example: word classification with single spectrogram\n",
    "Experimental notebook by @ste\n",
    "\n",
    "In this notebook I'll focus on the importance of **LOOK** and **HEAR** your augmented sound data, to understand if the amount of transformation you're going to apply are messing up or not your original data."
   ]
  },
  {
   "cell_type": "code",
   "execution_count": 1,
   "metadata": {},
   "outputs": [],
   "source": [
    "## Notebook settings\n",
    "%reload_ext autoreload\n",
    "%autoreload 2\n",
    "%matplotlib inline"
   ]
  },
  {
   "cell_type": "code",
   "execution_count": 2,
   "metadata": {},
   "outputs": [],
   "source": [
    "## fastai imports\n",
    "from fastai.basics import *\n",
    "from fastai.data_block import ItemList\n",
    "from fastai.vision import *"
   ]
  },
  {
   "cell_type": "markdown",
   "metadata": {},
   "source": [
    "Import FastAI Audio modules here:"
   ]
  },
  {
   "cell_type": "code",
   "execution_count": 3,
   "metadata": {},
   "outputs": [],
   "source": [
    "from exp.nb_AudioCommon import *\n",
    "from exp.nb_DataBlock import *\n",
    "from exp.nb_DataAugmentation import *"
   ]
  },
  {
   "cell_type": "markdown",
   "metadata": {},
   "source": [
    "### Other library imports"
   ]
  },
  {
   "cell_type": "markdown",
   "metadata": {},
   "source": [
    "If this cell fails, you probably haven't installed the correct system/Python dependencies. You might need to re-run the \"System setup\" cell again."
   ]
  },
  {
   "cell_type": "code",
   "execution_count": 4,
   "metadata": {},
   "outputs": [],
   "source": [
    "import torch\n",
    "from pdb import set_trace\n",
    "from IPython.display import Audio\n",
    "from pydub import AudioSegment, silence\n",
    "import torchaudio\n",
    "from torchaudio import transforms\n",
    "import pandas as pd"
   ]
  },
  {
   "cell_type": "code",
   "execution_count": 5,
   "metadata": {},
   "outputs": [],
   "source": [
    "#Options\n",
    "pd.set_option('display.max_colwidth', -1)"
   ]
  },
  {
   "cell_type": "markdown",
   "metadata": {},
   "source": [
    "## Preparing the data"
   ]
  },
  {
   "cell_type": "markdown",
   "metadata": {},
   "source": [
    "We're going to do **phoneme classification** using the TIMIT dataset.\n",
    "\n",
    "The copyright on TIMIT isn't clear, and the data is hard to download, so we assume that the user has access to this dataset.\n",
    "\n",
    "**IMPORTANT:** the dataset should be located in the standard fast.ai location:\n",
    "> $HOME/.fastai/data/timit"
   ]
  },
  {
   "cell_type": "code",
   "execution_count": 6,
   "metadata": {},
   "outputs": [],
   "source": [
    "#Fast.ai way to get folder for your dataset\n",
    "path = datapath4file('timit')"
   ]
  },
  {
   "cell_type": "markdown",
   "metadata": {},
   "source": [
    "### Parsing the data"
   ]
  },
  {
   "cell_type": "code",
   "execution_count": 7,
   "metadata": {},
   "outputs": [
    {
     "name": "stdout",
     "output_type": "stream",
     "text": [
      "TEST PASED\n"
     ]
    }
   ],
   "source": [
    "def extractInformationsFromAbsolutePath(s: str):\n",
    "    items = list(filter(lambda x: len(x)>0,s.split('/')))\n",
    "    USAGE = items[0]\n",
    "    DIALECT = items[1]\n",
    "    SEX = items[2][0]\n",
    "    SPEAKER_ID = items[2][1:]\n",
    "    SENTENCE_ID = items[3]\n",
    "    return USAGE, DIALECT, SEX, SPEAKER_ID, SENTENCE_ID\n",
    "    \n",
    "def test_extractInformationsFromAbsolutePath():\n",
    "    USAGE, DIALECT, SEX, SPEAKER_ID, SENTENCE_ID = extractInformationsFromAbsolutePath('/TRAIN/DR7/MPAR0/SI2206')\n",
    "    assert 'TRAIN'==USAGE\n",
    "    assert 'DR7'==DIALECT\n",
    "    assert 'M'==SEX\n",
    "    assert 'PAR0'==SPEAKER_ID\n",
    "    assert 'SI2206'==SENTENCE_ID\n",
    "    print('TEST PASED')\n",
    "\n",
    "test_extractInformationsFromAbsolutePath()"
   ]
  },
  {
   "cell_type": "code",
   "execution_count": 8,
   "metadata": {},
   "outputs": [
    {
     "data": {
      "text/html": [
       "<div>\n",
       "<style scoped>\n",
       "    .dataframe tbody tr th:only-of-type {\n",
       "        vertical-align: middle;\n",
       "    }\n",
       "\n",
       "    .dataframe tbody tr th {\n",
       "        vertical-align: top;\n",
       "    }\n",
       "\n",
       "    .dataframe thead th {\n",
       "        text-align: right;\n",
       "    }\n",
       "</style>\n",
       "<table border=\"1\" class=\"dataframe\">\n",
       "  <thead>\n",
       "    <tr style=\"text-align: right;\">\n",
       "      <th></th>\n",
       "      <th>relPath</th>\n",
       "      <th>USAGE</th>\n",
       "      <th>DIALECT</th>\n",
       "      <th>SEX</th>\n",
       "      <th>SPEAKER_ID</th>\n",
       "      <th>SENTENCE_ID</th>\n",
       "    </tr>\n",
       "    <tr>\n",
       "      <th>IDX</th>\n",
       "      <th></th>\n",
       "      <th></th>\n",
       "      <th></th>\n",
       "      <th></th>\n",
       "      <th></th>\n",
       "      <th></th>\n",
       "    </tr>\n",
       "  </thead>\n",
       "  <tbody>\n",
       "    <tr>\n",
       "      <th>MPAR0:SI2206</th>\n",
       "      <td>/TRAIN/DR7/MPAR0/SI2206</td>\n",
       "      <td>TRAIN</td>\n",
       "      <td>DR7</td>\n",
       "      <td>M</td>\n",
       "      <td>PAR0</td>\n",
       "      <td>SI2206</td>\n",
       "    </tr>\n",
       "    <tr>\n",
       "      <th>MPAR0:SX316</th>\n",
       "      <td>/TRAIN/DR7/MPAR0/SX316</td>\n",
       "      <td>TRAIN</td>\n",
       "      <td>DR7</td>\n",
       "      <td>M</td>\n",
       "      <td>PAR0</td>\n",
       "      <td>SX316</td>\n",
       "    </tr>\n",
       "    <tr>\n",
       "      <th>MPAR0:SI1576</th>\n",
       "      <td>/TRAIN/DR7/MPAR0/SI1576</td>\n",
       "      <td>TRAIN</td>\n",
       "      <td>DR7</td>\n",
       "      <td>M</td>\n",
       "      <td>PAR0</td>\n",
       "      <td>SI1576</td>\n",
       "    </tr>\n",
       "    <tr>\n",
       "      <th>MPAR0:SA1</th>\n",
       "      <td>/TRAIN/DR7/MPAR0/SA1</td>\n",
       "      <td>TRAIN</td>\n",
       "      <td>DR7</td>\n",
       "      <td>M</td>\n",
       "      <td>PAR0</td>\n",
       "      <td>SA1</td>\n",
       "    </tr>\n",
       "    <tr>\n",
       "      <th>MPAR0:SX46</th>\n",
       "      <td>/TRAIN/DR7/MPAR0/SX46</td>\n",
       "      <td>TRAIN</td>\n",
       "      <td>DR7</td>\n",
       "      <td>M</td>\n",
       "      <td>PAR0</td>\n",
       "      <td>SX46</td>\n",
       "    </tr>\n",
       "  </tbody>\n",
       "</table>\n",
       "</div>"
      ],
      "text/plain": [
       "                              relPath  USAGE DIALECT SEX SPEAKER_ID  \\\n",
       "IDX                                                                   \n",
       "MPAR0:SI2206  /TRAIN/DR7/MPAR0/SI2206  TRAIN  DR7     M   PAR0        \n",
       "MPAR0:SX316   /TRAIN/DR7/MPAR0/SX316   TRAIN  DR7     M   PAR0        \n",
       "MPAR0:SI1576  /TRAIN/DR7/MPAR0/SI1576  TRAIN  DR7     M   PAR0        \n",
       "MPAR0:SA1     /TRAIN/DR7/MPAR0/SA1     TRAIN  DR7     M   PAR0        \n",
       "MPAR0:SX46    /TRAIN/DR7/MPAR0/SX46    TRAIN  DR7     M   PAR0        \n",
       "\n",
       "             SENTENCE_ID  \n",
       "IDX                       \n",
       "MPAR0:SI2206  SI2206      \n",
       "MPAR0:SX316   SX316       \n",
       "MPAR0:SI1576  SI1576      \n",
       "MPAR0:SA1     SA1         \n",
       "MPAR0:SX46    SX46        "
      ]
     },
     "execution_count": 8,
     "metadata": {},
     "output_type": "execute_result"
    }
   ],
   "source": [
    "def extractTimitDatasetInformation(path):\n",
    "    '''Put in a dataframe all the information about samples'''\n",
    "    import glob\n",
    "    files = glob.glob(str(path)+ '/**/*.WAV', recursive=True)\n",
    "    ret = pd.DataFrame(files, columns=['relPath'])\n",
    "    #Remove path and extension\n",
    "    ret['relPath'] = ret['relPath'].apply(lambda x: x.replace(str(path),'').replace('.WAV',''))\n",
    "\n",
    "    def extractIntoSeries(s):\n",
    "        USAGE, DIALECT, SEX, SPEAKER_ID, SENTENCE_ID = extractInformationsFromAbsolutePath(s)\n",
    "        return pd.Series({\n",
    "            'USAGE': USAGE,\n",
    "            'DIALECT': DIALECT,\n",
    "            'SEX': SEX,\n",
    "            'SPEAKER_ID': SPEAKER_ID,\n",
    "            'SENTENCE_ID': SENTENCE_ID,\n",
    "            'IDX': SEX + SPEAKER_ID + ':' + SENTENCE_ID})\n",
    "\n",
    "    #IMPORTANT: Apply multiple transformations at one\n",
    "    ret = ret.merge(ret['relPath'].apply(lambda s: extractIntoSeries(s)), left_index=True, right_index=True)    \n",
    "    ret = ret.set_index(['IDX']) # Add index\n",
    "    return ret\n",
    "                \n",
    "all_files_df = extractTimitDatasetInformation(path)\n",
    "all_files_df.head()"
   ]
  },
  {
   "cell_type": "code",
   "execution_count": 9,
   "metadata": {},
   "outputs": [
    {
     "name": "stdout",
     "output_type": "stream",
     "text": [
      "Number of files: 6300\n"
     ]
    }
   ],
   "source": [
    "print(f'Number of files: {len(all_files_df)}')"
   ]
  },
  {
   "cell_type": "markdown",
   "metadata": {},
   "source": [
    "### OPTIONAL Decimate dataset\n",
    "To speedup computation we reduce train/valid set."
   ]
  },
  {
   "cell_type": "code",
   "execution_count": 10,
   "metadata": {},
   "outputs": [
    {
     "data": {
      "text/plain": [
       "USAGE\n",
       "TEST     168\n",
       "TRAIN    462\n",
       "Name: relPath, dtype: int64"
      ]
     },
     "execution_count": 10,
     "metadata": {},
     "output_type": "execute_result"
    }
   ],
   "source": [
    "#DON'T RUN THIS CELL IN YOU WANT TOI USE ALL DATA\n",
    "def decimate(train_df:pd.DataFrame, valid_df:pd.DataFrame, pct=.1)->pd.DataFrame:\n",
    "    t1=train_df.sample(frac=pct,random_state=1)\n",
    "    t2=valid_df.sample(frac=pct,random_state=1)\n",
    "    return pd.concat([t1,t2],axis=0)\n",
    "\n",
    "all_files_df=decimate(all_files_df[all_files_df.USAGE=='TRAIN'],all_files_df[all_files_df.USAGE=='TEST'],.1)\n",
    "all_files_df.groupby(['USAGE'])['relPath'].count()"
   ]
  },
  {
   "cell_type": "markdown",
   "metadata": {},
   "source": [
    "# Word classification"
   ]
  },
  {
   "cell_type": "markdown",
   "metadata": {},
   "source": [
    "## Create data bunch"
   ]
  },
  {
   "cell_type": "code",
   "execution_count": 11,
   "metadata": {},
   "outputs": [],
   "source": [
    "def process_phn_file(idx:str, phn_file, sig, sr, ext, delimiter=' ')->pd.DataFrame:\n",
    "    df = pd.read_csv(phn_file, delimiter=delimiter, header=None)\n",
    "    df.columns = ['START', 'END', ext]\n",
    "    df['SIG'] = df.apply(lambda x : sig[x['START']: x['END']], axis=1)\n",
    "    df['SR'] = sr\n",
    "    df['IDX'] = idx\n",
    "    df['IDXN'] = pd.Series(map(lambda x: idx+':'+str(x), range(len(df))))   \n",
    "    df = df.set_index(['IDXN'])\n",
    "    return df"
   ]
  },
  {
   "cell_type": "code",
   "execution_count": 12,
   "metadata": {},
   "outputs": [
    {
     "name": "stdout",
     "output_type": "stream",
     "text": [
      "/home/ste/.fastai/data/timit/TRAIN/DR2/MJMD0/SX308.WAV \tExists: True\n"
     ]
    },
    {
     "data": {
      "text/html": [
       "<div>\n",
       "<style scoped>\n",
       "    .dataframe tbody tr th:only-of-type {\n",
       "        vertical-align: middle;\n",
       "    }\n",
       "\n",
       "    .dataframe tbody tr th {\n",
       "        vertical-align: top;\n",
       "    }\n",
       "\n",
       "    .dataframe thead th {\n",
       "        text-align: right;\n",
       "    }\n",
       "</style>\n",
       "<table border=\"1\" class=\"dataframe\">\n",
       "  <thead>\n",
       "    <tr style=\"text-align: right;\">\n",
       "      <th></th>\n",
       "      <th>START</th>\n",
       "      <th>END</th>\n",
       "      <th>PHN</th>\n",
       "      <th>SIG</th>\n",
       "      <th>SR</th>\n",
       "      <th>IDX</th>\n",
       "    </tr>\n",
       "    <tr>\n",
       "      <th>IDXN</th>\n",
       "      <th></th>\n",
       "      <th></th>\n",
       "      <th></th>\n",
       "      <th></th>\n",
       "      <th></th>\n",
       "      <th></th>\n",
       "    </tr>\n",
       "  </thead>\n",
       "  <tbody>\n",
       "    <tr>\n",
       "      <th>MJMD0:SX308:0</th>\n",
       "      <td>0</td>\n",
       "      <td>2320</td>\n",
       "      <td>h#</td>\n",
       "      <td>[tensor(0.0001), tensor(0.0002), tensor(-3.0518e-05), tensor(6.1035e-05), tensor(-3.0518e-05), tensor(6.1035e-05), tensor(9.1553e-05), tensor(0.0001), tensor(0.0001), tensor(3.0518e-05), tensor(9.1553e-05), tensor(0.), tensor(-3.0518e-05), tensor(-9.1553e-05), tensor(0.0002), tensor(0.0001), tensor(0.0002), tensor(9.1553e-05), tensor(6.1035e-05), tensor(9.1553e-05), tensor(0.), tensor(0.0002), tensor(9.1553e-05), tensor(0.0001), tensor(0.0002), tensor(0.0002), tensor(0.0002), tensor(0.0002), tensor(0.0001), tensor(6.1035e-05), tensor(9.1553e-05), tensor(-9.1553e-05), tensor(3.0518e-05), tensor(0.0002), tensor(0.0002), tensor(0.0002), tensor(6.1035e-05), tensor(0.0002), tensor(0.), tensor(0.0001), tensor(9.1553e-05), tensor(0.0002), tensor(0.0002), tensor(0.0002), tensor(0.0001), tensor(0.0002), tensor(6.1035e-05), tensor(9.1553e-05), tensor(6.1035e-05), tensor(6.1035e-05), tensor(0.0002), tensor(0.), tensor(0.0002), tensor(0.0002), tensor(0.0002), tensor(9.1553e-05), tensor(9.1553e-05), tensor(9.1553e-05), tensor(0.0001), tensor(0.0001), tensor(0.0002), tensor(0.0002), tensor(0.0001), tensor(9.1553e-05), tensor(3.0518e-05), tensor(9.1553e-05), tensor(-6.1035e-05), tensor(-6.1035e-05), tensor(6.1035e-05), tensor(0.0001), tensor(3.0518e-05), tensor(3.0518e-05), tensor(6.1035e-05), tensor(3.0518e-05), tensor(-6.1035e-05), tensor(-3.0518e-05), tensor(3.0518e-05), tensor(0.0001), tensor(-3.0518e-05), tensor(0.0001), tensor(3.0518e-05), tensor(0.0001), tensor(0.), tensor(3.0518e-05), tensor(0.), tensor(0.), tensor(9.1553e-05), tensor(9.1553e-05), tensor(0.0001), tensor(0.0002), tensor(9.1553e-05), tensor(3.0518e-05), tensor(0.0002), tensor(0.), tensor(9.1553e-05), tensor(9.1553e-05), tensor(0.0001), tensor(0.0002), tensor(0.0001), tensor(9.1553e-05), ...]</td>\n",
       "      <td>16000</td>\n",
       "      <td>MJMD0:SX308</td>\n",
       "    </tr>\n",
       "    <tr>\n",
       "      <th>MJMD0:SX308:1</th>\n",
       "      <td>2320</td>\n",
       "      <td>4803</td>\n",
       "      <td>sh</td>\n",
       "      <td>[tensor(3.0518e-05), tensor(-0.0002), tensor(-3.0518e-05), tensor(0.0004), tensor(0.0003), tensor(0.0002), tensor(-0.0002), tensor(6.1035e-05), tensor(0.0002), tensor(0.0002), tensor(9.1553e-05), tensor(-0.0004), tensor(0.0002), tensor(0.0006), tensor(0.), tensor(-0.0002), tensor(-6.1035e-05), tensor(9.1553e-05), tensor(0.0003), tensor(0.0003), tensor(0.0002), tensor(-0.0005), tensor(-0.0005), tensor(0.0001), tensor(0.0003), tensor(0.0005), tensor(0.0005), tensor(-0.0007), tensor(-0.0005), tensor(0.0007), tensor(0.0005), tensor(-0.0002), tensor(-0.0002), tensor(0.0003), tensor(-0.0001), tensor(-0.0005), tensor(0.0005), tensor(0.0006), tensor(-0.0004), tensor(-0.0003), tensor(-3.0518e-05), tensor(-0.0002), tensor(0.0007), tensor(0.0005), tensor(-0.0007), tensor(-0.0006), tensor(-0.0002), tensor(0.0005), tensor(0.0008), tensor(-0.0002), tensor(-0.0008), tensor(-9.1553e-05), tensor(0.0006), tensor(0.0006), tensor(0.0002), tensor(-0.0003), tensor(-3.0518e-05), tensor(6.1035e-05), tensor(-0.0005), tensor(-0.0003), tensor(3.0518e-05), tensor(-0.0004), tensor(-0.0005), tensor(-6.1035e-05), tensor(9.1553e-05), tensor(0.0003), tensor(0.0006), tensor(-0.0005), tensor(-0.0005), tensor(0.), tensor(-0.0002), tensor(0.0004), tensor(0.0005), tensor(-0.0003), tensor(-0.0003), tensor(0.0003), tensor(0.0006), tensor(0.0005), tensor(-0.0002), tensor(-0.0005), tensor(-3.0518e-05), tensor(-3.0518e-05), tensor(0.0005), tensor(-0.0004), tensor(-0.0005), tensor(0.0002), tensor(0.0002), tensor(0.0006), tensor(0.0003), tensor(-0.0004), tensor(-0.0003), tensor(0.0003), tensor(0.0004), tensor(0.0001), tensor(-0.0011), tensor(-0.0003), tensor(0.0006), tensor(0.0005), tensor(0.0009), tensor(0.0004), ...]</td>\n",
       "      <td>16000</td>\n",
       "      <td>MJMD0:SX308</td>\n",
       "    </tr>\n",
       "  </tbody>\n",
       "</table>\n",
       "</div>"
      ],
      "text/plain": [
       "               START   END PHN  \\\n",
       "IDXN                             \n",
       "MJMD0:SX308:0  0      2320  h#   \n",
       "MJMD0:SX308:1  2320   4803  sh   \n",
       "\n",
       "                                                                                                                                                                                                                                                                                                                                                                                                                                                                                                                                                                                                                                                                                                                                                                                                                                                                                                                                                                                                                                                                                                                                                                                                                                                                                                                                                                                                                                                                                                                                                                                                                                                                                                                                                                                                                                                               SIG  \\\n",
       "IDXN                                                                                                                                                                                                                                                                                                                                                                                                                                                                                                                                                                                                                                                                                                                                                                                                                                                                                                                                                                                                                                                                                                                                                                                                                                                                                                                                                                                                                                                                                                                                                                                                                                                                                                                                                                                                                                                                 \n",
       "MJMD0:SX308:0  [tensor(0.0001), tensor(0.0002), tensor(-3.0518e-05), tensor(6.1035e-05), tensor(-3.0518e-05), tensor(6.1035e-05), tensor(9.1553e-05), tensor(0.0001), tensor(0.0001), tensor(3.0518e-05), tensor(9.1553e-05), tensor(0.), tensor(-3.0518e-05), tensor(-9.1553e-05), tensor(0.0002), tensor(0.0001), tensor(0.0002), tensor(9.1553e-05), tensor(6.1035e-05), tensor(9.1553e-05), tensor(0.), tensor(0.0002), tensor(9.1553e-05), tensor(0.0001), tensor(0.0002), tensor(0.0002), tensor(0.0002), tensor(0.0002), tensor(0.0001), tensor(6.1035e-05), tensor(9.1553e-05), tensor(-9.1553e-05), tensor(3.0518e-05), tensor(0.0002), tensor(0.0002), tensor(0.0002), tensor(6.1035e-05), tensor(0.0002), tensor(0.), tensor(0.0001), tensor(9.1553e-05), tensor(0.0002), tensor(0.0002), tensor(0.0002), tensor(0.0001), tensor(0.0002), tensor(6.1035e-05), tensor(9.1553e-05), tensor(6.1035e-05), tensor(6.1035e-05), tensor(0.0002), tensor(0.), tensor(0.0002), tensor(0.0002), tensor(0.0002), tensor(9.1553e-05), tensor(9.1553e-05), tensor(9.1553e-05), tensor(0.0001), tensor(0.0001), tensor(0.0002), tensor(0.0002), tensor(0.0001), tensor(9.1553e-05), tensor(3.0518e-05), tensor(9.1553e-05), tensor(-6.1035e-05), tensor(-6.1035e-05), tensor(6.1035e-05), tensor(0.0001), tensor(3.0518e-05), tensor(3.0518e-05), tensor(6.1035e-05), tensor(3.0518e-05), tensor(-6.1035e-05), tensor(-3.0518e-05), tensor(3.0518e-05), tensor(0.0001), tensor(-3.0518e-05), tensor(0.0001), tensor(3.0518e-05), tensor(0.0001), tensor(0.), tensor(3.0518e-05), tensor(0.), tensor(0.), tensor(9.1553e-05), tensor(9.1553e-05), tensor(0.0001), tensor(0.0002), tensor(9.1553e-05), tensor(3.0518e-05), tensor(0.0002), tensor(0.), tensor(9.1553e-05), tensor(9.1553e-05), tensor(0.0001), tensor(0.0002), tensor(0.0001), tensor(9.1553e-05), ...]   \n",
       "MJMD0:SX308:1  [tensor(3.0518e-05), tensor(-0.0002), tensor(-3.0518e-05), tensor(0.0004), tensor(0.0003), tensor(0.0002), tensor(-0.0002), tensor(6.1035e-05), tensor(0.0002), tensor(0.0002), tensor(9.1553e-05), tensor(-0.0004), tensor(0.0002), tensor(0.0006), tensor(0.), tensor(-0.0002), tensor(-6.1035e-05), tensor(9.1553e-05), tensor(0.0003), tensor(0.0003), tensor(0.0002), tensor(-0.0005), tensor(-0.0005), tensor(0.0001), tensor(0.0003), tensor(0.0005), tensor(0.0005), tensor(-0.0007), tensor(-0.0005), tensor(0.0007), tensor(0.0005), tensor(-0.0002), tensor(-0.0002), tensor(0.0003), tensor(-0.0001), tensor(-0.0005), tensor(0.0005), tensor(0.0006), tensor(-0.0004), tensor(-0.0003), tensor(-3.0518e-05), tensor(-0.0002), tensor(0.0007), tensor(0.0005), tensor(-0.0007), tensor(-0.0006), tensor(-0.0002), tensor(0.0005), tensor(0.0008), tensor(-0.0002), tensor(-0.0008), tensor(-9.1553e-05), tensor(0.0006), tensor(0.0006), tensor(0.0002), tensor(-0.0003), tensor(-3.0518e-05), tensor(6.1035e-05), tensor(-0.0005), tensor(-0.0003), tensor(3.0518e-05), tensor(-0.0004), tensor(-0.0005), tensor(-6.1035e-05), tensor(9.1553e-05), tensor(0.0003), tensor(0.0006), tensor(-0.0005), tensor(-0.0005), tensor(0.), tensor(-0.0002), tensor(0.0004), tensor(0.0005), tensor(-0.0003), tensor(-0.0003), tensor(0.0003), tensor(0.0006), tensor(0.0005), tensor(-0.0002), tensor(-0.0005), tensor(-3.0518e-05), tensor(-3.0518e-05), tensor(0.0005), tensor(-0.0004), tensor(-0.0005), tensor(0.0002), tensor(0.0002), tensor(0.0006), tensor(0.0003), tensor(-0.0004), tensor(-0.0003), tensor(0.0003), tensor(0.0004), tensor(0.0001), tensor(-0.0011), tensor(-0.0003), tensor(0.0006), tensor(0.0005), tensor(0.0009), tensor(0.0004), ...]                                                                               \n",
       "\n",
       "                  SR          IDX  \n",
       "IDXN                               \n",
       "MJMD0:SX308:0  16000  MJMD0:SX308  \n",
       "MJMD0:SX308:1  16000  MJMD0:SX308  "
      ]
     },
     "metadata": {},
     "output_type": "display_data"
    },
    {
     "name": "stdout",
     "output_type": "stream",
     "text": [
      "Number of rows: 34\n",
      "TEST DONE\n"
     ]
    }
   ],
   "source": [
    "def extractItems(path, idx, relativePath, ext, verbose=False)->pd.DataFrame:\n",
    "    base_path = str(path) + relativePath\n",
    "    wav_file = base_path + \".WAV\"\n",
    "    wav_exists = os.path.isfile(wav_file)\n",
    "    if verbose: print(wav_file, f'\\tExists: {wav_exists}')\n",
    "    #Sanity check\n",
    "    if not wav_exists: return none\n",
    "    #Proceed\n",
    "    sigTwoChannels,sr = torchaudio.load(wav_file)\n",
    "    sig = sigTwoChannels[0] # MONO NO STEREO - convert to \"one dimension\"\n",
    "    phn_file = base_path + '.' + ext\n",
    "            \n",
    "    ret = process_phn_file(idx, phn_file, sig, sr, ext, delimiter=' ')\n",
    "    \n",
    "    return ret\n",
    "\n",
    "#    sig,sr = torchaudio.load(str(phn_file.replace('PHN', 'WAV')))\n",
    "#    df = process_phn_file(phn_file, sig, sr, delimiter=' ')\n",
    "#    df['Source'] = phn_file\n",
    "#    final = final.append(df)\n",
    "            \n",
    "def test_extractItems_PHN():\n",
    "    row = all_files_df.iloc[0]\n",
    "    ret_df = extractItems(path, row.name, row['relPath'], 'PHN', verbose=True)\n",
    "    display(ret_df.head(2))\n",
    "    print(f'Number of rows: {len(ret_df)}')\n",
    "#    assert 54==len(ret_df)\n",
    "    print('TEST DONE')\n",
    "\n",
    "test_extractItems_PHN()"
   ]
  },
  {
   "cell_type": "code",
   "execution_count": 13,
   "metadata": {},
   "outputs": [
    {
     "name": "stdout",
     "output_type": "stream",
     "text": [
      "/home/ste/.fastai/data/timit/TRAIN/DR2/MJMD0/SX308.WAV \tExists: True\n"
     ]
    },
    {
     "data": {
      "text/html": [
       "<div>\n",
       "<style scoped>\n",
       "    .dataframe tbody tr th:only-of-type {\n",
       "        vertical-align: middle;\n",
       "    }\n",
       "\n",
       "    .dataframe tbody tr th {\n",
       "        vertical-align: top;\n",
       "    }\n",
       "\n",
       "    .dataframe thead th {\n",
       "        text-align: right;\n",
       "    }\n",
       "</style>\n",
       "<table border=\"1\" class=\"dataframe\">\n",
       "  <thead>\n",
       "    <tr style=\"text-align: right;\">\n",
       "      <th></th>\n",
       "      <th>START</th>\n",
       "      <th>END</th>\n",
       "      <th>WRD</th>\n",
       "      <th>SIG</th>\n",
       "      <th>SR</th>\n",
       "      <th>IDX</th>\n",
       "    </tr>\n",
       "    <tr>\n",
       "      <th>IDXN</th>\n",
       "      <th></th>\n",
       "      <th></th>\n",
       "      <th></th>\n",
       "      <th></th>\n",
       "      <th></th>\n",
       "      <th></th>\n",
       "    </tr>\n",
       "  </thead>\n",
       "  <tbody>\n",
       "    <tr>\n",
       "      <th>MJMD0:SX308:0</th>\n",
       "      <td>2320</td>\n",
       "      <td>11400</td>\n",
       "      <td>shipbuilding</td>\n",
       "      <td>[tensor(3.0518e-05), tensor(-0.0002), tensor(-3.0518e-05), tensor(0.0004), tensor(0.0003), tensor(0.0002), tensor(-0.0002), tensor(6.1035e-05), tensor(0.0002), tensor(0.0002), tensor(9.1553e-05), tensor(-0.0004), tensor(0.0002), tensor(0.0006), tensor(0.), tensor(-0.0002), tensor(-6.1035e-05), tensor(9.1553e-05), tensor(0.0003), tensor(0.0003), tensor(0.0002), tensor(-0.0005), tensor(-0.0005), tensor(0.0001), tensor(0.0003), tensor(0.0005), tensor(0.0005), tensor(-0.0007), tensor(-0.0005), tensor(0.0007), tensor(0.0005), tensor(-0.0002), tensor(-0.0002), tensor(0.0003), tensor(-0.0001), tensor(-0.0005), tensor(0.0005), tensor(0.0006), tensor(-0.0004), tensor(-0.0003), tensor(-3.0518e-05), tensor(-0.0002), tensor(0.0007), tensor(0.0005), tensor(-0.0007), tensor(-0.0006), tensor(-0.0002), tensor(0.0005), tensor(0.0008), tensor(-0.0002), tensor(-0.0008), tensor(-9.1553e-05), tensor(0.0006), tensor(0.0006), tensor(0.0002), tensor(-0.0003), tensor(-3.0518e-05), tensor(6.1035e-05), tensor(-0.0005), tensor(-0.0003), tensor(3.0518e-05), tensor(-0.0004), tensor(-0.0005), tensor(-6.1035e-05), tensor(9.1553e-05), tensor(0.0003), tensor(0.0006), tensor(-0.0005), tensor(-0.0005), tensor(0.), tensor(-0.0002), tensor(0.0004), tensor(0.0005), tensor(-0.0003), tensor(-0.0003), tensor(0.0003), tensor(0.0006), tensor(0.0005), tensor(-0.0002), tensor(-0.0005), tensor(-3.0518e-05), tensor(-3.0518e-05), tensor(0.0005), tensor(-0.0004), tensor(-0.0005), tensor(0.0002), tensor(0.0002), tensor(0.0006), tensor(0.0003), tensor(-0.0004), tensor(-0.0003), tensor(0.0003), tensor(0.0004), tensor(0.0001), tensor(-0.0011), tensor(-0.0003), tensor(0.0006), tensor(0.0005), tensor(0.0009), tensor(0.0004), ...]</td>\n",
       "      <td>16000</td>\n",
       "      <td>MJMD0:SX308</td>\n",
       "    </tr>\n",
       "  </tbody>\n",
       "</table>\n",
       "</div>"
      ],
      "text/plain": [
       "               START    END           WRD  \\\n",
       "IDXN                                        \n",
       "MJMD0:SX308:0  2320   11400  shipbuilding   \n",
       "\n",
       "                                                                                                                                                                                                                                                                                                                                                                                                                                                                                                                                                                                                                                                                                                                                                                                                                                                                                                                                                                                                                                                                                                                                                                                                                                                                                                                                                                                                                                                                                                                                                                                                                                                                                                                                                                                   SIG  \\\n",
       "IDXN                                                                                                                                                                                                                                                                                                                                                                                                                                                                                                                                                                                                                                                                                                                                                                                                                                                                                                                                                                                                                                                                                                                                                                                                                                                                                                                                                                                                                                                                                                                                                                                                                                                                                                                                                                                     \n",
       "MJMD0:SX308:0  [tensor(3.0518e-05), tensor(-0.0002), tensor(-3.0518e-05), tensor(0.0004), tensor(0.0003), tensor(0.0002), tensor(-0.0002), tensor(6.1035e-05), tensor(0.0002), tensor(0.0002), tensor(9.1553e-05), tensor(-0.0004), tensor(0.0002), tensor(0.0006), tensor(0.), tensor(-0.0002), tensor(-6.1035e-05), tensor(9.1553e-05), tensor(0.0003), tensor(0.0003), tensor(0.0002), tensor(-0.0005), tensor(-0.0005), tensor(0.0001), tensor(0.0003), tensor(0.0005), tensor(0.0005), tensor(-0.0007), tensor(-0.0005), tensor(0.0007), tensor(0.0005), tensor(-0.0002), tensor(-0.0002), tensor(0.0003), tensor(-0.0001), tensor(-0.0005), tensor(0.0005), tensor(0.0006), tensor(-0.0004), tensor(-0.0003), tensor(-3.0518e-05), tensor(-0.0002), tensor(0.0007), tensor(0.0005), tensor(-0.0007), tensor(-0.0006), tensor(-0.0002), tensor(0.0005), tensor(0.0008), tensor(-0.0002), tensor(-0.0008), tensor(-9.1553e-05), tensor(0.0006), tensor(0.0006), tensor(0.0002), tensor(-0.0003), tensor(-3.0518e-05), tensor(6.1035e-05), tensor(-0.0005), tensor(-0.0003), tensor(3.0518e-05), tensor(-0.0004), tensor(-0.0005), tensor(-6.1035e-05), tensor(9.1553e-05), tensor(0.0003), tensor(0.0006), tensor(-0.0005), tensor(-0.0005), tensor(0.), tensor(-0.0002), tensor(0.0004), tensor(0.0005), tensor(-0.0003), tensor(-0.0003), tensor(0.0003), tensor(0.0006), tensor(0.0005), tensor(-0.0002), tensor(-0.0005), tensor(-3.0518e-05), tensor(-3.0518e-05), tensor(0.0005), tensor(-0.0004), tensor(-0.0005), tensor(0.0002), tensor(0.0002), tensor(0.0006), tensor(0.0003), tensor(-0.0004), tensor(-0.0003), tensor(0.0003), tensor(0.0004), tensor(0.0001), tensor(-0.0011), tensor(-0.0003), tensor(0.0006), tensor(0.0005), tensor(0.0009), tensor(0.0004), ...]   \n",
       "\n",
       "                  SR          IDX  \n",
       "IDXN                               \n",
       "MJMD0:SX308:0  16000  MJMD0:SX308  "
      ]
     },
     "metadata": {},
     "output_type": "display_data"
    },
    {
     "name": "stdout",
     "output_type": "stream",
     "text": [
      "Number of rows: 6\n",
      "TEST DONE\n"
     ]
    }
   ],
   "source": [
    "def test_extractItems_WRD():\n",
    "    row = all_files_df.iloc[0]\n",
    "    ret_df = extractItems(path, row.name, row['relPath'], 'WRD', verbose=True)\n",
    "    display(ret_df.head(1))\n",
    "    print(f'Number of rows: {len(ret_df)}')\n",
    "#    assert 14==len(ret_df)\n",
    "    print('TEST DONE')\n",
    "\n",
    "test_extractItems_WRD()"
   ]
  },
  {
   "cell_type": "code",
   "execution_count": 14,
   "metadata": {},
   "outputs": [
    {
     "data": {
      "text/html": [
       "<div>\n",
       "<style scoped>\n",
       "    .dataframe tbody tr th:only-of-type {\n",
       "        vertical-align: middle;\n",
       "    }\n",
       "\n",
       "    .dataframe tbody tr th {\n",
       "        vertical-align: top;\n",
       "    }\n",
       "\n",
       "    .dataframe thead th {\n",
       "        text-align: right;\n",
       "    }\n",
       "</style>\n",
       "<table border=\"1\" class=\"dataframe\">\n",
       "  <thead>\n",
       "    <tr style=\"text-align: right;\">\n",
       "      <th></th>\n",
       "      <th>relPath</th>\n",
       "      <th>USAGE</th>\n",
       "      <th>DIALECT</th>\n",
       "      <th>SEX</th>\n",
       "      <th>SPEAKER_ID</th>\n",
       "      <th>SENTENCE_ID</th>\n",
       "    </tr>\n",
       "    <tr>\n",
       "      <th>IDX</th>\n",
       "      <th></th>\n",
       "      <th></th>\n",
       "      <th></th>\n",
       "      <th></th>\n",
       "      <th></th>\n",
       "      <th></th>\n",
       "    </tr>\n",
       "  </thead>\n",
       "  <tbody>\n",
       "    <tr>\n",
       "      <th>MJMD0:SX308</th>\n",
       "      <td>/TRAIN/DR2/MJMD0/SX308</td>\n",
       "      <td>TRAIN</td>\n",
       "      <td>DR2</td>\n",
       "      <td>M</td>\n",
       "      <td>JMD0</td>\n",
       "      <td>SX308</td>\n",
       "    </tr>\n",
       "    <tr>\n",
       "      <th>FLEH0:SI2311</th>\n",
       "      <td>/TRAIN/DR7/FLEH0/SI2311</td>\n",
       "      <td>TRAIN</td>\n",
       "      <td>DR7</td>\n",
       "      <td>F</td>\n",
       "      <td>LEH0</td>\n",
       "      <td>SI2311</td>\n",
       "    </tr>\n",
       "  </tbody>\n",
       "</table>\n",
       "</div>"
      ],
      "text/plain": [
       "                              relPath  USAGE DIALECT SEX SPEAKER_ID  \\\n",
       "IDX                                                                   \n",
       "MJMD0:SX308   /TRAIN/DR2/MJMD0/SX308   TRAIN  DR2     M   JMD0        \n",
       "FLEH0:SI2311  /TRAIN/DR7/FLEH0/SI2311  TRAIN  DR7     F   LEH0        \n",
       "\n",
       "             SENTENCE_ID  \n",
       "IDX                       \n",
       "MJMD0:SX308   SX308       \n",
       "FLEH0:SI2311  SI2311      "
      ]
     },
     "execution_count": 14,
     "metadata": {},
     "output_type": "execute_result"
    }
   ],
   "source": [
    "all_files_df.head(2)"
   ]
  },
  {
   "cell_type": "code",
   "execution_count": 15,
   "metadata": {},
   "outputs": [
    {
     "name": "stdout",
     "output_type": "stream",
     "text": [
      "<class 'pandas.core.frame.DataFrame'>\n",
      "Index: 630 entries, MJMD0:SX308 to FCAU0:SX317\n",
      "Data columns (total 6 columns):\n",
      "relPath        630 non-null object\n",
      "USAGE          630 non-null object\n",
      "DIALECT        630 non-null object\n",
      "SEX            630 non-null object\n",
      "SPEAKER_ID     630 non-null object\n",
      "SENTENCE_ID    630 non-null object\n",
      "dtypes: object(6)\n",
      "memory usage: 34.5+ KB\n"
     ]
    }
   ],
   "source": [
    "all_files_df.info()"
   ]
  },
  {
   "cell_type": "code",
   "execution_count": 16,
   "metadata": {},
   "outputs": [
    {
     "name": "stdout",
     "output_type": "stream",
     "text": [
      "Rows: 80\n",
      "<class 'pandas.core.frame.DataFrame'>\n",
      "Index: 80 entries, MJMD0:SX308:0 to MADD0:SI538:4\n",
      "Data columns (total 6 columns):\n",
      "START    80 non-null int64\n",
      "END      80 non-null int64\n",
      "WRD      80 non-null object\n",
      "SIG      80 non-null object\n",
      "SR       80 non-null int64\n",
      "IDX      80 non-null object\n",
      "dtypes: int64(3), object(3)\n",
      "memory usage: 4.4+ KB\n"
     ]
    }
   ],
   "source": [
    "def createItemsDataFrame(path, files_df, ext):\n",
    "    ret = pd.DataFrame()\n",
    "    for i,row in files_df.iterrows():\n",
    "        tmp_df = extractItems(path, row.name, row['relPath'], ext)\n",
    "        ret = ret.append(tmp_df)\n",
    "        #print(len(ret))\n",
    "#    ret = files_df.apply(lambda row: ret.append(extractWords(path, row.name, row['relPath']), ignore_index=True), axis=1)\n",
    "#    files_df.apply(lambda row: print(row), axis=1)\n",
    "    return ret\n",
    "\n",
    "def test_createItemsDataFrame():\n",
    "    tdf = createItemsDataFrame(path, all_files_df.head(10), 'WRD')\n",
    "    print(f'Rows: {len(tdf)}')\n",
    "    tdf.info()\n",
    "#    assert 86==len(tdf)\n",
    "\n",
    "test_createItemsDataFrame()"
   ]
  },
  {
   "cell_type": "code",
   "execution_count": 17,
   "metadata": {},
   "outputs": [
    {
     "name": "stdout",
     "output_type": "stream",
     "text": [
      "CPU times: user 18.3 s, sys: 278 ms, total: 18.6 s\n",
      "Wall time: 3.1 s\n",
      "<class 'pandas.core.frame.DataFrame'>\n",
      "Index: 5454 entries, MJMD0:SX308:0 to FCAU0:SX317:7\n",
      "Data columns (total 6 columns):\n",
      "START    5454 non-null int64\n",
      "END      5454 non-null int64\n",
      "WRD      5454 non-null object\n",
      "SIG      5454 non-null object\n",
      "SR       5454 non-null int64\n",
      "IDX      5454 non-null object\n",
      "dtypes: int64(3), object(3)\n",
      "memory usage: 298.3+ KB\n"
     ]
    }
   ],
   "source": [
    "%time all_words_df = createItemsDataFrame(path, all_files_df, 'WRD')\n",
    "all_words_df.info()"
   ]
  },
  {
   "cell_type": "code",
   "execution_count": 18,
   "metadata": {},
   "outputs": [
    {
     "name": "stdout",
     "output_type": "stream",
     "text": [
      "Words count: 5454\n"
     ]
    }
   ],
   "source": [
    "print(f'Words count: {len(all_words_df)}')"
   ]
  },
  {
   "cell_type": "markdown",
   "metadata": {},
   "source": [
    "## Join data and create \"src\" "
   ]
  },
  {
   "cell_type": "code",
   "execution_count": 19,
   "metadata": {},
   "outputs": [],
   "source": [
    "#Join files with words\n",
    "src = all_words_df.merge(all_files_df,left_on='IDX',right_on='IDX')\n",
    "assert len(src)==len(all_words_df)"
   ]
  },
  {
   "cell_type": "code",
   "execution_count": 20,
   "metadata": {},
   "outputs": [
    {
     "data": {
      "text/plain": [
       "USAGE\n",
       "TEST     1462\n",
       "TRAIN    3992\n",
       "Name: SIG, dtype: int64"
      ]
     },
     "execution_count": 20,
     "metadata": {},
     "output_type": "execute_result"
    }
   ],
   "source": [
    "#Optionally subsample and ensure good distribution among train and \"valid\"\n",
    "#src = src.sample(5000, random_state=1) # Uncomment this to reduce dataset\n",
    "src.groupby(['USAGE'])['SIG'].count()"
   ]
  },
  {
   "cell_type": "code",
   "execution_count": 21,
   "metadata": {},
   "outputs": [
    {
     "data": {
      "text/html": [
       "<div>\n",
       "<style scoped>\n",
       "    .dataframe tbody tr th:only-of-type {\n",
       "        vertical-align: middle;\n",
       "    }\n",
       "\n",
       "    .dataframe tbody tr th {\n",
       "        vertical-align: top;\n",
       "    }\n",
       "\n",
       "    .dataframe thead th {\n",
       "        text-align: right;\n",
       "    }\n",
       "</style>\n",
       "<table border=\"1\" class=\"dataframe\">\n",
       "  <thead>\n",
       "    <tr style=\"text-align: right;\">\n",
       "      <th></th>\n",
       "      <th>WRD</th>\n",
       "      <th>FREQ</th>\n",
       "    </tr>\n",
       "  </thead>\n",
       "  <tbody>\n",
       "    <tr>\n",
       "      <th>0</th>\n",
       "      <td>'em</td>\n",
       "      <td>1</td>\n",
       "    </tr>\n",
       "    <tr>\n",
       "      <th>1</th>\n",
       "      <td>a</td>\n",
       "      <td>119</td>\n",
       "    </tr>\n",
       "    <tr>\n",
       "      <th>2</th>\n",
       "      <td>abbreviate</td>\n",
       "      <td>1</td>\n",
       "    </tr>\n",
       "    <tr>\n",
       "      <th>3</th>\n",
       "      <td>abdomen</td>\n",
       "      <td>1</td>\n",
       "    </tr>\n",
       "    <tr>\n",
       "      <th>4</th>\n",
       "      <td>ability</td>\n",
       "      <td>1</td>\n",
       "    </tr>\n",
       "  </tbody>\n",
       "</table>\n",
       "</div>"
      ],
      "text/plain": [
       "          WRD  FREQ\n",
       "0  'em         1   \n",
       "1  a           119 \n",
       "2  abbreviate  1   \n",
       "3  abdomen     1   \n",
       "4  ability     1   "
      ]
     },
     "execution_count": 21,
     "metadata": {},
     "output_type": "execute_result"
    }
   ],
   "source": [
    "wrd_freq = src.groupby(['WRD'])['SIG'].count().reset_index(name='FREQ')\n",
    "wrd_freq.head()"
   ]
  },
  {
   "cell_type": "code",
   "execution_count": 22,
   "metadata": {},
   "outputs": [],
   "source": [
    "#Add word frequency measure to src\n",
    "src = src.merge(wrd_freq,left_on='WRD',right_on='WRD')\n",
    "assert len(src)==len(all_words_df) # does not pass if src is reduced"
   ]
  },
  {
   "cell_type": "code",
   "execution_count": 23,
   "metadata": {},
   "outputs": [
    {
     "name": "stdout",
     "output_type": "stream",
     "text": [
      "5454\n"
     ]
    }
   ],
   "source": [
    "# Keep high frequency words\n",
    "#src = src[src.FREQ>=8]\n",
    "print(len(src))"
   ]
  },
  {
   "cell_type": "code",
   "execution_count": 24,
   "metadata": {},
   "outputs": [
    {
     "data": {
      "text/plain": [
       "(tensor([ 3.0518e-05, -2.1362e-04, -3.0518e-05,  ...,  8.2397e-04,\n",
       "          2.3499e-03,  2.9297e-03]), 16000)"
      ]
     },
     "execution_count": 24,
     "metadata": {},
     "output_type": "execute_result"
    }
   ],
   "source": [
    "#Create merged column...\n",
    "src['SampleAndSr'] = src.apply(lambda row: (row.SIG,row.SR),axis=1)\n",
    "src.iloc[0]['SampleAndSr']"
   ]
  },
  {
   "cell_type": "code",
   "execution_count": 25,
   "metadata": {},
   "outputs": [
    {
     "data": {
      "text/plain": [
       "is_valid\n",
       "False    3992\n",
       "True     1462\n",
       "Name: SIG, dtype: int64"
      ]
     },
     "execution_count": 25,
     "metadata": {},
     "output_type": "execute_result"
    }
   ],
   "source": [
    "#Create validation set column from \"test\" hold out\n",
    "src['is_valid'] = src['USAGE'].apply(lambda x: not (x=='TRAIN'))\n",
    "src.groupby(['is_valid'])['SIG'].count()"
   ]
  },
  {
   "cell_type": "code",
   "execution_count": 26,
   "metadata": {},
   "outputs": [
    {
     "data": {
      "text/plain": [
       "1800"
      ]
     },
     "execution_count": 26,
     "metadata": {},
     "output_type": "execute_result"
    }
   ],
   "source": [
    "#Count unique words\n",
    "len(src.WRD.unique())"
   ]
  },
  {
   "cell_type": "markdown",
   "metadata": {},
   "source": [
    "#### Useful statistics"
   ]
  },
  {
   "cell_type": "code",
   "execution_count": 27,
   "metadata": {},
   "outputs": [
    {
     "name": "stdout",
     "output_type": "stream",
     "text": [
      "Shortest item: 0\n",
      "Longest item: 17560\n"
     ]
    }
   ],
   "source": [
    "src['LENGHT'] = src.SIG.apply(lambda x: x.shape[0])\n",
    "print(f'Shortest item: {src.LENGHT.min()}')\n",
    "print(f'Longest item: {src.LENGHT.max()}')"
   ]
  },
  {
   "cell_type": "code",
   "execution_count": 28,
   "metadata": {},
   "outputs": [
    {
     "data": {
      "text/plain": [
       "<matplotlib.axes._subplots.AxesSubplot at 0x7faee413a4e0>"
      ]
     },
     "execution_count": 28,
     "metadata": {},
     "output_type": "execute_result"
    },
    {
     "data": {
      "image/png": "[encoded data removed]",
      "text/plain": [
       "<Figure size 432x288 with 1 Axes>"
      ]
     },
     "metadata": {
      "needs_background": "light"
     },
     "output_type": "display_data"
    }
   ],
   "source": [
    "src['LENGHT'].hist(bins=100)"
   ]
  },
  {
   "cell_type": "markdown",
   "metadata": {},
   "source": [
    "**WARNING** there are zero lenght items that should be filtered..."
   ]
  },
  {
   "cell_type": "code",
   "execution_count": 29,
   "metadata": {},
   "outputs": [
    {
     "name": "stdout",
     "output_type": "stream",
     "text": [
      "Shortest item: 231\n",
      "Longest item: 15938\n",
      "Number of items: 5446\n"
     ]
    }
   ],
   "source": [
    "#Discarding too short and too long sounds\n",
    "min_duration = 50 # in samples\n",
    "max_duration = 16000\n",
    "src = src[src.LENGHT>min_duration]\n",
    "src = src[src.LENGHT<=max_duration]\n",
    "print(f'Shortest item: {src.LENGHT.min()}')\n",
    "print(f'Longest item: {src.LENGHT.max()}')\n",
    "print(f'Number of items: {len(src)}')"
   ]
  },
  {
   "cell_type": "markdown",
   "metadata": {},
   "source": [
    "## Classify words"
   ]
  },
  {
   "cell_type": "markdown",
   "metadata": {},
   "source": [
    "## Data Augmentation"
   ]
  },
  {
   "cell_type": "markdown",
   "metadata": {},
   "source": [
    "Support functions:"
   ]
  },
  {
   "cell_type": "code",
   "execution_count": 30,
   "metadata": {},
   "outputs": [],
   "source": [
    "def applyAllTfms(ad:AudioData, tfms):\n",
    "    '''Recursively apply all tfms'''\n",
    "    ret = ad\n",
    "    for tfm in tfms:\n",
    "        ret = tfm(ret)\n",
    "    return ret"
   ]
  },
  {
   "cell_type": "code",
   "execution_count": 31,
   "metadata": {},
   "outputs": [],
   "source": [
    "def displayAudioData(lbl, ad:AudioData, orig:AudioData=None,show=True):\n",
    "    display(lbl, Audio(ad.sig,rate=ad.sr))\n",
    "    if show:\n",
    "        if orig is not None: plt.plot(orig.sig, 'r')\n",
    "        if ad is not None: plt.plot(ad.sig, 'b')"
   ]
  },
  {
   "cell_type": "code",
   "execution_count": 32,
   "metadata": {},
   "outputs": [],
   "source": [
    "def get_audio_transforms(spectro:bool=False,\n",
    "                         white_noise:bool=True,\n",
    "                         modulate_volume:bool=True,\n",
    "                         random_cutout:bool=True,\n",
    "                         pad_with_silence:bool=True,\n",
    "                         pitch_warp:bool=True,\n",
    "                         down_and_up:bool=True,\n",
    "                         mx_to_pad:int=1000,\n",
    "                         xtra_tfms:Optional[Collection[Transform]]=None,\n",
    "                         **kwargs)->Collection[Transform]:\n",
    "    \"Utility func to easily create a list of audio transforms.\"\n",
    "    res = []\n",
    "    if white_noise: res.append(partial(tfm_add_white_noise, **kwargs))\n",
    "    if modulate_volume: res.append(partial(tfm_modulate_volume, **kwargs))\n",
    "    if random_cutout: res.append(partial(tfm_random_cutout, pct_to_cut=.15, **kwargs))\n",
    "    if pad_with_silence: res.append(partial(tfm_pad_with_silence, pct_to_pad=.15, min_to_pad=None, max_to_pad=None, **kwargs))\n",
    "    if pitch_warp: res.append(partial(tfm_pitch_warp, shift_by_pitch=None, bins_per_octave=12, **kwargs))\n",
    "    if down_and_up: res.append(partial(tfm_down_and_up, sr_divisor=2, **kwargs))\n",
    "    res.append(partial(tfm_pad_to_max, mx=mx_to_pad))\n",
    "    final_transform = tfm_extract_signal\n",
    "    if spectro: final_transform = tfm_spectro\n",
    "    res.append(final_transform)\n",
    "    #       train                   , valid\n",
    "    return (res + listify(xtra_tfms), [partial(tfm_pad_to_max, mx=mx_to_pad), final_transform])"
   ]
  },
  {
   "cell_type": "code",
   "execution_count": 33,
   "metadata": {},
   "outputs": [],
   "source": [
    "#Data Augmentation\n",
    "tfms = get_audio_transforms(spectro=True,\n",
    "                            mx_to_pad=max_duration, #1 sec window\n",
    "                            white_noise=True, noise_scl=1e-3, # Small noise\n",
    "                            modulate_volume=True, lower_gain=.95, upper_gain=1.05, # Not big volume variation\n",
    "                            random_cutout=False,\n",
    "                            pad_with_silence=False,\n",
    "                            pitch_warp=False,\n",
    "                            down_and_up=False)"
   ]
  },
  {
   "cell_type": "markdown",
   "metadata": {},
   "source": [
    "Let's try the audio data augmentation."
   ]
  },
  {
   "cell_type": "code",
   "execution_count": 34,
   "metadata": {},
   "outputs": [
    {
     "data": {
      "text/plain": [
       "[functools.partial(<function tfm_add_white_noise at 0x7faee532d9d8>, noise_scl=0.001, lower_gain=0.95, upper_gain=1.05),\n",
       " functools.partial(<function tfm_modulate_volume at 0x7faee532da60>, noise_scl=0.001, lower_gain=0.95, upper_gain=1.05),\n",
       " functools.partial(<function tfm_pad_to_max at 0x7faee532dd90>, mx=16000),\n",
       " <function exp.nb_DataAugmentation.tfm_spectro(ad: exp.nb_AudioCommon.AudioData, sr=16000, to_db_scale=False, n_fft=400, ws=None, hop=None, f_min=0.0, f_max=-80, pad=0, n_mels=128, **kwargs)>]"
      ]
     },
     "execution_count": 34,
     "metadata": {},
     "output_type": "execute_result"
    }
   ],
   "source": [
    "# Show all train transformations\n",
    "train_tfms = tfms[0]\n",
    "train_tfms"
   ]
  },
  {
   "cell_type": "code",
   "execution_count": 35,
   "metadata": {},
   "outputs": [
    {
     "data": {
      "text/plain": [
       "[functools.partial(<function tfm_add_white_noise at 0x7faee532d9d8>, noise_scl=0.001, lower_gain=0.95, upper_gain=1.05),\n",
       " functools.partial(<function tfm_modulate_volume at 0x7faee532da60>, noise_scl=0.001, lower_gain=0.95, upper_gain=1.05),\n",
       " functools.partial(<function tfm_pad_to_max at 0x7faee532dd90>, mx=16000)]"
      ]
     },
     "execution_count": 35,
     "metadata": {},
     "output_type": "execute_result"
    }
   ],
   "source": [
    "# Extract \"AudioTransformations\" for train set\n",
    "audio_tfms = train_tfms[:-1]\n",
    "audio_tfms"
   ]
  },
  {
   "cell_type": "code",
   "execution_count": 36,
   "metadata": {},
   "outputs": [],
   "source": [
    "samples = src.sample(5,random_state=1)\n",
    "ads = [AudioData(src.iloc[i].SIG,src.iloc[i].SR) for i in range(len(samples))]"
   ]
  },
  {
   "cell_type": "code",
   "execution_count": 37,
   "metadata": {},
   "outputs": [
    {
     "data": {
      "text/plain": [
       "'original'"
      ]
     },
     "metadata": {},
     "output_type": "display_data"
    },
    {
     "data": {
      "text/html": [
       "\n",
       "                <audio controls=\"controls\" >\n",
       "                    <source src=\"data:audio/wav;base64,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\" type=\"audio/wav\" />\n",
       "                    Your browser does not support the audio element.\n",
       "                </audio>\n",
       "              "
      ],
      "text/plain": [
       "<IPython.lib.display.Audio object>"
      ]
     },
     "metadata": {},
     "output_type": "display_data"
    }
   ],
   "source": [
    "s = ads[0]\n",
    "displayAudioData('original',s,show=False)"
   ]
  },
  {
   "cell_type": "code",
   "execution_count": 38,
   "metadata": {},
   "outputs": [
    {
     "data": {
      "text/plain": [
       "'augmented'"
      ]
     },
     "metadata": {},
     "output_type": "display_data"
    },
    {
     "data": {
      "text/html": [
       "\n",
       "                <audio controls=\"controls\" >\n",
       "                    <source src=\"data:audio/wav;base64,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\" type=\"audio/wav\" />\n",
       "                    Your browser does not support the audio element.\n",
       "                </audio>\n",
       "              "
      ],
      "text/plain": [
       "<IPython.lib.display.Audio object>"
      ]
     },
     "metadata": {},
     "output_type": "display_data"
    },
    {
     "data": {
      "image/png": "[encoded data removed]",
      "text/plain": [
       "<Figure size 432x288 with 1 Axes>"
      ]
     },
     "metadata": {
      "needs_background": "light"
     },
     "output_type": "display_data"
    }
   ],
   "source": [
    "sAug = applyAllTfms(s,audio_tfms)\n",
    "displayAudioData('augmented',sAug,s)"
   ]
  },
  {
   "cell_type": "markdown",
   "metadata": {},
   "source": [
    "**IMPORTANT**: remember to **LISTEN** at the transformaiton ;-)"
   ]
  },
  {
   "cell_type": "markdown",
   "metadata": {},
   "source": [
    "## Fine tune spectrogram"
   ]
  },
  {
   "cell_type": "markdown",
   "metadata": {},
   "source": [
    "Specrogram should be configured properly: let's define a new function **tfm_spectro_tuned** with the parameters we wants, using partial application"
   ]
  },
  {
   "cell_type": "code",
   "execution_count": 39,
   "metadata": {},
   "outputs": [
    {
     "data": {
      "image/jpeg": "[encoded data removed]",
      "image/png": "[encoded data removed]",
      "text/plain": [
       "Image (1, 224, 24)"
      ]
     },
     "metadata": {},
     "output_type": "display_data"
    }
   ],
   "source": [
    "#display(Image(tfm_spectro(ads[1],n_mels=128,to_db_scale=True))) #original\n",
    "tfm_spectro_tuned = partial(tfm_spectro,n_mels=224, ws=200, n_fft=3200, to_db_scale=True)\n",
    "display(Image(tfm_spectro_tuned(ads[1]))) #improved"
   ]
  },
  {
   "cell_type": "code",
   "execution_count": 40,
   "metadata": {},
   "outputs": [
    {
     "data": {
      "text/plain": [
       "([functools.partial(<function tfm_add_white_noise at 0x7faee532d9d8>, noise_scl=0.001, lower_gain=0.95, upper_gain=1.05),\n",
       "  functools.partial(<function tfm_modulate_volume at 0x7faee532da60>, noise_scl=0.001, lower_gain=0.95, upper_gain=1.05),\n",
       "  functools.partial(<function tfm_pad_to_max at 0x7faee532dd90>, mx=16000),\n",
       "  functools.partial(<function tfm_spectro at 0x7faee5291158>, n_mels=224, ws=200, n_fft=3200, to_db_scale=True)],\n",
       " [functools.partial(<function tfm_pad_to_max at 0x7faee532dd90>, mx=16000),\n",
       "  functools.partial(<function tfm_spectro at 0x7faee5291158>, n_mels=224, ws=200, n_fft=3200, to_db_scale=True)])"
      ]
     },
     "execution_count": 40,
     "metadata": {},
     "output_type": "execute_result"
    }
   ],
   "source": [
    "#Replace the spectrogram transform with tfm_spectro_stft\n",
    "tfms[0][-1]=tfm_spectro_tuned\n",
    "tfms[1][-1]=tfm_spectro_tuned\n",
    "tfms"
   ]
  },
  {
   "cell_type": "markdown",
   "metadata": {},
   "source": [
    "### DataBlock"
   ]
  },
  {
   "cell_type": "code",
   "execution_count": 41,
   "metadata": {},
   "outputs": [
    {
     "data": {
      "text/plain": [
       "(1800, [\"'em\", 'a', 'abbreviate'])"
      ]
     },
     "execution_count": 41,
     "metadata": {},
     "output_type": "execute_result"
    }
   ],
   "source": [
    "#Create classes for all data!\n",
    "classes = list(sorted(all_words_df.WRD.unique()))\n",
    "len(classes), classes[:3]"
   ]
  },
  {
   "cell_type": "code",
   "execution_count": 42,
   "metadata": {},
   "outputs": [],
   "source": [
    "ils = AudioList.from_df(src, path, cols=['SampleAndSr'])"
   ]
  },
  {
   "cell_type": "code",
   "execution_count": 43,
   "metadata": {},
   "outputs": [],
   "source": [
    "data = (ils\n",
    "        .split_from_df('is_valid')\n",
    "        .label_from_df('WRD', classes=classes)\n",
    "        .transform(tfms)\n",
    "        .databunch(bs=64)) # NOTE: "
   ]
  },
  {
   "cell_type": "markdown",
   "metadata": {},
   "source": [
    "### Take a look to some transformed examples"
   ]
  },
  {
   "cell_type": "code",
   "execution_count": 44,
   "metadata": {},
   "outputs": [],
   "source": [
    "batch = data.one_batch()"
   ]
  },
  {
   "cell_type": "code",
   "execution_count": 45,
   "metadata": {},
   "outputs": [
    {
     "data": {
      "image/jpeg": "[encoded data removed]",
      "image/png": "[encoded data removed]",
      "text/plain": [
       "Image (1, 224, 161)"
      ]
     },
     "metadata": {},
     "output_type": "display_data"
    },
    {
     "data": {
      "text/plain": [
       "torch.Size([1, 224, 161])"
      ]
     },
     "metadata": {},
     "output_type": "display_data"
    },
    {
     "data": {
      "text/plain": [
       "'Corrisponding label: the'"
      ]
     },
     "metadata": {},
     "output_type": "display_data"
    },
    {
     "data": {
      "image/jpeg": "[encoded data removed]",
      "image/png": "[encoded data removed]",
      "text/plain": [
       "Image (1, 224, 161)"
      ]
     },
     "metadata": {},
     "output_type": "display_data"
    },
    {
     "data": {
      "text/plain": [
       "torch.Size([1, 224, 161])"
      ]
     },
     "metadata": {},
     "output_type": "display_data"
    },
    {
     "data": {
      "text/plain": [
       "'Corrisponding label: to'"
      ]
     },
     "metadata": {},
     "output_type": "display_data"
    },
    {
     "data": {
      "image/jpeg": "[encoded data removed]",
      "image/png": "[encoded data removed]",
      "text/plain": [
       "Image (1, 224, 161)"
      ]
     },
     "metadata": {},
     "output_type": "display_data"
    },
    {
     "data": {
      "text/plain": [
       "torch.Size([1, 224, 161])"
      ]
     },
     "metadata": {},
     "output_type": "display_data"
    },
    {
     "data": {
      "text/plain": [
       "'Corrisponding label: an'"
      ]
     },
     "metadata": {},
     "output_type": "display_data"
    },
    {
     "data": {
      "image/jpeg": "[encoded data removed]",
      "image/png": "[encoded data removed]",
      "text/plain": [
       "Image (1, 224, 161)"
      ]
     },
     "metadata": {},
     "output_type": "display_data"
    },
    {
     "data": {
      "text/plain": [
       "torch.Size([1, 224, 161])"
      ]
     },
     "metadata": {},
     "output_type": "display_data"
    },
    {
     "data": {
      "text/plain": [
       "'Corrisponding label: add'"
      ]
     },
     "metadata": {},
     "output_type": "display_data"
    },
    {
     "data": {
      "image/jpeg": "[encoded data removed]",
      "image/png": "[encoded data removed]",
      "text/plain": [
       "Image (1, 224, 161)"
      ]
     },
     "metadata": {},
     "output_type": "display_data"
    },
    {
     "data": {
      "text/plain": [
       "torch.Size([1, 224, 161])"
      ]
     },
     "metadata": {},
     "output_type": "display_data"
    },
    {
     "data": {
      "text/plain": [
       "'Corrisponding label: the'"
      ]
     },
     "metadata": {},
     "output_type": "display_data"
    }
   ],
   "source": [
    "#Try with more examples...\n",
    "for i in range(5):\n",
    "    img = batch[0][i]\n",
    "    lbl = classes[batch[1][i]]\n",
    "    display(Image(img),img.shape,f'Corrisponding label: {lbl}')"
   ]
  },
  {
   "cell_type": "markdown",
   "metadata": {},
   "source": [
    "**IMPORTANT**: there is a lot of \"silence\" at the end of each sound..."
   ]
  },
  {
   "cell_type": "markdown",
   "metadata": {},
   "source": [
    "## Learner"
   ]
  },
  {
   "cell_type": "code",
   "execution_count": 46,
   "metadata": {},
   "outputs": [],
   "source": [
    "learn = cnn_learner(data, models.resnet50, metrics=accuracy)"
   ]
  },
  {
   "cell_type": "code",
   "execution_count": 47,
   "metadata": {},
   "outputs": [],
   "source": [
    "def adapt_first_layer(src_model, nChannels):\n",
    "    '''\n",
    "    Change first layer of network to accomodate new channels\n",
    "    '''\n",
    "    # save original\n",
    "    original_weights = src_model[0][0].weight.clone()\n",
    "    new_weights = original_weights[:,0:1,:,:]\n",
    "\n",
    "    # create new layes\n",
    "    new_layer = nn.Conv2d(nChannels,64, kernel_size=(7, 7), stride=(2, 2), padding=(3, 3), bias=False)\n",
    "    new_layer.weight = nn.Parameter(new_weights)\n",
    "\n",
    "    # Replace layer and put to gpu.\n",
    "    src_model[0][0] = new_layer\n",
    "    src_model.cuda();"
   ]
  },
  {
   "cell_type": "code",
   "execution_count": 48,
   "metadata": {},
   "outputs": [
    {
     "name": "stdout",
     "output_type": "stream",
     "text": [
      "First layer shape: torch.Size([64, 1, 7, 7])\n"
     ]
    }
   ],
   "source": [
    "nChannels=1\n",
    "\n",
    "# Alter existing model\n",
    "adapt_first_layer(learn.model,nChannels)\n",
    "print(f'First layer shape: {learn.model[0][0].weight.shape}')"
   ]
  },
  {
   "cell_type": "markdown",
   "metadata": {},
   "source": [
    "## Train"
   ]
  },
  {
   "cell_type": "code",
   "execution_count": 49,
   "metadata": {},
   "outputs": [
    {
     "data": {
      "text/html": [],
      "text/plain": [
       "<IPython.core.display.HTML object>"
      ]
     },
     "metadata": {},
     "output_type": "display_data"
    },
    {
     "name": "stdout",
     "output_type": "stream",
     "text": [
      "LR Finder is complete, type {learner_name}.recorder.plot() to see the graph.\n",
      "Min numerical gradient: 1.10E-02\n"
     ]
    },
    {
     "data": {
      "image/png": "[encoded data removed]",
      "text/plain": [
       "<Figure size 432x288 with 1 Axes>"
      ]
     },
     "metadata": {
      "needs_background": "light"
     },
     "output_type": "display_data"
    }
   ],
   "source": [
    "lr_find(learn)\n",
    "learn.recorder.plot(suggestion=True)"
   ]
  },
  {
   "cell_type": "code",
   "execution_count": 50,
   "metadata": {},
   "outputs": [
    {
     "data": {
      "text/html": [
       "Total time: 03:00 <p><table border=\"1\" class=\"dataframe\">\n",
       "  <thead>\n",
       "    <tr style=\"text-align: left;\">\n",
       "      <th>epoch</th>\n",
       "      <th>train_loss</th>\n",
       "      <th>valid_loss</th>\n",
       "      <th>accuracy</th>\n",
       "      <th>time</th>\n",
       "    </tr>\n",
       "  </thead>\n",
       "  <tbody>\n",
       "    <tr>\n",
       "      <td>0</td>\n",
       "      <td>6.655325</td>\n",
       "      <td>6.035221</td>\n",
       "      <td>0.140411</td>\n",
       "      <td>00:23</td>\n",
       "    </tr>\n",
       "    <tr>\n",
       "      <td>1</td>\n",
       "      <td>5.668812</td>\n",
       "      <td>5.834116</td>\n",
       "      <td>0.159589</td>\n",
       "      <td>00:22</td>\n",
       "    </tr>\n",
       "    <tr>\n",
       "      <td>2</td>\n",
       "      <td>4.991372</td>\n",
       "      <td>5.578613</td>\n",
       "      <td>0.200685</td>\n",
       "      <td>00:22</td>\n",
       "    </tr>\n",
       "    <tr>\n",
       "      <td>3</td>\n",
       "      <td>4.107654</td>\n",
       "      <td>5.624647</td>\n",
       "      <td>0.230822</td>\n",
       "      <td>00:22</td>\n",
       "    </tr>\n",
       "    <tr>\n",
       "      <td>4</td>\n",
       "      <td>3.105548</td>\n",
       "      <td>6.065988</td>\n",
       "      <td>0.239041</td>\n",
       "      <td>00:22</td>\n",
       "    </tr>\n",
       "    <tr>\n",
       "      <td>5</td>\n",
       "      <td>2.099338</td>\n",
       "      <td>6.031009</td>\n",
       "      <td>0.263014</td>\n",
       "      <td>00:22</td>\n",
       "    </tr>\n",
       "    <tr>\n",
       "      <td>6</td>\n",
       "      <td>1.330667</td>\n",
       "      <td>6.091343</td>\n",
       "      <td>0.260959</td>\n",
       "      <td>00:22</td>\n",
       "    </tr>\n",
       "    <tr>\n",
       "      <td>7</td>\n",
       "      <td>0.949590</td>\n",
       "      <td>6.098113</td>\n",
       "      <td>0.263014</td>\n",
       "      <td>00:22</td>\n",
       "    </tr>\n",
       "  </tbody>\n",
       "</table>"
      ],
      "text/plain": [
       "<IPython.core.display.HTML object>"
      ]
     },
     "metadata": {},
     "output_type": "display_data"
    },
    {
     "data": {
      "image/png": "[encoded data removed]",
      "text/plain": [
       "<Figure size 432x288 with 1 Axes>"
      ]
     },
     "metadata": {
      "needs_background": "light"
     },
     "output_type": "display_data"
    }
   ],
   "source": [
    "learn.fit_one_cycle(8, slice(1e-2))\n",
    "learn.recorder.plot_losses()"
   ]
  },
  {
   "cell_type": "code",
   "execution_count": 51,
   "metadata": {},
   "outputs": [],
   "source": [
    "#learn.save('pass1_all')"
   ]
  },
  {
   "cell_type": "code",
   "execution_count": 52,
   "metadata": {},
   "outputs": [],
   "source": [
    "learn.freeze_to(1)"
   ]
  },
  {
   "cell_type": "code",
   "execution_count": 53,
   "metadata": {},
   "outputs": [
    {
     "data": {
      "text/html": [],
      "text/plain": [
       "<IPython.core.display.HTML object>"
      ]
     },
     "metadata": {},
     "output_type": "display_data"
    },
    {
     "name": "stdout",
     "output_type": "stream",
     "text": [
      "LR Finder is complete, type {learner_name}.recorder.plot() to see the graph.\n",
      "Min numerical gradient: 6.31E-07\n"
     ]
    },
    {
     "data": {
      "image/png": "[encoded data removed]",
      "text/plain": [
       "<Figure size 432x288 with 1 Axes>"
      ]
     },
     "metadata": {
      "needs_background": "light"
     },
     "output_type": "display_data"
    }
   ],
   "source": [
    "lr_find(learn)\n",
    "learn.recorder.plot(suggestion=True)"
   ]
  },
  {
   "cell_type": "code",
   "execution_count": 54,
   "metadata": {},
   "outputs": [
    {
     "data": {
      "text/html": [
       "Total time: 03:21 <p><table border=\"1\" class=\"dataframe\">\n",
       "  <thead>\n",
       "    <tr style=\"text-align: left;\">\n",
       "      <th>epoch</th>\n",
       "      <th>train_loss</th>\n",
       "      <th>valid_loss</th>\n",
       "      <th>accuracy</th>\n",
       "      <th>time</th>\n",
       "    </tr>\n",
       "  </thead>\n",
       "  <tbody>\n",
       "    <tr>\n",
       "      <td>0</td>\n",
       "      <td>0.758982</td>\n",
       "      <td>6.066764</td>\n",
       "      <td>0.267808</td>\n",
       "      <td>00:25</td>\n",
       "    </tr>\n",
       "    <tr>\n",
       "      <td>1</td>\n",
       "      <td>0.751119</td>\n",
       "      <td>6.076657</td>\n",
       "      <td>0.266438</td>\n",
       "      <td>00:25</td>\n",
       "    </tr>\n",
       "    <tr>\n",
       "      <td>2</td>\n",
       "      <td>0.727683</td>\n",
       "      <td>6.049739</td>\n",
       "      <td>0.267123</td>\n",
       "      <td>00:25</td>\n",
       "    </tr>\n",
       "    <tr>\n",
       "      <td>3</td>\n",
       "      <td>0.733252</td>\n",
       "      <td>6.083566</td>\n",
       "      <td>0.267123</td>\n",
       "      <td>00:25</td>\n",
       "    </tr>\n",
       "    <tr>\n",
       "      <td>4</td>\n",
       "      <td>0.713201</td>\n",
       "      <td>6.050436</td>\n",
       "      <td>0.271918</td>\n",
       "      <td>00:25</td>\n",
       "    </tr>\n",
       "    <tr>\n",
       "      <td>5</td>\n",
       "      <td>0.696542</td>\n",
       "      <td>6.043192</td>\n",
       "      <td>0.270548</td>\n",
       "      <td>00:25</td>\n",
       "    </tr>\n",
       "    <tr>\n",
       "      <td>6</td>\n",
       "      <td>0.693567</td>\n",
       "      <td>6.032839</td>\n",
       "      <td>0.270548</td>\n",
       "      <td>00:25</td>\n",
       "    </tr>\n",
       "    <tr>\n",
       "      <td>7</td>\n",
       "      <td>0.686267</td>\n",
       "      <td>6.085218</td>\n",
       "      <td>0.265069</td>\n",
       "      <td>00:25</td>\n",
       "    </tr>\n",
       "  </tbody>\n",
       "</table>"
      ],
      "text/plain": [
       "<IPython.core.display.HTML object>"
      ]
     },
     "metadata": {},
     "output_type": "display_data"
    },
    {
     "data": {
      "image/png": "[encoded data removed]",
      "text/plain": [
       "<Figure size 432x288 with 1 Axes>"
      ]
     },
     "metadata": {
      "needs_background": "light"
     },
     "output_type": "display_data"
    }
   ],
   "source": [
    "learn.fit_one_cycle(8, slice(2e-5))\n",
    "learn.recorder.plot_losses()"
   ]
  },
  {
   "cell_type": "code",
   "execution_count": 55,
   "metadata": {},
   "outputs": [],
   "source": [
    "#learn.save('pass2_all')"
   ]
  },
  {
   "cell_type": "code",
   "execution_count": 56,
   "metadata": {},
   "outputs": [],
   "source": [
    "learn.unfreeze()"
   ]
  },
  {
   "cell_type": "code",
   "execution_count": 57,
   "metadata": {},
   "outputs": [
    {
     "data": {
      "text/html": [],
      "text/plain": [
       "<IPython.core.display.HTML object>"
      ]
     },
     "metadata": {},
     "output_type": "display_data"
    },
    {
     "name": "stdout",
     "output_type": "stream",
     "text": [
      "LR Finder is complete, type {learner_name}.recorder.plot() to see the graph.\n",
      "Min numerical gradient: 5.75E-06\n"
     ]
    },
    {
     "data": {
      "image/png": "[encoded data removed]",
      "text/plain": [
       "<Figure size 432x288 with 1 Axes>"
      ]
     },
     "metadata": {
      "needs_background": "light"
     },
     "output_type": "display_data"
    }
   ],
   "source": [
    "lr_find(learn)\n",
    "learn.recorder.plot(suggestion=True)"
   ]
  },
  {
   "cell_type": "code",
   "execution_count": 58,
   "metadata": {},
   "outputs": [
    {
     "data": {
      "text/html": [
       "Total time: 03:48 <p><table border=\"1\" class=\"dataframe\">\n",
       "  <thead>\n",
       "    <tr style=\"text-align: left;\">\n",
       "      <th>epoch</th>\n",
       "      <th>train_loss</th>\n",
       "      <th>valid_loss</th>\n",
       "      <th>accuracy</th>\n",
       "      <th>time</th>\n",
       "    </tr>\n",
       "  </thead>\n",
       "  <tbody>\n",
       "    <tr>\n",
       "      <td>0</td>\n",
       "      <td>0.668424</td>\n",
       "      <td>6.039305</td>\n",
       "      <td>0.271918</td>\n",
       "      <td>00:28</td>\n",
       "    </tr>\n",
       "    <tr>\n",
       "      <td>1</td>\n",
       "      <td>0.659393</td>\n",
       "      <td>6.038344</td>\n",
       "      <td>0.271918</td>\n",
       "      <td>00:28</td>\n",
       "    </tr>\n",
       "    <tr>\n",
       "      <td>2</td>\n",
       "      <td>0.674952</td>\n",
       "      <td>6.002578</td>\n",
       "      <td>0.273288</td>\n",
       "      <td>00:28</td>\n",
       "    </tr>\n",
       "    <tr>\n",
       "      <td>3</td>\n",
       "      <td>0.672148</td>\n",
       "      <td>6.059895</td>\n",
       "      <td>0.276027</td>\n",
       "      <td>00:28</td>\n",
       "    </tr>\n",
       "    <tr>\n",
       "      <td>4</td>\n",
       "      <td>0.642335</td>\n",
       "      <td>6.047212</td>\n",
       "      <td>0.278082</td>\n",
       "      <td>00:28</td>\n",
       "    </tr>\n",
       "    <tr>\n",
       "      <td>5</td>\n",
       "      <td>0.625237</td>\n",
       "      <td>6.019510</td>\n",
       "      <td>0.273288</td>\n",
       "      <td>00:28</td>\n",
       "    </tr>\n",
       "    <tr>\n",
       "      <td>6</td>\n",
       "      <td>0.598847</td>\n",
       "      <td>6.027057</td>\n",
       "      <td>0.276712</td>\n",
       "      <td>00:28</td>\n",
       "    </tr>\n",
       "    <tr>\n",
       "      <td>7</td>\n",
       "      <td>0.607825</td>\n",
       "      <td>6.043840</td>\n",
       "      <td>0.274658</td>\n",
       "      <td>00:28</td>\n",
       "    </tr>\n",
       "  </tbody>\n",
       "</table>"
      ],
      "text/plain": [
       "<IPython.core.display.HTML object>"
      ]
     },
     "metadata": {},
     "output_type": "display_data"
    },
    {
     "data": {
      "image/png": "[encoded data removed]",
      "text/plain": [
       "<Figure size 432x288 with 1 Axes>"
      ]
     },
     "metadata": {
      "needs_background": "light"
     },
     "output_type": "display_data"
    }
   ],
   "source": [
    "learn.fit_one_cycle(8, slice(1e-6,1e-5))\n",
    "learn.recorder.plot_losses()"
   ]
  },
  {
   "cell_type": "code",
   "execution_count": null,
   "metadata": {},
   "outputs": [],
   "source": [
    "#learn.save('pass3_all')"
   ]
  },
  {
   "cell_type": "markdown",
   "metadata": {},
   "source": [
    "Not so good result: should work on it ;-)"
   ]
  },
  {
   "cell_type": "markdown",
   "metadata": {},
   "source": [
    "## Fin."
   ]
  }
 ],
 "metadata": {
  "kernelspec": {
   "display_name": "Python 3",
   "language": "python",
   "name": "python3"
  },
  "language_info": {
   "codemirror_mode": {
    "name": "ipython",
    "version": 3
   },
   "file_extension": ".py",
   "mimetype": "text/x-python",
   "name": "python",
   "nbconvert_exporter": "python",
   "pygments_lexer": "ipython3",
   "version": "3.7.0"
  },
  "varInspector": {
   "cols": {
    "lenName": 16,
    "lenType": 16,
    "lenVar": 40
   },
   "kernels_config": {
    "python": {
     "delete_cmd_postfix": "",
     "delete_cmd_prefix": "del ",
     "library": "var_list.py",
     "varRefreshCmd": "print(var_dic_list())"
    },
    "r": {
     "delete_cmd_postfix": ") ",
     "delete_cmd_prefix": "rm(",
     "library": "var_list.r",
     "varRefreshCmd": "cat(var_dic_list()) "
    }
   },
   "types_to_exclude": [
    "module",
    "function",
    "builtin_function_or_method",
    "instance",
    "_Feature"
   ],
   "window_display": false
  }
 },
 "nbformat": 4,
 "nbformat_minor": 2
}
