{
 "cells": [
  {
   "cell_type": "markdown",
   "metadata": {},
   "source": [
    "# Example: word classification with single spectrogram\n",
    "Experimental notebook by @ste\n",
    "\n",
    "In this notebook I'll focus on the importance of **LOOK** and **HEAR** your augmented sound data, to understand if the amount of transformation you're going to apply are messing up or not your original data."
   ]
  },
  {
   "cell_type": "code",
   "execution_count": 1,
   "metadata": {},
   "outputs": [],
   "source": [
    "## Notebook settings\n",
    "%reload_ext autoreload\n",
    "%autoreload 2\n",
    "%matplotlib inline"
   ]
  },
  {
   "cell_type": "code",
   "execution_count": 2,
   "metadata": {},
   "outputs": [],
   "source": [
    "## fastai imports\n",
    "from fastai.basics import *\n",
    "from fastai.data_block import ItemList\n",
    "from fastai.vision import *"
   ]
  },
  {
   "cell_type": "markdown",
   "metadata": {},
   "source": [
    "Import FastAI Audio modules here:"
   ]
  },
  {
   "cell_type": "code",
   "execution_count": 3,
   "metadata": {},
   "outputs": [],
   "source": [
    "from exp.nb_AudioCommon import *\n",
    "from exp.nb_DataBlock import *\n",
    "from exp.nb_DataAugmentation import *"
   ]
  },
  {
   "cell_type": "markdown",
   "metadata": {},
   "source": [
    "### Other library imports"
   ]
  },
  {
   "cell_type": "markdown",
   "metadata": {},
   "source": [
    "If this cell fails, you probably haven't installed the correct system/Python dependencies. You might need to re-run the \"System setup\" cell again."
   ]
  },
  {
   "cell_type": "code",
   "execution_count": 4,
   "metadata": {},
   "outputs": [],
   "source": [
    "import torch\n",
    "from pdb import set_trace\n",
    "from IPython.display import Audio\n",
    "from pydub import AudioSegment, silence\n",
    "import torchaudio\n",
    "from torchaudio import transforms\n",
    "import pandas as pd"
   ]
  },
  {
   "cell_type": "code",
   "execution_count": 5,
   "metadata": {},
   "outputs": [],
   "source": [
    "#Options\n",
    "pd.set_option('display.max_colwidth', -1)"
   ]
  },
  {
   "cell_type": "markdown",
   "metadata": {},
   "source": [
    "## Preparing the data"
   ]
  },
  {
   "cell_type": "markdown",
   "metadata": {},
   "source": [
    "We're going to do **phoneme classification** using the TIMIT dataset.\n",
    "\n",
    "The copyright on TIMIT isn't clear, and the data is hard to download, so we assume that the user has access to this dataset.\n",
    "\n",
    "**IMPORTANT:** the dataset should be located in the standard fast.ai location:\n",
    "> $HOME/.fastai/data/timit"
   ]
  },
  {
   "cell_type": "code",
   "execution_count": 6,
   "metadata": {},
   "outputs": [
    {
     "name": "stdout",
     "output_type": "stream",
     "text": [
      "Working directory: /home/ste/.fastai/data/timit\n"
     ]
    }
   ],
   "source": [
    "path = getFastAiWorkingDirectory('timit')"
   ]
  },
  {
   "cell_type": "markdown",
   "metadata": {},
   "source": [
    "### Parsing the data"
   ]
  },
  {
   "cell_type": "code",
   "execution_count": 7,
   "metadata": {},
   "outputs": [
    {
     "name": "stdout",
     "output_type": "stream",
     "text": [
      "TEST PASED\n"
     ]
    }
   ],
   "source": [
    "def extractInformationsFromAbsolutePath(s: str):\n",
    "    items = list(filter(lambda x: len(x)>0,s.split('/')))\n",
    "    USAGE = items[0]\n",
    "    DIALECT = items[1]\n",
    "    SEX = items[2][0]\n",
    "    SPEAKER_ID = items[2][1:]\n",
    "    SENTENCE_ID = items[3]\n",
    "    return USAGE, DIALECT, SEX, SPEAKER_ID, SENTENCE_ID\n",
    "    \n",
    "def test_extractInformationsFromAbsolutePath():\n",
    "    USAGE, DIALECT, SEX, SPEAKER_ID, SENTENCE_ID = extractInformationsFromAbsolutePath('/TRAIN/DR7/MPAR0/SI2206')\n",
    "    assert 'TRAIN'==USAGE\n",
    "    assert 'DR7'==DIALECT\n",
    "    assert 'M'==SEX\n",
    "    assert 'PAR0'==SPEAKER_ID\n",
    "    assert 'SI2206'==SENTENCE_ID\n",
    "    print('TEST PASED')\n",
    "\n",
    "test_extractInformationsFromAbsolutePath()"
   ]
  },
  {
   "cell_type": "code",
   "execution_count": 8,
   "metadata": {},
   "outputs": [
    {
     "data": {
      "text/html": [
       "<div>\n",
       "<style scoped>\n",
       "    .dataframe tbody tr th:only-of-type {\n",
       "        vertical-align: middle;\n",
       "    }\n",
       "\n",
       "    .dataframe tbody tr th {\n",
       "        vertical-align: top;\n",
       "    }\n",
       "\n",
       "    .dataframe thead th {\n",
       "        text-align: right;\n",
       "    }\n",
       "</style>\n",
       "<table border=\"1\" class=\"dataframe\">\n",
       "  <thead>\n",
       "    <tr style=\"text-align: right;\">\n",
       "      <th></th>\n",
       "      <th>relPath</th>\n",
       "      <th>USAGE</th>\n",
       "      <th>DIALECT</th>\n",
       "      <th>SEX</th>\n",
       "      <th>SPEAKER_ID</th>\n",
       "      <th>SENTENCE_ID</th>\n",
       "    </tr>\n",
       "    <tr>\n",
       "      <th>IDX</th>\n",
       "      <th></th>\n",
       "      <th></th>\n",
       "      <th></th>\n",
       "      <th></th>\n",
       "      <th></th>\n",
       "      <th></th>\n",
       "    </tr>\n",
       "  </thead>\n",
       "  <tbody>\n",
       "    <tr>\n",
       "      <th>MPAR0:SI2206</th>\n",
       "      <td>/TRAIN/DR7/MPAR0/SI2206</td>\n",
       "      <td>TRAIN</td>\n",
       "      <td>DR7</td>\n",
       "      <td>M</td>\n",
       "      <td>PAR0</td>\n",
       "      <td>SI2206</td>\n",
       "    </tr>\n",
       "    <tr>\n",
       "      <th>MPAR0:SX316</th>\n",
       "      <td>/TRAIN/DR7/MPAR0/SX316</td>\n",
       "      <td>TRAIN</td>\n",
       "      <td>DR7</td>\n",
       "      <td>M</td>\n",
       "      <td>PAR0</td>\n",
       "      <td>SX316</td>\n",
       "    </tr>\n",
       "    <tr>\n",
       "      <th>MPAR0:SI1576</th>\n",
       "      <td>/TRAIN/DR7/MPAR0/SI1576</td>\n",
       "      <td>TRAIN</td>\n",
       "      <td>DR7</td>\n",
       "      <td>M</td>\n",
       "      <td>PAR0</td>\n",
       "      <td>SI1576</td>\n",
       "    </tr>\n",
       "    <tr>\n",
       "      <th>MPAR0:SA1</th>\n",
       "      <td>/TRAIN/DR7/MPAR0/SA1</td>\n",
       "      <td>TRAIN</td>\n",
       "      <td>DR7</td>\n",
       "      <td>M</td>\n",
       "      <td>PAR0</td>\n",
       "      <td>SA1</td>\n",
       "    </tr>\n",
       "    <tr>\n",
       "      <th>MPAR0:SX46</th>\n",
       "      <td>/TRAIN/DR7/MPAR0/SX46</td>\n",
       "      <td>TRAIN</td>\n",
       "      <td>DR7</td>\n",
       "      <td>M</td>\n",
       "      <td>PAR0</td>\n",
       "      <td>SX46</td>\n",
       "    </tr>\n",
       "  </tbody>\n",
       "</table>\n",
       "</div>"
      ],
      "text/plain": [
       "                              relPath  USAGE DIALECT SEX SPEAKER_ID  \\\n",
       "IDX                                                                   \n",
       "MPAR0:SI2206  /TRAIN/DR7/MPAR0/SI2206  TRAIN  DR7     M   PAR0        \n",
       "MPAR0:SX316   /TRAIN/DR7/MPAR0/SX316   TRAIN  DR7     M   PAR0        \n",
       "MPAR0:SI1576  /TRAIN/DR7/MPAR0/SI1576  TRAIN  DR7     M   PAR0        \n",
       "MPAR0:SA1     /TRAIN/DR7/MPAR0/SA1     TRAIN  DR7     M   PAR0        \n",
       "MPAR0:SX46    /TRAIN/DR7/MPAR0/SX46    TRAIN  DR7     M   PAR0        \n",
       "\n",
       "             SENTENCE_ID  \n",
       "IDX                       \n",
       "MPAR0:SI2206  SI2206      \n",
       "MPAR0:SX316   SX316       \n",
       "MPAR0:SI1576  SI1576      \n",
       "MPAR0:SA1     SA1         \n",
       "MPAR0:SX46    SX46        "
      ]
     },
     "execution_count": 8,
     "metadata": {},
     "output_type": "execute_result"
    }
   ],
   "source": [
    "def extractTimitDatasetInformation(path):\n",
    "    '''Put in a dataframe all the information about samples'''\n",
    "    import glob\n",
    "    files = glob.glob(str(path)+ '/**/*.WAV', recursive=True)\n",
    "    ret = pd.DataFrame(files, columns=['relPath'])\n",
    "    #Remove path and extension\n",
    "    ret['relPath'] = ret['relPath'].apply(lambda x: x.replace(str(path),'').replace('.WAV',''))\n",
    "\n",
    "    def extractIntoSeries(s):\n",
    "        USAGE, DIALECT, SEX, SPEAKER_ID, SENTENCE_ID = extractInformationsFromAbsolutePath(s)\n",
    "        return pd.Series({\n",
    "            'USAGE': USAGE,\n",
    "            'DIALECT': DIALECT,\n",
    "            'SEX': SEX,\n",
    "            'SPEAKER_ID': SPEAKER_ID,\n",
    "            'SENTENCE_ID': SENTENCE_ID,\n",
    "            'IDX': SEX + SPEAKER_ID + ':' + SENTENCE_ID})\n",
    "\n",
    "    #IMPORTANT: Apply multiple transformations at one\n",
    "    ret = ret.merge(ret['relPath'].apply(lambda s: extractIntoSeries(s)), left_index=True, right_index=True)    \n",
    "    ret = ret.set_index(['IDX']) # Add index\n",
    "    return ret\n",
    "                \n",
    "all_files_df = extractTimitDatasetInformation(path)\n",
    "all_files_df.head()"
   ]
  },
  {
   "cell_type": "code",
   "execution_count": 9,
   "metadata": {},
   "outputs": [
    {
     "name": "stdout",
     "output_type": "stream",
     "text": [
      "Number of files: 6300\n"
     ]
    }
   ],
   "source": [
    "print(f'Number of files: {len(all_files_df)}')"
   ]
  },
  {
   "cell_type": "markdown",
   "metadata": {},
   "source": [
    "### OPTIONAL Decimate dataset\n",
    "To speedup computation we reduce train/valid set."
   ]
  },
  {
   "cell_type": "code",
   "execution_count": 10,
   "metadata": {},
   "outputs": [
    {
     "data": {
      "text/plain": [
       "USAGE\n",
       "TEST     168\n",
       "TRAIN    462\n",
       "Name: relPath, dtype: int64"
      ]
     },
     "execution_count": 10,
     "metadata": {},
     "output_type": "execute_result"
    }
   ],
   "source": [
    "#DON'T RUN THIS CELL IN YOU WANT TOI USE ALL DATA\n",
    "def decimate(train_df:pd.DataFrame, valid_df:pd.DataFrame, pct=.1)->pd.DataFrame:\n",
    "    t1=train_df.sample(frac=pct,random_state=1)\n",
    "    t2=valid_df.sample(frac=pct,random_state=1)\n",
    "    return pd.concat([t1,t2],axis=0)\n",
    "\n",
    "all_files_df=decimate(all_files_df[all_files_df.USAGE=='TRAIN'],all_files_df[all_files_df.USAGE=='TEST'],.1)\n",
    "all_files_df.groupby(['USAGE'])['relPath'].count()"
   ]
  },
  {
   "cell_type": "markdown",
   "metadata": {},
   "source": [
    "# Word classification"
   ]
  },
  {
   "cell_type": "markdown",
   "metadata": {},
   "source": [
    "## Create data bunch"
   ]
  },
  {
   "cell_type": "code",
   "execution_count": 11,
   "metadata": {},
   "outputs": [],
   "source": [
    "def process_phn_file(idx:str, phn_file, sig, sr, ext, delimiter=' ')->pd.DataFrame:\n",
    "    df = pd.read_csv(phn_file, delimiter=delimiter, header=None)\n",
    "    df.columns = ['START', 'END', ext]\n",
    "    df['SIG'] = df.apply(lambda x : sig[x['START']: x['END']], axis=1)\n",
    "    df['SR'] = sr\n",
    "    df['IDX'] = idx\n",
    "    df['IDXN'] = pd.Series(map(lambda x: idx+':'+str(x), range(len(df))))   \n",
    "    df = df.set_index(['IDXN'])\n",
    "    return df"
   ]
  },
  {
   "cell_type": "code",
   "execution_count": 12,
   "metadata": {},
   "outputs": [
    {
     "name": "stdout",
     "output_type": "stream",
     "text": [
      "/home/ste/.fastai/data/timit/TRAIN/DR2/MJMD0/SX308.WAV \tExists: True\n"
     ]
    },
    {
     "data": {
      "text/html": [
       "<div>\n",
       "<style scoped>\n",
       "    .dataframe tbody tr th:only-of-type {\n",
       "        vertical-align: middle;\n",
       "    }\n",
       "\n",
       "    .dataframe tbody tr th {\n",
       "        vertical-align: top;\n",
       "    }\n",
       "\n",
       "    .dataframe thead th {\n",
       "        text-align: right;\n",
       "    }\n",
       "</style>\n",
       "<table border=\"1\" class=\"dataframe\">\n",
       "  <thead>\n",
       "    <tr style=\"text-align: right;\">\n",
       "      <th></th>\n",
       "      <th>START</th>\n",
       "      <th>END</th>\n",
       "      <th>PHN</th>\n",
       "      <th>SIG</th>\n",
       "      <th>SR</th>\n",
       "      <th>IDX</th>\n",
       "    </tr>\n",
       "    <tr>\n",
       "      <th>IDXN</th>\n",
       "      <th></th>\n",
       "      <th></th>\n",
       "      <th></th>\n",
       "      <th></th>\n",
       "      <th></th>\n",
       "      <th></th>\n",
       "    </tr>\n",
       "  </thead>\n",
       "  <tbody>\n",
       "    <tr>\n",
       "      <th>MJMD0:SX308:0</th>\n",
       "      <td>0</td>\n",
       "      <td>2320</td>\n",
       "      <td>h#</td>\n",
       "      <td>[tensor(0.0001), tensor(0.0002), tensor(-3.0518e-05), tensor(6.1035e-05), tensor(-3.0518e-05), tensor(6.1035e-05), tensor(9.1553e-05), tensor(0.0001), tensor(0.0001), tensor(3.0518e-05), tensor(9.1553e-05), tensor(0.), tensor(-3.0518e-05), tensor(-9.1553e-05), tensor(0.0002), tensor(0.0001), tensor(0.0002), tensor(9.1553e-05), tensor(6.1035e-05), tensor(9.1553e-05), tensor(0.), tensor(0.0002), tensor(9.1553e-05), tensor(0.0001), tensor(0.0002), tensor(0.0002), tensor(0.0002), tensor(0.0002), tensor(0.0001), tensor(6.1035e-05), tensor(9.1553e-05), tensor(-9.1553e-05), tensor(3.0518e-05), tensor(0.0002), tensor(0.0002), tensor(0.0002), tensor(6.1035e-05), tensor(0.0002), tensor(0.), tensor(0.0001), tensor(9.1553e-05), tensor(0.0002), tensor(0.0002), tensor(0.0002), tensor(0.0001), tensor(0.0002), tensor(6.1035e-05), tensor(9.1553e-05), tensor(6.1035e-05), tensor(6.1035e-05), tensor(0.0002), tensor(0.), tensor(0.0002), tensor(0.0002), tensor(0.0002), tensor(9.1553e-05), tensor(9.1553e-05), tensor(9.1553e-05), tensor(0.0001), tensor(0.0001), tensor(0.0002), tensor(0.0002), tensor(0.0001), tensor(9.1553e-05), tensor(3.0518e-05), tensor(9.1553e-05), tensor(-6.1035e-05), tensor(-6.1035e-05), tensor(6.1035e-05), tensor(0.0001), tensor(3.0518e-05), tensor(3.0518e-05), tensor(6.1035e-05), tensor(3.0518e-05), tensor(-6.1035e-05), tensor(-3.0518e-05), tensor(3.0518e-05), tensor(0.0001), tensor(-3.0518e-05), tensor(0.0001), tensor(3.0518e-05), tensor(0.0001), tensor(0.), tensor(3.0518e-05), tensor(0.), tensor(0.), tensor(9.1553e-05), tensor(9.1553e-05), tensor(0.0001), tensor(0.0002), tensor(9.1553e-05), tensor(3.0518e-05), tensor(0.0002), tensor(0.), tensor(9.1553e-05), tensor(9.1553e-05), tensor(0.0001), tensor(0.0002), tensor(0.0001), tensor(9.1553e-05), ...]</td>\n",
       "      <td>16000</td>\n",
       "      <td>MJMD0:SX308</td>\n",
       "    </tr>\n",
       "    <tr>\n",
       "      <th>MJMD0:SX308:1</th>\n",
       "      <td>2320</td>\n",
       "      <td>4803</td>\n",
       "      <td>sh</td>\n",
       "      <td>[tensor(3.0518e-05), tensor(-0.0002), tensor(-3.0518e-05), tensor(0.0004), tensor(0.0003), tensor(0.0002), tensor(-0.0002), tensor(6.1035e-05), tensor(0.0002), tensor(0.0002), tensor(9.1553e-05), tensor(-0.0004), tensor(0.0002), tensor(0.0006), tensor(0.), tensor(-0.0002), tensor(-6.1035e-05), tensor(9.1553e-05), tensor(0.0003), tensor(0.0003), tensor(0.0002), tensor(-0.0005), tensor(-0.0005), tensor(0.0001), tensor(0.0003), tensor(0.0005), tensor(0.0005), tensor(-0.0007), tensor(-0.0005), tensor(0.0007), tensor(0.0005), tensor(-0.0002), tensor(-0.0002), tensor(0.0003), tensor(-0.0001), tensor(-0.0005), tensor(0.0005), tensor(0.0006), tensor(-0.0004), tensor(-0.0003), tensor(-3.0518e-05), tensor(-0.0002), tensor(0.0007), tensor(0.0005), tensor(-0.0007), tensor(-0.0006), tensor(-0.0002), tensor(0.0005), tensor(0.0008), tensor(-0.0002), tensor(-0.0008), tensor(-9.1553e-05), tensor(0.0006), tensor(0.0006), tensor(0.0002), tensor(-0.0003), tensor(-3.0518e-05), tensor(6.1035e-05), tensor(-0.0005), tensor(-0.0003), tensor(3.0518e-05), tensor(-0.0004), tensor(-0.0005), tensor(-6.1035e-05), tensor(9.1553e-05), tensor(0.0003), tensor(0.0006), tensor(-0.0005), tensor(-0.0005), tensor(0.), tensor(-0.0002), tensor(0.0004), tensor(0.0005), tensor(-0.0003), tensor(-0.0003), tensor(0.0003), tensor(0.0006), tensor(0.0005), tensor(-0.0002), tensor(-0.0005), tensor(-3.0518e-05), tensor(-3.0518e-05), tensor(0.0005), tensor(-0.0004), tensor(-0.0005), tensor(0.0002), tensor(0.0002), tensor(0.0006), tensor(0.0003), tensor(-0.0004), tensor(-0.0003), tensor(0.0003), tensor(0.0004), tensor(0.0001), tensor(-0.0011), tensor(-0.0003), tensor(0.0006), tensor(0.0005), tensor(0.0009), tensor(0.0004), ...]</td>\n",
       "      <td>16000</td>\n",
       "      <td>MJMD0:SX308</td>\n",
       "    </tr>\n",
       "  </tbody>\n",
       "</table>\n",
       "</div>"
      ],
      "text/plain": [
       "               START   END PHN  \\\n",
       "IDXN                             \n",
       "MJMD0:SX308:0  0      2320  h#   \n",
       "MJMD0:SX308:1  2320   4803  sh   \n",
       "\n",
       "                                                                                                                                                                                                                                                                                                                                                                                                                                                                                                                                                                                                                                                                                                                                                                                                                                                                                                                                                                                                                                                                                                                                                                                                                                                                                                                                                                                                                                                                                                                                                                                                                                                                                                                                                                                                                                                               SIG  \\\n",
       "IDXN                                                                                                                                                                                                                                                                                                                                                                                                                                                                                                                                                                                                                                                                                                                                                                                                                                                                                                                                                                                                                                                                                                                                                                                                                                                                                                                                                                                                                                                                                                                                                                                                                                                                                                                                                                                                                                                                 \n",
       "MJMD0:SX308:0  [tensor(0.0001), tensor(0.0002), tensor(-3.0518e-05), tensor(6.1035e-05), tensor(-3.0518e-05), tensor(6.1035e-05), tensor(9.1553e-05), tensor(0.0001), tensor(0.0001), tensor(3.0518e-05), tensor(9.1553e-05), tensor(0.), tensor(-3.0518e-05), tensor(-9.1553e-05), tensor(0.0002), tensor(0.0001), tensor(0.0002), tensor(9.1553e-05), tensor(6.1035e-05), tensor(9.1553e-05), tensor(0.), tensor(0.0002), tensor(9.1553e-05), tensor(0.0001), tensor(0.0002), tensor(0.0002), tensor(0.0002), tensor(0.0002), tensor(0.0001), tensor(6.1035e-05), tensor(9.1553e-05), tensor(-9.1553e-05), tensor(3.0518e-05), tensor(0.0002), tensor(0.0002), tensor(0.0002), tensor(6.1035e-05), tensor(0.0002), tensor(0.), tensor(0.0001), tensor(9.1553e-05), tensor(0.0002), tensor(0.0002), tensor(0.0002), tensor(0.0001), tensor(0.0002), tensor(6.1035e-05), tensor(9.1553e-05), tensor(6.1035e-05), tensor(6.1035e-05), tensor(0.0002), tensor(0.), tensor(0.0002), tensor(0.0002), tensor(0.0002), tensor(9.1553e-05), tensor(9.1553e-05), tensor(9.1553e-05), tensor(0.0001), tensor(0.0001), tensor(0.0002), tensor(0.0002), tensor(0.0001), tensor(9.1553e-05), tensor(3.0518e-05), tensor(9.1553e-05), tensor(-6.1035e-05), tensor(-6.1035e-05), tensor(6.1035e-05), tensor(0.0001), tensor(3.0518e-05), tensor(3.0518e-05), tensor(6.1035e-05), tensor(3.0518e-05), tensor(-6.1035e-05), tensor(-3.0518e-05), tensor(3.0518e-05), tensor(0.0001), tensor(-3.0518e-05), tensor(0.0001), tensor(3.0518e-05), tensor(0.0001), tensor(0.), tensor(3.0518e-05), tensor(0.), tensor(0.), tensor(9.1553e-05), tensor(9.1553e-05), tensor(0.0001), tensor(0.0002), tensor(9.1553e-05), tensor(3.0518e-05), tensor(0.0002), tensor(0.), tensor(9.1553e-05), tensor(9.1553e-05), tensor(0.0001), tensor(0.0002), tensor(0.0001), tensor(9.1553e-05), ...]   \n",
       "MJMD0:SX308:1  [tensor(3.0518e-05), tensor(-0.0002), tensor(-3.0518e-05), tensor(0.0004), tensor(0.0003), tensor(0.0002), tensor(-0.0002), tensor(6.1035e-05), tensor(0.0002), tensor(0.0002), tensor(9.1553e-05), tensor(-0.0004), tensor(0.0002), tensor(0.0006), tensor(0.), tensor(-0.0002), tensor(-6.1035e-05), tensor(9.1553e-05), tensor(0.0003), tensor(0.0003), tensor(0.0002), tensor(-0.0005), tensor(-0.0005), tensor(0.0001), tensor(0.0003), tensor(0.0005), tensor(0.0005), tensor(-0.0007), tensor(-0.0005), tensor(0.0007), tensor(0.0005), tensor(-0.0002), tensor(-0.0002), tensor(0.0003), tensor(-0.0001), tensor(-0.0005), tensor(0.0005), tensor(0.0006), tensor(-0.0004), tensor(-0.0003), tensor(-3.0518e-05), tensor(-0.0002), tensor(0.0007), tensor(0.0005), tensor(-0.0007), tensor(-0.0006), tensor(-0.0002), tensor(0.0005), tensor(0.0008), tensor(-0.0002), tensor(-0.0008), tensor(-9.1553e-05), tensor(0.0006), tensor(0.0006), tensor(0.0002), tensor(-0.0003), tensor(-3.0518e-05), tensor(6.1035e-05), tensor(-0.0005), tensor(-0.0003), tensor(3.0518e-05), tensor(-0.0004), tensor(-0.0005), tensor(-6.1035e-05), tensor(9.1553e-05), tensor(0.0003), tensor(0.0006), tensor(-0.0005), tensor(-0.0005), tensor(0.), tensor(-0.0002), tensor(0.0004), tensor(0.0005), tensor(-0.0003), tensor(-0.0003), tensor(0.0003), tensor(0.0006), tensor(0.0005), tensor(-0.0002), tensor(-0.0005), tensor(-3.0518e-05), tensor(-3.0518e-05), tensor(0.0005), tensor(-0.0004), tensor(-0.0005), tensor(0.0002), tensor(0.0002), tensor(0.0006), tensor(0.0003), tensor(-0.0004), tensor(-0.0003), tensor(0.0003), tensor(0.0004), tensor(0.0001), tensor(-0.0011), tensor(-0.0003), tensor(0.0006), tensor(0.0005), tensor(0.0009), tensor(0.0004), ...]                                                                               \n",
       "\n",
       "                  SR          IDX  \n",
       "IDXN                               \n",
       "MJMD0:SX308:0  16000  MJMD0:SX308  \n",
       "MJMD0:SX308:1  16000  MJMD0:SX308  "
      ]
     },
     "metadata": {},
     "output_type": "display_data"
    },
    {
     "name": "stdout",
     "output_type": "stream",
     "text": [
      "Number of rows: 34\n",
      "TEST DONE\n"
     ]
    }
   ],
   "source": [
    "def extractItems(path, idx, relativePath, ext, verbose=False)->pd.DataFrame:\n",
    "    base_path = str(path) + relativePath\n",
    "    wav_file = base_path + \".WAV\"\n",
    "    wav_exists = os.path.isfile(wav_file)\n",
    "    if verbose: print(wav_file, f'\\tExists: {wav_exists}')\n",
    "    #Sanity check\n",
    "    if not wav_exists: return none\n",
    "    #Proceed\n",
    "    sigTwoChannels,sr = torchaudio.load(wav_file)\n",
    "    sig = sigTwoChannels[0] # MONO NO STEREO - convert to \"one dimension\"\n",
    "    phn_file = base_path + '.' + ext\n",
    "            \n",
    "    ret = process_phn_file(idx, phn_file, sig, sr, ext, delimiter=' ')\n",
    "    \n",
    "    return ret\n",
    "\n",
    "#    sig,sr = torchaudio.load(str(phn_file.replace('PHN', 'WAV')))\n",
    "#    df = process_phn_file(phn_file, sig, sr, delimiter=' ')\n",
    "#    df['Source'] = phn_file\n",
    "#    final = final.append(df)\n",
    "            \n",
    "def test_extractItems_PHN():\n",
    "    row = all_files_df.iloc[0]\n",
    "    ret_df = extractItems(path, row.name, row['relPath'], 'PHN', verbose=True)\n",
    "    display(ret_df.head(2))\n",
    "    print(f'Number of rows: {len(ret_df)}')\n",
    "#    assert 54==len(ret_df)\n",
    "    print('TEST DONE')\n",
    "\n",
    "test_extractItems_PHN()"
   ]
  },
  {
   "cell_type": "code",
   "execution_count": 13,
   "metadata": {},
   "outputs": [
    {
     "name": "stdout",
     "output_type": "stream",
     "text": [
      "/home/ste/.fastai/data/timit/TRAIN/DR2/MJMD0/SX308.WAV \tExists: True\n"
     ]
    },
    {
     "data": {
      "text/html": [
       "<div>\n",
       "<style scoped>\n",
       "    .dataframe tbody tr th:only-of-type {\n",
       "        vertical-align: middle;\n",
       "    }\n",
       "\n",
       "    .dataframe tbody tr th {\n",
       "        vertical-align: top;\n",
       "    }\n",
       "\n",
       "    .dataframe thead th {\n",
       "        text-align: right;\n",
       "    }\n",
       "</style>\n",
       "<table border=\"1\" class=\"dataframe\">\n",
       "  <thead>\n",
       "    <tr style=\"text-align: right;\">\n",
       "      <th></th>\n",
       "      <th>START</th>\n",
       "      <th>END</th>\n",
       "      <th>WRD</th>\n",
       "      <th>SIG</th>\n",
       "      <th>SR</th>\n",
       "      <th>IDX</th>\n",
       "    </tr>\n",
       "    <tr>\n",
       "      <th>IDXN</th>\n",
       "      <th></th>\n",
       "      <th></th>\n",
       "      <th></th>\n",
       "      <th></th>\n",
       "      <th></th>\n",
       "      <th></th>\n",
       "    </tr>\n",
       "  </thead>\n",
       "  <tbody>\n",
       "    <tr>\n",
       "      <th>MJMD0:SX308:0</th>\n",
       "      <td>2320</td>\n",
       "      <td>11400</td>\n",
       "      <td>shipbuilding</td>\n",
       "      <td>[tensor(3.0518e-05), tensor(-0.0002), tensor(-3.0518e-05), tensor(0.0004), tensor(0.0003), tensor(0.0002), tensor(-0.0002), tensor(6.1035e-05), tensor(0.0002), tensor(0.0002), tensor(9.1553e-05), tensor(-0.0004), tensor(0.0002), tensor(0.0006), tensor(0.), tensor(-0.0002), tensor(-6.1035e-05), tensor(9.1553e-05), tensor(0.0003), tensor(0.0003), tensor(0.0002), tensor(-0.0005), tensor(-0.0005), tensor(0.0001), tensor(0.0003), tensor(0.0005), tensor(0.0005), tensor(-0.0007), tensor(-0.0005), tensor(0.0007), tensor(0.0005), tensor(-0.0002), tensor(-0.0002), tensor(0.0003), tensor(-0.0001), tensor(-0.0005), tensor(0.0005), tensor(0.0006), tensor(-0.0004), tensor(-0.0003), tensor(-3.0518e-05), tensor(-0.0002), tensor(0.0007), tensor(0.0005), tensor(-0.0007), tensor(-0.0006), tensor(-0.0002), tensor(0.0005), tensor(0.0008), tensor(-0.0002), tensor(-0.0008), tensor(-9.1553e-05), tensor(0.0006), tensor(0.0006), tensor(0.0002), tensor(-0.0003), tensor(-3.0518e-05), tensor(6.1035e-05), tensor(-0.0005), tensor(-0.0003), tensor(3.0518e-05), tensor(-0.0004), tensor(-0.0005), tensor(-6.1035e-05), tensor(9.1553e-05), tensor(0.0003), tensor(0.0006), tensor(-0.0005), tensor(-0.0005), tensor(0.), tensor(-0.0002), tensor(0.0004), tensor(0.0005), tensor(-0.0003), tensor(-0.0003), tensor(0.0003), tensor(0.0006), tensor(0.0005), tensor(-0.0002), tensor(-0.0005), tensor(-3.0518e-05), tensor(-3.0518e-05), tensor(0.0005), tensor(-0.0004), tensor(-0.0005), tensor(0.0002), tensor(0.0002), tensor(0.0006), tensor(0.0003), tensor(-0.0004), tensor(-0.0003), tensor(0.0003), tensor(0.0004), tensor(0.0001), tensor(-0.0011), tensor(-0.0003), tensor(0.0006), tensor(0.0005), tensor(0.0009), tensor(0.0004), ...]</td>\n",
       "      <td>16000</td>\n",
       "      <td>MJMD0:SX308</td>\n",
       "    </tr>\n",
       "  </tbody>\n",
       "</table>\n",
       "</div>"
      ],
      "text/plain": [
       "               START    END           WRD  \\\n",
       "IDXN                                        \n",
       "MJMD0:SX308:0  2320   11400  shipbuilding   \n",
       "\n",
       "                                                                                                                                                                                                                                                                                                                                                                                                                                                                                                                                                                                                                                                                                                                                                                                                                                                                                                                                                                                                                                                                                                                                                                                                                                                                                                                                                                                                                                                                                                                                                                                                                                                                                                                                                                                   SIG  \\\n",
       "IDXN                                                                                                                                                                                                                                                                                                                                                                                                                                                                                                                                                                                                                                                                                                                                                                                                                                                                                                                                                                                                                                                                                                                                                                                                                                                                                                                                                                                                                                                                                                                                                                                                                                                                                                                                                                                     \n",
       "MJMD0:SX308:0  [tensor(3.0518e-05), tensor(-0.0002), tensor(-3.0518e-05), tensor(0.0004), tensor(0.0003), tensor(0.0002), tensor(-0.0002), tensor(6.1035e-05), tensor(0.0002), tensor(0.0002), tensor(9.1553e-05), tensor(-0.0004), tensor(0.0002), tensor(0.0006), tensor(0.), tensor(-0.0002), tensor(-6.1035e-05), tensor(9.1553e-05), tensor(0.0003), tensor(0.0003), tensor(0.0002), tensor(-0.0005), tensor(-0.0005), tensor(0.0001), tensor(0.0003), tensor(0.0005), tensor(0.0005), tensor(-0.0007), tensor(-0.0005), tensor(0.0007), tensor(0.0005), tensor(-0.0002), tensor(-0.0002), tensor(0.0003), tensor(-0.0001), tensor(-0.0005), tensor(0.0005), tensor(0.0006), tensor(-0.0004), tensor(-0.0003), tensor(-3.0518e-05), tensor(-0.0002), tensor(0.0007), tensor(0.0005), tensor(-0.0007), tensor(-0.0006), tensor(-0.0002), tensor(0.0005), tensor(0.0008), tensor(-0.0002), tensor(-0.0008), tensor(-9.1553e-05), tensor(0.0006), tensor(0.0006), tensor(0.0002), tensor(-0.0003), tensor(-3.0518e-05), tensor(6.1035e-05), tensor(-0.0005), tensor(-0.0003), tensor(3.0518e-05), tensor(-0.0004), tensor(-0.0005), tensor(-6.1035e-05), tensor(9.1553e-05), tensor(0.0003), tensor(0.0006), tensor(-0.0005), tensor(-0.0005), tensor(0.), tensor(-0.0002), tensor(0.0004), tensor(0.0005), tensor(-0.0003), tensor(-0.0003), tensor(0.0003), tensor(0.0006), tensor(0.0005), tensor(-0.0002), tensor(-0.0005), tensor(-3.0518e-05), tensor(-3.0518e-05), tensor(0.0005), tensor(-0.0004), tensor(-0.0005), tensor(0.0002), tensor(0.0002), tensor(0.0006), tensor(0.0003), tensor(-0.0004), tensor(-0.0003), tensor(0.0003), tensor(0.0004), tensor(0.0001), tensor(-0.0011), tensor(-0.0003), tensor(0.0006), tensor(0.0005), tensor(0.0009), tensor(0.0004), ...]   \n",
       "\n",
       "                  SR          IDX  \n",
       "IDXN                               \n",
       "MJMD0:SX308:0  16000  MJMD0:SX308  "
      ]
     },
     "metadata": {},
     "output_type": "display_data"
    },
    {
     "name": "stdout",
     "output_type": "stream",
     "text": [
      "Number of rows: 6\n",
      "TEST DONE\n"
     ]
    }
   ],
   "source": [
    "def test_extractItems_WRD():\n",
    "    row = all_files_df.iloc[0]\n",
    "    ret_df = extractItems(path, row.name, row['relPath'], 'WRD', verbose=True)\n",
    "    display(ret_df.head(1))\n",
    "    print(f'Number of rows: {len(ret_df)}')\n",
    "#    assert 14==len(ret_df)\n",
    "    print('TEST DONE')\n",
    "\n",
    "test_extractItems_WRD()"
   ]
  },
  {
   "cell_type": "code",
   "execution_count": 14,
   "metadata": {},
   "outputs": [
    {
     "data": {
      "text/html": [
       "<div>\n",
       "<style scoped>\n",
       "    .dataframe tbody tr th:only-of-type {\n",
       "        vertical-align: middle;\n",
       "    }\n",
       "\n",
       "    .dataframe tbody tr th {\n",
       "        vertical-align: top;\n",
       "    }\n",
       "\n",
       "    .dataframe thead th {\n",
       "        text-align: right;\n",
       "    }\n",
       "</style>\n",
       "<table border=\"1\" class=\"dataframe\">\n",
       "  <thead>\n",
       "    <tr style=\"text-align: right;\">\n",
       "      <th></th>\n",
       "      <th>relPath</th>\n",
       "      <th>USAGE</th>\n",
       "      <th>DIALECT</th>\n",
       "      <th>SEX</th>\n",
       "      <th>SPEAKER_ID</th>\n",
       "      <th>SENTENCE_ID</th>\n",
       "    </tr>\n",
       "    <tr>\n",
       "      <th>IDX</th>\n",
       "      <th></th>\n",
       "      <th></th>\n",
       "      <th></th>\n",
       "      <th></th>\n",
       "      <th></th>\n",
       "      <th></th>\n",
       "    </tr>\n",
       "  </thead>\n",
       "  <tbody>\n",
       "    <tr>\n",
       "      <th>MJMD0:SX308</th>\n",
       "      <td>/TRAIN/DR2/MJMD0/SX308</td>\n",
       "      <td>TRAIN</td>\n",
       "      <td>DR2</td>\n",
       "      <td>M</td>\n",
       "      <td>JMD0</td>\n",
       "      <td>SX308</td>\n",
       "    </tr>\n",
       "    <tr>\n",
       "      <th>FLEH0:SI2311</th>\n",
       "      <td>/TRAIN/DR7/FLEH0/SI2311</td>\n",
       "      <td>TRAIN</td>\n",
       "      <td>DR7</td>\n",
       "      <td>F</td>\n",
       "      <td>LEH0</td>\n",
       "      <td>SI2311</td>\n",
       "    </tr>\n",
       "  </tbody>\n",
       "</table>\n",
       "</div>"
      ],
      "text/plain": [
       "                              relPath  USAGE DIALECT SEX SPEAKER_ID  \\\n",
       "IDX                                                                   \n",
       "MJMD0:SX308   /TRAIN/DR2/MJMD0/SX308   TRAIN  DR2     M   JMD0        \n",
       "FLEH0:SI2311  /TRAIN/DR7/FLEH0/SI2311  TRAIN  DR7     F   LEH0        \n",
       "\n",
       "             SENTENCE_ID  \n",
       "IDX                       \n",
       "MJMD0:SX308   SX308       \n",
       "FLEH0:SI2311  SI2311      "
      ]
     },
     "execution_count": 14,
     "metadata": {},
     "output_type": "execute_result"
    }
   ],
   "source": [
    "all_files_df.head(2)"
   ]
  },
  {
   "cell_type": "code",
   "execution_count": 15,
   "metadata": {},
   "outputs": [
    {
     "name": "stdout",
     "output_type": "stream",
     "text": [
      "<class 'pandas.core.frame.DataFrame'>\n",
      "Index: 630 entries, MJMD0:SX308 to FCAU0:SX317\n",
      "Data columns (total 6 columns):\n",
      "relPath        630 non-null object\n",
      "USAGE          630 non-null object\n",
      "DIALECT        630 non-null object\n",
      "SEX            630 non-null object\n",
      "SPEAKER_ID     630 non-null object\n",
      "SENTENCE_ID    630 non-null object\n",
      "dtypes: object(6)\n",
      "memory usage: 34.5+ KB\n"
     ]
    }
   ],
   "source": [
    "all_files_df.info()"
   ]
  },
  {
   "cell_type": "code",
   "execution_count": 16,
   "metadata": {},
   "outputs": [
    {
     "name": "stdout",
     "output_type": "stream",
     "text": [
      "Rows: 80\n",
      "<class 'pandas.core.frame.DataFrame'>\n",
      "Index: 80 entries, MJMD0:SX308:0 to MADD0:SI538:4\n",
      "Data columns (total 6 columns):\n",
      "START    80 non-null int64\n",
      "END      80 non-null int64\n",
      "WRD      80 non-null object\n",
      "SIG      80 non-null object\n",
      "SR       80 non-null int64\n",
      "IDX      80 non-null object\n",
      "dtypes: int64(3), object(3)\n",
      "memory usage: 4.4+ KB\n"
     ]
    }
   ],
   "source": [
    "def createItemsDataFrame(path, files_df, ext):\n",
    "    ret = pd.DataFrame()\n",
    "    for i,row in files_df.iterrows():\n",
    "        tmp_df = extractItems(path, row.name, row['relPath'], ext)\n",
    "        ret = ret.append(tmp_df)\n",
    "        #print(len(ret))\n",
    "#    ret = files_df.apply(lambda row: ret.append(extractWords(path, row.name, row['relPath']), ignore_index=True), axis=1)\n",
    "#    files_df.apply(lambda row: print(row), axis=1)\n",
    "    return ret\n",
    "\n",
    "def test_createItemsDataFrame():\n",
    "    tdf = createItemsDataFrame(path, all_files_df.head(10), 'WRD')\n",
    "    print(f'Rows: {len(tdf)}')\n",
    "    tdf.info()\n",
    "#    assert 86==len(tdf)\n",
    "\n",
    "test_createItemsDataFrame()"
   ]
  },
  {
   "cell_type": "code",
   "execution_count": 17,
   "metadata": {},
   "outputs": [
    {
     "name": "stdout",
     "output_type": "stream",
     "text": [
      "CPU times: user 18.4 s, sys: 248 ms, total: 18.7 s\n",
      "Wall time: 3.11 s\n",
      "<class 'pandas.core.frame.DataFrame'>\n",
      "Index: 5454 entries, MJMD0:SX308:0 to FCAU0:SX317:7\n",
      "Data columns (total 6 columns):\n",
      "START    5454 non-null int64\n",
      "END      5454 non-null int64\n",
      "WRD      5454 non-null object\n",
      "SIG      5454 non-null object\n",
      "SR       5454 non-null int64\n",
      "IDX      5454 non-null object\n",
      "dtypes: int64(3), object(3)\n",
      "memory usage: 298.3+ KB\n"
     ]
    }
   ],
   "source": [
    "%time all_words_df = createItemsDataFrame(path, all_files_df, 'WRD')\n",
    "all_words_df.info()"
   ]
  },
  {
   "cell_type": "code",
   "execution_count": 18,
   "metadata": {},
   "outputs": [
    {
     "name": "stdout",
     "output_type": "stream",
     "text": [
      "Words count: 5454\n"
     ]
    }
   ],
   "source": [
    "print(f'Words count: {len(all_words_df)}')"
   ]
  },
  {
   "cell_type": "markdown",
   "metadata": {},
   "source": [
    "## Join data and create \"src\" "
   ]
  },
  {
   "cell_type": "code",
   "execution_count": 19,
   "metadata": {},
   "outputs": [],
   "source": [
    "#Join files with words\n",
    "src = all_words_df.merge(all_files_df,left_on='IDX',right_on='IDX')\n",
    "assert len(src)==len(all_words_df)"
   ]
  },
  {
   "cell_type": "code",
   "execution_count": 20,
   "metadata": {},
   "outputs": [
    {
     "data": {
      "text/plain": [
       "USAGE\n",
       "TEST     1462\n",
       "TRAIN    3992\n",
       "Name: SIG, dtype: int64"
      ]
     },
     "execution_count": 20,
     "metadata": {},
     "output_type": "execute_result"
    }
   ],
   "source": [
    "#Optionally subsample and ensure good distribution among train and \"valid\"\n",
    "#src = src.sample(5000, random_state=1) # Uncomment this to reduce dataset\n",
    "src.groupby(['USAGE'])['SIG'].count()"
   ]
  },
  {
   "cell_type": "code",
   "execution_count": 21,
   "metadata": {},
   "outputs": [
    {
     "data": {
      "text/html": [
       "<div>\n",
       "<style scoped>\n",
       "    .dataframe tbody tr th:only-of-type {\n",
       "        vertical-align: middle;\n",
       "    }\n",
       "\n",
       "    .dataframe tbody tr th {\n",
       "        vertical-align: top;\n",
       "    }\n",
       "\n",
       "    .dataframe thead th {\n",
       "        text-align: right;\n",
       "    }\n",
       "</style>\n",
       "<table border=\"1\" class=\"dataframe\">\n",
       "  <thead>\n",
       "    <tr style=\"text-align: right;\">\n",
       "      <th></th>\n",
       "      <th>WRD</th>\n",
       "      <th>FREQ</th>\n",
       "    </tr>\n",
       "  </thead>\n",
       "  <tbody>\n",
       "    <tr>\n",
       "      <th>0</th>\n",
       "      <td>'em</td>\n",
       "      <td>1</td>\n",
       "    </tr>\n",
       "    <tr>\n",
       "      <th>1</th>\n",
       "      <td>a</td>\n",
       "      <td>119</td>\n",
       "    </tr>\n",
       "    <tr>\n",
       "      <th>2</th>\n",
       "      <td>abbreviate</td>\n",
       "      <td>1</td>\n",
       "    </tr>\n",
       "    <tr>\n",
       "      <th>3</th>\n",
       "      <td>abdomen</td>\n",
       "      <td>1</td>\n",
       "    </tr>\n",
       "    <tr>\n",
       "      <th>4</th>\n",
       "      <td>ability</td>\n",
       "      <td>1</td>\n",
       "    </tr>\n",
       "  </tbody>\n",
       "</table>\n",
       "</div>"
      ],
      "text/plain": [
       "          WRD  FREQ\n",
       "0  'em         1   \n",
       "1  a           119 \n",
       "2  abbreviate  1   \n",
       "3  abdomen     1   \n",
       "4  ability     1   "
      ]
     },
     "execution_count": 21,
     "metadata": {},
     "output_type": "execute_result"
    }
   ],
   "source": [
    "wrd_freq = src.groupby(['WRD'])['SIG'].count().reset_index(name='FREQ')\n",
    "wrd_freq.head()"
   ]
  },
  {
   "cell_type": "code",
   "execution_count": 22,
   "metadata": {},
   "outputs": [],
   "source": [
    "#Add word frequency measure to src\n",
    "src = src.merge(wrd_freq,left_on='WRD',right_on='WRD')\n",
    "assert len(src)==len(all_words_df) # does not pass if src is reduced"
   ]
  },
  {
   "cell_type": "code",
   "execution_count": 23,
   "metadata": {},
   "outputs": [
    {
     "name": "stdout",
     "output_type": "stream",
     "text": [
      "5454\n"
     ]
    }
   ],
   "source": [
    "# Keep high frequency words\n",
    "#src = src[src.FREQ>=8]\n",
    "print(len(src))"
   ]
  },
  {
   "cell_type": "code",
   "execution_count": 24,
   "metadata": {},
   "outputs": [
    {
     "data": {
      "text/plain": [
       "(tensor([ 3.0518e-05, -2.1362e-04, -3.0518e-05,  ...,  8.2397e-04,\n",
       "          2.3499e-03,  2.9297e-03]), 16000)"
      ]
     },
     "execution_count": 24,
     "metadata": {},
     "output_type": "execute_result"
    }
   ],
   "source": [
    "#Create merged column...\n",
    "src['SampleAndSr'] = src.apply(lambda row: (row.SIG,row.SR),axis=1)\n",
    "src.iloc[0]['SampleAndSr']"
   ]
  },
  {
   "cell_type": "code",
   "execution_count": 25,
   "metadata": {},
   "outputs": [
    {
     "data": {
      "text/plain": [
       "is_valid\n",
       "False    3992\n",
       "True     1462\n",
       "Name: SIG, dtype: int64"
      ]
     },
     "execution_count": 25,
     "metadata": {},
     "output_type": "execute_result"
    }
   ],
   "source": [
    "#Create validation set column from \"test\" hold out\n",
    "src['is_valid'] = src['USAGE'].apply(lambda x: not (x=='TRAIN'))\n",
    "src.groupby(['is_valid'])['SIG'].count()"
   ]
  },
  {
   "cell_type": "code",
   "execution_count": 26,
   "metadata": {},
   "outputs": [
    {
     "data": {
      "text/plain": [
       "1800"
      ]
     },
     "execution_count": 26,
     "metadata": {},
     "output_type": "execute_result"
    }
   ],
   "source": [
    "#Count unique words\n",
    "len(src.WRD.unique())"
   ]
  },
  {
   "cell_type": "markdown",
   "metadata": {},
   "source": [
    "#### Useful statistics"
   ]
  },
  {
   "cell_type": "code",
   "execution_count": 27,
   "metadata": {},
   "outputs": [
    {
     "name": "stdout",
     "output_type": "stream",
     "text": [
      "Shortest item: 0\n",
      "Longest item: 17560\n"
     ]
    }
   ],
   "source": [
    "src['LENGHT'] = src.SIG.apply(lambda x: x.shape[0])\n",
    "print(f'Shortest item: {src.LENGHT.min()}')\n",
    "print(f'Longest item: {src.LENGHT.max()}')"
   ]
  },
  {
   "cell_type": "code",
   "execution_count": 28,
   "metadata": {},
   "outputs": [
    {
     "data": {
      "text/plain": [
       "<matplotlib.axes._subplots.AxesSubplot at 0x7faa289fb400>"
      ]
     },
     "execution_count": 28,
     "metadata": {},
     "output_type": "execute_result"
    },
    {
     "data": {
      "image/png": "[encoded data removed]",
      "text/plain": [
       "<Figure size 432x288 with 1 Axes>"
      ]
     },
     "metadata": {
      "needs_background": "light"
     },
     "output_type": "display_data"
    }
   ],
   "source": [
    "src['LENGHT'].hist(bins=100)"
   ]
  },
  {
   "cell_type": "markdown",
   "metadata": {},
   "source": [
    "**WARNING** there are zero lenght items that should be filtered..."
   ]
  },
  {
   "cell_type": "code",
   "execution_count": 29,
   "metadata": {},
   "outputs": [
    {
     "name": "stdout",
     "output_type": "stream",
     "text": [
      "Shortest item: 231\n",
      "Longest item: 15938\n",
      "Number of items: 5446\n"
     ]
    }
   ],
   "source": [
    "#Discarding too short and too long sounds\n",
    "min_duration = 50 # in samples\n",
    "max_duration = 16000\n",
    "src = src[src.LENGHT>min_duration]\n",
    "src = src[src.LENGHT<=max_duration]\n",
    "print(f'Shortest item: {src.LENGHT.min()}')\n",
    "print(f'Longest item: {src.LENGHT.max()}')\n",
    "print(f'Number of items: {len(src)}')"
   ]
  },
  {
   "cell_type": "markdown",
   "metadata": {},
   "source": [
    "## Classify words"
   ]
  },
  {
   "cell_type": "markdown",
   "metadata": {},
   "source": [
    "## Data Augmentation"
   ]
  },
  {
   "cell_type": "markdown",
   "metadata": {},
   "source": [
    "Support functions:"
   ]
  },
  {
   "cell_type": "code",
   "execution_count": 30,
   "metadata": {},
   "outputs": [],
   "source": [
    "def applyAllTfms(ad:AudioData, tfms):\n",
    "    '''Recursively apply all tfms'''\n",
    "    ret = ad\n",
    "    for tfm in tfms:\n",
    "        ret = tfm(ret)\n",
    "    return ret"
   ]
  },
  {
   "cell_type": "code",
   "execution_count": 31,
   "metadata": {},
   "outputs": [],
   "source": [
    "def displayAudioData(lbl, ad:AudioData, orig:AudioData=None,show=True):\n",
    "    display(lbl, Audio(ad.sig,rate=ad.sr))\n",
    "    if show:\n",
    "        if orig is not None: plt.plot(orig.sig, 'r')\n",
    "        if ad is not None: plt.plot(ad.sig, 'b')"
   ]
  },
  {
   "cell_type": "code",
   "execution_count": 32,
   "metadata": {},
   "outputs": [],
   "source": [
    "def get_audio_transforms(spectro:bool=False,\n",
    "                         white_noise:bool=True,\n",
    "                         modulate_volume:bool=True,\n",
    "                         random_cutout:bool=True,\n",
    "                         pad_with_silence:bool=True,\n",
    "                         pitch_warp:bool=True,\n",
    "                         down_and_up:bool=True,\n",
    "                         mx_to_pad:int=1000,\n",
    "                         xtra_tfms:Optional[Collection[Transform]]=None,\n",
    "                         **kwargs)->Collection[Transform]:\n",
    "    \"Utility func to easily create a list of audio transforms.\"\n",
    "    res = []\n",
    "    if white_noise: res.append(partial(tfm_add_white_noise, **kwargs))\n",
    "    if modulate_volume: res.append(partial(tfm_modulate_volume, **kwargs))\n",
    "    if random_cutout: res.append(partial(tfm_random_cutout, pct_to_cut=.15, **kwargs))\n",
    "    if pad_with_silence: res.append(partial(tfm_pad_with_silence, pct_to_pad=.15, min_to_pad=None, max_to_pad=None, **kwargs))\n",
    "    if pitch_warp: res.append(partial(tfm_pitch_warp, shift_by_pitch=None, bins_per_octave=12, **kwargs))\n",
    "    if down_and_up: res.append(partial(tfm_down_and_up, sr_divisor=2, **kwargs))\n",
    "    res.append(partial(tfm_pad_to_max, mx=mx_to_pad))\n",
    "    final_transform = tfm_extract_signal\n",
    "    if spectro: final_transform = tfm_spectro\n",
    "    res.append(final_transform)\n",
    "    #       train                   , valid\n",
    "    return (res + listify(xtra_tfms), [partial(tfm_pad_to_max, mx=mx_to_pad), final_transform])"
   ]
  },
  {
   "cell_type": "code",
   "execution_count": 33,
   "metadata": {},
   "outputs": [],
   "source": [
    "#Data Augmentation\n",
    "tfms = get_audio_transforms(spectro=True,\n",
    "                            mx_to_pad=max_duration, #1 sec window\n",
    "                            white_noise=True, noise_scl=1e-3, # Small noise\n",
    "                            modulate_volume=True, lower_gain=.95, upper_gain=1.05, # Not big volume variation\n",
    "                            random_cutout=False,\n",
    "                            pad_with_silence=False,\n",
    "                            pitch_warp=False,\n",
    "                            down_and_up=False)"
   ]
  },
  {
   "cell_type": "markdown",
   "metadata": {},
   "source": [
    "Let's try the audio data augmentation."
   ]
  },
  {
   "cell_type": "code",
   "execution_count": 34,
   "metadata": {},
   "outputs": [
    {
     "data": {
      "text/plain": [
       "[functools.partial(<function tfm_add_white_noise at 0x7faa299c6ae8>, noise_scl=0.001, lower_gain=0.95, upper_gain=1.05),\n",
       " functools.partial(<function tfm_modulate_volume at 0x7faa299c6b70>, noise_scl=0.001, lower_gain=0.95, upper_gain=1.05),\n",
       " functools.partial(<function tfm_pad_to_max at 0x7faa299c6ea0>, mx=16000),\n",
       " <function exp.nb_DataAugmentation.tfm_spectro(ad: exp.nb_AudioCommon.AudioData, n_mels=128, to_db_scale=False, top_db=-80, **kwargs)>]"
      ]
     },
     "execution_count": 34,
     "metadata": {},
     "output_type": "execute_result"
    }
   ],
   "source": [
    "# Show all train transformations\n",
    "train_tfms = tfms[0]\n",
    "train_tfms"
   ]
  },
  {
   "cell_type": "code",
   "execution_count": 35,
   "metadata": {},
   "outputs": [
    {
     "data": {
      "text/plain": [
       "[functools.partial(<function tfm_add_white_noise at 0x7faa299c6ae8>, noise_scl=0.001, lower_gain=0.95, upper_gain=1.05),\n",
       " functools.partial(<function tfm_modulate_volume at 0x7faa299c6b70>, noise_scl=0.001, lower_gain=0.95, upper_gain=1.05),\n",
       " functools.partial(<function tfm_pad_to_max at 0x7faa299c6ea0>, mx=16000)]"
      ]
     },
     "execution_count": 35,
     "metadata": {},
     "output_type": "execute_result"
    }
   ],
   "source": [
    "# Extract \"AudioTransformations\" for train set\n",
    "audio_tfms = train_tfms[:-1]\n",
    "audio_tfms"
   ]
  },
  {
   "cell_type": "code",
   "execution_count": 36,
   "metadata": {},
   "outputs": [],
   "source": [
    "samples = src.sample(5,random_state=1)\n",
    "ads = [AudioData(src.iloc[i].SIG,src.iloc[i].SR) for i in range(len(samples))]"
   ]
  },
  {
   "cell_type": "code",
   "execution_count": 37,
   "metadata": {},
   "outputs": [
    {
     "data": {
      "text/plain": [
       "'original'"
      ]
     },
     "metadata": {},
     "output_type": "display_data"
    },
    {
     "data": {
      "text/html": [
       "\n",
       "                <audio controls=\"controls\" >\n",
       "                    <source src=\"data:audio/wav;base64,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\" type=\"audio/wav\" />\n",
       "                    Your browser does not support the audio element.\n",
       "                </audio>\n",
       "              "
      ],
      "text/plain": [
       "<IPython.lib.display.Audio object>"
      ]
     },
     "metadata": {},
     "output_type": "display_data"
    }
   ],
   "source": [
    "s = ads[0]\n",
    "displayAudioData('original',s,show=False)"
   ]
  },
  {
   "cell_type": "code",
   "execution_count": 38,
   "metadata": {},
   "outputs": [
    {
     "data": {
      "text/plain": [
       "'augmented'"
      ]
     },
     "metadata": {},
     "output_type": "display_data"
    },
    {
     "data": {
      "text/html": [
       "\n",
       "                <audio controls=\"controls\" >\n",
       "                    <source src=\"data:audio/wav;base64,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\" type=\"audio/wav\" />\n",
       "                    Your browser does not support the audio element.\n",
       "                </audio>\n",
       "              "
      ],
      "text/plain": [
       "<IPython.lib.display.Audio object>"
      ]
     },
     "metadata": {},
     "output_type": "display_data"
    },
    {
     "data": {
      "image/png": "[encoded data removed]",
      "text/plain": [
       "<Figure size 432x288 with 1 Axes>"
      ]
     },
     "metadata": {
      "needs_background": "light"
     },
     "output_type": "display_data"
    }
   ],
   "source": [
    "sAug = applyAllTfms(s,audio_tfms)\n",
    "displayAudioData('augmented',sAug,s)"
   ]
  },
  {
   "cell_type": "markdown",
   "metadata": {},
   "source": [
    "**IMPORTANT**: remember to **LISTEN** at the transformaiton ;-)"
   ]
  },
  {
   "cell_type": "markdown",
   "metadata": {},
   "source": [
    "## Fine tune spectrogram"
   ]
  },
  {
   "cell_type": "markdown",
   "metadata": {},
   "source": [
    "Specrogram should be configured properly: let's define a new function **tfm_spectro_tuned** with the parameters we wants, using partial application"
   ]
  },
  {
   "cell_type": "code",
   "execution_count": 39,
   "metadata": {},
   "outputs": [
    {
     "data": {
      "image/jpeg": "[encoded data removed]",
      "image/png": "[encoded data removed]",
      "text/plain": [
       "Image (1, 224, 24)"
      ]
     },
     "metadata": {},
     "output_type": "display_data"
    }
   ],
   "source": [
    "#display(Image(tfm_spectro(ads[1],n_mels=128,to_db_scale=True))) #original\n",
    "tfm_spectro_tuned = partial(tfm_spectro,n_mels=224, ws=200, n_fft=3200, to_db_scale=True)\n",
    "display(Image(tfm_spectro_tuned(ads[1]))) #improved"
   ]
  },
  {
   "cell_type": "code",
   "execution_count": 40,
   "metadata": {},
   "outputs": [
    {
     "data": {
      "text/plain": [
       "([functools.partial(<function tfm_add_white_noise at 0x7faa299c6ae8>, noise_scl=0.001, lower_gain=0.95, upper_gain=1.05),\n",
       "  functools.partial(<function tfm_modulate_volume at 0x7faa299c6b70>, noise_scl=0.001, lower_gain=0.95, upper_gain=1.05),\n",
       "  functools.partial(<function tfm_pad_to_max at 0x7faa299c6ea0>, mx=16000),\n",
       "  functools.partial(<function tfm_spectro at 0x7faa29d24268>, n_mels=224, ws=200, n_fft=3200, to_db_scale=True)],\n",
       " [functools.partial(<function tfm_pad_to_max at 0x7faa299c6ea0>, mx=16000),\n",
       "  functools.partial(<function tfm_spectro at 0x7faa29d24268>, n_mels=224, ws=200, n_fft=3200, to_db_scale=True)])"
      ]
     },
     "execution_count": 40,
     "metadata": {},
     "output_type": "execute_result"
    }
   ],
   "source": [
    "#Replace the spectrogram transform with tfm_spectro_stft\n",
    "tfms[0][-1]=tfm_spectro_tuned\n",
    "tfms[1][-1]=tfm_spectro_tuned\n",
    "tfms"
   ]
  },
  {
   "cell_type": "markdown",
   "metadata": {},
   "source": [
    "### DataBlock"
   ]
  },
  {
   "cell_type": "code",
   "execution_count": 41,
   "metadata": {},
   "outputs": [
    {
     "data": {
      "text/plain": [
       "(1800, [\"'em\", 'a', 'abbreviate'])"
      ]
     },
     "execution_count": 41,
     "metadata": {},
     "output_type": "execute_result"
    }
   ],
   "source": [
    "#Create classes for all data!\n",
    "classes = list(sorted(all_words_df.WRD.unique()))\n",
    "len(classes), classes[:3]"
   ]
  },
  {
   "cell_type": "code",
   "execution_count": 42,
   "metadata": {},
   "outputs": [],
   "source": [
    "ils = AudioList.from_df(src, path, cols=['SampleAndSr'])"
   ]
  },
  {
   "cell_type": "code",
   "execution_count": 43,
   "metadata": {},
   "outputs": [],
   "source": [
    "data = (ils\n",
    "        .split_from_df('is_valid')\n",
    "        .label_from_df('WRD', classes=classes)\n",
    "        .transform(tfms)\n",
    "        .databunch(bs=64)) # NOTE: "
   ]
  },
  {
   "cell_type": "markdown",
   "metadata": {},
   "source": [
    "### Take a look to some transformed examples"
   ]
  },
  {
   "cell_type": "code",
   "execution_count": 44,
   "metadata": {},
   "outputs": [],
   "source": [
    "batch = data.one_batch()"
   ]
  },
  {
   "cell_type": "code",
   "execution_count": 45,
   "metadata": {},
   "outputs": [
    {
     "data": {
      "image/jpeg": "[encoded data removed]",
      "image/png": "[encoded data removed]",
      "text/plain": [
       "Image (1, 224, 161)"
      ]
     },
     "metadata": {},
     "output_type": "display_data"
    },
    {
     "data": {
      "text/plain": [
       "torch.Size([1, 224, 161])"
      ]
     },
     "metadata": {},
     "output_type": "display_data"
    },
    {
     "data": {
      "text/plain": [
       "'Corrisponding label: they'"
      ]
     },
     "metadata": {},
     "output_type": "display_data"
    },
    {
     "data": {
      "image/jpeg": "[encoded data removed]",
      "image/png": "[encoded data removed]",
      "text/plain": [
       "Image (1, 224, 161)"
      ]
     },
     "metadata": {},
     "output_type": "display_data"
    },
    {
     "data": {
      "text/plain": [
       "torch.Size([1, 224, 161])"
      ]
     },
     "metadata": {},
     "output_type": "display_data"
    },
    {
     "data": {
      "text/plain": [
       "'Corrisponding label: come'"
      ]
     },
     "metadata": {},
     "output_type": "display_data"
    },
    {
     "data": {
      "image/jpeg": "[encoded data removed]",
      "image/png": "[encoded data removed]",
      "text/plain": [
       "Image (1, 224, 161)"
      ]
     },
     "metadata": {},
     "output_type": "display_data"
    },
    {
     "data": {
      "text/plain": [
       "torch.Size([1, 224, 161])"
      ]
     },
     "metadata": {},
     "output_type": "display_data"
    },
    {
     "data": {
      "text/plain": [
       "'Corrisponding label: paragraph'"
      ]
     },
     "metadata": {},
     "output_type": "display_data"
    },
    {
     "data": {
      "image/jpeg": "[encoded data removed]",
      "image/png": "[encoded data removed]",
      "text/plain": [
       "Image (1, 224, 161)"
      ]
     },
     "metadata": {},
     "output_type": "display_data"
    },
    {
     "data": {
      "text/plain": [
       "torch.Size([1, 224, 161])"
      ]
     },
     "metadata": {},
     "output_type": "display_data"
    },
    {
     "data": {
      "text/plain": [
       "'Corrisponding label: suit'"
      ]
     },
     "metadata": {},
     "output_type": "display_data"
    },
    {
     "data": {
      "image/jpeg": "[encoded data removed]",
      "image/png": "[encoded data removed]",
      "text/plain": [
       "Image (1, 224, 161)"
      ]
     },
     "metadata": {},
     "output_type": "display_data"
    },
    {
     "data": {
      "text/plain": [
       "torch.Size([1, 224, 161])"
      ]
     },
     "metadata": {},
     "output_type": "display_data"
    },
    {
     "data": {
      "text/plain": [
       "'Corrisponding label: as'"
      ]
     },
     "metadata": {},
     "output_type": "display_data"
    }
   ],
   "source": [
    "#Try with more examples...\n",
    "for i in range(5):\n",
    "    img = batch[0][i]\n",
    "    lbl = classes[batch[1][i]]\n",
    "    display(Image(img),img.shape,f'Corrisponding label: {lbl}')"
   ]
  },
  {
   "cell_type": "markdown",
   "metadata": {},
   "source": [
    "**IMPORTANT**: there is a lot of \"silence\" at the end of each sound..."
   ]
  },
  {
   "cell_type": "markdown",
   "metadata": {},
   "source": [
    "## Learner"
   ]
  },
  {
   "cell_type": "code",
   "execution_count": 46,
   "metadata": {},
   "outputs": [],
   "source": [
    "learn = cnn_learner(data, models.resnet50, metrics=accuracy)"
   ]
  },
  {
   "cell_type": "code",
   "execution_count": 47,
   "metadata": {},
   "outputs": [],
   "source": [
    "def adapt_first_layer(src_model, nChannels):\n",
    "    '''\n",
    "    Change first layer of network to accomodate new channels\n",
    "    '''\n",
    "    # save original\n",
    "    original_weights = src_model[0][0].weight.clone()\n",
    "    new_weights = original_weights[:,0:1,:,:]\n",
    "\n",
    "    # create new layes\n",
    "    new_layer = nn.Conv2d(nChannels,64, kernel_size=(7, 7), stride=(2, 2), padding=(3, 3), bias=False)\n",
    "    new_layer.weight = nn.Parameter(new_weights)\n",
    "\n",
    "    # Replace layer and put to gpu.\n",
    "    src_model[0][0] = new_layer\n",
    "    src_model.cuda();"
   ]
  },
  {
   "cell_type": "code",
   "execution_count": 48,
   "metadata": {},
   "outputs": [
    {
     "name": "stdout",
     "output_type": "stream",
     "text": [
      "First layer shape: torch.Size([64, 1, 7, 7])\n"
     ]
    }
   ],
   "source": [
    "nChannels=1\n",
    "\n",
    "# Alter existing model\n",
    "adapt_first_layer(learn.model,nChannels)\n",
    "print(f'First layer shape: {learn.model[0][0].weight.shape}')"
   ]
  },
  {
   "cell_type": "markdown",
   "metadata": {},
   "source": [
    "## Train"
   ]
  },
  {
   "cell_type": "code",
   "execution_count": 49,
   "metadata": {},
   "outputs": [
    {
     "data": {
      "text/html": [],
      "text/plain": [
       "<IPython.core.display.HTML object>"
      ]
     },
     "metadata": {},
     "output_type": "display_data"
    },
    {
     "name": "stdout",
     "output_type": "stream",
     "text": [
      "LR Finder is complete, type {learner_name}.recorder.plot() to see the graph.\n",
      "Min numerical gradient: 2.75E-02\n"
     ]
    },
    {
     "data": {
      "image/png": "[encoded data removed]",
      "text/plain": [
       "<Figure size 432x288 with 1 Axes>"
      ]
     },
     "metadata": {
      "needs_background": "light"
     },
     "output_type": "display_data"
    }
   ],
   "source": [
    "lr_find(learn)\n",
    "learn.recorder.plot(suggestion=True)"
   ]
  },
  {
   "cell_type": "code",
   "execution_count": 50,
   "metadata": {},
   "outputs": [
    {
     "data": {
      "text/html": [
       "Total time: 02:59 <p><table border=\"1\" class=\"dataframe\">\n",
       "  <thead>\n",
       "    <tr style=\"text-align: left;\">\n",
       "      <th>epoch</th>\n",
       "      <th>train_loss</th>\n",
       "      <th>valid_loss</th>\n",
       "      <th>accuracy</th>\n",
       "      <th>time</th>\n",
       "    </tr>\n",
       "  </thead>\n",
       "  <tbody>\n",
       "    <tr>\n",
       "      <td>0</td>\n",
       "      <td>6.640699</td>\n",
       "      <td>5.931581</td>\n",
       "      <td>0.145205</td>\n",
       "      <td>00:23</td>\n",
       "    </tr>\n",
       "    <tr>\n",
       "      <td>1</td>\n",
       "      <td>5.649269</td>\n",
       "      <td>5.558647</td>\n",
       "      <td>0.187671</td>\n",
       "      <td>00:22</td>\n",
       "    </tr>\n",
       "    <tr>\n",
       "      <td>2</td>\n",
       "      <td>4.970210</td>\n",
       "      <td>5.964334</td>\n",
       "      <td>0.190411</td>\n",
       "      <td>00:22</td>\n",
       "    </tr>\n",
       "    <tr>\n",
       "      <td>3</td>\n",
       "      <td>4.067141</td>\n",
       "      <td>5.869136</td>\n",
       "      <td>0.228082</td>\n",
       "      <td>00:22</td>\n",
       "    </tr>\n",
       "    <tr>\n",
       "      <td>4</td>\n",
       "      <td>3.090820</td>\n",
       "      <td>5.946115</td>\n",
       "      <td>0.248630</td>\n",
       "      <td>00:22</td>\n",
       "    </tr>\n",
       "    <tr>\n",
       "      <td>5</td>\n",
       "      <td>1.999776</td>\n",
       "      <td>6.059524</td>\n",
       "      <td>0.269178</td>\n",
       "      <td>00:22</td>\n",
       "    </tr>\n",
       "    <tr>\n",
       "      <td>6</td>\n",
       "      <td>1.276361</td>\n",
       "      <td>6.122223</td>\n",
       "      <td>0.271233</td>\n",
       "      <td>00:22</td>\n",
       "    </tr>\n",
       "    <tr>\n",
       "      <td>7</td>\n",
       "      <td>0.903706</td>\n",
       "      <td>6.103680</td>\n",
       "      <td>0.271233</td>\n",
       "      <td>00:22</td>\n",
       "    </tr>\n",
       "  </tbody>\n",
       "</table>"
      ],
      "text/plain": [
       "<IPython.core.display.HTML object>"
      ]
     },
     "metadata": {},
     "output_type": "display_data"
    },
    {
     "data": {
      "image/png": "[encoded data removed]",
      "text/plain": [
       "<Figure size 432x288 with 1 Axes>"
      ]
     },
     "metadata": {
      "needs_background": "light"
     },
     "output_type": "display_data"
    }
   ],
   "source": [
    "learn.fit_one_cycle(8, slice(1e-2))\n",
    "learn.recorder.plot_losses()"
   ]
  },
  {
   "cell_type": "code",
   "execution_count": 51,
   "metadata": {},
   "outputs": [],
   "source": [
    "learn.save('pass1_all')"
   ]
  },
  {
   "cell_type": "code",
   "execution_count": 52,
   "metadata": {},
   "outputs": [],
   "source": [
    "learn.freeze_to(1)"
   ]
  },
  {
   "cell_type": "code",
   "execution_count": 53,
   "metadata": {},
   "outputs": [
    {
     "data": {
      "text/html": [],
      "text/plain": [
       "<IPython.core.display.HTML object>"
      ]
     },
     "metadata": {},
     "output_type": "display_data"
    },
    {
     "name": "stdout",
     "output_type": "stream",
     "text": [
      "LR Finder is complete, type {learner_name}.recorder.plot() to see the graph.\n",
      "Min numerical gradient: 6.31E-07\n"
     ]
    },
    {
     "data": {
      "image/png": "[encoded data removed]",
      "text/plain": [
       "<Figure size 432x288 with 1 Axes>"
      ]
     },
     "metadata": {
      "needs_background": "light"
     },
     "output_type": "display_data"
    }
   ],
   "source": [
    "lr_find(learn)\n",
    "learn.recorder.plot(suggestion=True)"
   ]
  },
  {
   "cell_type": "code",
   "execution_count": 54,
   "metadata": {},
   "outputs": [
    {
     "data": {
      "text/html": [
       "Total time: 03:19 <p><table border=\"1\" class=\"dataframe\">\n",
       "  <thead>\n",
       "    <tr style=\"text-align: left;\">\n",
       "      <th>epoch</th>\n",
       "      <th>train_loss</th>\n",
       "      <th>valid_loss</th>\n",
       "      <th>accuracy</th>\n",
       "      <th>time</th>\n",
       "    </tr>\n",
       "  </thead>\n",
       "  <tbody>\n",
       "    <tr>\n",
       "      <td>0</td>\n",
       "      <td>0.729517</td>\n",
       "      <td>6.090610</td>\n",
       "      <td>0.273973</td>\n",
       "      <td>00:24</td>\n",
       "    </tr>\n",
       "    <tr>\n",
       "      <td>1</td>\n",
       "      <td>0.735497</td>\n",
       "      <td>6.094716</td>\n",
       "      <td>0.271918</td>\n",
       "      <td>00:24</td>\n",
       "    </tr>\n",
       "    <tr>\n",
       "      <td>2</td>\n",
       "      <td>0.716135</td>\n",
       "      <td>6.093935</td>\n",
       "      <td>0.269863</td>\n",
       "      <td>00:24</td>\n",
       "    </tr>\n",
       "    <tr>\n",
       "      <td>3</td>\n",
       "      <td>0.704764</td>\n",
       "      <td>6.057276</td>\n",
       "      <td>0.272603</td>\n",
       "      <td>00:25</td>\n",
       "    </tr>\n",
       "    <tr>\n",
       "      <td>4</td>\n",
       "      <td>0.687115</td>\n",
       "      <td>6.055644</td>\n",
       "      <td>0.273288</td>\n",
       "      <td>00:24</td>\n",
       "    </tr>\n",
       "    <tr>\n",
       "      <td>5</td>\n",
       "      <td>0.654446</td>\n",
       "      <td>6.047904</td>\n",
       "      <td>0.276712</td>\n",
       "      <td>00:25</td>\n",
       "    </tr>\n",
       "    <tr>\n",
       "      <td>6</td>\n",
       "      <td>0.664102</td>\n",
       "      <td>6.043675</td>\n",
       "      <td>0.276712</td>\n",
       "      <td>00:24</td>\n",
       "    </tr>\n",
       "    <tr>\n",
       "      <td>7</td>\n",
       "      <td>0.648981</td>\n",
       "      <td>6.059478</td>\n",
       "      <td>0.276027</td>\n",
       "      <td>00:24</td>\n",
       "    </tr>\n",
       "  </tbody>\n",
       "</table>"
      ],
      "text/plain": [
       "<IPython.core.display.HTML object>"
      ]
     },
     "metadata": {},
     "output_type": "display_data"
    },
    {
     "data": {
      "image/png": "[encoded data removed]",
      "text/plain": [
       "<Figure size 432x288 with 1 Axes>"
      ]
     },
     "metadata": {
      "needs_background": "light"
     },
     "output_type": "display_data"
    }
   ],
   "source": [
    "learn.fit_one_cycle(8, slice(2e-5))\n",
    "learn.recorder.plot_losses()"
   ]
  },
  {
   "cell_type": "code",
   "execution_count": 55,
   "metadata": {},
   "outputs": [],
   "source": [
    "learn.save('pass2_all')"
   ]
  },
  {
   "cell_type": "code",
   "execution_count": 56,
   "metadata": {},
   "outputs": [],
   "source": [
    "learn.unfreeze()"
   ]
  },
  {
   "cell_type": "code",
   "execution_count": 57,
   "metadata": {},
   "outputs": [
    {
     "data": {
      "text/html": [],
      "text/plain": [
       "<IPython.core.display.HTML object>"
      ]
     },
     "metadata": {},
     "output_type": "display_data"
    },
    {
     "name": "stdout",
     "output_type": "stream",
     "text": [
      "LR Finder is complete, type {learner_name}.recorder.plot() to see the graph.\n",
      "Min numerical gradient: 3.31E-06\n"
     ]
    },
    {
     "data": {
      "image/png": "[encoded data removed]",
      "text/plain": [
       "<Figure size 432x288 with 1 Axes>"
      ]
     },
     "metadata": {
      "needs_background": "light"
     },
     "output_type": "display_data"
    }
   ],
   "source": [
    "lr_find(learn)\n",
    "learn.recorder.plot(suggestion=True)"
   ]
  },
  {
   "cell_type": "code",
   "execution_count": 58,
   "metadata": {},
   "outputs": [
    {
     "data": {
      "text/html": [
       "Total time: 03:46 <p><table border=\"1\" class=\"dataframe\">\n",
       "  <thead>\n",
       "    <tr style=\"text-align: left;\">\n",
       "      <th>epoch</th>\n",
       "      <th>train_loss</th>\n",
       "      <th>valid_loss</th>\n",
       "      <th>accuracy</th>\n",
       "      <th>time</th>\n",
       "    </tr>\n",
       "  </thead>\n",
       "  <tbody>\n",
       "    <tr>\n",
       "      <td>0</td>\n",
       "      <td>0.653096</td>\n",
       "      <td>6.060292</td>\n",
       "      <td>0.274658</td>\n",
       "      <td>00:28</td>\n",
       "    </tr>\n",
       "    <tr>\n",
       "      <td>1</td>\n",
       "      <td>0.658859</td>\n",
       "      <td>6.053463</td>\n",
       "      <td>0.278767</td>\n",
       "      <td>00:28</td>\n",
       "    </tr>\n",
       "    <tr>\n",
       "      <td>2</td>\n",
       "      <td>0.624692</td>\n",
       "      <td>6.042405</td>\n",
       "      <td>0.280137</td>\n",
       "      <td>00:28</td>\n",
       "    </tr>\n",
       "    <tr>\n",
       "      <td>3</td>\n",
       "      <td>0.616105</td>\n",
       "      <td>6.041947</td>\n",
       "      <td>0.276712</td>\n",
       "      <td>00:28</td>\n",
       "    </tr>\n",
       "    <tr>\n",
       "      <td>4</td>\n",
       "      <td>0.590165</td>\n",
       "      <td>6.022203</td>\n",
       "      <td>0.282192</td>\n",
       "      <td>00:28</td>\n",
       "    </tr>\n",
       "    <tr>\n",
       "      <td>5</td>\n",
       "      <td>0.572365</td>\n",
       "      <td>6.029988</td>\n",
       "      <td>0.281507</td>\n",
       "      <td>00:28</td>\n",
       "    </tr>\n",
       "    <tr>\n",
       "      <td>6</td>\n",
       "      <td>0.565112</td>\n",
       "      <td>6.028439</td>\n",
       "      <td>0.281507</td>\n",
       "      <td>00:28</td>\n",
       "    </tr>\n",
       "    <tr>\n",
       "      <td>7</td>\n",
       "      <td>0.568275</td>\n",
       "      <td>5.993919</td>\n",
       "      <td>0.282192</td>\n",
       "      <td>00:28</td>\n",
       "    </tr>\n",
       "  </tbody>\n",
       "</table>"
      ],
      "text/plain": [
       "<IPython.core.display.HTML object>"
      ]
     },
     "metadata": {},
     "output_type": "display_data"
    },
    {
     "data": {
      "image/png": "[encoded data removed]",
      "text/plain": [
       "<Figure size 432x288 with 1 Axes>"
      ]
     },
     "metadata": {
      "needs_background": "light"
     },
     "output_type": "display_data"
    }
   ],
   "source": [
    "learn.fit_one_cycle(8, slice(1e-6,1e-5))\n",
    "learn.recorder.plot_losses()"
   ]
  },
  {
   "cell_type": "code",
   "execution_count": null,
   "metadata": {},
   "outputs": [],
   "source": [
    "#learn.save('pass3_all')"
   ]
  },
  {
   "cell_type": "markdown",
   "metadata": {},
   "source": [
    "Not so good result: should work on it ;-)"
   ]
  },
  {
   "cell_type": "markdown",
   "metadata": {},
   "source": [
    "## Fin."
   ]
  }
 ],
 "metadata": {
  "kernelspec": {
   "display_name": "Python 3",
   "language": "python",
   "name": "python3"
  },
  "language_info": {
   "codemirror_mode": {
    "name": "ipython",
    "version": 3
   },
   "file_extension": ".py",
   "mimetype": "text/x-python",
   "name": "python",
   "nbconvert_exporter": "python",
   "pygments_lexer": "ipython3",
   "version": "3.7.0"
  },
  "varInspector": {
   "cols": {
    "lenName": 16,
    "lenType": 16,
    "lenVar": 40
   },
   "kernels_config": {
    "python": {
     "delete_cmd_postfix": "",
     "delete_cmd_prefix": "del ",
     "library": "var_list.py",
     "varRefreshCmd": "print(var_dic_list())"
    },
    "r": {
     "delete_cmd_postfix": ") ",
     "delete_cmd_prefix": "rm(",
     "library": "var_list.r",
     "varRefreshCmd": "cat(var_dic_list()) "
    }
   },
   "types_to_exclude": [
    "module",
    "function",
    "builtin_function_or_method",
    "instance",
    "_Feature"
   ],
   "window_display": false
  }
 },
 "nbformat": 4,
 "nbformat_minor": 2
}
